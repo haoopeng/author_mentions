{
 "cells": [
  {
   "cell_type": "code",
   "execution_count": 1,
   "metadata": {},
   "outputs": [],
   "source": [
    "import os\n",
    "import numpy as np\n",
    "import pandas as pd\n",
    "import seaborn as sns\n",
    "import matplotlib.colors\n",
    "import matplotlib.cm as cm\n",
    "import matplotlib.pyplot as plt\n",
    "import matplotlib.ticker as ticker"
   ]
  },
  {
   "cell_type": "code",
   "execution_count": 2,
   "metadata": {},
   "outputs": [],
   "source": [
    "data_root = '/kellogg/proj/hpk5609/Mentions/'"
   ]
  },
  {
   "cell_type": "code",
   "execution_count": 3,
   "metadata": {},
   "outputs": [],
   "source": [
    "top_eth = [\n",
    " 'SouthernEuropean',\n",
    " 'WesternNorthernEuropean',\n",
    " 'EasternEuropean',\n",
    " 'EastAsian',\n",
    " 'Chinese',\n",
    " 'MiddleEastern',\n",
    " 'Indian',\n",
    " 'African'\n",
    "]\n",
    "\n",
    "\n",
    "ylabels = [\n",
    " #'English',\n",
    " 'Woman',\n",
    " 'Southern European',\n",
    " 'Western & Northern Euro.',\n",
    " 'Eastern European',\n",
    " 'non-Chinese East Asian',\n",
    " 'Chinese',\n",
    " 'Middle Eastern',\n",
    " 'Indian',\n",
    " 'African']\n",
    "\n",
    "cols = [\"author_gender_ethneaF\"] + [\"author_eth_ethnea_broad\" + eth for eth in top_eth]"
   ]
  },
  {
   "cell_type": "markdown",
   "metadata": {},
   "source": [
    "### Fig 3"
   ]
  },
  {
   "cell_type": "code",
   "execution_count": 4,
   "metadata": {},
   "outputs": [],
   "source": [
    "cates = [\n",
    "    'PressRelease',\n",
    "    'SciTech',\n",
    "    'General'\n",
    "]\n",
    "\n",
    "re_cates = [\n",
    "    'Press Releases',\n",
    "    'Sci. & Tech.',\n",
    "    'General News'\n",
    "]"
   ]
  },
  {
   "cell_type": "code",
   "execution_count": 5,
   "metadata": {
    "scrolled": true
   },
   "outputs": [
    {
     "data": {
      "image/png": "[encoded data removed]",
      "text/plain": [
       "<Figure size 684x216 with 4 Axes>"
      ]
     },
     "metadata": {
      "needs_background": "light"
     },
     "output_type": "display_data"
    }
   ],
   "source": [
    "nrows = 1\n",
    "ncols = 3\n",
    "fig, axes = plt.subplots(nrows=nrows, ncols=ncols, figsize=(9.5, 3), sharex=True)\n",
    "\n",
    "s = 4 # markersize\n",
    "lw = 1.5 # linewidth\n",
    "subs = ['(a)', '(b)', '(c)']\n",
    "\n",
    "all_xs = []\n",
    "for cate in cates:    \n",
    "    df = pd.read_csv(data_root + 'reg_results/news_type/%s_margins.csv'%cate, header=0, index_col='factor')\n",
    "    df = df.loc[df.index.isin(cols)]\n",
    "    df = df.reindex(cols)\n",
    "    xs = df['AME'].values\n",
    "    all_xs.extend(xs)\n",
    "all_xs = np.array(all_xs)\n",
    "# norm = matplotlib.colors.Normalize(vmin=min(all_xs), vmax=max(all_xs))\n",
    "norm = matplotlib.colors.Normalize(vmin=-0.09, vmax=0.01)\n",
    "mapper = cm.ScalarMappable(norm=norm, cmap='Reds_r')\n",
    "\n",
    "for pos, cate in enumerate(cates):\n",
    "    j = pos%ncols\n",
    "    ax = axes[j]\n",
    "    df = pd.read_csv(data_root + 'reg_results/news_type/%s_margins.csv'%cate, header=0, index_col='factor')\n",
    "    df = df.loc[df.index.isin(cols)]\n",
    "    df = df.reindex(cols)\n",
    "    xs = df['AME'].values\n",
    "    confs = (df['upper'] - df['AME']).values\n",
    "    \n",
    "    # ax.errorbar(xs[::-1], ylabels[::-1], xerr=confs[::-1], fmt='bo', markersize=s, linewidth=lw, fillstyle='full')\n",
    "    ax.errorbar(xs[::-1], ylabels[::-1], xerr=confs[::-1], color='k', fmt='.', markersize=2, linewidth=2)\n",
    "    ax.axvline(0, color='k', linestyle='--', linewidth = 0.8)\n",
    "    ax.set_title(re_cates[pos])\n",
    "    ax.text(0.1, 0.95, subs[pos], fontsize=12, ha='left', va='top', transform=ax.transAxes)\n",
    "    if j != 0:\n",
    "        ax.set_yticklabels([])\n",
    "        ax.tick_params(axis='y', direction='in')\n",
    "        \n",
    "    # draw dots\n",
    "    xcols = np.array([(mapper.to_rgba(v)) for v in xs])\n",
    "    for x, ylab, coll in zip(xs, ylabels, xcols):\n",
    "        if ylab == 'Woman':\n",
    "            ax.plot([x], [ylab], color='b', marker='o', markersize=5)\n",
    "        else:\n",
    "            ax.plot([x], [ylab], color=coll, marker='o', markersize=5)\n",
    "\n",
    "fig.subplots_adjust(wspace=0.15)\n",
    "\n",
    "cbar = fig.colorbar(mapper, ax=axes.ravel().tolist(), fraction=0.2, pad=0.02)#, format=\"%0.2f\")\n",
    "# cbar.ax.set_ylabel(cbarlabel, rotation=-90, va=\"bottom\")\n",
    "cbar.ax.tick_params(axis='y', direction='in')\n",
    "# cbar.ax.set_xlim(-0.05, 0)\n",
    "cbar.set_ticks([-0.08, -0.06, -0.04, -0.02, 0])\n",
    "cbar.set_ticklabels(['-0.08', '-0.06', '-0.04', '-0.02', ' 0.00'])\n",
    "\n",
    "plt.xlim([-0.15, 0.04])\n",
    "fig.text(0.43, -0.02, 'Probability of being mentioned in news compared to Man/Anglo named authors', ha='center', va='center')\n",
    "plt.show()\n",
    "fig.savefig(data_root+'fig_three.pdf', bbox_inches='tight', pad_inches=0.01)"
   ]
  },
  {
   "cell_type": "markdown",
   "metadata": {},
   "source": [
    "### Fig 4"
   ]
  },
  {
   "cell_type": "code",
   "execution_count": 9,
   "metadata": {},
   "outputs": [],
   "source": [
    "groups = [\n",
    " 'M',\n",
    " 'F',\n",
    " 'English',\n",
    " 'SouthernEuropean',\n",
    " 'WesternNorthernEuropean',\n",
    " 'EastEurope',\n",
    " 'Asia',\n",
    " 'Chinese',\n",
    " 'MiddleEast',\n",
    " 'Indian']\n",
    "#  'Africa']\n",
    "\n",
    "labels = [\n",
    " 'Man',\n",
    " 'Woman',\n",
    " 'Anglo',\n",
    " 'Southern European',\n",
    " 'Western & Northern Euro.',\n",
    " 'Eastern European',\n",
    " 'non-Chinese East Asian',\n",
    " 'Chinese',\n",
    " 'Middle Eastern',\n",
    " 'Indian']\n",
    "#  'African']"
   ]
  },
  {
   "cell_type": "code",
   "execution_count": 10,
   "metadata": {},
   "outputs": [],
   "source": [
    "class OOMFormatter(matplotlib.ticker.ScalarFormatter):\n",
    "    def __init__(self, order=0, fformat=\"%1.1f\", offset=True, mathText=True):\n",
    "        self.oom = order\n",
    "        self.fformat = fformat\n",
    "        matplotlib.ticker.ScalarFormatter.__init__(self,useOffset=offset,useMathText=mathText)\n",
    "    def _set_order_of_magnitude(self):\n",
    "        self.orderOfMagnitude = self.oom\n",
    "    def _set_format(self, vmin=None, vmax=None):\n",
    "        self.format = self.fformat\n",
    "        if self._useMathText:\n",
    "            self.format = r'$\\mathdefault{%s}$'%self.format"
   ]
  },
  {
   "cell_type": "code",
   "execution_count": 11,
   "metadata": {},
   "outputs": [
    {
     "data": {
      "image/png": "[encoded data removed]",
      "text/plain": [
       "<Figure size 324x187.2 with 1 Axes>"
      ]
     },
     "metadata": {
      "needs_background": "light"
     },
     "output_type": "display_data"
    }
   ],
   "source": [
    "nrows = 1\n",
    "ncols = 1\n",
    "fig, ax = plt.subplots(nrows=nrows, ncols=ncols, figsize=(4.5, 2.6))\n",
    "\n",
    "s = 5 # markersize\n",
    "lw = 1.5 # linewidth\n",
    "\n",
    "ypos = np.arange(len(labels))[::-1]\n",
    "xs, errs = [], []\n",
    "\n",
    "for group in groups:\n",
    "    df = pd.read_csv(data_root + 'reg_results/year/margins_one_year_change/%s_margins.csv'%group, header=0, index_col='factor')\n",
    "    x = df['AME'].values[0]\n",
    "    conf = (df['upper'] - df['AME']).values[0]\n",
    "    xs.append(x)\n",
    "    errs.append(conf)\n",
    "\n",
    "xs = np.array(xs)\n",
    "errs = np.array(errs)\n",
    "\n",
    "ax.barh(ypos[:2], xs[:2], xerr=errs[:2], color = '#0080ff', alpha = 0.65, error_kw=dict(lw=2, capsize=2, capthick=2, alpha=0.6))\n",
    "ax.barh(ypos[2:], xs[2:], xerr=errs[2:], color = '#b30000', alpha = 0.65, error_kw=dict(lw=2, capsize=2, capthick=2, alpha=0.6))\n",
    "ax.axvline(0, color='k', linestyle='--', linewidth = 0.8)\n",
    "\n",
    "ax.set_yticks(ypos)\n",
    "ax.set_yticklabels(labels)\n",
    "ax.set_xlim(-0.018, 0)\n",
    "ax.get_xaxis().set_major_formatter(OOMFormatter(-3, \"%1.1f\"))\n",
    "ax.ticklabel_format(axis='x', style='sci', scilimits=(0,0), useMathText=True)\n",
    "ax.get_xaxis().get_offset_text().set_visible(False)\n",
    "ax.annotate(r'$\\times10^{%i}$'%(-3), xy=(.05, .01), xycoords='axes fraction')\n",
    "\n",
    "\n",
    "# for i, t in enumerate(ax.yaxis.get_ticklabels()):\n",
    "#     if i >= 3:\n",
    "#         col = colors[i-3]\n",
    "#         t.set_color(col)\n",
    "#         t.set_fontweight(\"bold\")\n",
    "# ax.tick_params(axis='y', labelsize=10)\n",
    "\n",
    "fig.text(0.7, -0.02, 'Increase in probability of being\\nmentioned with one year change', ha='center', va='center')\n",
    "plt.tight_layout()\n",
    "plt.subplots_adjust(wspace=0)\n",
    "plt.show()\n",
    "fig.savefig(data_root+'fig_four.pdf', bbox_inches='tight', pad_inches=0.04)"
   ]
  },
  {
   "cell_type": "code",
   "execution_count": 52,
   "metadata": {},
   "outputs": [
    {
     "data": {
      "text/plain": [
       "array([0.00026152, 0.00032999, 0.00027567, 0.00059786, 0.00042945,\n",
       "       0.00114292, 0.00161065, 0.00108297, 0.00166552, 0.00181057])"
      ]
     },
     "execution_count": 52,
     "metadata": {},
     "output_type": "execute_result"
    }
   ],
   "source": [
    "errs"
   ]
  },
  {
   "cell_type": "code",
   "execution_count": 21,
   "metadata": {},
   "outputs": [
    {
     "name": "stdout",
     "output_type": "stream",
     "text": [
      "Male -0.009705166687071\n",
      "Female -0.004249568805384\n",
      "British-origin -0.0079435450667843\n",
      "Southern European -0.0068750424174845\n",
      "Western & Northern Euro. -0.0092630436404291\n",
      "Eastern European -0.007421800505568\n",
      "non-Chinese East Asian -0.0051116970320967\n",
      "Chinese -0.0083926779326728\n",
      "Middle Eastern -0.0091360323809991\n",
      "Indian -0.0102157128372496\n"
     ]
    }
   ],
   "source": [
    "for x, ylab in zip(xs, labels):\n",
    "    print(ylab, x)"
   ]
  },
  {
   "cell_type": "code",
   "execution_count": 22,
   "metadata": {},
   "outputs": [],
   "source": [
    "xs_year_delta = xs[3:].copy()"
   ]
  },
  {
   "cell_type": "code",
   "execution_count": 23,
   "metadata": {},
   "outputs": [
    {
     "data": {
      "text/plain": [
       "7"
      ]
     },
     "execution_count": 23,
     "metadata": {},
     "output_type": "execute_result"
    }
   ],
   "source": [
    "len(xs_year_delta)"
   ]
  },
  {
   "cell_type": "code",
   "execution_count": 24,
   "metadata": {},
   "outputs": [],
   "source": [
    "eng = xs[2]"
   ]
  },
  {
   "cell_type": "code",
   "execution_count": 25,
   "metadata": {},
   "outputs": [
    {
     "data": {
      "text/plain": [
       "-0.0079435450667843"
      ]
     },
     "execution_count": 25,
     "metadata": {},
     "output_type": "execute_result"
    }
   ],
   "source": [
    "eng"
   ]
  },
  {
   "cell_type": "code",
   "execution_count": 28,
   "metadata": {},
   "outputs": [],
   "source": [
    "df = pd.read_csv(data_root + 'reg_results/reg_table/big_mfx_table_R_margins.csv', header=0, index_col='factor')\n",
    "df = df.loc[df.index.isin(cols)]\n",
    "df = df.reindex(cols)\n",
    "xs_abs_diff = df['AME'].values"
   ]
  },
  {
   "cell_type": "code",
   "execution_count": 29,
   "metadata": {},
   "outputs": [
    {
     "name": "stdout",
     "output_type": "stream",
     "text": [
      "Southern European 20.61783894394862\n",
      "Western & Northern Euro. -8.775054031414962\n",
      "Eastern European 2.830822307808193\n",
      "non-Chinese East Asian 15.310430290141959\n",
      "Chinese -132.97426808394624\n",
      "Middle Eastern 2.0984304136610343\n",
      "Indian -0.7864325166197887\n"
     ]
    }
   ],
   "source": [
    "for eth, year_delta, abss in zip(ylabels[1:-1], xs_year_delta, xs_abs_diff[1:-1]):\n",
    "    print(eth, -1*abss/(year_delta-eng))"
   ]
  }
 ],
 "metadata": {
  "kernelspec": {
   "display_name": "Python 3 (ipykernel)",
   "language": "python",
   "name": "python3"
  },
  "language_info": {
   "codemirror_mode": {
    "name": "ipython",
    "version": 3
   },
   "file_extension": ".py",
   "mimetype": "text/x-python",
   "name": "python",
   "nbconvert_exporter": "python",
   "pygments_lexer": "ipython3",
   "version": "3.8.13"
  }
 },
 "nbformat": 4,
 "nbformat_minor": 2
}
