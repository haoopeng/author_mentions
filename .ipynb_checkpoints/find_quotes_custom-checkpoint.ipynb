{
 "cells": [
  {
   "cell_type": "code",
   "execution_count": 12,
   "metadata": {},
   "outputs": [],
   "source": [
    "import pandas as pd\n",
    "import re\n",
    "import os\n",
    "import json\n",
    "from spacy.lang.en import English # updated\n",
    "import spacy\n",
    "from collections import Counter\n",
    "from tqdm.notebook import tqdm"
   ]
  },
  {
   "cell_type": "code",
   "execution_count": 17,
   "metadata": {},
   "outputs": [],
   "source": [
    "df = pd.read_csv('/shared/0/projects/news-quotes/reg_data_plot.csv')"
   ]
  },
  {
   "cell_type": "code",
   "execution_count": 4,
   "metadata": {},
   "outputs": [
    {
     "data": {
      "text/plain": [
       "Index(['url', 'doi', 'author_id', 'affiliation_ids', 'author_seq_num',\n",
       "       'author_name', 'author_pos_cate', 'author_last_name',\n",
       "       'last_name_length', 'last_name_prob', 'author_eth_ethnea',\n",
       "       'author_gender_ethnea', 'author_eth_wiki', 'author_eth_census',\n",
       "       'reporter_name', 'reporter_eth_ethnea', 'reporter_gender_ethnea',\n",
       "       'reporter_eth_wiki', 'reporter_eth_census', 'author_eth_ethnea_broad',\n",
       "       'reporter_eth_ethnea_broad', 'author_eth_wiki_broad',\n",
       "       'reporter_eth_wiki_broad', 'is_top_author', 'doi_men_cn', 'author_rank',\n",
       "       'affiliation_cate', 'affiliation_rank', 'journal_title',\n",
       "       'journal_impact', 'top_journal', 'num_authors', 'outlet', 'category',\n",
       "       'num_words', 'num_mentioned_papers', 'mention_year',\n",
       "       'mention_year_center', 'gap_in_years', 'is_author_mentioned',\n",
       "       'FleschReadingEase', 'sentences_per_paragraph', 'type_token_ratio',\n",
       "       'Publication Date', 'Mention Date', 'is_corresponding'],\n",
       "      dtype='object')"
      ]
     },
     "execution_count": 4,
     "metadata": {},
     "output_type": "execute_result"
    }
   ],
   "source": [
    "df.columns"
   ]
  },
  {
   "cell_type": "code",
   "execution_count": 5,
   "metadata": {},
   "outputs": [
    {
     "name": "stdout",
     "output_type": "stream",
     "text": [
      "520061\n"
     ]
    }
   ],
   "source": [
    "urls_text = {}\n",
    "\n",
    "with open('/shared/0/projects/news-quotes/crawl_news/url_text_clean.json', 'r') as ofile:\n",
    "    for row in ofile:\n",
    "        row = json.loads(row)\n",
    "        url, text = row['url'], row['text']\n",
    "        urls_text[url] = text\n",
    "print(len(urls_text))"
   ]
  },
  {
   "cell_type": "code",
   "execution_count": 13,
   "metadata": {
    "scrolled": true
   },
   "outputs": [],
   "source": [
    "nlp = spacy.load('en_core_web_sm')"
   ]
  },
  {
   "cell_type": "code",
   "execution_count": 8,
   "metadata": {},
   "outputs": [],
   "source": [
    "text = urls_text[list(urls_text.keys())[2]]"
   ]
  },
  {
   "cell_type": "code",
   "execution_count": 9,
   "metadata": {},
   "outputs": [
    {
     "data": {
      "text/plain": [
       "'New research in The FASEB Journal suggests that differences in DNA methylation patterns and long-term variation in gene activity established in the womb underpins the link between birth size and disease risk\\n\\nA new research report published in the November 2014 issue of The FASEB Journal suggests that being overweight might be better in the long term than being underweight. Before you reach for that box of Twinkies, however, it\\'s important to note that this discovery only applies to the weight of newborn babies in relation to risk of future disease.\\n\\n\"These findings support the hypothesis that common long-term variation in the activity of genes established in the womb may underpin links between size at birth and risk for adult disease,\" said Claire R. Quilter, Ph.D., study author from the Mammalian Molecular Genetics Group, Department of Pathology at the University of Cambridge in the United Kingdom. \"If confirmed these could be important markers of optimal fetal growth and may be the first step along a path to very early disease prevention in the womb.\"\\n\\nQuilter and colleagues set out to determine whether or not there was any truth to the prevailing hypothesis that conditions in the womb that lead to a high birth weight or low birth weight could affect expression of genes in the baby, which in turn, leads to effects that persist into adult life. To do this, scientists looked at DNA derived from the cord blood of newborn babies from mothers with raised glucose levels during late pregnancy and in those babies born following relatively slow growth in the womb that later caught up after birth. Researchers looked for differences in DNA methylation patterns (chemical modifications of DNA known to effect changes in gene activity). Results showed differences in these methylation changes which were specific to boys and girls and to each of the two groups. However, changes were also identified that were common to both groups of babies. Similar overlapping signals were seen in two other groups of babies studied.\\n\\n\"In the age of epigenetics, prenatal care is moving beyond infant survival and into optimizing the health of the baby for his or her entire life,\" said Gerald Weissmann, M.D., Editor-in-Chief of The FASEB Journal. \"Understanding the epigenetic factors that play a role in a baby\\'s birthweight will eventually help doctors give the best care and advice to their pregnant patients.\"\\n\\n###\\n\\nReceive monthly highlights from The FASEB Journal by e-mail. Sign up at http://www. faseb. org/ fjupdate. aspx . The FASEB Journal is published by the Federation of the American Societies for Experimental Biology (FASEB). It is among the most cited biology journals worldwide according to the Institute for Scientific Information and has been recognized by the Special Libraries Association as one of the top 100 most influential biomedical journals of the past century.\\n\\nFASEB is composed of 27 societies with more than 120,000 members, making it the largest coalition of biomedical research associations in the United States. Our mission is to advance health and welfare by promoting progress and education in biological and biomedical sciences through service to our member societies and collaborative advocacy.'"
      ]
     },
     "execution_count": 9,
     "metadata": {},
     "output_type": "execute_result"
    }
   ],
   "source": [
    "text"
   ]
  },
  {
   "cell_type": "code",
   "execution_count": 10,
   "metadata": {},
   "outputs": [],
   "source": [
    "speech_verbs = set([\n",
    "    'describe', 'explain', 'say', 'tell', 'note', 'add', 'acknowledge', \n",
    "    'offer', 'point', 'caution', 'advise', 'emphasize', 'see',\n",
    "    'suggest', 'comment', 'continue', 'confirm',\n",
    "    'accord', # \"blah,\" according to LastName\n",
    "])\n",
    "\n",
    "verb_counts = Counter()\n",
    "\n",
    "def check_name(token, sent, last_name_tokens):\n",
    "    ti = token.i - sent.start\n",
    "    # print(last_name_tokens)\n",
    "    found = True\n",
    "    for i in range(len(last_name_tokens)):\n",
    "        if sent[ti+i].text != last_name_tokens[i]:\n",
    "            found = False\n",
    "            break\n",
    "    return found\n",
    "    \n",
    "def has_quote(text, fa_last_name):\n",
    "    #print(\"LAST NAME: '%s'\" % fa_last_name)\n",
    "    sentences = [i for i in nlp(text).sents]\n",
    "    \n",
    "    # See if we can find a \"said\"-like verb to indicate they gave the quote\n",
    "    is_their_quote = False\n",
    "    is_their_quote_weaker = False\n",
    "    \n",
    "    for sent in sentences:\n",
    "        \n",
    "        if is_their_quote or is_their_quote_weaker:\n",
    "            break\n",
    "        \n",
    "        sent_text = str(sent)\n",
    "        #     if fa_last_name in sent:\n",
    "        if re.search(r'\\b'+fa_last_name +r'\\b', sent_text) \\\n",
    "           and ('\"' in sent_text): # or \"'\" in sent_text):           \n",
    "\n",
    "            if '-' in fa_last_name:\n",
    "                last_name_tokens = []\n",
    "                for t in fa_last_name.split('-'):\n",
    "                    last_name_tokens.append(t)\n",
    "                    last_name_tokens.append('-')\n",
    "                last_name_tokens =last_name_tokens[:-1]\n",
    "                hypenated_last_name = True\n",
    "            else:\n",
    "                hypenated_last_name = False\n",
    "                \n",
    "            for token in sent:\n",
    "                # print(token.text)\n",
    "                if fa_last_name == token.text or (hypenated_last_name and check_name(token, sent, last_name_tokens)):\n",
    "                    #print(\"match\")\n",
    "                    ti = token.i - sent.start\n",
    "                    mn = max(0, ti - 5)\n",
    "                    mx = min(ti+6, len(sent))\n",
    "                    #print(ti, mn, mx)\n",
    "                    \n",
    "                    for i in range(mn, mx):\n",
    "                        #print(i, sent[i])\n",
    "                        if sent[i].pos_ == 'VERB' and sent[i].lemma_ in speech_verbs:\n",
    "                            is_their_quote = True\n",
    "                            break\n",
    "                    \n",
    "                        if sent[i].pos_ == 'VERB':\n",
    "                            # print(sent[i].text, sent[i].pos_)\n",
    "                            verb_counts[sent[i].lemma_] += 1\n",
    "                                                        \n",
    "                    for i in range(ti, 0, -1):\n",
    "                        #print(i, sent[i])\n",
    "                        if sent[i].lemma_ == '\"':\n",
    "                            break\n",
    "                        if sent[i].pos_ == 'VERB' and sent[i].lemma_ in speech_verbs:\n",
    "                            is_their_quote_weaker = True\n",
    "                            break\n",
    "                    for i in range(ti, len(sent)):\n",
    "                        #print(i, sent[i], sent[i].pos_)\n",
    "                        if sent[i].lemma_ == '\"':\n",
    "                            break\n",
    "                        if sent[i].pos_ == 'VERB' and sent[i].lemma_ in speech_verbs:\n",
    "                            is_their_quote_weaker = True\n",
    "                            break\n",
    "                      \n",
    "            if is_their_quote:\n",
    "                #print(\"Found a quote by %s:\\n  %s\\n\" % (fa_last_name, \" \".join(str(sent_text).split())))\n",
    "                pass\n",
    "            elif is_their_quote_weaker:\n",
    "                #print(\"Found a POSSIBLE quote by %s:\\n  %s\\n\" % (fa_last_name, \" \".join(str(sent_text).split())))\n",
    "                pass            \n",
    "            else:\n",
    "                #print(\"NO QUOTE by %s:\\n  %s\\n\" % (fa_last_name, \" \".join(str(sent_text).split())))\n",
    "                pass\n",
    "        #print('')    #break\n",
    "\n",
    "    return is_their_quote or is_their_quote_weaker\n",
    "\n",
    "if False:\n",
    "    for ri, row in df.iterrows():\n",
    "        url = row['url']\n",
    "        text = urls_text[url]\n",
    "        fa_last_name = row['first_aut_last_name']\n",
    "        has_quote(text, fa_last_name)\n",
    "        if ri % 100 == 0:\n",
    "            print(ri, verb_counts.most_common(50), '\\n')\n",
    "        "
   ]
  },
  {
   "cell_type": "code",
   "execution_count": 14,
   "metadata": {},
   "outputs": [
    {
     "name": "stdout",
     "output_type": "stream",
     "text": [
      "True\n",
      "True\n",
      "True\n",
      "False\n"
     ]
    }
   ],
   "source": [
    "tests = [\n",
    "    ('Mongraw-Chaffin', '''Common medical wisdom has been that some people who are obese seemed to be pretty healthy and free from heart disease risks, so they haven't been advised to lose weight or take other steps to prevent future heart disease,\" said Morgana Mongraw-Chaffin, Ph.D., assistant professor of public health sciences at Wake Forest Baptist and lead author of the study.'''),\n",
    "    (\"Mongraw-Chaffin\", '''\"In this paper, we specifically looked to see whether that progression was associated with a higher risk for heart disease and we found that it was,\" Mongraw-Chaffin said.'''),\n",
    "    (\"Montero-Serra\", '''The results reveal that sardines and other fish (with fast life cycles, planktonic larval stage and low habitat dependence) are highly vulnerable to changes in ocean temperature, and therefore represent \"an exceptional bioindicator to measure the direction and speed of climate change expected in the near future,\" points out Montero-Serra.'''),\n",
    "    (\"Castles\", 'Building it requires good instruction, solid foundations in vocabulary and language comprehension, and extensive reading practice,\" Castles, Rastle, and Nation note.'),    \n",
    "]\n",
    "\n",
    "for fa_last_name, text in tests:\n",
    "    print(has_quote(text, fa_last_name))\n"
   ]
  },
  {
   "cell_type": "code",
   "execution_count": null,
   "metadata": {
    "scrolled": true
   },
   "outputs": [
    {
     "data": {
      "application/vnd.jupyter.widget-view+json": {
       "model_id": "88a85764c1d74bc89b2da2814133b2ec",
       "version_major": 2,
       "version_minor": 0
      },
      "text/plain": [
       "HBox(children=(HTML(value=''), FloatProgress(value=0.0, max=524052.0), HTML(value='')))"
      ]
     },
     "metadata": {},
     "output_type": "display_data"
    }
   ],
   "source": [
    "with open('/shared/0/projects/news-quotes/crawl_news/has_author_quotes.tsv', 'wt') as outf:\n",
    "    outf.write('url\\thas_author_quote\\n')\n",
    "    for ri, row in tqdm(df.iterrows(), total=len(df)):\n",
    "        url = row['url']\n",
    "        text = urls_text[url]\n",
    "        fa_last_name = row['author_last_name']\n",
    "        hq = has_quote(text, fa_last_name)\n",
    "        #if ri % 100 == 0:\n",
    "        #    print(ri, verb_counts.most_common(50), '\\n')\n",
    "        outf.write(url + '\\t' + str(hq) + '\\n')"
   ]
  },
  {
   "cell_type": "code",
   "execution_count": null,
   "metadata": {},
   "outputs": [],
   "source": []
  }
 ],
 "metadata": {
  "kernelspec": {
   "display_name": "Python 3 (ipykernel)",
   "language": "python",
   "name": "python3"
  },
  "language_info": {
   "codemirror_mode": {
    "name": "ipython",
    "version": 3
   },
   "file_extension": ".py",
   "mimetype": "text/x-python",
   "name": "python",
   "nbconvert_exporter": "python",
   "pygments_lexer": "ipython3",
   "version": "3.8.13"
  }
 },
 "nbformat": 4,
 "nbformat_minor": 2
}
