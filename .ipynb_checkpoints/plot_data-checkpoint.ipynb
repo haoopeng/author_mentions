{
 "cells": [
  {
   "cell_type": "code",
   "execution_count": 14,
   "metadata": {},
   "outputs": [],
   "source": [
    "import os\n",
    "import csv\n",
    "import numpy as np\n",
    "import pandas as pd\n",
    "import matplotlib\n",
    "from scipy import stats\n",
    "import reverse_geocode\n",
    "from collections import defaultdict\n",
    "from collections import Counter\n",
    "import matplotlib.pyplot as plt\n",
    "import matplotlib.dates as mdates\n",
    "from datetime import datetime"
   ]
  },
  {
   "cell_type": "code",
   "execution_count": 6,
   "metadata": {},
   "outputs": [],
   "source": [
    "# data_root = '/shared/0/projects/news-quotes/'\n",
    "data_root = \"/kellogg/proj/hpk5609/Mentions/\""
   ]
  },
  {
   "cell_type": "code",
   "execution_count": 3,
   "metadata": {},
   "outputs": [],
   "source": [
    "CIs = {'90': 1.645, '95': 1.96, '99': 2.576}"
   ]
  },
  {
   "cell_type": "code",
   "execution_count": 4,
   "metadata": {},
   "outputs": [],
   "source": [
    "pd.set_option('display.max_columns', 300)\n",
    "pd.set_option('display.max_colwidth', 1000)"
   ]
  },
  {
   "cell_type": "code",
   "execution_count": 11,
   "metadata": {},
   "outputs": [],
   "source": [
    "def get_path(filename):\n",
    "    '''return absolute file path'''\n",
    "    return os.path.join(data_root, filename)\n",
    "\n",
    "def yield_one_line(filename, delimiter = '\\t', quote = csv.QUOTE_NONE):\n",
    "    '''a generator which produce one line of a given file'''\n",
    "    filepath = get_path(filename)\n",
    "    with open(filepath, 'r') as file:\n",
    "        print('processing %s...' %(filepath))\n",
    "        reader = csv.reader(file, delimiter=delimiter, quoting=quote)\n",
    "        for row in reader:\n",
    "            yield row"
   ]
  },
  {
   "cell_type": "code",
   "execution_count": 7,
   "metadata": {},
   "outputs": [],
   "source": [
    "reg_data = pd.read_csv(data_root+\"reg_data_plot.csv\", header=0)"
   ]
  },
  {
   "cell_type": "code",
   "execution_count": 9,
   "metadata": {},
   "outputs": [
    {
     "data": {
      "text/plain": [
       "Index(['has_indirect_mention', 'mentions_author_institution',\n",
       "       'has_author_quote', 'url', 'doi', 'author_id', 'affiliation_ids',\n",
       "       'author_seq_num', 'author_name', 'author_pos_cate', 'author_last_name',\n",
       "       'last_name_length', 'last_name_prob', 'author_eth_ethnea',\n",
       "       'author_gender_ethnea', 'author_eth_wiki', 'author_eth_census',\n",
       "       'reporter_name', 'reporter_eth_ethnea', 'reporter_gender_ethnea',\n",
       "       'reporter_eth_wiki', 'reporter_eth_census', 'Publication Date',\n",
       "       'Mention Date', 'doi_men_cn', 'author_rank', 'affiliation_name',\n",
       "       'affiliation_cate', 'affiliation_rank', 'journal_title',\n",
       "       'journal_impact', 'top_journal', 'num_authors', 'outlet', 'category',\n",
       "       'num_words', 'num_mentioned_papers', 'mention_year', 'gap_in_years',\n",
       "       'is_author_mentioned', 'FleschReadingEase', 'sentences_per_paragraph',\n",
       "       'type_token_ratio', 'author_eth_ethnea_broad',\n",
       "       'reporter_eth_ethnea_broad', 'author_eth_wiki_broad',\n",
       "       'reporter_eth_wiki_broad', 'mention_year_center', 'is_corresponding',\n",
       "       'is_top_author'],\n",
       "      dtype='object')"
      ]
     },
     "execution_count": 9,
     "metadata": {},
     "output_type": "execute_result"
    }
   ],
   "source": [
    "reg_data.columns"
   ]
  },
  {
   "cell_type": "code",
   "execution_count": 35,
   "metadata": {},
   "outputs": [],
   "source": [
    "dois_date = dict(zip(reg_data.doi, reg_data['Publication Date']))\n",
    "urls_date = dict(zip(reg_data.url, reg_data['Mention Date']))"
   ]
  },
  {
   "cell_type": "code",
   "execution_count": 36,
   "metadata": {},
   "outputs": [],
   "source": [
    "urls = list(set(reg_data['url'].tolist()))\n",
    "dois = list(set(reg_data['doi'].tolist()))"
   ]
  },
  {
   "cell_type": "code",
   "execution_count": 37,
   "metadata": {},
   "outputs": [
    {
     "name": "stdout",
     "output_type": "stream",
     "text": [
      "num. of unique news articles: 223587\n",
      "num. of unique journal papers: 100486\n",
      "num. of triplets: 524052\n"
     ]
    }
   ],
   "source": [
    "print('num. of unique news articles: %d'%len(urls))\n",
    "print('num. of unique journal papers: %d'%len(dois))\n",
    "print('num. of triplets: %d'%len(reg_data))"
   ]
  },
  {
   "cell_type": "code",
   "execution_count": 38,
   "metadata": {},
   "outputs": [
    {
     "data": {
      "text/plain": [
       "276202"
      ]
     },
     "execution_count": 38,
     "metadata": {},
     "output_type": "execute_result"
    }
   ],
   "source": [
    "# story-paper pairs\n",
    "len(reg_data[['doi', 'url']].drop_duplicates())"
   ]
  },
  {
   "cell_type": "code",
   "execution_count": 39,
   "metadata": {},
   "outputs": [
    {
     "data": {
      "text/plain": [
       "English                    81226\n",
       "WesternNorthernEuropean    39007\n",
       "SouthernEuropean           19109\n",
       "Chinese                    16054\n",
       "MiddleEastern               9185\n",
       "EastAsian                   7816\n",
       "Indian                      7505\n",
       "EasternEuropean             6315\n",
       "African                     1079\n",
       "unknown                      898\n",
       "Name: author_eth_ethnea_broad, dtype: int64"
      ]
     },
     "execution_count": 39,
     "metadata": {},
     "output_type": "execute_result"
    }
   ],
   "source": [
    "# paper authorships\n",
    "reg_data[['doi', 'author_name', 'author_eth_ethnea_broad']].drop_duplicates().author_eth_ethnea_broad.value_counts()"
   ]
  },
  {
   "cell_type": "code",
   "execution_count": 40,
   "metadata": {
    "scrolled": true
   },
   "outputs": [
    {
     "data": {
      "text/plain": [
       "188194"
      ]
     },
     "execution_count": 40,
     "metadata": {},
     "output_type": "execute_result"
    }
   ],
   "source": [
    "# total paper authorships\n",
    "len(reg_data[['doi', 'author_name', 'author_eth_ethnea_broad']].drop_duplicates())"
   ]
  },
  {
   "cell_type": "code",
   "execution_count": 41,
   "metadata": {},
   "outputs": [
    {
     "data": {
      "text/plain": [
       "English                    234510\n",
       "WesternNorthernEuropean    106331\n",
       "SouthernEuropean            51134\n",
       "Chinese                     43039\n",
       "MiddleEastern               26082\n",
       "Indian                      21314\n",
       "EastAsian                   19068\n",
       "EasternEuropean             17251\n",
       "African                      2774\n",
       "unknown                      2549\n",
       "Name: author_eth_ethnea_broad, dtype: int64"
      ]
     },
     "execution_count": 41,
     "metadata": {},
     "output_type": "execute_result"
    }
   ],
   "source": [
    "# num. of triplets\n",
    "reg_data.author_eth_ethnea_broad.value_counts()"
   ]
  },
  {
   "cell_type": "code",
   "execution_count": 46,
   "metadata": {},
   "outputs": [
    {
     "data": {
      "text/plain": [
       "author_eth_ethnea_broad\n",
       "English                    0.447494\n",
       "WesternNorthernEuropean    0.202902\n",
       "SouthernEuropean           0.097574\n",
       "Chinese                    0.082127\n",
       "MiddleEastern              0.049770\n",
       "Indian                     0.040672\n",
       "EastAsian                  0.036386\n",
       "EasternEuropean            0.032918\n",
       "African                    0.005293\n",
       "unknown                    0.004864\n",
       "Name: count, dtype: float64"
      ]
     },
     "execution_count": 46,
     "metadata": {},
     "output_type": "execute_result"
    }
   ],
   "source": [
    "# num. of triplets\n",
    "reg_data.author_eth_ethnea_broad.value_counts() / len(reg_data)"
   ]
  },
  {
   "cell_type": "code",
   "execution_count": 57,
   "metadata": {},
   "outputs": [],
   "source": [
    "# num. of triplets\n",
    "f_obs = (reg_data.author_eth_ethnea_broad.value_counts() / len(reg_data)).tolist()"
   ]
  },
  {
   "cell_type": "code",
   "execution_count": 63,
   "metadata": {},
   "outputs": [],
   "source": [
    "# see `get_reg_data_risk_authors.ipynb`\n",
    "\n",
    "f_exp = [0.4418279490764589,\n",
    " 0.20452445568348138,\n",
    " 0.10403096384404796,\n",
    " 0.07879367670375102,\n",
    " 0.04885115783636646,\n",
    " 0.04104701440782094,\n",
    " 0.03650085370594606,\n",
    " 0.03416905087373849,\n",
    " 0.005328136022079653,\n",
    " 0.0049267418463091435]"
   ]
  },
  {
   "cell_type": "code",
   "execution_count": 65,
   "metadata": {},
   "outputs": [
    {
     "data": {
      "text/plain": [
       "Power_divergenceResult(statistic=0.0006951802789119887, pvalue=1.0)"
      ]
     },
     "execution_count": 65,
     "metadata": {},
     "output_type": "execute_result"
    }
   ],
   "source": [
    "stats.chisquare(f_obs=f_obs, f_exp=f_exp)"
   ]
  },
  {
   "cell_type": "code",
   "execution_count": 42,
   "metadata": {
    "scrolled": true
   },
   "outputs": [
    {
     "data": {
      "text/plain": [
       "unknown                    418187\n",
       "English                     68652\n",
       "WesternNorthernEuropean     13790\n",
       "SouthernEuropean            10594\n",
       "MiddleEastern                3494\n",
       "EasternEuropean              2924\n",
       "Chinese                      2449\n",
       "Indian                       2409\n",
       "EastAsian                     910\n",
       "African                       643\n",
       "Name: reporter_eth_ethnea_broad, dtype: int64"
      ]
     },
     "execution_count": 42,
     "metadata": {},
     "output_type": "execute_result"
    }
   ],
   "source": [
    "reg_data.reporter_eth_ethnea_broad.value_counts()"
   ]
  },
  {
   "cell_type": "markdown",
   "metadata": {},
   "source": [
    "overall mention rate"
   ]
  },
  {
   "cell_type": "code",
   "execution_count": 43,
   "metadata": {},
   "outputs": [
    {
     "data": {
      "text/plain": [
       "0.41243235404120204"
      ]
     },
     "execution_count": 43,
     "metadata": {},
     "output_type": "execute_result"
    }
   ],
   "source": [
    "reg_data.is_author_mentioned.mean()"
   ]
  },
  {
   "cell_type": "markdown",
   "metadata": {},
   "source": [
    "mention rate per outlet type"
   ]
  },
  {
   "cell_type": "code",
   "execution_count": 44,
   "metadata": {},
   "outputs": [
    {
     "data": {
      "text/plain": [
       "288"
      ]
     },
     "execution_count": 44,
     "metadata": {},
     "output_type": "execute_result"
    }
   ],
   "source": [
    "len(set(reg_data.outlet))"
   ]
  },
  {
   "cell_type": "code",
   "execution_count": 45,
   "metadata": {},
   "outputs": [
    {
     "data": {
      "text/plain": [
       "General         220858\n",
       "PressRelease    165343\n",
       "SciTech         137851\n",
       "Name: category, dtype: int64"
      ]
     },
     "execution_count": 45,
     "metadata": {},
     "output_type": "execute_result"
    }
   ],
   "source": [
    "reg_data.category.value_counts()"
   ]
  },
  {
   "cell_type": "code",
   "execution_count": 46,
   "metadata": {},
   "outputs": [
    {
     "name": "stdout",
     "output_type": "stream",
     "text": [
      "General & 181 & 220858 & 0.2419744813409521\n",
      "PressRelease & 21 & 165343 & 0.6348802186968907\n",
      "SciTech & 86 & 137851 & 0.41872021240324697\n"
     ]
    }
   ],
   "source": [
    "for cate, gp in reg_data.groupby('category'):\n",
    "    total = len(gp)\n",
    "    positive = np.sum(gp.is_author_mentioned)\n",
    "    print(cate, '&', len(set(gp.outlet.values)), '&', total, '&', positive/total)"
   ]
  },
  {
   "cell_type": "markdown",
   "metadata": {},
   "source": [
    "mention rate by location"
   ]
  },
  {
   "cell_type": "code",
   "execution_count": 34,
   "metadata": {},
   "outputs": [
    {
     "name": "stdout",
     "output_type": "stream",
     "text": [
      "domestic \t 317626 \t 0.4421930194631422\n",
      "international \t 205686 \t 0.3667191738864094\n",
      "unknown \t 740 \t 0.34459459459459457\n"
     ]
    }
   ],
   "source": [
    "for cate, gp in reg_data.groupby('affiliation_cate'):\n",
    "    total = len(gp)\n",
    "    positive = np.sum(gp.is_author_mentioned)\n",
    "    print(cate, '\\t', total, '\\t', positive/total)"
   ]
  },
  {
   "cell_type": "code",
   "execution_count": 42,
   "metadata": {},
   "outputs": [
    {
     "data": {
      "image/png": "[encoded data removed]",
      "text/plain": [
       "<Figure size 144x216 with 1 Axes>"
      ]
     },
     "metadata": {
      "needs_background": "light"
     },
     "output_type": "display_data"
    }
   ],
   "source": [
    "# nrows = 1\n",
    "ncols = 1\n",
    "fig, ax = plt.subplots(nrows=nrows, ncols=ncols, figsize=(2, 3))\n",
    "\n",
    "cates = ['international', 'domestic']\n",
    "re_cates = ['non-U.S.', 'U.S.']\n",
    "\n",
    "s = 3 # markersize\n",
    "lw = 1.5 # linewidth\n",
    "xpos = np.arange(len(cates))\n",
    "ys = [np.mean(reg_data.loc[reg_data['affiliation_cate'] == cate]['is_author_mentioned']) for cate in cates]\n",
    "stds = [np.std(reg_data.loc[reg_data['affiliation_cate'] == cate]['is_author_mentioned']) for cate in cates]\n",
    "lilen = [len(reg_data.loc[reg_data['affiliation_cate'] == cate]) for cate in cates]\n",
    "ax.bar(xpos, ys, yerr = CIs['95']*(stds/np.sqrt(lilen)), width = 0.5, color = '#3D8BCC', alpha = 0.8, capsize = 5)\n",
    "\n",
    "# ax.set_yscale('log')\n",
    "# ax.set_xlabel('# of mentions')\n",
    "ax.set_ylabel('Average author mention rate')\n",
    "ax.set_xticks(xpos)\n",
    "ax.set_xticklabels(re_cates)\n",
    "ax.yaxis.grid(False)\n",
    "ax.set_ylim([0, 0.55])\n",
    "# ax.ticklabel_format(axis='y', style='sci', scilimits=(2, 2))\n",
    "# ax.yaxis.major.formatter._useMathText = True\n",
    "    \n",
    "plt.show()\n",
    "fig.savefig(data_root+'loc_rate_raw.pdf', bbox_inches='tight', pad_inches=0.02)"
   ]
  },
  {
   "cell_type": "code",
   "execution_count": 23,
   "metadata": {},
   "outputs": [
    {
     "data": {
      "image/png": "[encoded data removed]",
      "text/plain": [
       "<Figure size 288x216 with 1 Axes>"
      ]
     },
     "metadata": {
      "needs_background": "light"
     },
     "output_type": "display_data"
    }
   ],
   "source": [
    "nrows = 1\n",
    "ncols = 1\n",
    "fig, ax = plt.subplots(nrows=nrows, ncols=ncols, figsize=(4, 3))\n",
    "\n",
    "\n",
    "reg_data_tem = reg_data[['doi', 'num_authors']]\n",
    "reg_data_tem = reg_data_tem.drop_duplicates()\n",
    "\n",
    "cns = list(reg_data_tem.num_authors.values)\n",
    "c = Counter(cns)\n",
    "x, y = [], []\n",
    "for k in sorted(c.keys()):\n",
    "    x.append(float(k))\n",
    "    y.append(float(c[k]))\n",
    "ax.plot(x, y, c = 'black', linewidth = 2, alpha = 1)\n",
    "ax.set_xscale('symlog')\n",
    "ax.set_yscale('log')\n",
    "ax.set_ylabel('Number of papers')\n",
    "ax.set_xlabel('Number of authors')\n",
    "ax.set_xlim([0, 1000])\n",
    "plt.show()\n",
    "fig.savefig(data_root+'num_author.pdf', bbox_inches='tight', pad_inches=0.02)"
   ]
  },
  {
   "cell_type": "code",
   "execution_count": 51,
   "metadata": {},
   "outputs": [],
   "source": [
    "reg_data_tem = reg_data[['url', 'num_words', 'category']]\n",
    "reg_data_tem = reg_data_tem.drop_duplicates()"
   ]
  },
  {
   "cell_type": "code",
   "execution_count": 52,
   "metadata": {},
   "outputs": [
    {
     "data": {
      "text/plain": [
       "223587"
      ]
     },
     "execution_count": 52,
     "metadata": {},
     "output_type": "execute_result"
    }
   ],
   "source": [
    "len(reg_data_tem)"
   ]
  },
  {
   "cell_type": "code",
   "execution_count": 53,
   "metadata": {},
   "outputs": [],
   "source": [
    "cate_word_cn_li = {}\n",
    "for cate, gp in reg_data_tem.groupby('category'):\n",
    "    cate_word_cn_li[cate] = gp['num_words'].tolist()"
   ]
  },
  {
   "cell_type": "code",
   "execution_count": 54,
   "metadata": {},
   "outputs": [
    {
     "data": {
      "image/png": "[encoded data removed]",
      "text/plain": [
       "<Figure size 288x216 with 1 Axes>"
      ]
     },
     "metadata": {
      "needs_background": "light"
     },
     "output_type": "display_data"
    }
   ],
   "source": [
    "# nrows = 1\n",
    "ncols = 1\n",
    "fig, ax = plt.subplots(nrows=nrows, ncols=ncols, figsize=(4, 3))\n",
    "\n",
    "# cates = ['Academic', 'MSM', 'Science', 'Periodical']\n",
    "# re_cates = ['Academic\\nReports', 'National\\nNews', 'Science\\nMag.', 'General\\nMag.']\n",
    "\n",
    "cates = ['PressRelease', 'SciTech', 'General']\n",
    "re_cates = ['Press Releases', 'Sci. & Tech.', 'General News']\n",
    "\n",
    "s = 3 # markersize\n",
    "lw = 1.5 # linewidth\n",
    "xpos = np.arange(len(cates))\n",
    "ys = [np.mean(cate_word_cn_li[cate]) for cate in cates]\n",
    "stds = [np.std(cate_word_cn_li[cate]) for cate in cates]\n",
    "lilen = [len(cate_word_cn_li[cate]) for cate in cates]\n",
    "ax.bar(xpos, ys, yerr = CIs['95']*(stds/np.sqrt(lilen)), color = '#3D8BCC', alpha = 0.8, capsize = 5)\n",
    "\n",
    "# ax.set_yscale('log')\n",
    "# ax.set_xlabel('# of mentions')\n",
    "ax.set_ylabel('Average story length (# words)')\n",
    "ax.set_xticks(xpos)\n",
    "ax.set_xticklabels(re_cates)\n",
    "ax.yaxis.grid(False)\n",
    "ax.ticklabel_format(axis='y', style='sci', scilimits=(2, 2))\n",
    "ax.yaxis.major.formatter._useMathText = True\n",
    "    \n",
    "plt.show()\n",
    "fig.savefig(data_root+'news_length.pdf', bbox_inches='tight', pad_inches=0.02)"
   ]
  },
  {
   "cell_type": "code",
   "execution_count": 31,
   "metadata": {
    "scrolled": true
   },
   "outputs": [
    {
     "name": "stderr",
     "output_type": "stream",
     "text": [
      "/opt/anaconda/lib/python3.7/site-packages/pandas/plotting/_matplotlib/converter.py:103: FutureWarning: Using an implicitly registered datetime converter for a matplotlib plotting method. The converter was registered by pandas on import. Future versions of pandas will require you to explicitly register matplotlib converters.\n",
      "\n",
      "To register the converters:\n",
      "\t>>> from pandas.plotting import register_matplotlib_converters\n",
      "\t>>> register_matplotlib_converters()\n",
      "  warnings.warn(msg, FutureWarning)\n"
     ]
    },
    {
     "data": {
      "image/png": "[encoded data removed]",
      "text/plain": [
       "<Figure size 684x216 with 3 Axes>"
      ]
     },
     "metadata": {
      "needs_background": "light"
     },
     "output_type": "display_data"
    }
   ],
   "source": [
    "nrows = 1\n",
    "ncols = 3\n",
    "fig, axes = plt.subplots(nrows=nrows, ncols=ncols, figsize=(9.5, 3))\n",
    "\n",
    "s = 3 # markersize\n",
    "lw = 1.5 # linewidth\n",
    "\n",
    "# (a)\n",
    "ax = axes[0]\n",
    "date_li = [dtt for dtt in list(dois_date.values())]\n",
    "mpl_data = mdates.datestr2num(date_li)\n",
    "ax.hist(mpl_data, bins=50, color='lightblue', alpha = 1, label='Scientific papers')\n",
    "\n",
    "date_li = [dtt for dtt in list(urls_date.values())]\n",
    "mpl_data = mdates.datestr2num(date_li)\n",
    "ax.hist(mpl_data, bins=10, color = 'blue', alpha = 1, label='News stories')\n",
    "\n",
    "legend = ax.legend(loc='best', numpoints=2, labelspacing = 0.15, shadow=False, frameon = False, markerscale = 1)\n",
    "for label in legend.get_texts():\n",
    "    label.set_fontsize(10)\n",
    "for label in legend.get_lines():\n",
    "    label.set_linewidth(1)\n",
    "    \n",
    "locator = mdates.AutoDateLocator()\n",
    "ax.xaxis.set_major_locator(locator)\n",
    "ax.xaxis.set_major_formatter(mdates.AutoDateFormatter(locator))\n",
    "ax.set_xlim([datetime(1920, 1, 1), datetime(2020, 1, 1)])\n",
    "\n",
    "for tick in ax.get_xticklabels():\n",
    "    tick.set_ha('right')\n",
    "    tick.set_fontsize(8)\n",
    "    tick.set_rotation(30)\n",
    "    \n",
    "ax.set_yscale('log')\n",
    "ax.set_ylabel('Count')\n",
    "ax.set_xlabel('Year')\n",
    "\n",
    "# (b)\n",
    "ax = axes[1]\n",
    "# cns = [cn for doi, cn in reg_data.doi.value_counts().items()]\n",
    "cns = [cn for doi, cn in reg_data[['url', 'doi']].drop_duplicates().doi.value_counts().items()]\n",
    "c = Counter(cns)\n",
    "x, y = [], []\n",
    "for k in sorted(c.keys()):\n",
    "    x.append(float(k))\n",
    "    y.append(float(c[k]))\n",
    "ax.plot(x, y, c = 'black', linewidth = 2, alpha = 1)\n",
    "# ax.hist(cns, bins=2000, color='lightblue')\n",
    "ax.set_xscale('log')\n",
    "ax.set_yscale('log')\n",
    "ax.set_xlabel('Num. of news mentions per paper')\n",
    "ax.set_ylabel('Num. of scientific papers')\n",
    "\n",
    "# (c)\n",
    "ax = axes[2]\n",
    "# cns = list(reg_data.gap_in_years.values)\n",
    "cns = list(reg_data[['url', 'doi', 'gap_in_years']].drop_duplicates().gap_in_years.values)\n",
    "c = Counter(cns)\n",
    "x, y = [], []\n",
    "for k in sorted(c.keys()):\n",
    "    x.append(float(k))\n",
    "    y.append(float(c[k]))\n",
    "ax.plot(x, y, c = 'black', linewidth = 2, alpha = 1)\n",
    "ax.set_xscale('symlog')\n",
    "ax.set_yscale('log')\n",
    "ax.set_ylabel('Num. of mention pairs')\n",
    "ax.set_xlabel('Gap in years')\n",
    "ax.set_xlim([0, 100])\n",
    "\n",
    "# labels\n",
    "    \n",
    "for ax, label in zip(axes, ['a', 'b', 'c']):\n",
    "    ax.text(-0.23, 1.0, label, ha='left', va='top', transform=ax.transAxes)\n",
    "\n",
    "plt.tight_layout()\n",
    "# plt.subplots_adjust(wspace=0)\n",
    "plt.show()\n",
    "fig.savefig(data_root+'data_one.pdf', bbox_inches='tight', pad_inches=0.02)"
   ]
  },
  {
   "cell_type": "code",
   "execution_count": null,
   "metadata": {},
   "outputs": [],
   "source": []
  }
 ],
 "metadata": {
  "kernelspec": {
   "display_name": "Python 3 (ipykernel)",
   "language": "python",
   "name": "python3"
  },
  "language_info": {
   "codemirror_mode": {
    "name": "ipython",
    "version": 3
   },
   "file_extension": ".py",
   "mimetype": "text/x-python",
   "name": "python",
   "nbconvert_exporter": "python",
   "pygments_lexer": "ipython3",
   "version": "3.8.13"
  }
 },
 "nbformat": 4,
 "nbformat_minor": 2
}
