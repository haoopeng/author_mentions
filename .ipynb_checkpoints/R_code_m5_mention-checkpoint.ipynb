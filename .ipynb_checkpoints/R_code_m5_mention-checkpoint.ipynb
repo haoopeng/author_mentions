{
 "cells": [
  {
   "cell_type": "code",
   "execution_count": 22,
   "metadata": {},
   "outputs": [],
   "source": [
    "data_root <- \"/shared/0/projects/news-quotes/\""
   ]
  },
  {
   "cell_type": "code",
   "execution_count": 23,
   "metadata": {},
   "outputs": [],
   "source": [
    "library(\"lme4\")\n",
    "library(\"margins\")\n",
    "library(\"stargazer\")\n",
    "library(\"ggeffects\")\n",
    "library(\"broom\")"
   ]
  },
  {
   "cell_type": "code",
   "execution_count": 24,
   "metadata": {},
   "outputs": [],
   "source": [
    "# help(glmer)"
   ]
  },
  {
   "cell_type": "code",
   "execution_count": 25,
   "metadata": {},
   "outputs": [],
   "source": [
    "mydata <- read.csv(paste(data_root, \"reg_data.csv\", sep = ''), header = TRUE)"
   ]
  },
  {
   "cell_type": "code",
   "execution_count": 26,
   "metadata": {},
   "outputs": [
    {
     "data": {
      "text/html": [
       "524052"
      ],
      "text/latex": [
       "524052"
      ],
      "text/markdown": [
       "524052"
      ],
      "text/plain": [
       "[1] 524052"
      ]
     },
     "metadata": {},
     "output_type": "display_data"
    }
   ],
   "source": [
    "nrow(mydata)"
   ]
  },
  {
   "cell_type": "code",
   "execution_count": 27,
   "metadata": {
    "scrolled": true
   },
   "outputs": [
    {
     "data": {
      "text/html": [
       "249"
      ],
      "text/latex": [
       "249"
      ],
      "text/markdown": [
       "249"
      ],
      "text/plain": [
       "[1] 249"
      ]
     },
     "metadata": {},
     "output_type": "display_data"
    }
   ],
   "source": [
    "ncol(mydata)"
   ]
  },
  {
   "cell_type": "code",
   "execution_count": 28,
   "metadata": {},
   "outputs": [],
   "source": [
    "# coarsen reporters into 4 groups.\n",
    "mydata$reporter_eth_ethnea_broad <- as.character(mydata$reporter_eth_ethnea_broad)\n",
    "mydata$reporter_eth_ethnea_broad[mydata$reporter_eth_ethnea_broad == 'EasternEuropean'] <- 'European'\n",
    "mydata$reporter_eth_ethnea_broad[mydata$reporter_eth_ethnea_broad == 'WesternNorthernEuropean'] <- 'European'\n",
    "mydata$reporter_eth_ethnea_broad[mydata$reporter_eth_ethnea_broad == 'SouthernEuropean'] <- 'European'\n",
    "mydata$reporter_eth_ethnea_broad[mydata$reporter_eth_ethnea_broad == 'Chinese'] <- 'Asian'\n",
    "mydata$reporter_eth_ethnea_broad[mydata$reporter_eth_ethnea_broad == 'Indian'] <- 'Asian'\n",
    "mydata$reporter_eth_ethnea_broad[mydata$reporter_eth_ethnea_broad == 'EastAsian'] <- 'Asian'\n",
    "mydata$reporter_eth_ethnea_broad[mydata$reporter_eth_ethnea_broad == 'MiddleEastern'] <- 'OtherUnknown'\n",
    "mydata$reporter_eth_ethnea_broad[mydata$reporter_eth_ethnea_broad == 'African'] <- 'OtherUnknown'\n",
    "mydata$reporter_eth_ethnea_broad[mydata$reporter_eth_ethnea_broad == 'unknown'] <- 'OtherUnknown'\n",
    "mydata$reporter_eth_ethnea_broad <- as.factor(mydata$reporter_eth_ethnea_broad)"
   ]
  },
  {
   "cell_type": "code",
   "execution_count": 29,
   "metadata": {},
   "outputs": [],
   "source": [
    "mydata <- within(mydata, author_eth_ethnea_broad <- relevel(author_eth_ethnea_broad, ref = 'English'))\n",
    "mydata <- within(mydata, reporter_eth_ethnea_broad <- relevel(reporter_eth_ethnea_broad, ref = 'English'))\n",
    "mydata <- within(mydata, author_gender_ethnea <- relevel(author_gender_ethnea, ref = 'M'))\n",
    "mydata <- within(mydata, reporter_gender_ethnea <- relevel(reporter_gender_ethnea, ref = 'M'))"
   ]
  },
  {
   "cell_type": "code",
   "execution_count": 30,
   "metadata": {},
   "outputs": [],
   "source": [
    "mydata <- within(mydata, author_pos_cate <- relevel(author_pos_cate, ref = 'last_position'))\n",
    "mydata <- within(mydata, is_top_author <- relevel(is_top_author, ref = 'yes'))\n",
    "mydata <- within(mydata, is_corresponding <- relevel(is_corresponding, ref = 'yes'))\n",
    "mydata <- within(mydata, affiliation_cate <- relevel(affiliation_cate, ref = 'domestic'))"
   ]
  },
  {
   "cell_type": "markdown",
   "metadata": {},
   "source": [
    "## Full data"
   ]
  },
  {
   "cell_type": "code",
   "execution_count": 31,
   "metadata": {},
   "outputs": [],
   "source": [
    "base_str <- \"is_author_mentioned ~ 1 + author_eth_ethnea_broad + author_gender_ethnea + reporter_eth_ethnea_broad + reporter_gender_ethnea + \\\n",
    "          last_name_length + last_name_prob + author_pos_cate + author_rank + is_top_author + is_corresponding + \\\n",
    "          affiliation_rank + affiliation_cate + num_authors + mention_year_center + gap_in_years + \\\n",
    "          num_words + num_mentioned_papers + FleschReadingEase + sentences_per_paragraph + type_token_ratio\"\n",
    "\n",
    "# 533 keywords\n",
    "# keywords <- \"Composite_material + Chemistry + Chromatography + Botany + Surgery + Medicine + Cognitive_psychology + Affect__psychology_ + Aggression + Psychology + Psychiatry + Cell_biology + Transcriptome + Molecular_biology + Carcinogenesis + Biology + Human_sexuality + Physical_therapy + Testosterone + Psychotherapist + Prostate_cancer + Mood + Disease + Genetics + Genome + Randomized_controlled_trial + Quality_of_life + Comorbidity + Severity_of_illness + Diabetes_mellitus + Prospective_cohort_study + Ideology + China + Law + Sociology + Environmental_engineering + Environmental_resource_management + Economics + Climate_change + Population + Evolutionary_biology + Cell + Phylogenetics + Ecology + Taxon + Biodiversity + Atmospheric_sciences + Environmental_science + Global_warming + Meteorology + Pedagogy + Social_science + Social_psychology + Confidence_interval + Referral + Young_adult + Medical_prescription + Molecule + Organic_chemistry + Materials_science + Environmental_health + Obesity + Body_mass_index + Public_health + Biochemistry + Endocrinology + Internal_medicine + Mitochondrion + Democracy + Political_economy + Public_administration + Politics + Public_opinion + Gerontology + Cohort_study + Lower_risk + Developmental_psychology + Paleontology + Geology + Neuroscience + Biophysics + RNA + Atomic_physics + Physics + Ion + Photon + Optics + Climatology + Geography + Precipitation + Chemical_engineering + Membrane + Inorganic_chemistry + Environmental_chemistry + Psychological_resilience + Risk_assessment + Cardiology + Cause_of_death + Atrial_fibrillation + Stimulus__physiology_ + Schizophrenia + Neuroimaging + Perception + Intensive_care_medicine + Nursing + Developing_country + Health_care + Drug + Distress + Political_science + Prefrontal_cortex + Social_relation + Chromatin + Microbiology + Antimicrobial + Antibiotics + Pregnancy + Pathology + Applied_psychology + Cognition + Anxiety + Radiology + Radiation_therapy + Biopsy + Chemotherapy + Multimedia + Autism + Socioeconomics + Agriculture + Gynecology + Breast_cancer + Obstetrics + Gestation + Pharmacology + Clinical_trial + Food_science + Escherichia_coli + Bacteria + Photochemistry + Injury_prevention + Human_factors_and_ergonomics + Suicide_prevention + Social_environment + Occupational_safety_and_health + Heart_failure + Predation + In_vivo + CRISPR + Crop + Carbon + Public_relations + Demography + Dentistry + Logistic_regression + Health_equity + Medicaid + Epidemiology + Threatened_species + Species_richness + Harm + Classical_mechanics + Quantum_mechanics + Odds_ratio + Homeostasis + Type_2_diabetes + Cohort + Anatomy + Interpersonal_relationship + Norm__social_ + Crystallography + Physiology + Placebo + MEDLINE + Pediatrics + Adverse_effect + Transplantation + Dopamine + Embryonic_stem_cell + Criminology + Astrophysics + Astronomy + Condensed_matter_physics + Optoelectronics + Molecular_physics + Nanotechnology + Crystal + Animal_science + Sediment + Melanoma + Cell_culture + Electronic_engineering + Odds + Overweight + Confounding + Communication + Child_development + Psychological_intervention + Gene + Management_science + Offspring + Epigenetics + Mental_health + Well_being + Immigration + Coping__psychology_ + Physical_exercise + Personality + Particle_physics + Alternative_medicine + Immunology + Big_Five_personality_traits + PsycINFO + Happiness + Extinction + Environmental_protection + Land_use + Agroforestry + Vegetation + Habitat + Ecosystem + Mineralogy + Geochemistry + Economic_growth + Vaccination + Recall + Working_memory + Radiation + Atmosphere + Vulnerability + Catalysis + Anesthesia + Toxicology + Cannabis + Government + European_union + Risk_factor + Systematic_review + General_surgery + Clinical_endpoint + Lung_cancer + Polymer + Geophysics + Geomorphology + Advertising + Cross_sectional_study + Interquartile_range + Weight_loss + Health_promotion + Academic_achievement + Finance + Chronic_pain + Immune_system + T_cell + Immunity + Virology + Dementia + Alzheimer_s_disease + Socioeconomic_status + Allele + Insulin + Hormone + Evidence_based_medicine + Meta_analysis + Medical_emergency + Zoology + Actuarial_science + Hydrology + Functional_magnetic_resonance_imaging + Electroencephalography + Machine_learning + Artificial_intelligence + Clinical_psychology + Nanoparticle + Laser + Ethnic_group + Cancer + Magnetic_field + Antigen + Antibody + Seismology + Addiction + Vitamin_D_and_neurology + Athletes + Marketing + Receptor + Social_support + Sleep_deprivation + Microeconomics + Legislation + Transcription_factor + Fertility + Dermatology + Pathogenesis + Apoptosis + Proinflammatory_cytokine + Ovarian_cancer + Stem_cell + Multivariate_analysis + Fishery + Mortality_rate + Virulence + Malaria + Knowledge_management + Analytical_chemistry + Graphene + Semiconductor + Coronary_artery_disease + Heart_disease + Cholesterol + Veterinary_medicine + Engineering + Biomarker__medicine_ + Electron + Microbiome + Gut_flora + Physical_medicine_and_rehabilitation + Stroke + Bioinformatics + Body_weight + Arctic + Poverty + Exoplanet + Planet + Stars + Foraging + National_Health_and_Nutrition_Examination_Survey + Urine + Hazard_ratio + Observational_study + Proportional_hazards_model + Inflammation + Kidney_disease + Gastroenterology + Text_mining + Locus__genetics_ + Genome_wide_association_study + Urology + Ranging + Survival_rate + Incentive + Phenomenon + Statistics + Longitudinal_study + Brain_mapping + Metabolic_syndrome + Agronomy + Asthma + Relative_risk + Breastfeeding + Endangered_species + Climate_model + Social_perception + Social_media + Social_network + Business + Etiology + Mesenchymal_stem_cell + Weight_gain + Mathematics + Nicotine + Emergency_department + Myocardial_infarction + Emergency_medicine + Labour_economics + Health_policy + Qualitative_research + Clinical_Practice + Guideline + Wildlife + Family_medicine + Regulation_of_gene_expression + Cellular_differentiation + microRNA + Downregulation_and_upregulation + Computer_science + Developed_country + Demographic_economics + Colorectal_cancer + Nutrient + Mutant + Cancer_research + Allergy + Biological_dispersal + Magnetic_resonance_imaging + Transmission__mechanics_ + Retrospective_cohort_study + Metastasis + Feeling + Metabolism + Signal_transduction + Traumatic_brain_injury + Genomics + DNA_methylation + Oncology + Mutation + Phenotype + Smoking_cessation + Black_hole + Air_pollution + Hippocampus + Biotechnology + Biomass + Volcano + Longevity + Empathy + Psychosocial + Greenhouse_gas + Focus_group + Regimen + Fetus + Computer_vision + Computational_biology + Gene_expression + DNA + Nuclear_magnetic_resonance + Solar_System + Astrobiology + Audiology + Circadian_rhythm + Rehabilitation + Toxicity + Global_health + Reproductive_health + Neurodegeneration + Galaxy + Virus + Innate_immune_system + Early_childhood + Amygdala + Vitamin + Adipose_tissue + Architecture + Data_mining + Quantum + Blood_pressure + Waste_management + Sustainability + Incidence__epidemiology_ + Substance_abuse + In_vitro + The_Internet + Attention_deficit_hyperactivity_disorder + Opioid + DNA_damage + Visual_perception + Sensory_system + Genotype + Antibiotic_resistance + Multiple_sclerosis + Case_control_study + Single_nucleotide_polymorphism + Cancer_cell + Trait + Empirical_research + Simulation + Oxidative_stress + Antioxidant + Progenitor_cell + Lung + Oceanography + Immunotherapy + Cytokine + Kinase + Development_economics + Cell_type + Social_cognition + Major_depressive_disorder + Hippocampal_formation + Central_nervous_system + Medical_record + Psychopathology + Skeletal_muscle + Transcription__biology_ + Ecosystem_services + Heart_rate + Outbreak + Phylogenetic_tree + Enzyme + Genetic_variation + Psychosis + Pathogen + History + Atom + Arousal + Remote_sensing + Crossover_study + Programmed_cell_death + Human_brain + Stimulation + Scattering + Antidepressant + Population_study + Corporate_governance + Interpersonal_communication + Osteoporosis + Alcohol + Biomedical_engineering + Induced_pluripotent_stem_cell + Demographics + Insulin_resistance + Autism_spectrum_disorder + Mindfulness + Limiting + Cretaceous + Spectroscopy + Prosocial_behavior + Computer_security + Gestational_age + Archaeology + Welfare + Mental_illness + Phosphorylation + Life_expectancy + Spin_half + Thin_film + Narrative + Gender_studies + Public_policy + Epilepsy + Metal + Instability + Particle + Spectral_line + Cell_growth + Cytotoxic_T_cell + Cycling + Intracellular + Ageing + Bipolar_disorder + Meal + Ingestion + DNA_sequencing + Amino_acid\"\n",
    "\n",
    "# 496 keywords\n",
    "# keywords <- \"Political_science + Melanoma + Dermatology + Pathology + Lower_risk + Risk_factor + Population + Medicine + Risk_assessment + Exoplanet + Astronomy + Astrophysics + Spin_half + Planet + Physics + Biochemistry + Enzyme + Molecule + Biology + Randomized_controlled_trial + Placebo + Medical_emergency + Drug + Asthma + Clinical_trial + Physical_therapy + Environmental_science + Biodiversity + Environmental_resource_management + Ecology + Genetics + Diabetes_mellitus + Immunology + Immune_system + Apoptosis + Microbiology + Immunity + Cytokine + Escherichia_coli + Nursing + Family_medicine + Cohort + Gerontology + Longevity + Health_care + Global_health + Body_mass_index + Odds + Cross_sectional_study + Logistic_regression + Confidence_interval + Public_health + Odds_ratio + Engineering + Development_economics + Government + Biophysics + Skeletal_muscle + Endocrinology + Internal_medicine + Climatology + Cancer_research + Cancer + In_vivo + Atomic_physics + Quantum_mechanics + Magnetic_field + Atom + Social_psychology + Mental_health + Substance_abuse + Clinical_psychology + Psychology + Surgery + Cell + Ranging + Galaxy + Stars + Anesthesia + Magnetic_resonance_imaging + Stroke + Chemistry + Chromatography + Meta_analysis + Young_adult + Pregnancy + Psychiatry + Observational_study + Clinical_Practice + Biopsy + Retrospective_cohort_study + Prospective_cohort_study + Developmental_psychology + Spectral_line + Social_relation + Public_relations + Wildlife + Business + Aggression + Psychosocial + Mindfulness + Psychological_intervention + Psychotherapist + Urology + Optoelectronics + Optics + Virology + Condensed_matter_physics + Classical_mechanics + Cohort_study + Qualitative_research + Quality_of_life + Phenomenon + Dementia + Cognition + Socioeconomic_status + Sustainability + Marketing + Disease + Pathogen + Social_network + Crop + Agronomy + Anatomy + Geology + Nicotine + Smoking_cessation + Organic_chemistry + Toxicity + Pharmacology + Gynecology + Heart_disease + Health_promotion + Alternative_medicine + Epidemiology + Overweight + Weight_loss + Virus + Phenotype + Academic_achievement + Longitudinal_study + Social_science + Economics + Carbon + Volcano + Perception + Oceanography + Ecosystem + Climate_change + Environmental_health + Laser + Radiation + Anxiety + Communication + Intensive_care_medicine + Big_Five_personality_traits + Trait + Single_nucleotide_polymorphism + Locus__genetics_ + Genome_wide_association_study + Innate_immune_system + Allele + Gene + Architecture + Computer_security + Geophysics + Geomorphology + Knowledge_management + Empathy + Pedagogy + Politics + Sociology + Emergency_medicine + Kidney_disease + Life_expectancy + Mortality_rate + Proportional_hazards_model + Medical_record + Gastroenterology + Radiation_therapy + Computer_vision + Artificial_intelligence + Advertising + Multimedia + Molecular_biology + Stem_cell + Cell_biology + Transcriptome + Cancer_cell + In_vitro + Incidence__epidemiology_ + Interquartile_range + General_surgery + Cognitive_psychology + Mood + Mutant + Atmospheric_sciences + Climate_model + Suicide_prevention + Injury_prevention + Human_factors_and_ergonomics + Occupational_safety_and_health + Microbiome + Habitat + Extinction + Threatened_species + Zoology + Insulin + Insulin_resistance + Adipose_tissue + Global_warming + Body_weight + Affect__psychology_ + Arousal + Environmental_engineering + Regimen + Geography + Demography + Offspring + Antigen + Receptor + Mutation + Mitochondrion + Astrobiology + Mineralogy + Photon + Botany + Intracellular + History + Demographics + Ethnic_group + Comorbidity + Programmed_cell_death + Downregulation_and_upregulation + Lung + Signal_transduction + Statistics + Mathematics + Nanoparticle + Quantum + Thin_film + Composite_material + Materials_science + Vitamin + Pathogenesis + Neuroscience + Chronic_pain + Evidence_based_medicine + Blood_pressure + Dopamine + Agroforestry + Hazard_ratio + Environmental_protection + Air_pollution + Cellular_differentiation + T_cell + Transplantation + Psychological_resilience + Inflammation + Kinase + Public_policy + Finance + Pediatrics + microRNA + Alzheimer_s_disease + Neuroimaging + Brain_mapping + Cardiology + Referral + Foraging + Demographic_economics + Labour_economics + Economic_growth + Social_perception + Social_cognition + Antibiotics + Polymer + Particle + Species_richness + Food_science + Autism + Vaccination + Geochemistry + Obstetrics + Obesity + Breastfeeding + Analytical_chemistry + Nanotechnology + Inorganic_chemistry + Addiction + Paleontology + Gut_flora + Antibody + Case_control_study + Gene_expression + Narrative + Electroencephalography + Social_environment + Interpersonal_communication + Bioinformatics + Biomarker__medicine_ + Sensory_system + Ion + Particle_physics + Remote_sensing + Actuarial_science + Coping__psychology_ + Bipolar_disorder + Catalysis + Functional_magnetic_resonance_imaging + Stimulus__physiology_ + Visual_perception + DNA_methylation + Medical_prescription + Regulation_of_gene_expression + RNA + Physical_medicine_and_rehabilitation + Happiness + Outbreak + Physiology + Spectroscopy + Nuclear_magnetic_resonance + Metabolic_syndrome + Relative_risk + Antimicrobial + Graphene + Mental_illness + Psychopathology + Membrane + Early_childhood + Transcription_factor + Embryonic_stem_cell + Ideology + Socioeconomics + Prostate_cancer + Survival_rate + Ingestion + Electron + Well_being + Weight_gain + Colorectal_cancer + Lung_cancer + Poverty + Greenhouse_gas + Waste_management + Coronary_artery_disease + Type_2_diabetes + Environmental_chemistry + Oncology + Physical_exercise + Incentive + Medicaid + Etiology + Schizophrenia + Heart_failure + The_Internet + Biotechnology + Breast_cancer + Clinical_endpoint + Chemotherapy + Radiology + Personality + Precipitation + Vulnerability + Epigenetics + Land_use + Ecosystem_services + Biological_dispersal + Testosterone + Veterinary_medicine + European_union + Gestation + Adverse_effect + Vitamin_D_and_neurology + Oxidative_stress + Gestational_age + Mesenchymal_stem_cell + Rehabilitation + Microeconomics + Hormone + Prefrontal_cortex + DNA + Genome + Heart_rate + Computer_science + Photochemistry + China + Public_administration + Health_policy + Feeling + Evolutionary_biology + Vegetation + Autism_spectrum_disorder + Audiology + MEDLINE + Toxicology + Fetus + Law + Social_media + Cause_of_death + Epilepsy + Agriculture + Bacteria + Cholesterol + Confounding + Human_brain + Fishery + Metal + Metabolism + Opioid + Antibiotic_resistance + Homeostasis + Metastasis + Malaria + Neurodegeneration + Immunotherapy + Severity_of_illness + Crossover_study + Child_development + Norm__social_ + Focus_group + Harm + Applied_psychology + Social_support + Emergency_department + Crystal + Amygdala + Empirical_research + Seismology + CRISPR + Nutrient + Guideline + Simulation + Alcohol + Distress + Archaeology + Molecular_physics + Cell_culture + Legislation + Health_equity + Gender_studies + Allergy + Developing_country + Cannabis + Meteorology + Myocardial_infarction + Progenitor_cell + DNA_sequencing + Hippocampal_formation + Hippocampus + Stimulation + Human_sexuality + Interpersonal_relationship + Working_memory + Immigration + Democracy + Electronic_engineering + Genotype + Predation + Major_depressive_disorder + Proinflammatory_cytokine + Developed_country + Phosphorylation + Phylogenetic_tree + National_Health_and_Nutrition_Examination_Survey + Data_mining + Text_mining + Circadian_rhythm + Arctic + Multiple_sclerosis + Chromatin + Induced_pluripotent_stem_cell + Transmission__mechanics_ + Machine_learning + Crystallography + Biomedical_engineering + Cell_type + Antioxidant + Fertility + Sediment + Criminology + Recall + Athletes + Atmosphere + Systematic_review + Instability + Genomics + Phylogenetics + Cytotoxic_T_cell + Computational_biology + Cell_growth + Carcinogenesis + Black_hole + Scattering + Genetic_variation + Prosocial_behavior\"\n",
    "\n",
    "# 199 keywords\n",
    "keywords <- \" + Cell_biology + Genetics + Biology + Body_mass_index + Health_care + Disease + Gerontology + Population + Public_health + Medicine + Materials_science + Composite_material + Nanotechnology + Cohort_study + Social_psychology + Cohort + Psychological_intervention + Young_adult + Family_medicine + Cancer + Surgery + Randomized_controlled_trial + Placebo + Clinical_trial + Nursing + Applied_psychology + Human_factors_and_ergonomics + Injury_prevention + Suicide_prevention + Psychiatry + Occupational_safety_and_health + Intensive_care_medicine + Pediatrics + Hazard_ratio + Confidence_interval + Retrospective_cohort_study + Vaccination + Psychology + Perception + Cognition + Environmental_health + Obesity + Risk_factor + Quality_of_life + Physical_therapy + Weight_loss + Anatomy + Mental_health + Psychosocial + Anxiety + Distress + Business + Public_relations + Marketing + Immunology + Global_warming + Economics + Climatology + Climate_change + General_surgery + Endocrinology + Internal_medicine + Receptor + Inflammation + Stimulus__physiology_ + Immune_system + Meta_analysis + Sociology + Gene + Cancer_research + Breast_cancer + Cell + Diabetes_mellitus + Blood_pressure + Oncology + Gynecology + Communication + Cognitive_psychology + Adverse_effect + Clinical_endpoint + Pharmacology + Virology + Risk_assessment + Transcription_factor + Political_science + Ecology + Geography + Cross_sectional_study + Odds_ratio + Comorbidity + Environmental_engineering + Chemistry + Medical_emergency + Physics + Social_science + Ethnic_group + Labour_economics + Antibody + Geomorphology + Geophysics + Geology + Ranging + Stroke + Environmental_resource_management + Type_2_diabetes + Cardiology + Molecular_biology + Developmental_psychology + Agriculture + Signal_transduction + Optoelectronics + Psychotherapist + Affect__psychology_ + Clinical_psychology + Anesthesia + Atmospheric_sciences + In_vivo + Biochemistry + Analytical_chemistry + Neuroscience + Botany + Gene_expression + Politics + Demography + Socioeconomic_status + Mortality_rate + Virus + Optics + Condensed_matter_physics + Bioinformatics + Law + Physical_medicine_and_rehabilitation + Stem_cell + Biodiversity + Astrophysics + Astronomy + Radiology + Pathology + Proportional_hazards_model + Chemotherapy + Predation + Food_science + Artificial_intelligence + Overweight + Antibiotics + Microbiology + Zoology + Paleontology + Habitat + Public_administration + Ecosystem + Economic_growth + Organic_chemistry + Government + Autism + Transplantation + Gastroenterology + Insulin + Engineering + Computer_science + Observational_study + Heart_disease + Epidemiology + Obstetrics + Pregnancy + Fishery + Alternative_medicine + Logistic_regression + Offspring + Mood + Bacteria + Prostate_cancer + Evolutionary_biology + Phenomenon + Longitudinal_study + Genome + Mutation + Pedagogy + Dementia + Relative_risk + Microeconomics + Odds + Feeling + Oceanography + Emergency_medicine + Personality + Prospective_cohort_study + Hippocampus + Greenhouse_gas + Biomarker__medicine_ + Myocardial_infarction + Socioeconomics + Drug + Environmental_science + Epigenetics + Inorganic_chemistry + Emergency_department + Medical_prescription + Phenotype\""
   ]
  },
  {
   "cell_type": "code",
   "execution_count": 32,
   "metadata": {},
   "outputs": [
    {
     "name": "stderr",
     "output_type": "stream",
     "text": [
      "Warning message:\n",
      "“Some predictor variables are on very different scales: consider rescaling”"
     ]
    }
   ],
   "source": [
    "equation_bar <- as.formula(paste(base_str, keywords, \" + (1|journal_title) + (1|outlet)\", sep = \" \"))\n",
    "m5 <- glmer(formula = equation_bar, data = mydata, family = \"binomial\", control = glmerControl(optimizer = \"nloptwrap\"), nAGQ = 0)"
   ]
  },
  {
   "cell_type": "code",
   "execution_count": 33,
   "metadata": {
    "scrolled": true
   },
   "outputs": [
    {
     "data": {
      "text/html": [
       "<table>\n",
       "<thead><tr><th scope=col>term</th><th scope=col>estimate</th><th scope=col>std.error</th><th scope=col>statistic</th><th scope=col>p.value</th><th scope=col>group</th></tr></thead>\n",
       "<tbody>\n",
       "\t<tr><td>(Intercept)                                   </td><td> 9.681466e-01                                 </td><td>8.516415e-02                                  </td><td>  11.3680066                                  </td><td> 6.035011e-30                                 </td><td>fixed                                         </td></tr>\n",
       "\t<tr><td>author_eth_ethnea_broadAfrican                </td><td>-3.660354e-01                                 </td><td>5.216946e-02                                  </td><td>  -7.0162765                                  </td><td> 2.278589e-12                                 </td><td>fixed                                         </td></tr>\n",
       "\t<tr><td>author_eth_ethnea_broadChinese                </td><td>-3.762245e-01                                 </td><td>1.604767e-02                                  </td><td> -23.4441761                                  </td><td>1.515695e-121                                 </td><td>fixed                                         </td></tr>\n",
       "\t<tr><td>author_eth_ethnea_broadEastAsian              </td><td>-2.720950e-01                                 </td><td>1.998486e-02                                  </td><td> -13.6150563                                  </td><td> 3.258945e-42                                 </td><td>fixed                                         </td></tr>\n",
       "\t<tr><td>author_eth_ethnea_broadEasternEuropean        </td><td>-9.208412e-03                                 </td><td>2.046940e-02                                  </td><td>  -0.4498624                                  </td><td> 6.528097e-01                                 </td><td>fixed                                         </td></tr>\n",
       "\t<tr><td>author_eth_ethnea_broadIndian                 </td><td>-1.114116e-02                                 </td><td>1.909284e-02                                  </td><td>  -0.5835254                                  </td><td> 5.595397e-01                                 </td><td>fixed                                         </td></tr>\n",
       "\t<tr><td>author_eth_ethnea_broadMiddleEastern          </td><td> 1.559511e-02                                 </td><td>1.724273e-02                                  </td><td>   0.9044455                                  </td><td> 3.657592e-01                                 </td><td>fixed                                         </td></tr>\n",
       "\t<tr><td>author_eth_ethnea_broadSouthernEuropean       </td><td>-1.377195e-01                                 </td><td>1.308010e-02                                  </td><td> -10.5289280                                  </td><td> 6.355412e-26                                 </td><td>fixed                                         </td></tr>\n",
       "\t<tr><td>author_eth_ethnea_broadunknown                </td><td>-2.270461e-01                                 </td><td>5.298014e-02                                  </td><td>  -4.2854938                                  </td><td> 1.823338e-05                                 </td><td>fixed                                         </td></tr>\n",
       "\t<tr><td>author_eth_ethnea_broadWesternNorthernEuropean</td><td>-7.227510e-02                                 </td><td>1.026736e-02                                  </td><td>  -7.0393068                                  </td><td> 1.931985e-12                                 </td><td>fixed                                         </td></tr>\n",
       "\t<tr><td>author_gender_ethneaF                         </td><td> 3.445138e-03                                 </td><td>8.757227e-03                                  </td><td>   0.3934051                                  </td><td> 6.940203e-01                                 </td><td>fixed                                         </td></tr>\n",
       "\t<tr><td>author_gender_ethneaunknown                   </td><td>-1.129109e-01                                 </td><td>1.143704e-02                                  </td><td>  -9.8723898                                  </td><td> 5.484214e-23                                 </td><td>fixed                                         </td></tr>\n",
       "\t<tr><td>reporter_eth_ethnea_broadAsian                </td><td>-5.144542e-02                                 </td><td>3.793404e-02                                  </td><td>  -1.3561809                                  </td><td> 1.750416e-01                                 </td><td>fixed                                         </td></tr>\n",
       "\t<tr><td>reporter_eth_ethnea_broadEuropean             </td><td>-3.256198e-02                                 </td><td>1.947949e-02                                  </td><td>  -1.6716029                                  </td><td> 9.460265e-02                                 </td><td>fixed                                         </td></tr>\n",
       "\t<tr><td>reporter_eth_ethnea_broadOtherUnknown         </td><td> 5.379254e-02                                 </td><td>2.696810e-02                                  </td><td>   1.9946731                                  </td><td> 4.607854e-02                                 </td><td>fixed                                         </td></tr>\n",
       "\t<tr><td>reporter_gender_ethneaF                       </td><td>-1.462139e-02                                 </td><td>1.753535e-02                                  </td><td>  -0.8338236                                  </td><td> 4.043804e-01                                 </td><td>fixed                                         </td></tr>\n",
       "\t<tr><td>reporter_gender_ethneaunknown                 </td><td> 1.537023e-02                                 </td><td>2.631878e-02                                  </td><td>   0.5840022                                  </td><td> 5.592188e-01                                 </td><td>fixed                                         </td></tr>\n",
       "\t<tr><td>last_name_length                              </td><td>-9.911235e-03                                 </td><td>1.678802e-03                                  </td><td>  -5.9037528                                  </td><td> 3.553244e-09                                 </td><td>fixed                                         </td></tr>\n",
       "\t<tr><td>last_name_prob                                </td><td> 3.962768e-03                                 </td><td>1.792310e-03                                  </td><td>   2.2109834                                  </td><td> 2.703699e-02                                 </td><td>fixed                                         </td></tr>\n",
       "\t<tr><td>author_pos_catefirst_position                 </td><td> 3.966446e-01                                 </td><td>8.499990e-03                                  </td><td>  46.6641187                                  </td><td> 0.000000e+00                                 </td><td>fixed                                         </td></tr>\n",
       "\t<tr><td>author_pos_catemiddle_position                </td><td>-8.138728e-01                                 </td><td>1.634903e-02                                  </td><td> -49.7810924                                  </td><td> 0.000000e+00                                 </td><td>fixed                                         </td></tr>\n",
       "\t<tr><td>author_pos_catesolo_author                    </td><td> 6.833003e-01                                 </td><td>2.527798e-02                                  </td><td>  27.0314493                                  </td><td>6.311774e-161                                 </td><td>fixed                                         </td></tr>\n",
       "\t<tr><td>author_rank                                   </td><td>-5.727217e-05                                 </td><td>2.184898e-06                                  </td><td> -26.2127477                                  </td><td>1.901780e-151                                 </td><td>fixed                                         </td></tr>\n",
       "\t<tr><td>is_top_authorno                               </td><td>-9.021971e-02                                 </td><td>3.131683e-02                                  </td><td>  -2.8808695                                  </td><td> 3.965798e-03                                 </td><td>fixed                                         </td></tr>\n",
       "\t<tr><td>is_correspondingno                            </td><td>-1.448051e+00                                 </td><td>8.207958e-03                                  </td><td>-176.4203784                                  </td><td> 0.000000e+00                                 </td><td>fixed                                         </td></tr>\n",
       "\t<tr><td>is_correspondingunknown                       </td><td>-5.057199e-01                                 </td><td>1.654583e-02                                  </td><td> -30.5647888                                  </td><td>3.596928e-205                                 </td><td>fixed                                         </td></tr>\n",
       "\t<tr><td>affiliation_rank                              </td><td>-3.666716e-05                                 </td><td>2.377049e-06                                  </td><td> -15.4254953                                  </td><td> 1.103056e-53                                 </td><td>fixed                                         </td></tr>\n",
       "\t<tr><td>affiliation_cateinternational                 </td><td>-3.070902e-01                                 </td><td>8.351997e-03                                  </td><td> -36.7684748                                  </td><td>5.892301e-296                                 </td><td>fixed                                         </td></tr>\n",
       "\t<tr><td>affiliation_cateunknown                       </td><td> 5.627032e-02                                 </td><td>9.916124e-02                                  </td><td>   0.5674629                                  </td><td> 5.703997e-01                                 </td><td>fixed                                         </td></tr>\n",
       "\t<tr><td>num_authors                                   </td><td>-6.631844e-03                                 </td><td>2.720770e-04                                  </td><td> -24.3748825                                  </td><td>3.158757e-131                                 </td><td>fixed                                         </td></tr>\n",
       "\t<tr><td>...</td><td>...</td><td>...</td><td>...</td><td>...</td><td>...</td></tr>\n",
       "\t<tr><td>Prostate_cancer             </td><td>-0.400275205                </td><td>0.09678240                  </td><td>-4.13582659                 </td><td>3.536792e-05                </td><td>fixed                       </td></tr>\n",
       "\t<tr><td>Evolutionary_biology        </td><td> 0.130410086                </td><td>0.08237804                  </td><td> 1.58306865                 </td><td>1.134058e-01                </td><td>fixed                       </td></tr>\n",
       "\t<tr><td>Phenomenon                  </td><td> 0.021562933                </td><td>0.09495734                  </td><td> 0.22708021                 </td><td>8.203614e-01                </td><td>fixed                       </td></tr>\n",
       "\t<tr><td>Longitudinal_study          </td><td> 0.026509378                </td><td>0.08592420                  </td><td> 0.30852052                 </td><td>7.576863e-01                </td><td>fixed                       </td></tr>\n",
       "\t<tr><td>Genome                      </td><td> 0.087834583                </td><td>0.06711273                  </td><td> 1.30876181                 </td><td>1.906150e-01                </td><td>fixed                       </td></tr>\n",
       "\t<tr><td>Mutation                    </td><td> 0.204441598                </td><td>0.08113236                  </td><td> 2.51985277                 </td><td>1.174039e-02                </td><td>fixed                       </td></tr>\n",
       "\t<tr><td>Pedagogy                    </td><td>-0.283344823                </td><td>0.17269015                  </td><td>-1.64077005                 </td><td>1.008452e-01                </td><td>fixed                       </td></tr>\n",
       "\t<tr><td>Dementia                    </td><td>-0.185512349                </td><td>0.09276658                  </td><td>-1.99977577                 </td><td>4.552448e-02                </td><td>fixed                       </td></tr>\n",
       "\t<tr><td>Relative_risk               </td><td> 0.121252595                </td><td>0.07550050                  </td><td> 1.60598397                 </td><td>1.082774e-01                </td><td>fixed                       </td></tr>\n",
       "\t<tr><td>Microeconomics              </td><td> 0.536377660                </td><td>0.17836571                  </td><td> 3.00717921                 </td><td>2.636843e-03                </td><td>fixed                       </td></tr>\n",
       "\t<tr><td>Odds                        </td><td> 0.004062652                </td><td>0.10091966                  </td><td> 0.04025629                 </td><td>9.678888e-01                </td><td>fixed                       </td></tr>\n",
       "\t<tr><td>Feeling                     </td><td> 0.451218911                </td><td>0.10830247                  </td><td> 4.16628472                 </td><td>3.096040e-05                </td><td>fixed                       </td></tr>\n",
       "\t<tr><td>Oceanography                </td><td>-0.095426555                </td><td>0.10762849                  </td><td>-0.88662917                 </td><td>3.752786e-01                </td><td>fixed                       </td></tr>\n",
       "\t<tr><td>Emergency_medicine          </td><td> 0.029394175                </td><td>0.09548288                  </td><td> 0.30784758                 </td><td>7.581983e-01                </td><td>fixed                       </td></tr>\n",
       "\t<tr><td>Personality                 </td><td>-0.023119134                </td><td>0.09302151                  </td><td>-0.24853535                 </td><td>8.037202e-01                </td><td>fixed                       </td></tr>\n",
       "\t<tr><td>Prospective_cohort_study    </td><td>-0.212144821                </td><td>0.05829010                  </td><td>-3.63946546                 </td><td>2.732046e-04                </td><td>fixed                       </td></tr>\n",
       "\t<tr><td>Hippocampus                 </td><td>-0.045796025                </td><td>0.10075715                  </td><td>-0.45451886                 </td><td>6.494554e-01                </td><td>fixed                       </td></tr>\n",
       "\t<tr><td>Greenhouse_gas              </td><td> 0.005816234                </td><td>0.08900443                  </td><td> 0.06534769                 </td><td>9.478972e-01                </td><td>fixed                       </td></tr>\n",
       "\t<tr><td>Biomarker__medicine_        </td><td> 0.409083584                </td><td>0.09342110                  </td><td> 4.37892058                 </td><td>1.192686e-05                </td><td>fixed                       </td></tr>\n",
       "\t<tr><td>Myocardial_infarction       </td><td>-0.134552485                </td><td>0.09113339                  </td><td>-1.47643462                 </td><td>1.398273e-01                </td><td>fixed                       </td></tr>\n",
       "\t<tr><td>Socioeconomics              </td><td> 0.296928690                </td><td>0.12145307                  </td><td> 2.44480183                 </td><td>1.449318e-02                </td><td>fixed                       </td></tr>\n",
       "\t<tr><td>Drug                        </td><td> 0.290088535                </td><td>0.10027428                  </td><td> 2.89295055                 </td><td>3.816414e-03                </td><td>fixed                       </td></tr>\n",
       "\t<tr><td>Environmental_science       </td><td>-0.368386261                </td><td>0.10093407                  </td><td>-3.64977112                 </td><td>2.624741e-04                </td><td>fixed                       </td></tr>\n",
       "\t<tr><td>Epigenetics                 </td><td>-0.381573969                </td><td>0.09999289                  </td><td>-3.81601086                 </td><td>1.356265e-04                </td><td>fixed                       </td></tr>\n",
       "\t<tr><td>Inorganic_chemistry         </td><td>-0.232509830                </td><td>0.09967882                  </td><td>-2.33259003                 </td><td>1.966967e-02                </td><td>fixed                       </td></tr>\n",
       "\t<tr><td>Emergency_department        </td><td>-0.205100125                </td><td>0.09294180                  </td><td>-2.20675865                 </td><td>2.733093e-02                </td><td>fixed                       </td></tr>\n",
       "\t<tr><td>Medical_prescription        </td><td> 0.270289424                </td><td>0.08408732                  </td><td> 3.21438986                 </td><td>1.307221e-03                </td><td>fixed                       </td></tr>\n",
       "\t<tr><td>Phenotype                   </td><td> 0.075706142                </td><td>0.10021328                  </td><td> 0.75545016                 </td><td>4.499789e-01                </td><td>fixed                       </td></tr>\n",
       "\t<tr><td>sd_(Intercept).journal_title</td><td> 0.857459878                </td><td>        NA                  </td><td>         NA                 </td><td>          NA                </td><td>journal_title               </td></tr>\n",
       "\t<tr><td>sd_(Intercept).outlet       </td><td> 0.805883369                </td><td>        NA                  </td><td>         NA                 </td><td>          NA                </td><td>outlet                      </td></tr>\n",
       "</tbody>\n",
       "</table>\n"
      ],
      "text/latex": [
       "\\begin{tabular}{r|llllll}\n",
       " term & estimate & std.error & statistic & p.value & group\\\\\n",
       "\\hline\n",
       "\t (Intercept)                                    &  9.681466e-01                                  & 8.516415e-02                                   &   11.3680066                                   &  6.035011e-30                                  & fixed                                         \\\\\n",
       "\t author\\_eth\\_ethnea\\_broadAfrican                 & -3.660354e-01                                        & 5.216946e-02                                         &   -7.0162765                                         &  2.278589e-12                                        & fixed                                               \\\\\n",
       "\t author\\_eth\\_ethnea\\_broadChinese                 & -3.762245e-01                                        & 1.604767e-02                                         &  -23.4441761                                         & 1.515695e-121                                        & fixed                                               \\\\\n",
       "\t author\\_eth\\_ethnea\\_broadEastAsian               & -2.720950e-01                                        & 1.998486e-02                                         &  -13.6150563                                         &  3.258945e-42                                        & fixed                                               \\\\\n",
       "\t author\\_eth\\_ethnea\\_broadEasternEuropean         & -9.208412e-03                                        & 2.046940e-02                                         &   -0.4498624                                         &  6.528097e-01                                        & fixed                                               \\\\\n",
       "\t author\\_eth\\_ethnea\\_broadIndian                  & -1.114116e-02                                        & 1.909284e-02                                         &   -0.5835254                                         &  5.595397e-01                                        & fixed                                               \\\\\n",
       "\t author\\_eth\\_ethnea\\_broadMiddleEastern           &  1.559511e-02                                        & 1.724273e-02                                         &    0.9044455                                         &  3.657592e-01                                        & fixed                                               \\\\\n",
       "\t author\\_eth\\_ethnea\\_broadSouthernEuropean        & -1.377195e-01                                        & 1.308010e-02                                         &  -10.5289280                                         &  6.355412e-26                                        & fixed                                               \\\\\n",
       "\t author\\_eth\\_ethnea\\_broadunknown                 & -2.270461e-01                                        & 5.298014e-02                                         &   -4.2854938                                         &  1.823338e-05                                        & fixed                                               \\\\\n",
       "\t author\\_eth\\_ethnea\\_broadWesternNorthernEuropean & -7.227510e-02                                        & 1.026736e-02                                         &   -7.0393068                                         &  1.931985e-12                                        & fixed                                               \\\\\n",
       "\t author\\_gender\\_ethneaF                          &  3.445138e-03                                      & 8.757227e-03                                       &    0.3934051                                       &  6.940203e-01                                      & fixed                                             \\\\\n",
       "\t author\\_gender\\_ethneaunknown                    & -1.129109e-01                                      & 1.143704e-02                                       &   -9.8723898                                       &  5.484214e-23                                      & fixed                                             \\\\\n",
       "\t reporter\\_eth\\_ethnea\\_broadAsian                 & -5.144542e-02                                        & 3.793404e-02                                         &   -1.3561809                                         &  1.750416e-01                                        & fixed                                               \\\\\n",
       "\t reporter\\_eth\\_ethnea\\_broadEuropean              & -3.256198e-02                                        & 1.947949e-02                                         &   -1.6716029                                         &  9.460265e-02                                        & fixed                                               \\\\\n",
       "\t reporter\\_eth\\_ethnea\\_broadOtherUnknown          &  5.379254e-02                                        & 2.696810e-02                                         &    1.9946731                                         &  4.607854e-02                                        & fixed                                               \\\\\n",
       "\t reporter\\_gender\\_ethneaF                        & -1.462139e-02                                      & 1.753535e-02                                       &   -0.8338236                                       &  4.043804e-01                                      & fixed                                             \\\\\n",
       "\t reporter\\_gender\\_ethneaunknown                  &  1.537023e-02                                      & 2.631878e-02                                       &    0.5840022                                       &  5.592188e-01                                      & fixed                                             \\\\\n",
       "\t last\\_name\\_length                               & -9.911235e-03                                      & 1.678802e-03                                       &   -5.9037528                                       &  3.553244e-09                                      & fixed                                             \\\\\n",
       "\t last\\_name\\_prob                                 &  3.962768e-03                                      & 1.792310e-03                                       &    2.2109834                                       &  2.703699e-02                                      & fixed                                             \\\\\n",
       "\t author\\_pos\\_catefirst\\_position                  &  3.966446e-01                                        & 8.499990e-03                                         &   46.6641187                                         &  0.000000e+00                                        & fixed                                               \\\\\n",
       "\t author\\_pos\\_catemiddle\\_position                 & -8.138728e-01                                        & 1.634903e-02                                         &  -49.7810924                                         &  0.000000e+00                                        & fixed                                               \\\\\n",
       "\t author\\_pos\\_catesolo\\_author                     &  6.833003e-01                                        & 2.527798e-02                                         &   27.0314493                                         & 6.311774e-161                                        & fixed                                               \\\\\n",
       "\t author\\_rank                                    & -5.727217e-05                                    & 2.184898e-06                                     &  -26.2127477                                     & 1.901780e-151                                    & fixed                                           \\\\\n",
       "\t is\\_top\\_authorno                                & -9.021971e-02                                      & 3.131683e-02                                       &   -2.8808695                                       &  3.965798e-03                                      & fixed                                             \\\\\n",
       "\t is\\_correspondingno                             & -1.448051e+00                                    & 8.207958e-03                                     & -176.4203784                                     &  0.000000e+00                                    & fixed                                           \\\\\n",
       "\t is\\_correspondingunknown                        & -5.057199e-01                                    & 1.654583e-02                                     &  -30.5647888                                     & 3.596928e-205                                    & fixed                                           \\\\\n",
       "\t affiliation\\_rank                               & -3.666716e-05                                    & 2.377049e-06                                     &  -15.4254953                                     &  1.103056e-53                                    & fixed                                           \\\\\n",
       "\t affiliation\\_cateinternational                  & -3.070902e-01                                    & 8.351997e-03                                     &  -36.7684748                                     & 5.892301e-296                                    & fixed                                           \\\\\n",
       "\t affiliation\\_cateunknown                        &  5.627032e-02                                    & 9.916124e-02                                     &    0.5674629                                     &  5.703997e-01                                    & fixed                                           \\\\\n",
       "\t num\\_authors                                    & -6.631844e-03                                    & 2.720770e-04                                     &  -24.3748825                                     & 3.158757e-131                                    & fixed                                           \\\\\n",
       "\t ... & ... & ... & ... & ... & ...\\\\\n",
       "\t Prostate\\_cancer              & -0.400275205                   & 0.09678240                     & -4.13582659                    & 3.536792e-05                   & fixed                         \\\\\n",
       "\t Evolutionary\\_biology         &  0.130410086                   & 0.08237804                     &  1.58306865                    & 1.134058e-01                   & fixed                         \\\\\n",
       "\t Phenomenon                   &  0.021562933                 & 0.09495734                   &  0.22708021                  & 8.203614e-01                 & fixed                       \\\\\n",
       "\t Longitudinal\\_study           &  0.026509378                   & 0.08592420                     &  0.30852052                    & 7.576863e-01                   & fixed                         \\\\\n",
       "\t Genome                       &  0.087834583                 & 0.06711273                   &  1.30876181                  & 1.906150e-01                 & fixed                       \\\\\n",
       "\t Mutation                     &  0.204441598                 & 0.08113236                   &  2.51985277                  & 1.174039e-02                 & fixed                       \\\\\n",
       "\t Pedagogy                     & -0.283344823                 & 0.17269015                   & -1.64077005                  & 1.008452e-01                 & fixed                       \\\\\n",
       "\t Dementia                     & -0.185512349                 & 0.09276658                   & -1.99977577                  & 4.552448e-02                 & fixed                       \\\\\n",
       "\t Relative\\_risk                &  0.121252595                   & 0.07550050                     &  1.60598397                    & 1.082774e-01                   & fixed                         \\\\\n",
       "\t Microeconomics               &  0.536377660                 & 0.17836571                   &  3.00717921                  & 2.636843e-03                 & fixed                       \\\\\n",
       "\t Odds                         &  0.004062652                 & 0.10091966                   &  0.04025629                  & 9.678888e-01                 & fixed                       \\\\\n",
       "\t Feeling                      &  0.451218911                 & 0.10830247                   &  4.16628472                  & 3.096040e-05                 & fixed                       \\\\\n",
       "\t Oceanography                 & -0.095426555                 & 0.10762849                   & -0.88662917                  & 3.752786e-01                 & fixed                       \\\\\n",
       "\t Emergency\\_medicine           &  0.029394175                   & 0.09548288                     &  0.30784758                    & 7.581983e-01                   & fixed                         \\\\\n",
       "\t Personality                  & -0.023119134                 & 0.09302151                   & -0.24853535                  & 8.037202e-01                 & fixed                       \\\\\n",
       "\t Prospective\\_cohort\\_study     & -0.212144821                     & 0.05829010                       & -3.63946546                      & 2.732046e-04                     & fixed                           \\\\\n",
       "\t Hippocampus                  & -0.045796025                 & 0.10075715                   & -0.45451886                  & 6.494554e-01                 & fixed                       \\\\\n",
       "\t Greenhouse\\_gas               &  0.005816234                   & 0.08900443                     &  0.06534769                    & 9.478972e-01                   & fixed                         \\\\\n",
       "\t Biomarker\\_\\_medicine\\_         &  0.409083584                       & 0.09342110                         &  4.37892058                        & 1.192686e-05                       & fixed                             \\\\\n",
       "\t Myocardial\\_infarction        & -0.134552485                   & 0.09113339                     & -1.47643462                    & 1.398273e-01                   & fixed                         \\\\\n",
       "\t Socioeconomics               &  0.296928690                 & 0.12145307                   &  2.44480183                  & 1.449318e-02                 & fixed                       \\\\\n",
       "\t Drug                         &  0.290088535                 & 0.10027428                   &  2.89295055                  & 3.816414e-03                 & fixed                       \\\\\n",
       "\t Environmental\\_science        & -0.368386261                   & 0.10093407                     & -3.64977112                    & 2.624741e-04                   & fixed                         \\\\\n",
       "\t Epigenetics                  & -0.381573969                 & 0.09999289                   & -3.81601086                  & 1.356265e-04                 & fixed                       \\\\\n",
       "\t Inorganic\\_chemistry          & -0.232509830                   & 0.09967882                     & -2.33259003                    & 1.966967e-02                   & fixed                         \\\\\n",
       "\t Emergency\\_department         & -0.205100125                   & 0.09294180                     & -2.20675865                    & 2.733093e-02                   & fixed                         \\\\\n",
       "\t Medical\\_prescription         &  0.270289424                   & 0.08408732                     &  3.21438986                    & 1.307221e-03                   & fixed                         \\\\\n",
       "\t Phenotype                    &  0.075706142                 & 0.10021328                   &  0.75545016                  & 4.499789e-01                 & fixed                       \\\\\n",
       "\t sd\\_(Intercept).journal\\_title &  0.857459878                     &         NA                       &          NA                      &           NA                     & journal\\_title                 \\\\\n",
       "\t sd\\_(Intercept).outlet        &  0.805883369                   &         NA                     &          NA                    &           NA                   & outlet                        \\\\\n",
       "\\end{tabular}\n"
      ],
      "text/markdown": [
       "\n",
       "| term | estimate | std.error | statistic | p.value | group |\n",
       "|---|---|---|---|---|---|\n",
       "| (Intercept)                                    |  9.681466e-01                                  | 8.516415e-02                                   |   11.3680066                                   |  6.035011e-30                                  | fixed                                          |\n",
       "| author_eth_ethnea_broadAfrican                 | -3.660354e-01                                  | 5.216946e-02                                   |   -7.0162765                                   |  2.278589e-12                                  | fixed                                          |\n",
       "| author_eth_ethnea_broadChinese                 | -3.762245e-01                                  | 1.604767e-02                                   |  -23.4441761                                   | 1.515695e-121                                  | fixed                                          |\n",
       "| author_eth_ethnea_broadEastAsian               | -2.720950e-01                                  | 1.998486e-02                                   |  -13.6150563                                   |  3.258945e-42                                  | fixed                                          |\n",
       "| author_eth_ethnea_broadEasternEuropean         | -9.208412e-03                                  | 2.046940e-02                                   |   -0.4498624                                   |  6.528097e-01                                  | fixed                                          |\n",
       "| author_eth_ethnea_broadIndian                  | -1.114116e-02                                  | 1.909284e-02                                   |   -0.5835254                                   |  5.595397e-01                                  | fixed                                          |\n",
       "| author_eth_ethnea_broadMiddleEastern           |  1.559511e-02                                  | 1.724273e-02                                   |    0.9044455                                   |  3.657592e-01                                  | fixed                                          |\n",
       "| author_eth_ethnea_broadSouthernEuropean        | -1.377195e-01                                  | 1.308010e-02                                   |  -10.5289280                                   |  6.355412e-26                                  | fixed                                          |\n",
       "| author_eth_ethnea_broadunknown                 | -2.270461e-01                                  | 5.298014e-02                                   |   -4.2854938                                   |  1.823338e-05                                  | fixed                                          |\n",
       "| author_eth_ethnea_broadWesternNorthernEuropean | -7.227510e-02                                  | 1.026736e-02                                   |   -7.0393068                                   |  1.931985e-12                                  | fixed                                          |\n",
       "| author_gender_ethneaF                          |  3.445138e-03                                  | 8.757227e-03                                   |    0.3934051                                   |  6.940203e-01                                  | fixed                                          |\n",
       "| author_gender_ethneaunknown                    | -1.129109e-01                                  | 1.143704e-02                                   |   -9.8723898                                   |  5.484214e-23                                  | fixed                                          |\n",
       "| reporter_eth_ethnea_broadAsian                 | -5.144542e-02                                  | 3.793404e-02                                   |   -1.3561809                                   |  1.750416e-01                                  | fixed                                          |\n",
       "| reporter_eth_ethnea_broadEuropean              | -3.256198e-02                                  | 1.947949e-02                                   |   -1.6716029                                   |  9.460265e-02                                  | fixed                                          |\n",
       "| reporter_eth_ethnea_broadOtherUnknown          |  5.379254e-02                                  | 2.696810e-02                                   |    1.9946731                                   |  4.607854e-02                                  | fixed                                          |\n",
       "| reporter_gender_ethneaF                        | -1.462139e-02                                  | 1.753535e-02                                   |   -0.8338236                                   |  4.043804e-01                                  | fixed                                          |\n",
       "| reporter_gender_ethneaunknown                  |  1.537023e-02                                  | 2.631878e-02                                   |    0.5840022                                   |  5.592188e-01                                  | fixed                                          |\n",
       "| last_name_length                               | -9.911235e-03                                  | 1.678802e-03                                   |   -5.9037528                                   |  3.553244e-09                                  | fixed                                          |\n",
       "| last_name_prob                                 |  3.962768e-03                                  | 1.792310e-03                                   |    2.2109834                                   |  2.703699e-02                                  | fixed                                          |\n",
       "| author_pos_catefirst_position                  |  3.966446e-01                                  | 8.499990e-03                                   |   46.6641187                                   |  0.000000e+00                                  | fixed                                          |\n",
       "| author_pos_catemiddle_position                 | -8.138728e-01                                  | 1.634903e-02                                   |  -49.7810924                                   |  0.000000e+00                                  | fixed                                          |\n",
       "| author_pos_catesolo_author                     |  6.833003e-01                                  | 2.527798e-02                                   |   27.0314493                                   | 6.311774e-161                                  | fixed                                          |\n",
       "| author_rank                                    | -5.727217e-05                                  | 2.184898e-06                                   |  -26.2127477                                   | 1.901780e-151                                  | fixed                                          |\n",
       "| is_top_authorno                                | -9.021971e-02                                  | 3.131683e-02                                   |   -2.8808695                                   |  3.965798e-03                                  | fixed                                          |\n",
       "| is_correspondingno                             | -1.448051e+00                                  | 8.207958e-03                                   | -176.4203784                                   |  0.000000e+00                                  | fixed                                          |\n",
       "| is_correspondingunknown                        | -5.057199e-01                                  | 1.654583e-02                                   |  -30.5647888                                   | 3.596928e-205                                  | fixed                                          |\n",
       "| affiliation_rank                               | -3.666716e-05                                  | 2.377049e-06                                   |  -15.4254953                                   |  1.103056e-53                                  | fixed                                          |\n",
       "| affiliation_cateinternational                  | -3.070902e-01                                  | 8.351997e-03                                   |  -36.7684748                                   | 5.892301e-296                                  | fixed                                          |\n",
       "| affiliation_cateunknown                        |  5.627032e-02                                  | 9.916124e-02                                   |    0.5674629                                   |  5.703997e-01                                  | fixed                                          |\n",
       "| num_authors                                    | -6.631844e-03                                  | 2.720770e-04                                   |  -24.3748825                                   | 3.158757e-131                                  | fixed                                          |\n",
       "| ... | ... | ... | ... | ... | ... |\n",
       "| Prostate_cancer              | -0.400275205                 | 0.09678240                   | -4.13582659                  | 3.536792e-05                 | fixed                        |\n",
       "| Evolutionary_biology         |  0.130410086                 | 0.08237804                   |  1.58306865                  | 1.134058e-01                 | fixed                        |\n",
       "| Phenomenon                   |  0.021562933                 | 0.09495734                   |  0.22708021                  | 8.203614e-01                 | fixed                        |\n",
       "| Longitudinal_study           |  0.026509378                 | 0.08592420                   |  0.30852052                  | 7.576863e-01                 | fixed                        |\n",
       "| Genome                       |  0.087834583                 | 0.06711273                   |  1.30876181                  | 1.906150e-01                 | fixed                        |\n",
       "| Mutation                     |  0.204441598                 | 0.08113236                   |  2.51985277                  | 1.174039e-02                 | fixed                        |\n",
       "| Pedagogy                     | -0.283344823                 | 0.17269015                   | -1.64077005                  | 1.008452e-01                 | fixed                        |\n",
       "| Dementia                     | -0.185512349                 | 0.09276658                   | -1.99977577                  | 4.552448e-02                 | fixed                        |\n",
       "| Relative_risk                |  0.121252595                 | 0.07550050                   |  1.60598397                  | 1.082774e-01                 | fixed                        |\n",
       "| Microeconomics               |  0.536377660                 | 0.17836571                   |  3.00717921                  | 2.636843e-03                 | fixed                        |\n",
       "| Odds                         |  0.004062652                 | 0.10091966                   |  0.04025629                  | 9.678888e-01                 | fixed                        |\n",
       "| Feeling                      |  0.451218911                 | 0.10830247                   |  4.16628472                  | 3.096040e-05                 | fixed                        |\n",
       "| Oceanography                 | -0.095426555                 | 0.10762849                   | -0.88662917                  | 3.752786e-01                 | fixed                        |\n",
       "| Emergency_medicine           |  0.029394175                 | 0.09548288                   |  0.30784758                  | 7.581983e-01                 | fixed                        |\n",
       "| Personality                  | -0.023119134                 | 0.09302151                   | -0.24853535                  | 8.037202e-01                 | fixed                        |\n",
       "| Prospective_cohort_study     | -0.212144821                 | 0.05829010                   | -3.63946546                  | 2.732046e-04                 | fixed                        |\n",
       "| Hippocampus                  | -0.045796025                 | 0.10075715                   | -0.45451886                  | 6.494554e-01                 | fixed                        |\n",
       "| Greenhouse_gas               |  0.005816234                 | 0.08900443                   |  0.06534769                  | 9.478972e-01                 | fixed                        |\n",
       "| Biomarker__medicine_         |  0.409083584                 | 0.09342110                   |  4.37892058                  | 1.192686e-05                 | fixed                        |\n",
       "| Myocardial_infarction        | -0.134552485                 | 0.09113339                   | -1.47643462                  | 1.398273e-01                 | fixed                        |\n",
       "| Socioeconomics               |  0.296928690                 | 0.12145307                   |  2.44480183                  | 1.449318e-02                 | fixed                        |\n",
       "| Drug                         |  0.290088535                 | 0.10027428                   |  2.89295055                  | 3.816414e-03                 | fixed                        |\n",
       "| Environmental_science        | -0.368386261                 | 0.10093407                   | -3.64977112                  | 2.624741e-04                 | fixed                        |\n",
       "| Epigenetics                  | -0.381573969                 | 0.09999289                   | -3.81601086                  | 1.356265e-04                 | fixed                        |\n",
       "| Inorganic_chemistry          | -0.232509830                 | 0.09967882                   | -2.33259003                  | 1.966967e-02                 | fixed                        |\n",
       "| Emergency_department         | -0.205100125                 | 0.09294180                   | -2.20675865                  | 2.733093e-02                 | fixed                        |\n",
       "| Medical_prescription         |  0.270289424                 | 0.08408732                   |  3.21438986                  | 1.307221e-03                 | fixed                        |\n",
       "| Phenotype                    |  0.075706142                 | 0.10021328                   |  0.75545016                  | 4.499789e-01                 | fixed                        |\n",
       "| sd_(Intercept).journal_title |  0.857459878                 |         NA                   |          NA                  |           NA                 | journal_title                |\n",
       "| sd_(Intercept).outlet        |  0.805883369                 |         NA                   |          NA                  |           NA                 | outlet                       |\n",
       "\n"
      ],
      "text/plain": [
       "    term                                           estimate      std.error   \n",
       "1   (Intercept)                                     9.681466e-01 8.516415e-02\n",
       "2   author_eth_ethnea_broadAfrican                 -3.660354e-01 5.216946e-02\n",
       "3   author_eth_ethnea_broadChinese                 -3.762245e-01 1.604767e-02\n",
       "4   author_eth_ethnea_broadEastAsian               -2.720950e-01 1.998486e-02\n",
       "5   author_eth_ethnea_broadEasternEuropean         -9.208412e-03 2.046940e-02\n",
       "6   author_eth_ethnea_broadIndian                  -1.114116e-02 1.909284e-02\n",
       "7   author_eth_ethnea_broadMiddleEastern            1.559511e-02 1.724273e-02\n",
       "8   author_eth_ethnea_broadSouthernEuropean        -1.377195e-01 1.308010e-02\n",
       "9   author_eth_ethnea_broadunknown                 -2.270461e-01 5.298014e-02\n",
       "10  author_eth_ethnea_broadWesternNorthernEuropean -7.227510e-02 1.026736e-02\n",
       "11  author_gender_ethneaF                           3.445138e-03 8.757227e-03\n",
       "12  author_gender_ethneaunknown                    -1.129109e-01 1.143704e-02\n",
       "13  reporter_eth_ethnea_broadAsian                 -5.144542e-02 3.793404e-02\n",
       "14  reporter_eth_ethnea_broadEuropean              -3.256198e-02 1.947949e-02\n",
       "15  reporter_eth_ethnea_broadOtherUnknown           5.379254e-02 2.696810e-02\n",
       "16  reporter_gender_ethneaF                        -1.462139e-02 1.753535e-02\n",
       "17  reporter_gender_ethneaunknown                   1.537023e-02 2.631878e-02\n",
       "18  last_name_length                               -9.911235e-03 1.678802e-03\n",
       "19  last_name_prob                                  3.962768e-03 1.792310e-03\n",
       "20  author_pos_catefirst_position                   3.966446e-01 8.499990e-03\n",
       "21  author_pos_catemiddle_position                 -8.138728e-01 1.634903e-02\n",
       "22  author_pos_catesolo_author                      6.833003e-01 2.527798e-02\n",
       "23  author_rank                                    -5.727217e-05 2.184898e-06\n",
       "24  is_top_authorno                                -9.021971e-02 3.131683e-02\n",
       "25  is_correspondingno                             -1.448051e+00 8.207958e-03\n",
       "26  is_correspondingunknown                        -5.057199e-01 1.654583e-02\n",
       "27  affiliation_rank                               -3.666716e-05 2.377049e-06\n",
       "28  affiliation_cateinternational                  -3.070902e-01 8.351997e-03\n",
       "29  affiliation_cateunknown                         5.627032e-02 9.916124e-02\n",
       "30  num_authors                                    -6.631844e-03 2.720770e-04\n",
       "... ...                                            ...           ...         \n",
       "209 Prostate_cancer                                -0.400275205  0.09678240  \n",
       "210 Evolutionary_biology                            0.130410086  0.08237804  \n",
       "211 Phenomenon                                      0.021562933  0.09495734  \n",
       "212 Longitudinal_study                              0.026509378  0.08592420  \n",
       "213 Genome                                          0.087834583  0.06711273  \n",
       "214 Mutation                                        0.204441598  0.08113236  \n",
       "215 Pedagogy                                       -0.283344823  0.17269015  \n",
       "216 Dementia                                       -0.185512349  0.09276658  \n",
       "217 Relative_risk                                   0.121252595  0.07550050  \n",
       "218 Microeconomics                                  0.536377660  0.17836571  \n",
       "219 Odds                                            0.004062652  0.10091966  \n",
       "220 Feeling                                         0.451218911  0.10830247  \n",
       "221 Oceanography                                   -0.095426555  0.10762849  \n",
       "222 Emergency_medicine                              0.029394175  0.09548288  \n",
       "223 Personality                                    -0.023119134  0.09302151  \n",
       "224 Prospective_cohort_study                       -0.212144821  0.05829010  \n",
       "225 Hippocampus                                    -0.045796025  0.10075715  \n",
       "226 Greenhouse_gas                                  0.005816234  0.08900443  \n",
       "227 Biomarker__medicine_                            0.409083584  0.09342110  \n",
       "228 Myocardial_infarction                          -0.134552485  0.09113339  \n",
       "229 Socioeconomics                                  0.296928690  0.12145307  \n",
       "230 Drug                                            0.290088535  0.10027428  \n",
       "231 Environmental_science                          -0.368386261  0.10093407  \n",
       "232 Epigenetics                                    -0.381573969  0.09999289  \n",
       "233 Inorganic_chemistry                            -0.232509830  0.09967882  \n",
       "234 Emergency_department                           -0.205100125  0.09294180  \n",
       "235 Medical_prescription                            0.270289424  0.08408732  \n",
       "236 Phenotype                                       0.075706142  0.10021328  \n",
       "237 sd_(Intercept).journal_title                    0.857459878          NA  \n",
       "238 sd_(Intercept).outlet                           0.805883369          NA  \n",
       "    statistic    p.value       group        \n",
       "1     11.3680066  6.035011e-30 fixed        \n",
       "2     -7.0162765  2.278589e-12 fixed        \n",
       "3    -23.4441761 1.515695e-121 fixed        \n",
       "4    -13.6150563  3.258945e-42 fixed        \n",
       "5     -0.4498624  6.528097e-01 fixed        \n",
       "6     -0.5835254  5.595397e-01 fixed        \n",
       "7      0.9044455  3.657592e-01 fixed        \n",
       "8    -10.5289280  6.355412e-26 fixed        \n",
       "9     -4.2854938  1.823338e-05 fixed        \n",
       "10    -7.0393068  1.931985e-12 fixed        \n",
       "11     0.3934051  6.940203e-01 fixed        \n",
       "12    -9.8723898  5.484214e-23 fixed        \n",
       "13    -1.3561809  1.750416e-01 fixed        \n",
       "14    -1.6716029  9.460265e-02 fixed        \n",
       "15     1.9946731  4.607854e-02 fixed        \n",
       "16    -0.8338236  4.043804e-01 fixed        \n",
       "17     0.5840022  5.592188e-01 fixed        \n",
       "18    -5.9037528  3.553244e-09 fixed        \n",
       "19     2.2109834  2.703699e-02 fixed        \n",
       "20    46.6641187  0.000000e+00 fixed        \n",
       "21   -49.7810924  0.000000e+00 fixed        \n",
       "22    27.0314493 6.311774e-161 fixed        \n",
       "23   -26.2127477 1.901780e-151 fixed        \n",
       "24    -2.8808695  3.965798e-03 fixed        \n",
       "25  -176.4203784  0.000000e+00 fixed        \n",
       "26   -30.5647888 3.596928e-205 fixed        \n",
       "27   -15.4254953  1.103056e-53 fixed        \n",
       "28   -36.7684748 5.892301e-296 fixed        \n",
       "29     0.5674629  5.703997e-01 fixed        \n",
       "30   -24.3748825 3.158757e-131 fixed        \n",
       "... ...          ...           ...          \n",
       "209 -4.13582659  3.536792e-05  fixed        \n",
       "210  1.58306865  1.134058e-01  fixed        \n",
       "211  0.22708021  8.203614e-01  fixed        \n",
       "212  0.30852052  7.576863e-01  fixed        \n",
       "213  1.30876181  1.906150e-01  fixed        \n",
       "214  2.51985277  1.174039e-02  fixed        \n",
       "215 -1.64077005  1.008452e-01  fixed        \n",
       "216 -1.99977577  4.552448e-02  fixed        \n",
       "217  1.60598397  1.082774e-01  fixed        \n",
       "218  3.00717921  2.636843e-03  fixed        \n",
       "219  0.04025629  9.678888e-01  fixed        \n",
       "220  4.16628472  3.096040e-05  fixed        \n",
       "221 -0.88662917  3.752786e-01  fixed        \n",
       "222  0.30784758  7.581983e-01  fixed        \n",
       "223 -0.24853535  8.037202e-01  fixed        \n",
       "224 -3.63946546  2.732046e-04  fixed        \n",
       "225 -0.45451886  6.494554e-01  fixed        \n",
       "226  0.06534769  9.478972e-01  fixed        \n",
       "227  4.37892058  1.192686e-05  fixed        \n",
       "228 -1.47643462  1.398273e-01  fixed        \n",
       "229  2.44480183  1.449318e-02  fixed        \n",
       "230  2.89295055  3.816414e-03  fixed        \n",
       "231 -3.64977112  2.624741e-04  fixed        \n",
       "232 -3.81601086  1.356265e-04  fixed        \n",
       "233 -2.33259003  1.966967e-02  fixed        \n",
       "234 -2.20675865  2.733093e-02  fixed        \n",
       "235  3.21438986  1.307221e-03  fixed        \n",
       "236  0.75545016  4.499789e-01  fixed        \n",
       "237          NA            NA  journal_title\n",
       "238          NA            NA  outlet       "
      ]
     },
     "metadata": {},
     "output_type": "display_data"
    }
   ],
   "source": [
    "tidy(m5)"
   ]
  },
  {
   "cell_type": "code",
   "execution_count": 34,
   "metadata": {
    "scrolled": true
   },
   "outputs": [],
   "source": [
    "write.csv(tidy(m5), \"/shared/0/projects/news-quotes/reg_results/reg_table/m5_coeff.csv\", row.names = FALSE)"
   ]
  },
  {
   "cell_type": "code",
   "execution_count": null,
   "metadata": {},
   "outputs": [],
   "source": [
    "# Difference between CIs in margins and marginal_effects: \n",
    "# https://github.com/leeper/margins/issues/135"
   ]
  },
  {
   "cell_type": "markdown",
   "metadata": {},
   "source": [
    "margins"
   ]
  },
  {
   "cell_type": "code",
   "execution_count": null,
   "metadata": {},
   "outputs": [],
   "source": [
    "margins_eff <- margins(m5, data = mydata, variables = c(\"author_eth_ethnea_broad\", \"author_gender_ethnea\"))"
   ]
  },
  {
   "cell_type": "code",
   "execution_count": null,
   "metadata": {
    "scrolled": true
   },
   "outputs": [],
   "source": [
    "nrow(margins_eff)"
   ]
  },
  {
   "cell_type": "code",
   "execution_count": null,
   "metadata": {},
   "outputs": [],
   "source": [
    "summary(margins_eff)"
   ]
  },
  {
   "cell_type": "code",
   "execution_count": null,
   "metadata": {},
   "outputs": [],
   "source": [
    "write.csv(summary(margins_eff), \"/shared/0/projects/news-quotes/reg_results/reg_table/big_mfx_table_R_margins.csv\", row.names = FALSE)"
   ]
  },
  {
   "cell_type": "markdown",
   "metadata": {},
   "source": [
    "## Only US institutions"
   ]
  },
  {
   "cell_type": "code",
   "execution_count": 31,
   "metadata": {},
   "outputs": [],
   "source": [
    "subdata = mydata[mydata$affiliation_cate == 'domestic', ]"
   ]
  },
  {
   "cell_type": "code",
   "execution_count": 33,
   "metadata": {},
   "outputs": [],
   "source": [
    "base_str_bar <- \"is_author_mentioned ~ 1 + author_eth_ethnea_broad + author_gender_ethnea + reporter_eth_ethnea_broad + reporter_gender_ethnea + \\\n",
    "          last_name_length + last_name_prob + author_pos_cate + author_rank + is_top_author + is_corresponding + \\\n",
    "          affiliation_rank + num_authors + mention_year_center + gap_in_years + \\\n",
    "          num_words + num_mentioned_papers + FleschReadingEase + sentences_per_paragraph + type_token_ratio\""
   ]
  },
  {
   "cell_type": "code",
   "execution_count": 34,
   "metadata": {
    "scrolled": false
   },
   "outputs": [
    {
     "name": "stderr",
     "output_type": "stream",
     "text": [
      "fixed-effect model matrix is rank deficient so dropping 5 columns / coefficients\n",
      "Warning message:\n",
      "“Some predictor variables are on very different scales: consider rescaling”"
     ]
    }
   ],
   "source": [
    "equation_bar <- as.formula(paste(base_str_bar, keywords, \" + (1|journal_title) + (1|outlet)\", sep = \" \"))\n",
    "m5_us <- glmer(formula = equation_bar, data = subdata, family = \"binomial\", control = glmerControl(optimizer = \"nloptwrap\"), nAGQ = 0)"
   ]
  },
  {
   "cell_type": "code",
   "execution_count": null,
   "metadata": {},
   "outputs": [],
   "source": [
    "# stargazer(m5_us, type = \"latex\", single.row=TRUE, ci = TRUE, report = ('vcsp'))"
   ]
  },
  {
   "cell_type": "code",
   "execution_count": null,
   "metadata": {
    "scrolled": true
   },
   "outputs": [],
   "source": [
    "# tidy(m5_us)"
   ]
  },
  {
   "cell_type": "code",
   "execution_count": null,
   "metadata": {
    "scrolled": true
   },
   "outputs": [],
   "source": [
    "write.csv(tidy(m5_us), \"/shared/0/projects/news-quotes/reg_results/reg_table/m5_us_coeff.csv\", row.names = FALSE)"
   ]
  },
  {
   "cell_type": "code",
   "execution_count": 28,
   "metadata": {},
   "outputs": [],
   "source": [
    "margins_eff <- margins(m5_us, data = subdata, variables = c(\"author_eth_ethnea_broad\", \"author_gender_ethnea\"))"
   ]
  },
  {
   "cell_type": "code",
   "execution_count": 29,
   "metadata": {
    "scrolled": true
   },
   "outputs": [
    {
     "data": {
      "text/html": [
       "317626"
      ],
      "text/latex": [
       "317626"
      ],
      "text/markdown": [
       "317626"
      ],
      "text/plain": [
       "[1] 317626"
      ]
     },
     "metadata": {},
     "output_type": "display_data"
    }
   ],
   "source": [
    "nrow(margins_eff)"
   ]
  },
  {
   "cell_type": "code",
   "execution_count": null,
   "metadata": {},
   "outputs": [],
   "source": [
    "# summary(margins_eff)"
   ]
  },
  {
   "cell_type": "code",
   "execution_count": 31,
   "metadata": {},
   "outputs": [],
   "source": [
    "write.csv(summary(margins_eff), \"/shared/0/projects/news-quotes/reg_results/reg_table/big_mfx_table_R_margins_us_subset.csv\", row.names = FALSE)\n"
   ]
  },
  {
   "cell_type": "code",
   "execution_count": null,
   "metadata": {},
   "outputs": [],
   "source": []
  },
  {
   "cell_type": "markdown",
   "metadata": {},
   "source": [
    "## non-US institutions"
   ]
  },
  {
   "cell_type": "code",
   "execution_count": null,
   "metadata": {
    "scrolled": false
   },
   "outputs": [],
   "source": [
    "nrow(mydata[mydata$affiliation_cate == 'international', ])"
   ]
  },
  {
   "cell_type": "code",
   "execution_count": null,
   "metadata": {},
   "outputs": [],
   "source": [
    "base_str_bar <- \"is_author_mentioned ~ 1 + author_eth_ethnea_broad + author_gender_ethnea + reporter_eth_ethnea_broad + reporter_gender_ethnea + \\\n",
    "          last_name_length + last_name_prob + author_pos_cate + author_rank + is_top_author + is_corresponding + \\\n",
    "          affiliation_rank + num_authors + mention_year_center + gap_in_years + \\\n",
    "          num_words + num_mentioned_papers + FleschReadingEase + sentences_per_paragraph + type_token_ratio\""
   ]
  },
  {
   "cell_type": "code",
   "execution_count": null,
   "metadata": {
    "scrolled": true
   },
   "outputs": [],
   "source": [
    "equation_bar <- as.formula(paste(base_str_bar, keywords, \" + (1|journal_title) + (1|outlet)\", sep = \" \"))\n",
    "m5_intl <- glmer(formula = equation_bar, data = mydata[mydata$affiliation_cate == 'international', ], family = \"binomial\", control = glmerControl(optimizer = \"nloptwrap\"), nAGQ = 0)"
   ]
  },
  {
   "cell_type": "code",
   "execution_count": null,
   "metadata": {
    "scrolled": true
   },
   "outputs": [],
   "source": [
    "tidy(m5_intl)"
   ]
  },
  {
   "cell_type": "code",
   "execution_count": null,
   "metadata": {
    "scrolled": true
   },
   "outputs": [],
   "source": [
    "write.csv(tidy(m5_intl), \"/shared/0/projects/news-quotes/reg_results/reg_table/m5_intl_coeff.csv\", row.names = FALSE)"
   ]
  },
  {
   "cell_type": "code",
   "execution_count": null,
   "metadata": {},
   "outputs": [],
   "source": []
  }
 ],
 "metadata": {
  "kernelspec": {
   "display_name": "R",
   "language": "R",
   "name": "ir"
  },
  "language_info": {
   "codemirror_mode": "r",
   "file_extension": ".r",
   "mimetype": "text/x-r-source",
   "name": "R",
   "pygments_lexer": "r",
   "version": "3.6.1"
  }
 },
 "nbformat": 4,
 "nbformat_minor": 2
}
