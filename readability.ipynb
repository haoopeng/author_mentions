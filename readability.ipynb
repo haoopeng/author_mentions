{
 "cells": [
  {
   "cell_type": "code",
   "execution_count": 1,
   "metadata": {},
   "outputs": [],
   "source": [
    "import pandas as pd\n",
    "import json\n",
    "from os.path import *\n",
    "from collections import *\n",
    "#from readability import Readability\n",
    "import readability\n",
    "from tqdm.notebook import tqdm"
   ]
  },
  {
   "cell_type": "code",
   "execution_count": 3,
   "metadata": {},
   "outputs": [
    {
     "data": {
      "application/vnd.jupyter.widget-view+json": {
       "model_id": "f490444059824268b1bb88adacbb6fc2",
       "version_major": 2,
       "version_minor": 0
      },
      "text/plain": [
       "HBox(children=(FloatProgress(value=0.0, max=156679.0), HTML(value='')))"
      ]
     },
     "metadata": {},
     "output_type": "display_data"
    },
    {
     "name": "stdout",
     "output_type": "stream",
     "text": [
      "\n"
     ]
    }
   ],
   "source": [
    "df = defaultdict(list)\n",
    "\n",
    "with open('/shared/0/projects/news-quotes/dois_abstract.json', 'r') as ofile:\n",
    "    for row in tqdm(ofile, total=156679):\n",
    "        row = json.loads(row)\n",
    "        doi, text = row['doi'], row['abs']\n",
    "        df['doi'].append(doi)\n",
    "        df['abstract'].append(text)\n",
    "        measures = readability.getmeasures(text, lang='en')\n",
    "        for k, v in measures['readability grades'].items():\n",
    "            df[k].append(v)\n",
    "        for k, v in measures['sentence info'].items():\n",
    "            df[k].append(v)"
   ]
  },
  {
   "cell_type": "code",
   "execution_count": 4,
   "metadata": {},
   "outputs": [],
   "source": [
    "df = pd.DataFrame(df)"
   ]
  },
  {
   "cell_type": "code",
   "execution_count": 6,
   "metadata": {},
   "outputs": [
    {
     "data": {
      "text/html": [
       "<div>\n",
       "<style scoped>\n",
       "    .dataframe tbody tr th:only-of-type {\n",
       "        vertical-align: middle;\n",
       "    }\n",
       "\n",
       "    .dataframe tbody tr th {\n",
       "        vertical-align: top;\n",
       "    }\n",
       "\n",
       "    .dataframe thead th {\n",
       "        text-align: right;\n",
       "    }\n",
       "</style>\n",
       "<table border=\"1\" class=\"dataframe\">\n",
       "  <thead>\n",
       "    <tr style=\"text-align: right;\">\n",
       "      <th></th>\n",
       "      <th>doi</th>\n",
       "      <th>abstract</th>\n",
       "      <th>Kincaid</th>\n",
       "      <th>ARI</th>\n",
       "      <th>Coleman-Liau</th>\n",
       "      <th>FleschReadingEase</th>\n",
       "      <th>GunningFogIndex</th>\n",
       "      <th>LIX</th>\n",
       "      <th>SMOGIndex</th>\n",
       "      <th>RIX</th>\n",
       "      <th>...</th>\n",
       "      <th>type_token_ratio</th>\n",
       "      <th>characters</th>\n",
       "      <th>syllables</th>\n",
       "      <th>words</th>\n",
       "      <th>wordtypes</th>\n",
       "      <th>sentences</th>\n",
       "      <th>paragraphs</th>\n",
       "      <th>long_words</th>\n",
       "      <th>complex_words</th>\n",
       "      <th>complex_words_dc</th>\n",
       "    </tr>\n",
       "  </thead>\n",
       "  <tbody>\n",
       "    <tr>\n",
       "      <th>0</th>\n",
       "      <td>10.1038/s41467-018-04756-x</td>\n",
       "      <td>Globally, rivers and streams are important sou...</td>\n",
       "      <td>65.331351</td>\n",
       "      <td>82.421216</td>\n",
       "      <td>21.264824</td>\n",
       "      <td>-109.726892</td>\n",
       "      <td>70.010811</td>\n",
       "      <td>193.945946</td>\n",
       "      <td>37.641016</td>\n",
       "      <td>68.0</td>\n",
       "      <td>...</td>\n",
       "      <td>0.682432</td>\n",
       "      <td>938</td>\n",
       "      <td>291</td>\n",
       "      <td>148</td>\n",
       "      <td>101</td>\n",
       "      <td>1</td>\n",
       "      <td>1</td>\n",
       "      <td>68</td>\n",
       "      <td>40</td>\n",
       "      <td>85</td>\n",
       "    </tr>\n",
       "    <tr>\n",
       "      <th>1</th>\n",
       "      <td>10.7554/elife.36584</td>\n",
       "      <td>When doctors perform autopsies to look at the ...</td>\n",
       "      <td>147.229380</td>\n",
       "      <td>186.947143</td>\n",
       "      <td>12.678722</td>\n",
       "      <td>-299.708437</td>\n",
       "      <td>153.683019</td>\n",
       "      <td>397.145553</td>\n",
       "      <td>41.340579</td>\n",
       "      <td>97.0</td>\n",
       "      <td>...</td>\n",
       "      <td>0.501348</td>\n",
       "      <td>1802</td>\n",
       "      <td>570</td>\n",
       "      <td>371</td>\n",
       "      <td>186</td>\n",
       "      <td>1</td>\n",
       "      <td>1</td>\n",
       "      <td>97</td>\n",
       "      <td>49</td>\n",
       "      <td>149</td>\n",
       "    </tr>\n",
       "  </tbody>\n",
       "</table>\n",
       "<p>2 rows × 25 columns</p>\n",
       "</div>"
      ],
      "text/plain": [
       "                          doi  \\\n",
       "0  10.1038/s41467-018-04756-x   \n",
       "1         10.7554/elife.36584   \n",
       "\n",
       "                                            abstract     Kincaid         ARI  \\\n",
       "0  Globally, rivers and streams are important sou...   65.331351   82.421216   \n",
       "1  When doctors perform autopsies to look at the ...  147.229380  186.947143   \n",
       "\n",
       "   Coleman-Liau  FleschReadingEase  GunningFogIndex         LIX  SMOGIndex  \\\n",
       "0     21.264824        -109.726892        70.010811  193.945946  37.641016   \n",
       "1     12.678722        -299.708437       153.683019  397.145553  41.340579   \n",
       "\n",
       "    RIX  ...  type_token_ratio  characters  syllables  words  wordtypes  \\\n",
       "0  68.0  ...          0.682432         938        291    148        101   \n",
       "1  97.0  ...          0.501348        1802        570    371        186   \n",
       "\n",
       "   sentences  paragraphs  long_words  complex_words  complex_words_dc  \n",
       "0          1           1          68             40                85  \n",
       "1          1           1          97             49               149  \n",
       "\n",
       "[2 rows x 25 columns]"
      ]
     },
     "execution_count": 6,
     "metadata": {},
     "output_type": "execute_result"
    }
   ],
   "source": [
    "df.head(2)"
   ]
  },
  {
   "cell_type": "code",
   "execution_count": 7,
   "metadata": {},
   "outputs": [],
   "source": [
    "df.to_csv('/shared/0/projects/news-quotes/dois_abstract_readability_stats.tsv', sep='\\t', index=False)"
   ]
  },
  {
   "cell_type": "code",
   "execution_count": 8,
   "metadata": {},
   "outputs": [
    {
     "name": "stdout",
     "output_type": "stream",
     "text": [
      "Globally, rivers and streams are important sources of carbon dioxide and methane, with small rivers contributing disproportionately relative to their size. Previous research on greenhouse gas (GHG) emissions from surface water lacks mechanistic understanding of contributions from streambed sediments. We hypothesise that streambeds, as known biogeochemical hotspots, significantly contribute to the production of GHGs. With global climate change, there is a pressing need to understand how increasing streambed temperatures will affect current and future GHG production. Current global estimates assume linear relationships between temperature and GHG emissions from surface water. Here we show non-linearity and threshold responses of streambed GHG production to warming. We reveal that temperature sensitivity varies with substrate (of variable grain size), organic matter (OM) content and geological origin. Our results confirm that streambeds, with their non-linear response to projected warming, are integral to estimating freshwater ecosystem contributions to current and future global GHG emissions.\n"
     ]
    }
   ],
   "source": [
    "sample = df.head(1)['abstract'][0]\n",
    "print(sample)"
   ]
  },
  {
   "cell_type": "code",
   "execution_count": 9,
   "metadata": {},
   "outputs": [
    {
     "data": {
      "text/plain": [
       "OrderedDict([('readability grades',\n",
       "              OrderedDict([('Kincaid', 65.33135135135134),\n",
       "                           ('ARI', 82.42121621621621),\n",
       "                           ('Coleman-Liau', 21.2648240945946),\n",
       "                           ('FleschReadingEase', -109.72689189189188),\n",
       "                           ('GunningFogIndex', 70.01081081081081),\n",
       "                           ('LIX', 193.94594594594594),\n",
       "                           ('SMOGIndex', 37.64101615137755),\n",
       "                           ('RIX', 68.0),\n",
       "                           ('DaleChallIndex', 20.045881081081077)])),\n",
       "             ('sentence info',\n",
       "              OrderedDict([('characters_per_word', 6.337837837837838),\n",
       "                           ('syll_per_word', 1.9662162162162162),\n",
       "                           ('words_per_sentence', 148.0),\n",
       "                           ('sentences_per_paragraph', 1.0),\n",
       "                           ('type_token_ratio', 0.6824324324324325),\n",
       "                           ('characters', 938),\n",
       "                           ('syllables', 291),\n",
       "                           ('words', 148),\n",
       "                           ('wordtypes', 101),\n",
       "                           ('sentences', 1),\n",
       "                           ('paragraphs', 1),\n",
       "                           ('long_words', 68),\n",
       "                           ('complex_words', 40),\n",
       "                           ('complex_words_dc', 85)])),\n",
       "             ('word usage',\n",
       "              OrderedDict([('tobeverb', 3),\n",
       "                           ('auxverb', 2),\n",
       "                           ('conjunction', 7),\n",
       "                           ('pronoun', 9),\n",
       "                           ('preposition', 21),\n",
       "                           ('nominalization', 3)])),\n",
       "             ('sentence beginnings',\n",
       "              OrderedDict([('pronoun', 0),\n",
       "                           ('interrogative', 0),\n",
       "                           ('article', 0),\n",
       "                           ('subordination', 0),\n",
       "                           ('conjunction', 0),\n",
       "                           ('preposition', 0)]))])"
      ]
     },
     "execution_count": 9,
     "metadata": {},
     "output_type": "execute_result"
    }
   ],
   "source": [
    "results = readability.getmeasures(sample, lang='en')\n",
    "results"
   ]
  },
  {
   "cell_type": "code",
   "execution_count": null,
   "metadata": {},
   "outputs": [],
   "source": []
  }
 ],
 "metadata": {
  "kernelspec": {
   "display_name": "Python 3",
   "language": "python",
   "name": "python3"
  },
  "language_info": {
   "codemirror_mode": {
    "name": "ipython",
    "version": 3
   },
   "file_extension": ".py",
   "mimetype": "text/x-python",
   "name": "python",
   "nbconvert_exporter": "python",
   "pygments_lexer": "ipython3",
   "version": "3.7.4"
  }
 },
 "nbformat": 4,
 "nbformat_minor": 2
}
