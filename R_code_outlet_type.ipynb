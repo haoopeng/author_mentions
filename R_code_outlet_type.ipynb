{
 "cells": [
  {
   "cell_type": "code",
   "execution_count": 27,
   "metadata": {},
   "outputs": [],
   "source": [
    "data_root <- \"/shared/0/projects/news-quotes/\""
   ]
  },
  {
   "cell_type": "code",
   "execution_count": 28,
   "metadata": {
    "scrolled": true
   },
   "outputs": [],
   "source": [
    "library(\"lme4\")\n",
    "library(\"margins\")\n",
    "library(\"stargazer\")\n",
    "library(\"ggeffects\")\n",
    "library(\"broom\")"
   ]
  },
  {
   "cell_type": "code",
   "execution_count": 29,
   "metadata": {},
   "outputs": [],
   "source": [
    "mydata <- read.csv(paste(data_root, \"reg_data.csv\", sep = ''), header = TRUE)"
   ]
  },
  {
   "cell_type": "code",
   "execution_count": 58,
   "metadata": {},
   "outputs": [],
   "source": [
    "# mydata <- within(mydata, rm(\"Body_weight\", \"Demographics\", \"Clinical_Practice\"))"
   ]
  },
  {
   "cell_type": "code",
   "execution_count": 30,
   "metadata": {},
   "outputs": [
    {
     "data": {
      "text/html": [
       "524052"
      ],
      "text/latex": [
       "524052"
      ],
      "text/markdown": [
       "524052"
      ],
      "text/plain": [
       "[1] 524052"
      ]
     },
     "metadata": {},
     "output_type": "display_data"
    }
   ],
   "source": [
    "nrow(mydata)"
   ]
  },
  {
   "cell_type": "code",
   "execution_count": 31,
   "metadata": {},
   "outputs": [
    {
     "data": {
      "text/html": [
       "249"
      ],
      "text/latex": [
       "249"
      ],
      "text/markdown": [
       "249"
      ],
      "text/plain": [
       "[1] 249"
      ]
     },
     "metadata": {},
     "output_type": "display_data"
    }
   ],
   "source": [
    "ncol(mydata)"
   ]
  },
  {
   "cell_type": "code",
   "execution_count": 32,
   "metadata": {},
   "outputs": [],
   "source": [
    "# coarsen reporters into 4 groups.\n",
    "mydata$reporter_eth_ethnea_broad <- as.character(mydata$reporter_eth_ethnea_broad)\n",
    "mydata$reporter_eth_ethnea_broad[mydata$reporter_eth_ethnea_broad == 'EasternEuropean'] <- 'European'\n",
    "mydata$reporter_eth_ethnea_broad[mydata$reporter_eth_ethnea_broad == 'WesternNorthernEuropean'] <- 'European'\n",
    "mydata$reporter_eth_ethnea_broad[mydata$reporter_eth_ethnea_broad == 'SouthernEuropean'] <- 'European'\n",
    "mydata$reporter_eth_ethnea_broad[mydata$reporter_eth_ethnea_broad == 'Chinese'] <- 'Asian'\n",
    "mydata$reporter_eth_ethnea_broad[mydata$reporter_eth_ethnea_broad == 'Indian'] <- 'Asian'\n",
    "mydata$reporter_eth_ethnea_broad[mydata$reporter_eth_ethnea_broad == 'EastAsian'] <- 'Asian'\n",
    "mydata$reporter_eth_ethnea_broad[mydata$reporter_eth_ethnea_broad == 'MiddleEastern'] <- 'OtherUnknown'\n",
    "mydata$reporter_eth_ethnea_broad[mydata$reporter_eth_ethnea_broad == 'African'] <- 'OtherUnknown'\n",
    "mydata$reporter_eth_ethnea_broad[mydata$reporter_eth_ethnea_broad == 'unknown'] <- 'OtherUnknown'\n",
    "mydata$reporter_eth_ethnea_broad <- as.factor(mydata$reporter_eth_ethnea_broad)"
   ]
  },
  {
   "cell_type": "code",
   "execution_count": 33,
   "metadata": {},
   "outputs": [],
   "source": [
    "mydata <- within(mydata, author_eth_ethnea_broad <- relevel(author_eth_ethnea_broad, ref = 'English'))\n",
    "mydata <- within(mydata, reporter_eth_ethnea_broad <- relevel(reporter_eth_ethnea_broad, ref = 'English'))\n",
    "mydata <- within(mydata, author_gender_ethnea <- relevel(author_gender_ethnea, ref = 'M'))\n",
    "mydata <- within(mydata, reporter_gender_ethnea <- relevel(reporter_gender_ethnea, ref = 'M'))"
   ]
  },
  {
   "cell_type": "code",
   "execution_count": 34,
   "metadata": {},
   "outputs": [],
   "source": [
    "mydata <- within(mydata, author_pos_cate <- relevel(author_pos_cate, ref = 'last_position'))\n",
    "mydata <- within(mydata, is_top_author <- relevel(is_top_author, ref = 'yes'))\n",
    "mydata <- within(mydata, is_corresponding <- relevel(is_corresponding, ref = 'yes'))\n",
    "mydata <- within(mydata, affiliation_cate <- relevel(affiliation_cate, ref = 'domestic'))"
   ]
  },
  {
   "cell_type": "code",
   "execution_count": 35,
   "metadata": {},
   "outputs": [],
   "source": [
    "base_str <- \"is_author_mentioned ~ 1 + author_eth_ethnea_broad + author_gender_ethnea + reporter_eth_ethnea_broad + reporter_gender_ethnea + \\\n",
    "          last_name_length + last_name_prob + author_pos_cate + author_rank + is_top_author + is_corresponding + \\\n",
    "          affiliation_rank + affiliation_cate + num_authors + mention_year_center + gap_in_years + \\\n",
    "          num_words + num_mentioned_papers + FleschReadingEase + sentences_per_paragraph + type_token_ratio\"\n",
    "\n",
    "# 199 keywords\n",
    "keywords <- \" + Cell_biology + Genetics + Biology + Body_mass_index + Health_care + Disease + Gerontology + Population + Public_health + Medicine + Materials_science + Composite_material + Nanotechnology + Cohort_study + Social_psychology + Cohort + Psychological_intervention + Young_adult + Family_medicine + Cancer + Surgery + Randomized_controlled_trial + Placebo + Clinical_trial + Nursing + Applied_psychology + Human_factors_and_ergonomics + Injury_prevention + Suicide_prevention + Psychiatry + Occupational_safety_and_health + Intensive_care_medicine + Pediatrics + Hazard_ratio + Confidence_interval + Retrospective_cohort_study + Vaccination + Psychology + Perception + Cognition + Environmental_health + Obesity + Risk_factor + Quality_of_life + Physical_therapy + Weight_loss + Anatomy + Mental_health + Psychosocial + Anxiety + Distress + Business + Public_relations + Marketing + Immunology + Global_warming + Economics + Climatology + Climate_change + General_surgery + Endocrinology + Internal_medicine + Receptor + Inflammation + Stimulus__physiology_ + Immune_system + Meta_analysis + Sociology + Gene + Cancer_research + Breast_cancer + Cell + Diabetes_mellitus + Blood_pressure + Oncology + Gynecology + Communication + Cognitive_psychology + Adverse_effect + Clinical_endpoint + Pharmacology + Virology + Risk_assessment + Transcription_factor + Political_science + Ecology + Geography + Cross_sectional_study + Odds_ratio + Comorbidity + Environmental_engineering + Chemistry + Medical_emergency + Physics + Social_science + Ethnic_group + Labour_economics + Antibody + Geomorphology + Geophysics + Geology + Ranging + Stroke + Environmental_resource_management + Type_2_diabetes + Cardiology + Molecular_biology + Developmental_psychology + Agriculture + Signal_transduction + Optoelectronics + Psychotherapist + Affect__psychology_ + Clinical_psychology + Anesthesia + Atmospheric_sciences + In_vivo + Biochemistry + Analytical_chemistry + Neuroscience + Botany + Gene_expression + Politics + Demography + Socioeconomic_status + Mortality_rate + Virus + Optics + Condensed_matter_physics + Bioinformatics + Law + Physical_medicine_and_rehabilitation + Stem_cell + Biodiversity + Astrophysics + Astronomy + Radiology + Pathology + Proportional_hazards_model + Chemotherapy + Predation + Food_science + Artificial_intelligence + Overweight + Antibiotics + Microbiology + Zoology + Paleontology + Habitat + Public_administration + Ecosystem + Economic_growth + Organic_chemistry + Government + Autism + Transplantation + Gastroenterology + Insulin + Engineering + Computer_science + Observational_study + Heart_disease + Epidemiology + Obstetrics + Pregnancy + Fishery + Alternative_medicine + Logistic_regression + Offspring + Mood + Bacteria + Prostate_cancer + Evolutionary_biology + Phenomenon + Longitudinal_study + Genome + Mutation + Pedagogy + Dementia + Relative_risk + Microeconomics + Odds + Feeling + Oceanography + Emergency_medicine + Personality + Prospective_cohort_study + Hippocampus + Greenhouse_gas + Biomarker__medicine_ + Myocardial_infarction + Socioeconomics + Drug + Environmental_science + Epigenetics + Inorganic_chemistry + Emergency_department + Medical_prescription + Phenotype\""
   ]
  },
  {
   "cell_type": "code",
   "execution_count": 36,
   "metadata": {},
   "outputs": [],
   "source": [
    "equation_bar <- as.formula(paste(base_str, keywords, \" + (1|journal_title) + (1|outlet)\", sep = \" \"))"
   ]
  },
  {
   "cell_type": "markdown",
   "metadata": {},
   "source": [
    "### Press Release"
   ]
  },
  {
   "cell_type": "code",
   "execution_count": 37,
   "metadata": {},
   "outputs": [],
   "source": [
    "subdata = mydata[mydata$category == 'PressRelease', ]"
   ]
  },
  {
   "cell_type": "code",
   "execution_count": 38,
   "metadata": {},
   "outputs": [
    {
     "data": {
      "text/html": [
       "165343"
      ],
      "text/latex": [
       "165343"
      ],
      "text/markdown": [
       "165343"
      ],
      "text/plain": [
       "[1] 165343"
      ]
     },
     "metadata": {},
     "output_type": "display_data"
    }
   ],
   "source": [
    "nrow(subdata)"
   ]
  },
  {
   "cell_type": "code",
   "execution_count": 39,
   "metadata": {},
   "outputs": [
    {
     "data": {
      "text/html": [
       "249"
      ],
      "text/latex": [
       "249"
      ],
      "text/markdown": [
       "249"
      ],
      "text/plain": [
       "[1] 249"
      ]
     },
     "metadata": {},
     "output_type": "display_data"
    }
   ],
   "source": [
    "ncol(subdata)"
   ]
  },
  {
   "cell_type": "code",
   "execution_count": 40,
   "metadata": {
    "scrolled": true
   },
   "outputs": [
    {
     "name": "stderr",
     "output_type": "stream",
     "text": [
      "Warning message:\n",
      "“Some predictor variables are on very different scales: consider rescaling”"
     ]
    }
   ],
   "source": [
    "m_pr <- glmer(formula = equation_bar, data = subdata, family = \"binomial\", control = glmerControl(optimizer = \"nloptwrap\"), nAGQ = 0)"
   ]
  },
  {
   "cell_type": "code",
   "execution_count": 41,
   "metadata": {
    "scrolled": true
   },
   "outputs": [
    {
     "data": {
      "text/html": [
       "<table>\n",
       "<thead><tr><th scope=col>term</th><th scope=col>estimate</th><th scope=col>std.error</th><th scope=col>statistic</th><th scope=col>p.value</th><th scope=col>group</th></tr></thead>\n",
       "<tbody>\n",
       "\t<tr><td>(Intercept)                                   </td><td> 2.328820e+00                                 </td><td>2.004092e-01                                  </td><td>  11.6203253                                  </td><td> 3.248967e-31                                 </td><td>fixed                                         </td></tr>\n",
       "\t<tr><td>author_eth_ethnea_broadAfrican                </td><td>-2.047917e-01                                 </td><td>8.609104e-02                                  </td><td>  -2.3787808                                  </td><td> 1.737000e-02                                 </td><td>fixed                                         </td></tr>\n",
       "\t<tr><td>author_eth_ethnea_broadChinese                </td><td>-2.963318e-01                                 </td><td>2.533346e-02                                  </td><td> -11.6972476                                  </td><td> 1.316547e-31                                 </td><td>fixed                                         </td></tr>\n",
       "\t<tr><td>author_eth_ethnea_broadEastAsian              </td><td>-2.495585e-01                                 </td><td>3.031060e-02                                  </td><td>  -8.2333745                                  </td><td> 1.820120e-16                                 </td><td>fixed                                         </td></tr>\n",
       "\t<tr><td>author_eth_ethnea_broadEasternEuropean        </td><td>-6.614502e-02                                 </td><td>3.441791e-02                                  </td><td>  -1.9218194                                  </td><td> 5.462849e-02                                 </td><td>fixed                                         </td></tr>\n",
       "\t<tr><td>author_eth_ethnea_broadIndian                 </td><td> 5.544404e-02                                 </td><td>3.146798e-02                                  </td><td>   1.7619190                                  </td><td> 7.808298e-02                                 </td><td>fixed                                         </td></tr>\n",
       "\t<tr><td>author_eth_ethnea_broadMiddleEastern          </td><td> 1.494418e-02                                 </td><td>2.967976e-02                                  </td><td>   0.5035144                                  </td><td> 6.146027e-01                                 </td><td>fixed                                         </td></tr>\n",
       "\t<tr><td>author_eth_ethnea_broadSouthernEuropean       </td><td>-1.424230e-01                                 </td><td>2.244180e-02                                  </td><td>  -6.3463248                                  </td><td> 2.205195e-10                                 </td><td>fixed                                         </td></tr>\n",
       "\t<tr><td>author_eth_ethnea_broadunknown                </td><td>-4.797335e-01                                 </td><td>8.792778e-02                                  </td><td>  -5.4559947                                  </td><td> 4.869944e-08                                 </td><td>fixed                                         </td></tr>\n",
       "\t<tr><td>author_eth_ethnea_broadWesternNorthernEuropean</td><td>-3.565291e-02                                 </td><td>1.809565e-02                                  </td><td>  -1.9702479                                  </td><td> 4.880996e-02                                 </td><td>fixed                                         </td></tr>\n",
       "\t<tr><td>author_gender_ethneaF                         </td><td> 3.568623e-02                                 </td><td>1.545918e-02                                  </td><td>   2.3084160                                  </td><td> 2.097601e-02                                 </td><td>fixed                                         </td></tr>\n",
       "\t<tr><td>author_gender_ethneaunknown                   </td><td>-1.612592e-01                                 </td><td>1.860537e-02                                  </td><td>  -8.6673479                                  </td><td> 4.423021e-18                                 </td><td>fixed                                         </td></tr>\n",
       "\t<tr><td>reporter_eth_ethnea_broadAsian                </td><td> 3.931706e-02                                 </td><td>1.400799e-01                                  </td><td>   0.2806760                                  </td><td> 7.789589e-01                                 </td><td>fixed                                         </td></tr>\n",
       "\t<tr><td>reporter_eth_ethnea_broadEuropean             </td><td> 1.053815e-02                                 </td><td>5.998285e-02                                  </td><td>   0.1756860                                  </td><td> 8.605406e-01                                 </td><td>fixed                                         </td></tr>\n",
       "\t<tr><td>reporter_eth_ethnea_broadOtherUnknown         </td><td> 9.963764e-02                                 </td><td>8.477262e-02                                  </td><td>   1.1753517                                  </td><td> 2.398540e-01                                 </td><td>fixed                                         </td></tr>\n",
       "\t<tr><td>reporter_gender_ethneaF                       </td><td> 5.097762e-02                                 </td><td>5.299312e-02                                  </td><td>   0.9619667                                  </td><td> 3.360663e-01                                 </td><td>fixed                                         </td></tr>\n",
       "\t<tr><td>reporter_gender_ethneaunknown                 </td><td> 1.127624e-01                                 </td><td>7.854926e-02                                  </td><td>   1.4355630                                  </td><td> 1.511267e-01                                 </td><td>fixed                                         </td></tr>\n",
       "\t<tr><td>last_name_length                              </td><td>-1.462915e-02                                 </td><td>2.845730e-03                                  </td><td>  -5.1407367                                  </td><td> 2.736633e-07                                 </td><td>fixed                                         </td></tr>\n",
       "\t<tr><td>last_name_prob                                </td><td>-1.021734e-03                                 </td><td>3.152393e-03                                  </td><td>  -0.3241136                                  </td><td> 7.458520e-01                                 </td><td>fixed                                         </td></tr>\n",
       "\t<tr><td>author_pos_catefirst_position                 </td><td> 4.219374e-01                                 </td><td>1.506572e-02                                  </td><td>  28.0064472                                  </td><td>1.356077e-172                                 </td><td>fixed                                         </td></tr>\n",
       "\t<tr><td>author_pos_catemiddle_position                </td><td>-1.010232e+00                                 </td><td>2.509732e-02                                  </td><td> -40.2525775                                  </td><td> 0.000000e+00                                 </td><td>fixed                                         </td></tr>\n",
       "\t<tr><td>author_pos_catesolo_author                    </td><td> 5.674019e-01                                 </td><td>7.200259e-02                                  </td><td>   7.8802988                                  </td><td> 3.265991e-15                                 </td><td>fixed                                         </td></tr>\n",
       "\t<tr><td>author_rank                                   </td><td>-8.691367e-05                                 </td><td>3.832469e-06                                  </td><td> -22.6782433                                  </td><td>7.346383e-114                                 </td><td>fixed                                         </td></tr>\n",
       "\t<tr><td>is_top_authorno                               </td><td> 3.228650e-02                                 </td><td>6.849364e-02                                  </td><td>   0.4713795                                  </td><td> 6.373698e-01                                 </td><td>fixed                                         </td></tr>\n",
       "\t<tr><td>is_correspondingno                            </td><td>-1.659721e+00                                 </td><td>1.403463e-02                                  </td><td>-118.2589509                                  </td><td> 0.000000e+00                                 </td><td>fixed                                         </td></tr>\n",
       "\t<tr><td>is_correspondingunknown                       </td><td>-7.991078e-01                                 </td><td>3.097417e-02                                  </td><td> -25.7991659                                  </td><td>9.060258e-147                                 </td><td>fixed                                         </td></tr>\n",
       "\t<tr><td>affiliation_rank                              </td><td>-3.877554e-05                                 </td><td>4.296821e-06                                  </td><td>  -9.0242407                                  </td><td> 1.809458e-19                                 </td><td>fixed                                         </td></tr>\n",
       "\t<tr><td>affiliation_cateinternational                 </td><td>-3.694259e-01                                 </td><td>1.427354e-02                                  </td><td> -25.8818674                                  </td><td>1.065727e-147                                 </td><td>fixed                                         </td></tr>\n",
       "\t<tr><td>affiliation_cateunknown                       </td><td>-2.401250e-01                                 </td><td>1.769025e-01                                  </td><td>  -1.3573866                                  </td><td> 1.746584e-01                                 </td><td>fixed                                         </td></tr>\n",
       "\t<tr><td>num_authors                                   </td><td>-1.258186e-02                                 </td><td>5.276636e-04                                  </td><td> -23.8444719                                  </td><td>1.155603e-125                                 </td><td>fixed                                         </td></tr>\n",
       "\t<tr><td>...</td><td>...</td><td>...</td><td>...</td><td>...</td><td>...</td></tr>\n",
       "\t<tr><td>Prostate_cancer             </td><td>-0.23045074                 </td><td>0.1596011                   </td><td>-1.4439166                  </td><td>1.487624e-01                </td><td>fixed                       </td></tr>\n",
       "\t<tr><td>Evolutionary_biology        </td><td> 0.13207405                 </td><td>0.1603391                   </td><td> 0.8237171                  </td><td>4.101003e-01                </td><td>fixed                       </td></tr>\n",
       "\t<tr><td>Phenomenon                  </td><td>-0.11967223                 </td><td>0.1696690                   </td><td>-0.7053277                  </td><td>4.806064e-01                </td><td>fixed                       </td></tr>\n",
       "\t<tr><td>Longitudinal_study          </td><td> 0.04265367                 </td><td>0.1668257                   </td><td> 0.2556781                  </td><td>7.981994e-01                </td><td>fixed                       </td></tr>\n",
       "\t<tr><td>Genome                      </td><td> 0.06572924                 </td><td>0.1089713                   </td><td> 0.6031796                  </td><td>5.463892e-01                </td><td>fixed                       </td></tr>\n",
       "\t<tr><td>Mutation                    </td><td> 0.03355751                 </td><td>0.1182983                   </td><td> 0.2836686                  </td><td>7.766643e-01                </td><td>fixed                       </td></tr>\n",
       "\t<tr><td>Pedagogy                    </td><td> 0.48511941                 </td><td>0.3165601                   </td><td> 1.5324719                  </td><td>1.254060e-01                </td><td>fixed                       </td></tr>\n",
       "\t<tr><td>Dementia                    </td><td>-0.22197529                 </td><td>0.1679979                   </td><td>-1.3212983                  </td><td>1.864019e-01                </td><td>fixed                       </td></tr>\n",
       "\t<tr><td>Relative_risk               </td><td>-0.19439787                 </td><td>0.1480268                   </td><td>-1.3132613                  </td><td>1.890949e-01                </td><td>fixed                       </td></tr>\n",
       "\t<tr><td>Microeconomics              </td><td> 0.74386223                 </td><td>0.3832048                   </td><td> 1.9411609                  </td><td>5.223876e-02                </td><td>fixed                       </td></tr>\n",
       "\t<tr><td>Odds                        </td><td>-0.31388952                 </td><td>0.1896152                   </td><td>-1.6554030                  </td><td>9.784278e-02                </td><td>fixed                       </td></tr>\n",
       "\t<tr><td>Feeling                     </td><td> 0.46681669                 </td><td>0.2612584                   </td><td> 1.7868008                  </td><td>7.396969e-02                </td><td>fixed                       </td></tr>\n",
       "\t<tr><td>Oceanography                </td><td>-0.27464843                 </td><td>0.1902626                   </td><td>-1.4435232                  </td><td>1.488732e-01                </td><td>fixed                       </td></tr>\n",
       "\t<tr><td>Emergency_medicine          </td><td> 0.11065600                 </td><td>0.1665128                   </td><td> 0.6645494                  </td><td>5.063387e-01                </td><td>fixed                       </td></tr>\n",
       "\t<tr><td>Personality                 </td><td>-0.33661596                 </td><td>0.2320492                   </td><td>-1.4506235                  </td><td>1.468847e-01                </td><td>fixed                       </td></tr>\n",
       "\t<tr><td>Prospective_cohort_study    </td><td>-0.24586753                 </td><td>0.1096438                   </td><td>-2.2424207                  </td><td>2.493420e-02                </td><td>fixed                       </td></tr>\n",
       "\t<tr><td>Hippocampus                 </td><td> 0.37609695                 </td><td>0.1773594                   </td><td> 2.1205355                  </td><td>3.396091e-02                </td><td>fixed                       </td></tr>\n",
       "\t<tr><td>Greenhouse_gas              </td><td> 0.06773960                 </td><td>0.1702288                   </td><td> 0.3979327                  </td><td>6.906798e-01                </td><td>fixed                       </td></tr>\n",
       "\t<tr><td>Biomarker__medicine_        </td><td> 0.21566721                 </td><td>0.1508992                   </td><td> 1.4292136                  </td><td>1.529429e-01                </td><td>fixed                       </td></tr>\n",
       "\t<tr><td>Myocardial_infarction       </td><td> 0.19022364                 </td><td>0.1618999                   </td><td> 1.1749459                  </td><td>2.400163e-01                </td><td>fixed                       </td></tr>\n",
       "\t<tr><td>Socioeconomics              </td><td> 0.50707195                 </td><td>0.2888604                   </td><td> 1.7554225                  </td><td>7.918707e-02                </td><td>fixed                       </td></tr>\n",
       "\t<tr><td>Drug                        </td><td> 0.07010389                 </td><td>0.1846678                   </td><td> 0.3796215                  </td><td>7.042264e-01                </td><td>fixed                       </td></tr>\n",
       "\t<tr><td>Environmental_science       </td><td>-0.93464292                 </td><td>0.1929397                   </td><td>-4.8442224                  </td><td>1.271085e-06                </td><td>fixed                       </td></tr>\n",
       "\t<tr><td>Epigenetics                 </td><td>-0.18254228                 </td><td>0.1428350                   </td><td>-1.2779939                  </td><td>2.012516e-01                </td><td>fixed                       </td></tr>\n",
       "\t<tr><td>Inorganic_chemistry         </td><td>-0.16603230                 </td><td>0.1186484                   </td><td>-1.3993637                  </td><td>1.617039e-01                </td><td>fixed                       </td></tr>\n",
       "\t<tr><td>Emergency_department        </td><td>-0.04699484                 </td><td>0.1622721                   </td><td>-0.2896052                  </td><td>7.721183e-01                </td><td>fixed                       </td></tr>\n",
       "\t<tr><td>Medical_prescription        </td><td> 0.33658070                 </td><td>0.1749372                   </td><td> 1.9240086                  </td><td>5.435350e-02                </td><td>fixed                       </td></tr>\n",
       "\t<tr><td>Phenotype                   </td><td> 0.18369136                 </td><td>0.1413342                   </td><td> 1.2996954                  </td><td>1.937054e-01                </td><td>fixed                       </td></tr>\n",
       "\t<tr><td>sd_(Intercept).journal_title</td><td> 0.69033525                 </td><td>       NA                   </td><td>        NA                  </td><td>          NA                </td><td>journal_title               </td></tr>\n",
       "\t<tr><td>sd_(Intercept).outlet       </td><td> 0.63349908                 </td><td>       NA                   </td><td>        NA                  </td><td>          NA                </td><td>outlet                      </td></tr>\n",
       "</tbody>\n",
       "</table>\n"
      ],
      "text/latex": [
       "\\begin{tabular}{r|llllll}\n",
       " term & estimate & std.error & statistic & p.value & group\\\\\n",
       "\\hline\n",
       "\t (Intercept)                                    &  2.328820e+00                                  & 2.004092e-01                                   &   11.6203253                                   &  3.248967e-31                                  & fixed                                         \\\\\n",
       "\t author\\_eth\\_ethnea\\_broadAfrican                 & -2.047917e-01                                        & 8.609104e-02                                         &   -2.3787808                                         &  1.737000e-02                                        & fixed                                               \\\\\n",
       "\t author\\_eth\\_ethnea\\_broadChinese                 & -2.963318e-01                                        & 2.533346e-02                                         &  -11.6972476                                         &  1.316547e-31                                        & fixed                                               \\\\\n",
       "\t author\\_eth\\_ethnea\\_broadEastAsian               & -2.495585e-01                                        & 3.031060e-02                                         &   -8.2333745                                         &  1.820120e-16                                        & fixed                                               \\\\\n",
       "\t author\\_eth\\_ethnea\\_broadEasternEuropean         & -6.614502e-02                                        & 3.441791e-02                                         &   -1.9218194                                         &  5.462849e-02                                        & fixed                                               \\\\\n",
       "\t author\\_eth\\_ethnea\\_broadIndian                  &  5.544404e-02                                        & 3.146798e-02                                         &    1.7619190                                         &  7.808298e-02                                        & fixed                                               \\\\\n",
       "\t author\\_eth\\_ethnea\\_broadMiddleEastern           &  1.494418e-02                                        & 2.967976e-02                                         &    0.5035144                                         &  6.146027e-01                                        & fixed                                               \\\\\n",
       "\t author\\_eth\\_ethnea\\_broadSouthernEuropean        & -1.424230e-01                                        & 2.244180e-02                                         &   -6.3463248                                         &  2.205195e-10                                        & fixed                                               \\\\\n",
       "\t author\\_eth\\_ethnea\\_broadunknown                 & -4.797335e-01                                        & 8.792778e-02                                         &   -5.4559947                                         &  4.869944e-08                                        & fixed                                               \\\\\n",
       "\t author\\_eth\\_ethnea\\_broadWesternNorthernEuropean & -3.565291e-02                                        & 1.809565e-02                                         &   -1.9702479                                         &  4.880996e-02                                        & fixed                                               \\\\\n",
       "\t author\\_gender\\_ethneaF                          &  3.568623e-02                                      & 1.545918e-02                                       &    2.3084160                                       &  2.097601e-02                                      & fixed                                             \\\\\n",
       "\t author\\_gender\\_ethneaunknown                    & -1.612592e-01                                      & 1.860537e-02                                       &   -8.6673479                                       &  4.423021e-18                                      & fixed                                             \\\\\n",
       "\t reporter\\_eth\\_ethnea\\_broadAsian                 &  3.931706e-02                                        & 1.400799e-01                                         &    0.2806760                                         &  7.789589e-01                                        & fixed                                               \\\\\n",
       "\t reporter\\_eth\\_ethnea\\_broadEuropean              &  1.053815e-02                                        & 5.998285e-02                                         &    0.1756860                                         &  8.605406e-01                                        & fixed                                               \\\\\n",
       "\t reporter\\_eth\\_ethnea\\_broadOtherUnknown          &  9.963764e-02                                        & 8.477262e-02                                         &    1.1753517                                         &  2.398540e-01                                        & fixed                                               \\\\\n",
       "\t reporter\\_gender\\_ethneaF                        &  5.097762e-02                                      & 5.299312e-02                                       &    0.9619667                                       &  3.360663e-01                                      & fixed                                             \\\\\n",
       "\t reporter\\_gender\\_ethneaunknown                  &  1.127624e-01                                      & 7.854926e-02                                       &    1.4355630                                       &  1.511267e-01                                      & fixed                                             \\\\\n",
       "\t last\\_name\\_length                               & -1.462915e-02                                      & 2.845730e-03                                       &   -5.1407367                                       &  2.736633e-07                                      & fixed                                             \\\\\n",
       "\t last\\_name\\_prob                                 & -1.021734e-03                                      & 3.152393e-03                                       &   -0.3241136                                       &  7.458520e-01                                      & fixed                                             \\\\\n",
       "\t author\\_pos\\_catefirst\\_position                  &  4.219374e-01                                        & 1.506572e-02                                         &   28.0064472                                         & 1.356077e-172                                        & fixed                                               \\\\\n",
       "\t author\\_pos\\_catemiddle\\_position                 & -1.010232e+00                                        & 2.509732e-02                                         &  -40.2525775                                         &  0.000000e+00                                        & fixed                                               \\\\\n",
       "\t author\\_pos\\_catesolo\\_author                     &  5.674019e-01                                        & 7.200259e-02                                         &    7.8802988                                         &  3.265991e-15                                        & fixed                                               \\\\\n",
       "\t author\\_rank                                    & -8.691367e-05                                    & 3.832469e-06                                     &  -22.6782433                                     & 7.346383e-114                                    & fixed                                           \\\\\n",
       "\t is\\_top\\_authorno                                &  3.228650e-02                                      & 6.849364e-02                                       &    0.4713795                                       &  6.373698e-01                                      & fixed                                             \\\\\n",
       "\t is\\_correspondingno                             & -1.659721e+00                                    & 1.403463e-02                                     & -118.2589509                                     &  0.000000e+00                                    & fixed                                           \\\\\n",
       "\t is\\_correspondingunknown                        & -7.991078e-01                                    & 3.097417e-02                                     &  -25.7991659                                     & 9.060258e-147                                    & fixed                                           \\\\\n",
       "\t affiliation\\_rank                               & -3.877554e-05                                    & 4.296821e-06                                     &   -9.0242407                                     &  1.809458e-19                                    & fixed                                           \\\\\n",
       "\t affiliation\\_cateinternational                  & -3.694259e-01                                    & 1.427354e-02                                     &  -25.8818674                                     & 1.065727e-147                                    & fixed                                           \\\\\n",
       "\t affiliation\\_cateunknown                        & -2.401250e-01                                    & 1.769025e-01                                     &   -1.3573866                                     &  1.746584e-01                                    & fixed                                           \\\\\n",
       "\t num\\_authors                                    & -1.258186e-02                                    & 5.276636e-04                                     &  -23.8444719                                     & 1.155603e-125                                    & fixed                                           \\\\\n",
       "\t ... & ... & ... & ... & ... & ...\\\\\n",
       "\t Prostate\\_cancer              & -0.23045074                    & 0.1596011                      & -1.4439166                     & 1.487624e-01                   & fixed                         \\\\\n",
       "\t Evolutionary\\_biology         &  0.13207405                    & 0.1603391                      &  0.8237171                     & 4.101003e-01                   & fixed                         \\\\\n",
       "\t Phenomenon                   & -0.11967223                  & 0.1696690                    & -0.7053277                   & 4.806064e-01                 & fixed                       \\\\\n",
       "\t Longitudinal\\_study           &  0.04265367                    & 0.1668257                      &  0.2556781                     & 7.981994e-01                   & fixed                         \\\\\n",
       "\t Genome                       &  0.06572924                  & 0.1089713                    &  0.6031796                   & 5.463892e-01                 & fixed                       \\\\\n",
       "\t Mutation                     &  0.03355751                  & 0.1182983                    &  0.2836686                   & 7.766643e-01                 & fixed                       \\\\\n",
       "\t Pedagogy                     &  0.48511941                  & 0.3165601                    &  1.5324719                   & 1.254060e-01                 & fixed                       \\\\\n",
       "\t Dementia                     & -0.22197529                  & 0.1679979                    & -1.3212983                   & 1.864019e-01                 & fixed                       \\\\\n",
       "\t Relative\\_risk                & -0.19439787                    & 0.1480268                      & -1.3132613                     & 1.890949e-01                   & fixed                         \\\\\n",
       "\t Microeconomics               &  0.74386223                  & 0.3832048                    &  1.9411609                   & 5.223876e-02                 & fixed                       \\\\\n",
       "\t Odds                         & -0.31388952                  & 0.1896152                    & -1.6554030                   & 9.784278e-02                 & fixed                       \\\\\n",
       "\t Feeling                      &  0.46681669                  & 0.2612584                    &  1.7868008                   & 7.396969e-02                 & fixed                       \\\\\n",
       "\t Oceanography                 & -0.27464843                  & 0.1902626                    & -1.4435232                   & 1.488732e-01                 & fixed                       \\\\\n",
       "\t Emergency\\_medicine           &  0.11065600                    & 0.1665128                      &  0.6645494                     & 5.063387e-01                   & fixed                         \\\\\n",
       "\t Personality                  & -0.33661596                  & 0.2320492                    & -1.4506235                   & 1.468847e-01                 & fixed                       \\\\\n",
       "\t Prospective\\_cohort\\_study     & -0.24586753                      & 0.1096438                        & -2.2424207                       & 2.493420e-02                     & fixed                           \\\\\n",
       "\t Hippocampus                  &  0.37609695                  & 0.1773594                    &  2.1205355                   & 3.396091e-02                 & fixed                       \\\\\n",
       "\t Greenhouse\\_gas               &  0.06773960                    & 0.1702288                      &  0.3979327                     & 6.906798e-01                   & fixed                         \\\\\n",
       "\t Biomarker\\_\\_medicine\\_         &  0.21566721                        & 0.1508992                          &  1.4292136                         & 1.529429e-01                       & fixed                             \\\\\n",
       "\t Myocardial\\_infarction        &  0.19022364                    & 0.1618999                      &  1.1749459                     & 2.400163e-01                   & fixed                         \\\\\n",
       "\t Socioeconomics               &  0.50707195                  & 0.2888604                    &  1.7554225                   & 7.918707e-02                 & fixed                       \\\\\n",
       "\t Drug                         &  0.07010389                  & 0.1846678                    &  0.3796215                   & 7.042264e-01                 & fixed                       \\\\\n",
       "\t Environmental\\_science        & -0.93464292                    & 0.1929397                      & -4.8442224                     & 1.271085e-06                   & fixed                         \\\\\n",
       "\t Epigenetics                  & -0.18254228                  & 0.1428350                    & -1.2779939                   & 2.012516e-01                 & fixed                       \\\\\n",
       "\t Inorganic\\_chemistry          & -0.16603230                    & 0.1186484                      & -1.3993637                     & 1.617039e-01                   & fixed                         \\\\\n",
       "\t Emergency\\_department         & -0.04699484                    & 0.1622721                      & -0.2896052                     & 7.721183e-01                   & fixed                         \\\\\n",
       "\t Medical\\_prescription         &  0.33658070                    & 0.1749372                      &  1.9240086                     & 5.435350e-02                   & fixed                         \\\\\n",
       "\t Phenotype                    &  0.18369136                  & 0.1413342                    &  1.2996954                   & 1.937054e-01                 & fixed                       \\\\\n",
       "\t sd\\_(Intercept).journal\\_title &  0.69033525                      &        NA                        &         NA                       &           NA                     & journal\\_title                 \\\\\n",
       "\t sd\\_(Intercept).outlet        &  0.63349908                    &        NA                      &         NA                     &           NA                   & outlet                        \\\\\n",
       "\\end{tabular}\n"
      ],
      "text/markdown": [
       "\n",
       "| term | estimate | std.error | statistic | p.value | group |\n",
       "|---|---|---|---|---|---|\n",
       "| (Intercept)                                    |  2.328820e+00                                  | 2.004092e-01                                   |   11.6203253                                   |  3.248967e-31                                  | fixed                                          |\n",
       "| author_eth_ethnea_broadAfrican                 | -2.047917e-01                                  | 8.609104e-02                                   |   -2.3787808                                   |  1.737000e-02                                  | fixed                                          |\n",
       "| author_eth_ethnea_broadChinese                 | -2.963318e-01                                  | 2.533346e-02                                   |  -11.6972476                                   |  1.316547e-31                                  | fixed                                          |\n",
       "| author_eth_ethnea_broadEastAsian               | -2.495585e-01                                  | 3.031060e-02                                   |   -8.2333745                                   |  1.820120e-16                                  | fixed                                          |\n",
       "| author_eth_ethnea_broadEasternEuropean         | -6.614502e-02                                  | 3.441791e-02                                   |   -1.9218194                                   |  5.462849e-02                                  | fixed                                          |\n",
       "| author_eth_ethnea_broadIndian                  |  5.544404e-02                                  | 3.146798e-02                                   |    1.7619190                                   |  7.808298e-02                                  | fixed                                          |\n",
       "| author_eth_ethnea_broadMiddleEastern           |  1.494418e-02                                  | 2.967976e-02                                   |    0.5035144                                   |  6.146027e-01                                  | fixed                                          |\n",
       "| author_eth_ethnea_broadSouthernEuropean        | -1.424230e-01                                  | 2.244180e-02                                   |   -6.3463248                                   |  2.205195e-10                                  | fixed                                          |\n",
       "| author_eth_ethnea_broadunknown                 | -4.797335e-01                                  | 8.792778e-02                                   |   -5.4559947                                   |  4.869944e-08                                  | fixed                                          |\n",
       "| author_eth_ethnea_broadWesternNorthernEuropean | -3.565291e-02                                  | 1.809565e-02                                   |   -1.9702479                                   |  4.880996e-02                                  | fixed                                          |\n",
       "| author_gender_ethneaF                          |  3.568623e-02                                  | 1.545918e-02                                   |    2.3084160                                   |  2.097601e-02                                  | fixed                                          |\n",
       "| author_gender_ethneaunknown                    | -1.612592e-01                                  | 1.860537e-02                                   |   -8.6673479                                   |  4.423021e-18                                  | fixed                                          |\n",
       "| reporter_eth_ethnea_broadAsian                 |  3.931706e-02                                  | 1.400799e-01                                   |    0.2806760                                   |  7.789589e-01                                  | fixed                                          |\n",
       "| reporter_eth_ethnea_broadEuropean              |  1.053815e-02                                  | 5.998285e-02                                   |    0.1756860                                   |  8.605406e-01                                  | fixed                                          |\n",
       "| reporter_eth_ethnea_broadOtherUnknown          |  9.963764e-02                                  | 8.477262e-02                                   |    1.1753517                                   |  2.398540e-01                                  | fixed                                          |\n",
       "| reporter_gender_ethneaF                        |  5.097762e-02                                  | 5.299312e-02                                   |    0.9619667                                   |  3.360663e-01                                  | fixed                                          |\n",
       "| reporter_gender_ethneaunknown                  |  1.127624e-01                                  | 7.854926e-02                                   |    1.4355630                                   |  1.511267e-01                                  | fixed                                          |\n",
       "| last_name_length                               | -1.462915e-02                                  | 2.845730e-03                                   |   -5.1407367                                   |  2.736633e-07                                  | fixed                                          |\n",
       "| last_name_prob                                 | -1.021734e-03                                  | 3.152393e-03                                   |   -0.3241136                                   |  7.458520e-01                                  | fixed                                          |\n",
       "| author_pos_catefirst_position                  |  4.219374e-01                                  | 1.506572e-02                                   |   28.0064472                                   | 1.356077e-172                                  | fixed                                          |\n",
       "| author_pos_catemiddle_position                 | -1.010232e+00                                  | 2.509732e-02                                   |  -40.2525775                                   |  0.000000e+00                                  | fixed                                          |\n",
       "| author_pos_catesolo_author                     |  5.674019e-01                                  | 7.200259e-02                                   |    7.8802988                                   |  3.265991e-15                                  | fixed                                          |\n",
       "| author_rank                                    | -8.691367e-05                                  | 3.832469e-06                                   |  -22.6782433                                   | 7.346383e-114                                  | fixed                                          |\n",
       "| is_top_authorno                                |  3.228650e-02                                  | 6.849364e-02                                   |    0.4713795                                   |  6.373698e-01                                  | fixed                                          |\n",
       "| is_correspondingno                             | -1.659721e+00                                  | 1.403463e-02                                   | -118.2589509                                   |  0.000000e+00                                  | fixed                                          |\n",
       "| is_correspondingunknown                        | -7.991078e-01                                  | 3.097417e-02                                   |  -25.7991659                                   | 9.060258e-147                                  | fixed                                          |\n",
       "| affiliation_rank                               | -3.877554e-05                                  | 4.296821e-06                                   |   -9.0242407                                   |  1.809458e-19                                  | fixed                                          |\n",
       "| affiliation_cateinternational                  | -3.694259e-01                                  | 1.427354e-02                                   |  -25.8818674                                   | 1.065727e-147                                  | fixed                                          |\n",
       "| affiliation_cateunknown                        | -2.401250e-01                                  | 1.769025e-01                                   |   -1.3573866                                   |  1.746584e-01                                  | fixed                                          |\n",
       "| num_authors                                    | -1.258186e-02                                  | 5.276636e-04                                   |  -23.8444719                                   | 1.155603e-125                                  | fixed                                          |\n",
       "| ... | ... | ... | ... | ... | ... |\n",
       "| Prostate_cancer              | -0.23045074                  | 0.1596011                    | -1.4439166                   | 1.487624e-01                 | fixed                        |\n",
       "| Evolutionary_biology         |  0.13207405                  | 0.1603391                    |  0.8237171                   | 4.101003e-01                 | fixed                        |\n",
       "| Phenomenon                   | -0.11967223                  | 0.1696690                    | -0.7053277                   | 4.806064e-01                 | fixed                        |\n",
       "| Longitudinal_study           |  0.04265367                  | 0.1668257                    |  0.2556781                   | 7.981994e-01                 | fixed                        |\n",
       "| Genome                       |  0.06572924                  | 0.1089713                    |  0.6031796                   | 5.463892e-01                 | fixed                        |\n",
       "| Mutation                     |  0.03355751                  | 0.1182983                    |  0.2836686                   | 7.766643e-01                 | fixed                        |\n",
       "| Pedagogy                     |  0.48511941                  | 0.3165601                    |  1.5324719                   | 1.254060e-01                 | fixed                        |\n",
       "| Dementia                     | -0.22197529                  | 0.1679979                    | -1.3212983                   | 1.864019e-01                 | fixed                        |\n",
       "| Relative_risk                | -0.19439787                  | 0.1480268                    | -1.3132613                   | 1.890949e-01                 | fixed                        |\n",
       "| Microeconomics               |  0.74386223                  | 0.3832048                    |  1.9411609                   | 5.223876e-02                 | fixed                        |\n",
       "| Odds                         | -0.31388952                  | 0.1896152                    | -1.6554030                   | 9.784278e-02                 | fixed                        |\n",
       "| Feeling                      |  0.46681669                  | 0.2612584                    |  1.7868008                   | 7.396969e-02                 | fixed                        |\n",
       "| Oceanography                 | -0.27464843                  | 0.1902626                    | -1.4435232                   | 1.488732e-01                 | fixed                        |\n",
       "| Emergency_medicine           |  0.11065600                  | 0.1665128                    |  0.6645494                   | 5.063387e-01                 | fixed                        |\n",
       "| Personality                  | -0.33661596                  | 0.2320492                    | -1.4506235                   | 1.468847e-01                 | fixed                        |\n",
       "| Prospective_cohort_study     | -0.24586753                  | 0.1096438                    | -2.2424207                   | 2.493420e-02                 | fixed                        |\n",
       "| Hippocampus                  |  0.37609695                  | 0.1773594                    |  2.1205355                   | 3.396091e-02                 | fixed                        |\n",
       "| Greenhouse_gas               |  0.06773960                  | 0.1702288                    |  0.3979327                   | 6.906798e-01                 | fixed                        |\n",
       "| Biomarker__medicine_         |  0.21566721                  | 0.1508992                    |  1.4292136                   | 1.529429e-01                 | fixed                        |\n",
       "| Myocardial_infarction        |  0.19022364                  | 0.1618999                    |  1.1749459                   | 2.400163e-01                 | fixed                        |\n",
       "| Socioeconomics               |  0.50707195                  | 0.2888604                    |  1.7554225                   | 7.918707e-02                 | fixed                        |\n",
       "| Drug                         |  0.07010389                  | 0.1846678                    |  0.3796215                   | 7.042264e-01                 | fixed                        |\n",
       "| Environmental_science        | -0.93464292                  | 0.1929397                    | -4.8442224                   | 1.271085e-06                 | fixed                        |\n",
       "| Epigenetics                  | -0.18254228                  | 0.1428350                    | -1.2779939                   | 2.012516e-01                 | fixed                        |\n",
       "| Inorganic_chemistry          | -0.16603230                  | 0.1186484                    | -1.3993637                   | 1.617039e-01                 | fixed                        |\n",
       "| Emergency_department         | -0.04699484                  | 0.1622721                    | -0.2896052                   | 7.721183e-01                 | fixed                        |\n",
       "| Medical_prescription         |  0.33658070                  | 0.1749372                    |  1.9240086                   | 5.435350e-02                 | fixed                        |\n",
       "| Phenotype                    |  0.18369136                  | 0.1413342                    |  1.2996954                   | 1.937054e-01                 | fixed                        |\n",
       "| sd_(Intercept).journal_title |  0.69033525                  |        NA                    |         NA                   |           NA                 | journal_title                |\n",
       "| sd_(Intercept).outlet        |  0.63349908                  |        NA                    |         NA                   |           NA                 | outlet                       |\n",
       "\n"
      ],
      "text/plain": [
       "    term                                           estimate      std.error   \n",
       "1   (Intercept)                                     2.328820e+00 2.004092e-01\n",
       "2   author_eth_ethnea_broadAfrican                 -2.047917e-01 8.609104e-02\n",
       "3   author_eth_ethnea_broadChinese                 -2.963318e-01 2.533346e-02\n",
       "4   author_eth_ethnea_broadEastAsian               -2.495585e-01 3.031060e-02\n",
       "5   author_eth_ethnea_broadEasternEuropean         -6.614502e-02 3.441791e-02\n",
       "6   author_eth_ethnea_broadIndian                   5.544404e-02 3.146798e-02\n",
       "7   author_eth_ethnea_broadMiddleEastern            1.494418e-02 2.967976e-02\n",
       "8   author_eth_ethnea_broadSouthernEuropean        -1.424230e-01 2.244180e-02\n",
       "9   author_eth_ethnea_broadunknown                 -4.797335e-01 8.792778e-02\n",
       "10  author_eth_ethnea_broadWesternNorthernEuropean -3.565291e-02 1.809565e-02\n",
       "11  author_gender_ethneaF                           3.568623e-02 1.545918e-02\n",
       "12  author_gender_ethneaunknown                    -1.612592e-01 1.860537e-02\n",
       "13  reporter_eth_ethnea_broadAsian                  3.931706e-02 1.400799e-01\n",
       "14  reporter_eth_ethnea_broadEuropean               1.053815e-02 5.998285e-02\n",
       "15  reporter_eth_ethnea_broadOtherUnknown           9.963764e-02 8.477262e-02\n",
       "16  reporter_gender_ethneaF                         5.097762e-02 5.299312e-02\n",
       "17  reporter_gender_ethneaunknown                   1.127624e-01 7.854926e-02\n",
       "18  last_name_length                               -1.462915e-02 2.845730e-03\n",
       "19  last_name_prob                                 -1.021734e-03 3.152393e-03\n",
       "20  author_pos_catefirst_position                   4.219374e-01 1.506572e-02\n",
       "21  author_pos_catemiddle_position                 -1.010232e+00 2.509732e-02\n",
       "22  author_pos_catesolo_author                      5.674019e-01 7.200259e-02\n",
       "23  author_rank                                    -8.691367e-05 3.832469e-06\n",
       "24  is_top_authorno                                 3.228650e-02 6.849364e-02\n",
       "25  is_correspondingno                             -1.659721e+00 1.403463e-02\n",
       "26  is_correspondingunknown                        -7.991078e-01 3.097417e-02\n",
       "27  affiliation_rank                               -3.877554e-05 4.296821e-06\n",
       "28  affiliation_cateinternational                  -3.694259e-01 1.427354e-02\n",
       "29  affiliation_cateunknown                        -2.401250e-01 1.769025e-01\n",
       "30  num_authors                                    -1.258186e-02 5.276636e-04\n",
       "... ...                                            ...           ...         \n",
       "209 Prostate_cancer                                -0.23045074   0.1596011   \n",
       "210 Evolutionary_biology                            0.13207405   0.1603391   \n",
       "211 Phenomenon                                     -0.11967223   0.1696690   \n",
       "212 Longitudinal_study                              0.04265367   0.1668257   \n",
       "213 Genome                                          0.06572924   0.1089713   \n",
       "214 Mutation                                        0.03355751   0.1182983   \n",
       "215 Pedagogy                                        0.48511941   0.3165601   \n",
       "216 Dementia                                       -0.22197529   0.1679979   \n",
       "217 Relative_risk                                  -0.19439787   0.1480268   \n",
       "218 Microeconomics                                  0.74386223   0.3832048   \n",
       "219 Odds                                           -0.31388952   0.1896152   \n",
       "220 Feeling                                         0.46681669   0.2612584   \n",
       "221 Oceanography                                   -0.27464843   0.1902626   \n",
       "222 Emergency_medicine                              0.11065600   0.1665128   \n",
       "223 Personality                                    -0.33661596   0.2320492   \n",
       "224 Prospective_cohort_study                       -0.24586753   0.1096438   \n",
       "225 Hippocampus                                     0.37609695   0.1773594   \n",
       "226 Greenhouse_gas                                  0.06773960   0.1702288   \n",
       "227 Biomarker__medicine_                            0.21566721   0.1508992   \n",
       "228 Myocardial_infarction                           0.19022364   0.1618999   \n",
       "229 Socioeconomics                                  0.50707195   0.2888604   \n",
       "230 Drug                                            0.07010389   0.1846678   \n",
       "231 Environmental_science                          -0.93464292   0.1929397   \n",
       "232 Epigenetics                                    -0.18254228   0.1428350   \n",
       "233 Inorganic_chemistry                            -0.16603230   0.1186484   \n",
       "234 Emergency_department                           -0.04699484   0.1622721   \n",
       "235 Medical_prescription                            0.33658070   0.1749372   \n",
       "236 Phenotype                                       0.18369136   0.1413342   \n",
       "237 sd_(Intercept).journal_title                    0.69033525          NA   \n",
       "238 sd_(Intercept).outlet                           0.63349908          NA   \n",
       "    statistic    p.value       group        \n",
       "1     11.6203253  3.248967e-31 fixed        \n",
       "2     -2.3787808  1.737000e-02 fixed        \n",
       "3    -11.6972476  1.316547e-31 fixed        \n",
       "4     -8.2333745  1.820120e-16 fixed        \n",
       "5     -1.9218194  5.462849e-02 fixed        \n",
       "6      1.7619190  7.808298e-02 fixed        \n",
       "7      0.5035144  6.146027e-01 fixed        \n",
       "8     -6.3463248  2.205195e-10 fixed        \n",
       "9     -5.4559947  4.869944e-08 fixed        \n",
       "10    -1.9702479  4.880996e-02 fixed        \n",
       "11     2.3084160  2.097601e-02 fixed        \n",
       "12    -8.6673479  4.423021e-18 fixed        \n",
       "13     0.2806760  7.789589e-01 fixed        \n",
       "14     0.1756860  8.605406e-01 fixed        \n",
       "15     1.1753517  2.398540e-01 fixed        \n",
       "16     0.9619667  3.360663e-01 fixed        \n",
       "17     1.4355630  1.511267e-01 fixed        \n",
       "18    -5.1407367  2.736633e-07 fixed        \n",
       "19    -0.3241136  7.458520e-01 fixed        \n",
       "20    28.0064472 1.356077e-172 fixed        \n",
       "21   -40.2525775  0.000000e+00 fixed        \n",
       "22     7.8802988  3.265991e-15 fixed        \n",
       "23   -22.6782433 7.346383e-114 fixed        \n",
       "24     0.4713795  6.373698e-01 fixed        \n",
       "25  -118.2589509  0.000000e+00 fixed        \n",
       "26   -25.7991659 9.060258e-147 fixed        \n",
       "27    -9.0242407  1.809458e-19 fixed        \n",
       "28   -25.8818674 1.065727e-147 fixed        \n",
       "29    -1.3573866  1.746584e-01 fixed        \n",
       "30   -23.8444719 1.155603e-125 fixed        \n",
       "... ...          ...           ...          \n",
       "209 -1.4439166   1.487624e-01  fixed        \n",
       "210  0.8237171   4.101003e-01  fixed        \n",
       "211 -0.7053277   4.806064e-01  fixed        \n",
       "212  0.2556781   7.981994e-01  fixed        \n",
       "213  0.6031796   5.463892e-01  fixed        \n",
       "214  0.2836686   7.766643e-01  fixed        \n",
       "215  1.5324719   1.254060e-01  fixed        \n",
       "216 -1.3212983   1.864019e-01  fixed        \n",
       "217 -1.3132613   1.890949e-01  fixed        \n",
       "218  1.9411609   5.223876e-02  fixed        \n",
       "219 -1.6554030   9.784278e-02  fixed        \n",
       "220  1.7868008   7.396969e-02  fixed        \n",
       "221 -1.4435232   1.488732e-01  fixed        \n",
       "222  0.6645494   5.063387e-01  fixed        \n",
       "223 -1.4506235   1.468847e-01  fixed        \n",
       "224 -2.2424207   2.493420e-02  fixed        \n",
       "225  2.1205355   3.396091e-02  fixed        \n",
       "226  0.3979327   6.906798e-01  fixed        \n",
       "227  1.4292136   1.529429e-01  fixed        \n",
       "228  1.1749459   2.400163e-01  fixed        \n",
       "229  1.7554225   7.918707e-02  fixed        \n",
       "230  0.3796215   7.042264e-01  fixed        \n",
       "231 -4.8442224   1.271085e-06  fixed        \n",
       "232 -1.2779939   2.012516e-01  fixed        \n",
       "233 -1.3993637   1.617039e-01  fixed        \n",
       "234 -0.2896052   7.721183e-01  fixed        \n",
       "235  1.9240086   5.435350e-02  fixed        \n",
       "236  1.2996954   1.937054e-01  fixed        \n",
       "237         NA             NA  journal_title\n",
       "238         NA             NA  outlet       "
      ]
     },
     "metadata": {},
     "output_type": "display_data"
    }
   ],
   "source": [
    "tidy(m_pr)"
   ]
  },
  {
   "cell_type": "code",
   "execution_count": 16,
   "metadata": {},
   "outputs": [],
   "source": [
    "# marg_eff <- marginal_effects(m, data = subdata, variables = c(\"eth_first_author\", \"gender_first_author\"))"
   ]
  },
  {
   "cell_type": "code",
   "execution_count": 18,
   "metadata": {},
   "outputs": [],
   "source": [
    "# write.csv(marg_eff, \"/shared/0/projects/news-quotes/reg_results/news_type/General.csv\", row.names = FALSE)"
   ]
  },
  {
   "cell_type": "code",
   "execution_count": 42,
   "metadata": {},
   "outputs": [],
   "source": [
    "margins_eff <- margins(m_pr, data = subdata, c(\"author_eth_ethnea_broad\", \"author_gender_ethnea\"))"
   ]
  },
  {
   "cell_type": "code",
   "execution_count": 43,
   "metadata": {},
   "outputs": [
    {
     "data": {
      "text/html": [
       "<table>\n",
       "<thead><tr><th scope=col>factor</th><th scope=col>AME</th><th scope=col>SE</th><th scope=col>z</th><th scope=col>p</th><th scope=col>lower</th><th scope=col>upper</th></tr></thead>\n",
       "<tbody>\n",
       "\t<tr><td>author_eth_ethnea_broadAfrican                </td><td>-0.035291863                                  </td><td>0.015165312                                   </td><td> -2.3271438                                   </td><td>1.995761e-02                                  </td><td>-0.0650153283                                 </td><td>-5.568397e-03                                 </td></tr>\n",
       "\t<tr><td>author_eth_ethnea_broadChinese                </td><td>-0.051519768                                  </td><td>0.004697750                                   </td><td>-10.9669040                                   </td><td>5.512781e-28                                  </td><td>-0.0607271877                                 </td><td>-4.231235e-02                                 </td></tr>\n",
       "\t<tr><td>author_eth_ethnea_broadEastAsian              </td><td>-0.043196291                                  </td><td>0.005478611                                   </td><td> -7.8845337                                   </td><td>3.157123e-15                                  </td><td>-0.0539341706                                 </td><td>-3.245841e-02                                 </td></tr>\n",
       "\t<tr><td>author_eth_ethnea_broadEasternEuropean        </td><td>-0.011232918                                  </td><td>0.005889638                                   </td><td> -1.9072340                                   </td><td>5.649030e-02                                  </td><td>-0.0227763967                                 </td><td> 3.105608e-04                                 </td></tr>\n",
       "\t<tr><td>author_eth_ethnea_broadIndian                 </td><td> 0.009283741                                  </td><td>0.005252286                                   </td><td>  1.7675619                                   </td><td>7.713417e-02                                  </td><td>-0.0010105509                                 </td><td> 1.957803e-02                                 </td></tr>\n",
       "\t<tr><td>author_eth_ethnea_broadMiddleEastern          </td><td> 0.002514415                                  </td><td>0.004988169                                   </td><td>  0.5040757                                   </td><td>6.142082e-01                                  </td><td>-0.0072622169                                 </td><td> 1.229105e-02                                 </td></tr>\n",
       "\t<tr><td>author_eth_ethnea_broadSouthernEuropean       </td><td>-0.024387148                                  </td><td>0.003943864                                   </td><td> -6.1835677                                   </td><td>6.266885e-10                                  </td><td>-0.0321169785                                 </td><td>-1.665732e-02                                 </td></tr>\n",
       "\t<tr><td>author_eth_ethnea_broadunknown                </td><td>-0.084717328                                  </td><td>0.016214578                                   </td><td> -5.2247629                                   </td><td>1.743784e-07                                  </td><td>-0.1164973180                                 </td><td>-5.293734e-02                                 </td></tr>\n",
       "\t<tr><td>author_eth_ethnea_broadWesternNorthernEuropean</td><td>-0.006033941                                  </td><td>0.003072630                                   </td><td> -1.9637707                                   </td><td>4.955669e-02                                  </td><td>-0.0120561857                                 </td><td>-1.169664e-05                                 </td></tr>\n",
       "\t<tr><td>author_gender_ethneaF                         </td><td> 0.006053793                                  </td><td>0.002625263                                   </td><td>  2.3059757                                   </td><td>2.111199e-02                                  </td><td> 0.0009083718                                 </td><td> 1.119921e-02                                 </td></tr>\n",
       "\t<tr><td>author_gender_ethneaunknown                   </td><td>-0.027926304                                  </td><td>0.003342500                                   </td><td> -8.3549141                                   </td><td>6.548035e-17                                  </td><td>-0.0344774848                                 </td><td>-2.137512e-02                                 </td></tr>\n",
       "</tbody>\n",
       "</table>\n"
      ],
      "text/latex": [
       "\\begin{tabular}{r|lllllll}\n",
       " factor & AME & SE & z & p & lower & upper\\\\\n",
       "\\hline\n",
       "\t author\\_eth\\_ethnea\\_broadAfrican                 & -0.035291863                                         & 0.015165312                                          &  -2.3271438                                          & 1.995761e-02                                         & -0.0650153283                                        & -5.568397e-03                                       \\\\\n",
       "\t author\\_eth\\_ethnea\\_broadChinese                 & -0.051519768                                         & 0.004697750                                          & -10.9669040                                          & 5.512781e-28                                         & -0.0607271877                                        & -4.231235e-02                                       \\\\\n",
       "\t author\\_eth\\_ethnea\\_broadEastAsian               & -0.043196291                                         & 0.005478611                                          &  -7.8845337                                          & 3.157123e-15                                         & -0.0539341706                                        & -3.245841e-02                                       \\\\\n",
       "\t author\\_eth\\_ethnea\\_broadEasternEuropean         & -0.011232918                                         & 0.005889638                                          &  -1.9072340                                          & 5.649030e-02                                         & -0.0227763967                                        &  3.105608e-04                                       \\\\\n",
       "\t author\\_eth\\_ethnea\\_broadIndian                  &  0.009283741                                         & 0.005252286                                          &   1.7675619                                          & 7.713417e-02                                         & -0.0010105509                                        &  1.957803e-02                                       \\\\\n",
       "\t author\\_eth\\_ethnea\\_broadMiddleEastern           &  0.002514415                                         & 0.004988169                                          &   0.5040757                                          & 6.142082e-01                                         & -0.0072622169                                        &  1.229105e-02                                       \\\\\n",
       "\t author\\_eth\\_ethnea\\_broadSouthernEuropean        & -0.024387148                                         & 0.003943864                                          &  -6.1835677                                          & 6.266885e-10                                         & -0.0321169785                                        & -1.665732e-02                                       \\\\\n",
       "\t author\\_eth\\_ethnea\\_broadunknown                 & -0.084717328                                         & 0.016214578                                          &  -5.2247629                                          & 1.743784e-07                                         & -0.1164973180                                        & -5.293734e-02                                       \\\\\n",
       "\t author\\_eth\\_ethnea\\_broadWesternNorthernEuropean & -0.006033941                                         & 0.003072630                                          &  -1.9637707                                          & 4.955669e-02                                         & -0.0120561857                                        & -1.169664e-05                                       \\\\\n",
       "\t author\\_gender\\_ethneaF                          &  0.006053793                                       & 0.002625263                                        &   2.3059757                                        & 2.111199e-02                                       &  0.0009083718                                      &  1.119921e-02                                     \\\\\n",
       "\t author\\_gender\\_ethneaunknown                    & -0.027926304                                       & 0.003342500                                        &  -8.3549141                                        & 6.548035e-17                                       & -0.0344774848                                      & -2.137512e-02                                     \\\\\n",
       "\\end{tabular}\n"
      ],
      "text/markdown": [
       "\n",
       "| factor | AME | SE | z | p | lower | upper |\n",
       "|---|---|---|---|---|---|---|\n",
       "| author_eth_ethnea_broadAfrican                 | -0.035291863                                   | 0.015165312                                    |  -2.3271438                                    | 1.995761e-02                                   | -0.0650153283                                  | -5.568397e-03                                  |\n",
       "| author_eth_ethnea_broadChinese                 | -0.051519768                                   | 0.004697750                                    | -10.9669040                                    | 5.512781e-28                                   | -0.0607271877                                  | -4.231235e-02                                  |\n",
       "| author_eth_ethnea_broadEastAsian               | -0.043196291                                   | 0.005478611                                    |  -7.8845337                                    | 3.157123e-15                                   | -0.0539341706                                  | -3.245841e-02                                  |\n",
       "| author_eth_ethnea_broadEasternEuropean         | -0.011232918                                   | 0.005889638                                    |  -1.9072340                                    | 5.649030e-02                                   | -0.0227763967                                  |  3.105608e-04                                  |\n",
       "| author_eth_ethnea_broadIndian                  |  0.009283741                                   | 0.005252286                                    |   1.7675619                                    | 7.713417e-02                                   | -0.0010105509                                  |  1.957803e-02                                  |\n",
       "| author_eth_ethnea_broadMiddleEastern           |  0.002514415                                   | 0.004988169                                    |   0.5040757                                    | 6.142082e-01                                   | -0.0072622169                                  |  1.229105e-02                                  |\n",
       "| author_eth_ethnea_broadSouthernEuropean        | -0.024387148                                   | 0.003943864                                    |  -6.1835677                                    | 6.266885e-10                                   | -0.0321169785                                  | -1.665732e-02                                  |\n",
       "| author_eth_ethnea_broadunknown                 | -0.084717328                                   | 0.016214578                                    |  -5.2247629                                    | 1.743784e-07                                   | -0.1164973180                                  | -5.293734e-02                                  |\n",
       "| author_eth_ethnea_broadWesternNorthernEuropean | -0.006033941                                   | 0.003072630                                    |  -1.9637707                                    | 4.955669e-02                                   | -0.0120561857                                  | -1.169664e-05                                  |\n",
       "| author_gender_ethneaF                          |  0.006053793                                   | 0.002625263                                    |   2.3059757                                    | 2.111199e-02                                   |  0.0009083718                                  |  1.119921e-02                                  |\n",
       "| author_gender_ethneaunknown                    | -0.027926304                                   | 0.003342500                                    |  -8.3549141                                    | 6.548035e-17                                   | -0.0344774848                                  | -2.137512e-02                                  |\n",
       "\n"
      ],
      "text/plain": [
       "   factor                                         AME          SE         \n",
       "1  author_eth_ethnea_broadAfrican                 -0.035291863 0.015165312\n",
       "2  author_eth_ethnea_broadChinese                 -0.051519768 0.004697750\n",
       "3  author_eth_ethnea_broadEastAsian               -0.043196291 0.005478611\n",
       "4  author_eth_ethnea_broadEasternEuropean         -0.011232918 0.005889638\n",
       "5  author_eth_ethnea_broadIndian                   0.009283741 0.005252286\n",
       "6  author_eth_ethnea_broadMiddleEastern            0.002514415 0.004988169\n",
       "7  author_eth_ethnea_broadSouthernEuropean        -0.024387148 0.003943864\n",
       "8  author_eth_ethnea_broadunknown                 -0.084717328 0.016214578\n",
       "9  author_eth_ethnea_broadWesternNorthernEuropean -0.006033941 0.003072630\n",
       "10 author_gender_ethneaF                           0.006053793 0.002625263\n",
       "11 author_gender_ethneaunknown                    -0.027926304 0.003342500\n",
       "   z           p            lower         upper        \n",
       "1   -2.3271438 1.995761e-02 -0.0650153283 -5.568397e-03\n",
       "2  -10.9669040 5.512781e-28 -0.0607271877 -4.231235e-02\n",
       "3   -7.8845337 3.157123e-15 -0.0539341706 -3.245841e-02\n",
       "4   -1.9072340 5.649030e-02 -0.0227763967  3.105608e-04\n",
       "5    1.7675619 7.713417e-02 -0.0010105509  1.957803e-02\n",
       "6    0.5040757 6.142082e-01 -0.0072622169  1.229105e-02\n",
       "7   -6.1835677 6.266885e-10 -0.0321169785 -1.665732e-02\n",
       "8   -5.2247629 1.743784e-07 -0.1164973180 -5.293734e-02\n",
       "9   -1.9637707 4.955669e-02 -0.0120561857 -1.169664e-05\n",
       "10   2.3059757 2.111199e-02  0.0009083718  1.119921e-02\n",
       "11  -8.3549141 6.548035e-17 -0.0344774848 -2.137512e-02"
      ]
     },
     "metadata": {},
     "output_type": "display_data"
    }
   ],
   "source": [
    "summary(margins_eff)"
   ]
  },
  {
   "cell_type": "code",
   "execution_count": 44,
   "metadata": {},
   "outputs": [],
   "source": [
    "write.csv(summary(margins_eff), \"/shared/0/projects/news-quotes/reg_results/news_type/PressRelease_margins.csv\", row.names = FALSE)\n"
   ]
  },
  {
   "cell_type": "markdown",
   "metadata": {},
   "source": [
    "### Sci Tech"
   ]
  },
  {
   "cell_type": "code",
   "execution_count": 9,
   "metadata": {},
   "outputs": [],
   "source": [
    "subdata = mydata[mydata$category == 'SciTech', ]"
   ]
  },
  {
   "cell_type": "code",
   "execution_count": 10,
   "metadata": {},
   "outputs": [
    {
     "data": {
      "text/html": [
       "137851"
      ],
      "text/latex": [
       "137851"
      ],
      "text/markdown": [
       "137851"
      ],
      "text/plain": [
       "[1] 137851"
      ]
     },
     "metadata": {},
     "output_type": "display_data"
    }
   ],
   "source": [
    "nrow(subdata)"
   ]
  },
  {
   "cell_type": "code",
   "execution_count": 11,
   "metadata": {},
   "outputs": [
    {
     "data": {
      "text/html": [
       "249"
      ],
      "text/latex": [
       "249"
      ],
      "text/markdown": [
       "249"
      ],
      "text/plain": [
       "[1] 249"
      ]
     },
     "metadata": {},
     "output_type": "display_data"
    }
   ],
   "source": [
    "ncol(subdata)"
   ]
  },
  {
   "cell_type": "code",
   "execution_count": 15,
   "metadata": {
    "scrolled": true
   },
   "outputs": [
    {
     "name": "stderr",
     "output_type": "stream",
     "text": [
      "Warning message:\n",
      "“Some predictor variables are on very different scales: consider rescaling”"
     ]
    }
   ],
   "source": [
    "m_sci <- glmer(formula = equation_bar, data = subdata, family = \"binomial\", control = glmerControl(optimizer = \"nloptwrap\"), nAGQ = 0)"
   ]
  },
  {
   "cell_type": "code",
   "execution_count": 45,
   "metadata": {
    "scrolled": true
   },
   "outputs": [],
   "source": [
    "# tidy(m_sci)"
   ]
  },
  {
   "cell_type": "code",
   "execution_count": 16,
   "metadata": {},
   "outputs": [],
   "source": [
    "# marg_eff <- marginal_effects(m, data = subdata, variables = c(\"eth_first_author\", \"gender_first_author\"))"
   ]
  },
  {
   "cell_type": "code",
   "execution_count": 18,
   "metadata": {},
   "outputs": [],
   "source": [
    "# write.csv(marg_eff, \"/shared/0/projects/news-quotes/reg_results/news_type/General.csv\", row.names = FALSE)"
   ]
  },
  {
   "cell_type": "code",
   "execution_count": null,
   "metadata": {},
   "outputs": [],
   "source": [
    "margins_eff <- margins(m_sci, data = subdata, c(\"author_eth_ethnea_broad\", \"author_gender_ethnea\"))"
   ]
  },
  {
   "cell_type": "code",
   "execution_count": null,
   "metadata": {},
   "outputs": [],
   "source": [
    "summary(margins_eff)"
   ]
  },
  {
   "cell_type": "code",
   "execution_count": null,
   "metadata": {},
   "outputs": [],
   "source": [
    "write.csv(summary(margins_eff), \"/shared/0/projects/news-quotes/reg_results/news_type/SciTech_margins.csv\", row.names = FALSE)\n"
   ]
  },
  {
   "cell_type": "markdown",
   "metadata": {},
   "source": [
    "### General News"
   ]
  },
  {
   "cell_type": "code",
   "execution_count": 13,
   "metadata": {},
   "outputs": [],
   "source": [
    "subdata = mydata[mydata$category == 'General', ]"
   ]
  },
  {
   "cell_type": "code",
   "execution_count": 14,
   "metadata": {},
   "outputs": [
    {
     "data": {
      "text/html": [
       "220858"
      ],
      "text/latex": [
       "220858"
      ],
      "text/markdown": [
       "220858"
      ],
      "text/plain": [
       "[1] 220858"
      ]
     },
     "metadata": {},
     "output_type": "display_data"
    }
   ],
   "source": [
    "nrow(subdata)"
   ]
  },
  {
   "cell_type": "code",
   "execution_count": 15,
   "metadata": {},
   "outputs": [
    {
     "data": {
      "text/html": [
       "249"
      ],
      "text/latex": [
       "249"
      ],
      "text/markdown": [
       "249"
      ],
      "text/plain": [
       "[1] 249"
      ]
     },
     "metadata": {},
     "output_type": "display_data"
    }
   ],
   "source": [
    "ncol(subdata)"
   ]
  },
  {
   "cell_type": "code",
   "execution_count": 19,
   "metadata": {},
   "outputs": [
    {
     "name": "stderr",
     "output_type": "stream",
     "text": [
      "Warning message:\n",
      "“Some predictor variables are on very different scales: consider rescaling”"
     ]
    }
   ],
   "source": [
    "m_gn <- glmer(formula = equation_bar, data = subdata, family = \"binomial\", control = glmerControl(optimizer = \"nloptwrap\"), nAGQ = 0)"
   ]
  },
  {
   "cell_type": "code",
   "execution_count": 46,
   "metadata": {
    "scrolled": true
   },
   "outputs": [],
   "source": [
    "# tidy(m_gn)"
   ]
  },
  {
   "cell_type": "code",
   "execution_count": 16,
   "metadata": {},
   "outputs": [],
   "source": [
    "# marg_eff <- marginal_effects(m, data = subdata, variables = c(\"eth_first_author\", \"gender_first_author\"))"
   ]
  },
  {
   "cell_type": "code",
   "execution_count": 18,
   "metadata": {},
   "outputs": [],
   "source": [
    "# write.csv(marg_eff, \"/shared/0/projects/news-quotes/reg_results/news_type/General.csv\", row.names = FALSE)"
   ]
  },
  {
   "cell_type": "code",
   "execution_count": null,
   "metadata": {},
   "outputs": [],
   "source": [
    "margins_eff <- margins(m_gn, data = subdata, c(\"author_eth_ethnea_broad\", \"author_gender_ethnea\"))"
   ]
  },
  {
   "cell_type": "code",
   "execution_count": null,
   "metadata": {},
   "outputs": [],
   "source": [
    "summary(margins_eff)"
   ]
  },
  {
   "cell_type": "code",
   "execution_count": null,
   "metadata": {},
   "outputs": [],
   "source": [
    "write.csv(summary(margins_eff), \"/shared/0/projects/news-quotes/reg_results/news_type/General_margins.csv\", row.names = FALSE)\n"
   ]
  },
  {
   "cell_type": "code",
   "execution_count": null,
   "metadata": {},
   "outputs": [],
   "source": []
  }
 ],
 "metadata": {
  "kernelspec": {
   "display_name": "R",
   "language": "R",
   "name": "ir"
  },
  "language_info": {
   "codemirror_mode": "r",
   "file_extension": ".r",
   "mimetype": "text/x-r-source",
   "name": "R",
   "pygments_lexer": "r",
   "version": "3.6.1"
  }
 },
 "nbformat": 4,
 "nbformat_minor": 2
}
