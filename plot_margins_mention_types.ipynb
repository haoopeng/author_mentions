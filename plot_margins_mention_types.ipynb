{
 "cells": [
  {
   "cell_type": "code",
   "execution_count": 1,
   "metadata": {},
   "outputs": [],
   "source": [
    "import os\n",
    "import scipy.stats as stat\n",
    "import numpy as np\n",
    "import pandas as pd\n",
    "import matplotlib.pyplot as plt\n",
    "import matplotlib.colors\n",
    "import matplotlib.cm as cm"
   ]
  },
  {
   "cell_type": "code",
   "execution_count": 5,
   "metadata": {},
   "outputs": [],
   "source": [
    "data_root = '/kellogg/proj/hpk5609/Mentions/'"
   ]
  },
  {
   "cell_type": "code",
   "execution_count": 3,
   "metadata": {},
   "outputs": [],
   "source": [
    "top_eth = [\n",
    " 'SouthernEuropean',\n",
    " 'WesternNorthernEuropean',\n",
    " 'EasternEuropean',\n",
    " 'EastAsian',\n",
    " 'Chinese',\n",
    " 'MiddleEastern',\n",
    " 'Indian',\n",
    " 'African'\n",
    "]\n",
    "\n",
    "\n",
    "ylabels = [\n",
    " #'English',\n",
    " 'Woman',\n",
    " 'Southern European',\n",
    " 'Western & Northern Euro.',\n",
    " 'Eastern European',\n",
    " 'non-Chinese East Asian',\n",
    " 'Chinese',\n",
    " 'Middle Eastern',\n",
    " 'Indian',\n",
    " 'African']\n",
    "\n",
    "cols = [\"author_gender_ethneaF\"] + [\"author_eth_ethnea_broad\" + eth for eth in top_eth]"
   ]
  },
  {
   "cell_type": "markdown",
   "metadata": {},
   "source": [
    "## non-US vs. US (for coefficients)"
   ]
  },
  {
   "cell_type": "code",
   "execution_count": 6,
   "metadata": {},
   "outputs": [],
   "source": [
    "df_intl = pd.read_csv(data_root + 'reg_results/reg_table/m5_intl_coeff.csv', header=0, index_col='term')\n",
    "df_intl = df_intl.loc[df_intl.index.isin(cols)]\n",
    "df_intl = df_intl.reindex(cols)\n",
    "beta = df_intl['estimate'].values\n",
    "std = df_intl['std.error'].values"
   ]
  },
  {
   "cell_type": "code",
   "execution_count": 7,
   "metadata": {},
   "outputs": [],
   "source": [
    "df_us = pd.read_csv(data_root + 'reg_results/reg_table/m5_us_coeff.csv', header=0, index_col='term')\n",
    "df_us = df_us.loc[df_us.index.isin(cols)]\n",
    "df_us = df_us.reindex(cols)\n",
    "beta_us = df_us['estimate'].values\n",
    "std_us = df_us['std.error'].values"
   ]
  },
  {
   "cell_type": "code",
   "execution_count": 8,
   "metadata": {},
   "outputs": [
    {
     "data": {
      "text/html": [
       "<div>\n",
       "<style scoped>\n",
       "    .dataframe tbody tr th:only-of-type {\n",
       "        vertical-align: middle;\n",
       "    }\n",
       "\n",
       "    .dataframe tbody tr th {\n",
       "        vertical-align: top;\n",
       "    }\n",
       "\n",
       "    .dataframe thead th {\n",
       "        text-align: right;\n",
       "    }\n",
       "</style>\n",
       "<table border=\"1\" class=\"dataframe\">\n",
       "  <thead>\n",
       "    <tr style=\"text-align: right;\">\n",
       "      <th></th>\n",
       "      <th>estimate</th>\n",
       "      <th>std.error</th>\n",
       "      <th>statistic</th>\n",
       "      <th>p.value</th>\n",
       "      <th>group</th>\n",
       "    </tr>\n",
       "    <tr>\n",
       "      <th>term</th>\n",
       "      <th></th>\n",
       "      <th></th>\n",
       "      <th></th>\n",
       "      <th></th>\n",
       "      <th></th>\n",
       "    </tr>\n",
       "  </thead>\n",
       "  <tbody>\n",
       "    <tr>\n",
       "      <th>author_gender_ethneaF</th>\n",
       "      <td>0.012816</td>\n",
       "      <td>0.014705</td>\n",
       "      <td>0.871532</td>\n",
       "      <td>3.834640e-01</td>\n",
       "      <td>fixed</td>\n",
       "    </tr>\n",
       "    <tr>\n",
       "      <th>author_eth_ethnea_broadSouthernEuropean</th>\n",
       "      <td>-0.328367</td>\n",
       "      <td>0.020881</td>\n",
       "      <td>-15.725379</td>\n",
       "      <td>1.013423e-55</td>\n",
       "      <td>fixed</td>\n",
       "    </tr>\n",
       "    <tr>\n",
       "      <th>author_eth_ethnea_broadWesternNorthernEuropean</th>\n",
       "      <td>-0.188026</td>\n",
       "      <td>0.015980</td>\n",
       "      <td>-11.766033</td>\n",
       "      <td>5.840705e-32</td>\n",
       "      <td>fixed</td>\n",
       "    </tr>\n",
       "    <tr>\n",
       "      <th>author_eth_ethnea_broadEasternEuropean</th>\n",
       "      <td>-0.239520</td>\n",
       "      <td>0.032122</td>\n",
       "      <td>-7.456455</td>\n",
       "      <td>8.888157e-14</td>\n",
       "      <td>fixed</td>\n",
       "    </tr>\n",
       "    <tr>\n",
       "      <th>author_eth_ethnea_broadEastAsian</th>\n",
       "      <td>-0.363237</td>\n",
       "      <td>0.029081</td>\n",
       "      <td>-12.490704</td>\n",
       "      <td>8.390784e-36</td>\n",
       "      <td>fixed</td>\n",
       "    </tr>\n",
       "    <tr>\n",
       "      <th>author_eth_ethnea_broadChinese</th>\n",
       "      <td>-0.568335</td>\n",
       "      <td>0.028261</td>\n",
       "      <td>-20.110114</td>\n",
       "      <td>6.018518e-90</td>\n",
       "      <td>fixed</td>\n",
       "    </tr>\n",
       "    <tr>\n",
       "      <th>author_eth_ethnea_broadMiddleEastern</th>\n",
       "      <td>-0.108363</td>\n",
       "      <td>0.028871</td>\n",
       "      <td>-3.753358</td>\n",
       "      <td>1.744815e-04</td>\n",
       "      <td>fixed</td>\n",
       "    </tr>\n",
       "    <tr>\n",
       "      <th>author_eth_ethnea_broadIndian</th>\n",
       "      <td>-0.162580</td>\n",
       "      <td>0.038716</td>\n",
       "      <td>-4.199314</td>\n",
       "      <td>2.677247e-05</td>\n",
       "      <td>fixed</td>\n",
       "    </tr>\n",
       "    <tr>\n",
       "      <th>author_eth_ethnea_broadAfrican</th>\n",
       "      <td>-0.519994</td>\n",
       "      <td>0.084795</td>\n",
       "      <td>-6.132340</td>\n",
       "      <td>8.659565e-10</td>\n",
       "      <td>fixed</td>\n",
       "    </tr>\n",
       "  </tbody>\n",
       "</table>\n",
       "</div>"
      ],
      "text/plain": [
       "                                                estimate  std.error  \\\n",
       "term                                                                  \n",
       "author_gender_ethneaF                           0.012816   0.014705   \n",
       "author_eth_ethnea_broadSouthernEuropean        -0.328367   0.020881   \n",
       "author_eth_ethnea_broadWesternNorthernEuropean -0.188026   0.015980   \n",
       "author_eth_ethnea_broadEasternEuropean         -0.239520   0.032122   \n",
       "author_eth_ethnea_broadEastAsian               -0.363237   0.029081   \n",
       "author_eth_ethnea_broadChinese                 -0.568335   0.028261   \n",
       "author_eth_ethnea_broadMiddleEastern           -0.108363   0.028871   \n",
       "author_eth_ethnea_broadIndian                  -0.162580   0.038716   \n",
       "author_eth_ethnea_broadAfrican                 -0.519994   0.084795   \n",
       "\n",
       "                                                statistic       p.value  group  \n",
       "term                                                                            \n",
       "author_gender_ethneaF                            0.871532  3.834640e-01  fixed  \n",
       "author_eth_ethnea_broadSouthernEuropean        -15.725379  1.013423e-55  fixed  \n",
       "author_eth_ethnea_broadWesternNorthernEuropean -11.766033  5.840705e-32  fixed  \n",
       "author_eth_ethnea_broadEasternEuropean          -7.456455  8.888157e-14  fixed  \n",
       "author_eth_ethnea_broadEastAsian               -12.490704  8.390784e-36  fixed  \n",
       "author_eth_ethnea_broadChinese                 -20.110114  6.018518e-90  fixed  \n",
       "author_eth_ethnea_broadMiddleEastern            -3.753358  1.744815e-04  fixed  \n",
       "author_eth_ethnea_broadIndian                   -4.199314  2.677247e-05  fixed  \n",
       "author_eth_ethnea_broadAfrican                  -6.132340  8.659565e-10  fixed  "
      ]
     },
     "execution_count": 8,
     "metadata": {},
     "output_type": "execute_result"
    }
   ],
   "source": [
    "df_intl"
   ]
  },
  {
   "cell_type": "code",
   "execution_count": 9,
   "metadata": {},
   "outputs": [
    {
     "data": {
      "text/html": [
       "<div>\n",
       "<style scoped>\n",
       "    .dataframe tbody tr th:only-of-type {\n",
       "        vertical-align: middle;\n",
       "    }\n",
       "\n",
       "    .dataframe tbody tr th {\n",
       "        vertical-align: top;\n",
       "    }\n",
       "\n",
       "    .dataframe thead th {\n",
       "        text-align: right;\n",
       "    }\n",
       "</style>\n",
       "<table border=\"1\" class=\"dataframe\">\n",
       "  <thead>\n",
       "    <tr style=\"text-align: right;\">\n",
       "      <th></th>\n",
       "      <th>estimate</th>\n",
       "      <th>std.error</th>\n",
       "      <th>statistic</th>\n",
       "      <th>p.value</th>\n",
       "      <th>group</th>\n",
       "    </tr>\n",
       "    <tr>\n",
       "      <th>term</th>\n",
       "      <th></th>\n",
       "      <th></th>\n",
       "      <th></th>\n",
       "      <th></th>\n",
       "      <th></th>\n",
       "    </tr>\n",
       "  </thead>\n",
       "  <tbody>\n",
       "    <tr>\n",
       "      <th>author_gender_ethneaF</th>\n",
       "      <td>-0.008241</td>\n",
       "      <td>0.011191</td>\n",
       "      <td>-0.736377</td>\n",
       "      <td>4.615011e-01</td>\n",
       "      <td>fixed</td>\n",
       "    </tr>\n",
       "    <tr>\n",
       "      <th>author_eth_ethnea_broadSouthernEuropean</th>\n",
       "      <td>-0.019732</td>\n",
       "      <td>0.017565</td>\n",
       "      <td>-1.123360</td>\n",
       "      <td>2.612848e-01</td>\n",
       "      <td>fixed</td>\n",
       "    </tr>\n",
       "    <tr>\n",
       "      <th>author_eth_ethnea_broadWesternNorthernEuropean</th>\n",
       "      <td>-0.021531</td>\n",
       "      <td>0.014234</td>\n",
       "      <td>-1.512626</td>\n",
       "      <td>1.303748e-01</td>\n",
       "      <td>fixed</td>\n",
       "    </tr>\n",
       "    <tr>\n",
       "      <th>author_eth_ethnea_broadEasternEuropean</th>\n",
       "      <td>0.120110</td>\n",
       "      <td>0.027614</td>\n",
       "      <td>4.349607</td>\n",
       "      <td>1.363820e-05</td>\n",
       "      <td>fixed</td>\n",
       "    </tr>\n",
       "    <tr>\n",
       "      <th>author_eth_ethnea_broadEastAsian</th>\n",
       "      <td>-0.239399</td>\n",
       "      <td>0.029112</td>\n",
       "      <td>-8.223255</td>\n",
       "      <td>1.980536e-16</td>\n",
       "      <td>fixed</td>\n",
       "    </tr>\n",
       "    <tr>\n",
       "      <th>author_eth_ethnea_broadChinese</th>\n",
       "      <td>-0.305035</td>\n",
       "      <td>0.020310</td>\n",
       "      <td>-15.018733</td>\n",
       "      <td>5.535569e-51</td>\n",
       "      <td>fixed</td>\n",
       "    </tr>\n",
       "    <tr>\n",
       "      <th>author_eth_ethnea_broadMiddleEastern</th>\n",
       "      <td>0.070306</td>\n",
       "      <td>0.022239</td>\n",
       "      <td>3.161446</td>\n",
       "      <td>1.569880e-03</td>\n",
       "      <td>fixed</td>\n",
       "    </tr>\n",
       "    <tr>\n",
       "      <th>author_eth_ethnea_broadIndian</th>\n",
       "      <td>0.044232</td>\n",
       "      <td>0.022536</td>\n",
       "      <td>1.962707</td>\n",
       "      <td>4.968028e-02</td>\n",
       "      <td>fixed</td>\n",
       "    </tr>\n",
       "    <tr>\n",
       "      <th>author_eth_ethnea_broadAfrican</th>\n",
       "      <td>-0.289363</td>\n",
       "      <td>0.067674</td>\n",
       "      <td>-4.275861</td>\n",
       "      <td>1.903998e-05</td>\n",
       "      <td>fixed</td>\n",
       "    </tr>\n",
       "  </tbody>\n",
       "</table>\n",
       "</div>"
      ],
      "text/plain": [
       "                                                estimate  std.error  \\\n",
       "term                                                                  \n",
       "author_gender_ethneaF                          -0.008241   0.011191   \n",
       "author_eth_ethnea_broadSouthernEuropean        -0.019732   0.017565   \n",
       "author_eth_ethnea_broadWesternNorthernEuropean -0.021531   0.014234   \n",
       "author_eth_ethnea_broadEasternEuropean          0.120110   0.027614   \n",
       "author_eth_ethnea_broadEastAsian               -0.239399   0.029112   \n",
       "author_eth_ethnea_broadChinese                 -0.305035   0.020310   \n",
       "author_eth_ethnea_broadMiddleEastern            0.070306   0.022239   \n",
       "author_eth_ethnea_broadIndian                   0.044232   0.022536   \n",
       "author_eth_ethnea_broadAfrican                 -0.289363   0.067674   \n",
       "\n",
       "                                                statistic       p.value  group  \n",
       "term                                                                            \n",
       "author_gender_ethneaF                           -0.736377  4.615011e-01  fixed  \n",
       "author_eth_ethnea_broadSouthernEuropean         -1.123360  2.612848e-01  fixed  \n",
       "author_eth_ethnea_broadWesternNorthernEuropean  -1.512626  1.303748e-01  fixed  \n",
       "author_eth_ethnea_broadEasternEuropean           4.349607  1.363820e-05  fixed  \n",
       "author_eth_ethnea_broadEastAsian                -8.223255  1.980536e-16  fixed  \n",
       "author_eth_ethnea_broadChinese                 -15.018733  5.535569e-51  fixed  \n",
       "author_eth_ethnea_broadMiddleEastern             3.161446  1.569880e-03  fixed  \n",
       "author_eth_ethnea_broadIndian                    1.962707  4.968028e-02  fixed  \n",
       "author_eth_ethnea_broadAfrican                  -4.275861  1.903998e-05  fixed  "
      ]
     },
     "execution_count": 9,
     "metadata": {},
     "output_type": "execute_result"
    }
   ],
   "source": [
    "df_us"
   ]
  },
  {
   "cell_type": "code",
   "execution_count": 10,
   "metadata": {},
   "outputs": [],
   "source": [
    "zs = (beta - beta_us) / np.sqrt(np.square(std) + np.square(std_us))"
   ]
  },
  {
   "cell_type": "code",
   "execution_count": 11,
   "metadata": {},
   "outputs": [],
   "source": [
    "p_values = stat.norm.sf(abs(zs)) * 2 # two sided"
   ]
  },
  {
   "cell_type": "code",
   "execution_count": 12,
   "metadata": {},
   "outputs": [
    {
     "data": {
      "text/plain": [
       "array([2.54499455e-01, 1.15927831e-29, 7.25515280e-15, 2.06980624e-17,\n",
       "       2.61662762e-03, 3.86101948e-14, 9.45230951e-07, 3.90043259e-06,\n",
       "       3.35167301e-02])"
      ]
     },
     "execution_count": 12,
     "metadata": {},
     "output_type": "execute_result"
    }
   ],
   "source": [
    "p_values"
   ]
  },
  {
   "cell_type": "code",
   "execution_count": 13,
   "metadata": {},
   "outputs": [
    {
     "data": {
      "text/plain": [
       "0.0128155313753725"
      ]
     },
     "execution_count": 13,
     "metadata": {},
     "output_type": "execute_result"
    }
   ],
   "source": [
    "df_intl.loc['author_gender_ethneaF']['estimate']"
   ]
  },
  {
   "cell_type": "code",
   "execution_count": 14,
   "metadata": {},
   "outputs": [
    {
     "data": {
      "text/plain": [
       "0.01"
      ]
     },
     "execution_count": 14,
     "metadata": {},
     "output_type": "execute_result"
    }
   ],
   "source": [
    "np.round(df_intl.loc['author_gender_ethneaF']['estimate'], 2)"
   ]
  },
  {
   "cell_type": "code",
   "execution_count": 15,
   "metadata": {},
   "outputs": [
    {
     "name": "stdout",
     "output_type": "stream",
     "text": [
      "author_gender_ethneaF &\t-0.01 &\t0.01 &\t0.254 \\\\\n",
      "author_eth_ethnea_broadSouthernEuropean &\t-0.02 &\t-0.33\\sym{***} &\t0.000 \\\\\n",
      "author_eth_ethnea_broadWesternNorthernEuropean &\t-0.02 &\t-0.19\\sym{***} &\t0.000 \\\\\n",
      "author_eth_ethnea_broadEasternEuropean &\t0.12\\sym{***} &\t-0.24\\sym{***} &\t0.000 \\\\\n",
      "author_eth_ethnea_broadEastAsian &\t-0.24\\sym{***} &\t-0.36\\sym{***} &\t0.003 \\\\\n",
      "author_eth_ethnea_broadChinese &\t-0.31\\sym{***} &\t-0.57\\sym{***} &\t0.000 \\\\\n",
      "author_eth_ethnea_broadMiddleEastern &\t0.07\\sym{**} &\t-0.11\\sym{***} &\t0.000 \\\\\n",
      "author_eth_ethnea_broadIndian &\t0.04\\sym{*} &\t-0.16\\sym{***} &\t0.000 \\\\\n",
      "author_eth_ethnea_broadAfrican &\t-0.29\\sym{***} &\t-0.52\\sym{***} &\t0.034 \\\\\n"
     ]
    }
   ],
   "source": [
    "def get_p_sym(val):\n",
    "    if val < 0.001:\n",
    "        return '\\sym{***}'\n",
    "    elif val < 0.01:\n",
    "        return '\\sym{**}'\n",
    "    elif val < 0.05:\n",
    "        return '\\sym{*}'\n",
    "    else:\n",
    "        return ''\n",
    "\n",
    "for col, pval in zip(cols, p_values):\n",
    "    sym = get_p_sym(df_intl.loc[col]['p.value'])\n",
    "    sym_us = get_p_sym(df_us.loc[col]['p.value'])\n",
    "    print('%s &\\t%.2f%s &\\t%.2f%s &\\t%.3f \\\\\\\\'%(col, df_us.loc[col]['estimate'], sym_us, df_intl.loc[col]['estimate'], sym, pval))"
   ]
  },
  {
   "cell_type": "markdown",
   "metadata": {},
   "source": [
    "## Full data"
   ]
  },
  {
   "cell_type": "markdown",
   "metadata": {},
   "source": [
    "### Fig 1 - mention"
   ]
  },
  {
   "cell_type": "code",
   "execution_count": 22,
   "metadata": {},
   "outputs": [
    {
     "data": {
      "image/png": "[encoded data removed]",
      "text/plain": [
       "<Figure size 324x180 with 2 Axes>"
      ]
     },
     "metadata": {
      "needs_background": "light"
     },
     "output_type": "display_data"
    }
   ],
   "source": [
    "nrows = 1\n",
    "ncols = 1\n",
    "fig, ax = plt.subplots(nrows=nrows, ncols=ncols, figsize=(4.5, 2.5))\n",
    "\n",
    "s = 4 # markersize\n",
    "lw = 1.5 # linewidth\n",
    "\n",
    "\n",
    "df = pd.read_csv(data_root + 'reg_results/reg_table/big_mfx_table_R_margins.csv', header=0, index_col='factor')\n",
    "df = df.loc[df.index.isin(cols)]\n",
    "df = df.reindex(cols)\n",
    "xs = df['AME'].values\n",
    "confs = (df['upper'] - df['AME']).values\n",
    "\n",
    "norm = matplotlib.colors.Normalize(vmin=min(xs), vmax=max(xs))\n",
    "mapper = cm.ScalarMappable(norm=norm, cmap='Reds_r')\n",
    "xcols = np.array([(mapper.to_rgba(v)) for v in xs])\n",
    "\n",
    "# ax.errorbar(xs[::-1], ylabels[::-1], xerr=confs[::-1], fmt='bo', markersize=s, linewidth=lw, fillstyle='full')\n",
    "ax.errorbar(xs[::-1], ylabels[::-1], xerr=confs[::-1], color='k', fmt='.', markersize=2, linewidth=2)\n",
    "ax.axvline(0, color='k', linestyle='--', linewidth = 0.8)\n",
    "\n",
    "for x, ylab, coll in zip(xs, ylabels, xcols):\n",
    "    if ylab == 'Woman':\n",
    "        ax.plot([x], [ylab], color='b', marker='o', markersize=5)\n",
    "    else:\n",
    "        ax.plot([x], [ylab], color=coll, marker='o', markersize=5)\n",
    "\n",
    "ax.set_xlim([-0.10, 0.03])\n",
    "\n",
    "cbar = fig.colorbar(mapper, ax=ax, fraction=0.2, pad=0.02)#, format=\"%0.2f\")\n",
    "# cbar.ax.set_ylabel(cbarlabel, rotation=-90, va=\"bottom\")\n",
    "cbar.ax.tick_params(axis='y', direction='in')\n",
    "# cbar.ax.set_xlim(-0.05, 0)\n",
    "cbar.set_ticks([-0.05, -0.04, -0.03, -0.02, -0.01, 0])\n",
    "cbar.set_ticklabels(['-0.05', '-0.04', '-0.03', '-0.02', '-0.01', ' 0.00'])\n",
    "\n",
    "fig.text(0.65, -0.02,'Probability of being mentioned in news\\ncompared to Man/Anglo named authors', ha='center', va='center')\n",
    "plt.tight_layout()\n",
    "plt.subplots_adjust(wspace=0)\n",
    "plt.show()\n",
    "fig.savefig(data_root+'fig_one_mention_full.pdf', bbox_inches='tight', pad_inches=0.02)\n"
   ]
  },
  {
   "cell_type": "code",
   "execution_count": 66,
   "metadata": {},
   "outputs": [
    {
     "data": {
      "text/plain": [
       "array([ 0.00055229, -0.02203022, -0.01157867, -0.00147697, -0.04335681,\n",
       "       -0.05972311,  0.00250235, -0.00178691, -0.05812888])"
      ]
     },
     "execution_count": 66,
     "metadata": {},
     "output_type": "execute_result"
    }
   ],
   "source": [
    "xs"
   ]
  },
  {
   "cell_type": "code",
   "execution_count": 67,
   "metadata": {},
   "outputs": [],
   "source": [
    "xs_abs_diff = xs.copy() # xs_abs_diff for later use"
   ]
  },
  {
   "cell_type": "code",
   "execution_count": 68,
   "metadata": {},
   "outputs": [
    {
     "data": {
      "text/plain": [
       "['Female',\n",
       " 'Southern European',\n",
       " 'Western & Northern Euro.',\n",
       " 'Eastern European',\n",
       " 'non-Chinese East Asian',\n",
       " 'Chinese',\n",
       " 'Middle Eastern',\n",
       " 'Indian',\n",
       " 'African']"
      ]
     },
     "execution_count": 68,
     "metadata": {},
     "output_type": "execute_result"
    }
   ],
   "source": [
    "ylabels"
   ]
  },
  {
   "cell_type": "code",
   "execution_count": 69,
   "metadata": {},
   "outputs": [],
   "source": [
    "reg_data = pd.read_csv(data_root+\"reg_data_plot.csv\", header=0)"
   ]
  },
  {
   "cell_type": "code",
   "execution_count": 70,
   "metadata": {},
   "outputs": [
    {
     "name": "stdout",
     "output_type": "stream",
     "text": [
      "SouthernEuropean \t 1126.4930411383464\n",
      "WesternNorthernEuropean \t 1231.1716956725122\n",
      "EasternEuropean \t 25.479142930628633\n",
      "EastAsian \t 826.7276898309004\n",
      "Chinese \t 2570.423108351086\n",
      "MiddleEastern \t -65.26633568452748\n",
      "Indian \t 38.08612765412244\n",
      "African \t 161.24951609777693\n"
     ]
    }
   ],
   "source": [
    "total_non_eng = 0\n",
    "would_be = 0\n",
    "for x, eth in zip(xs[1:], top_eth):\n",
    "    size = np.sum(reg_data.author_eth_ethnea_broad == eth)\n",
    "    would_be_named_if_were_eng = x*size*-1\n",
    "    total_non_eng += size\n",
    "    would_be += would_be_named_if_were_eng\n",
    "    print(eth, '\\t', would_be_named_if_were_eng)"
   ]
  },
  {
   "cell_type": "code",
   "execution_count": 71,
   "metadata": {
    "scrolled": false
   },
   "outputs": [
    {
     "data": {
      "text/plain": [
       "5914.363985990845"
      ]
     },
     "execution_count": 71,
     "metadata": {},
     "output_type": "execute_result"
    }
   ],
   "source": [
    "would_be"
   ]
  },
  {
   "cell_type": "code",
   "execution_count": 72,
   "metadata": {},
   "outputs": [
    {
     "data": {
      "text/plain": [
       "286993"
      ]
     },
     "execution_count": 72,
     "metadata": {},
     "output_type": "execute_result"
    }
   ],
   "source": [
    "total_non_eng"
   ]
  },
  {
   "cell_type": "markdown",
   "metadata": {},
   "source": [
    "## US institution subset"
   ]
  },
  {
   "cell_type": "markdown",
   "metadata": {},
   "source": [
    "### Fig 2 - A big plot"
   ]
  },
  {
   "cell_type": "code",
   "execution_count": 24,
   "metadata": {},
   "outputs": [
    {
     "data": {
      "image/png": "[encoded data removed]",
      "text/plain": [
       "<Figure size 684x216 with 4 Axes>"
      ]
     },
     "metadata": {
      "needs_background": "light"
     },
     "output_type": "display_data"
    }
   ],
   "source": [
    "cates = [\n",
    "    'reg_table/big_mfx_table_R_margins_us_subset.csv',\n",
    "    'quote/margins_us_subset.csv',\n",
    "    'indirect/margins_us_subset.csv'\n",
    "]\n",
    "re_cates = [\n",
    "    'Mention',\n",
    "    'Quote',\n",
    "    'Inst. Substitution'\n",
    "]\n",
    "\n",
    "subs = ['(a)', '(b)', '(c)']\n",
    "\n",
    "\n",
    "nrows = 1\n",
    "ncols = 3\n",
    "fig, axes = plt.subplots(nrows=nrows, ncols=ncols, figsize=(9.5, 3), sharex=True)\n",
    "\n",
    "s = 4 # markersize\n",
    "lw = 1.5 # linewidth\n",
    "\n",
    "all_xs = []\n",
    "for cate in cates:    \n",
    "    df = pd.read_csv(data_root + 'reg_results/%s'%cate, header=0, index_col='factor')\n",
    "    df = df.loc[df.index.isin(cols)]\n",
    "    df = df.reindex(cols)\n",
    "    xs = df['AME'].values\n",
    "    all_xs.extend(xs)\n",
    "all_xs = np.array(all_xs)\n",
    "norm = matplotlib.colors.Normalize(vmin=min(all_xs), vmax=max(all_xs))\n",
    "mapper = cm.ScalarMappable(norm=norm, cmap='Reds_r')\n",
    "\n",
    "for pos, cate in enumerate(cates):\n",
    "    j = pos%ncols\n",
    "    ax = axes[j]\n",
    "    df = pd.read_csv(data_root + 'reg_results/%s'%cate, header=0, index_col='factor')\n",
    "    df = df.loc[df.index.isin(cols)]\n",
    "    df = df.reindex(cols)\n",
    "    xs = df['AME'].values\n",
    "    confs = (df['upper'] - df['AME']).values\n",
    "    \n",
    "    # ax.errorbar(xs[::-1], ylabels[::-1], xerr=confs[::-1], fmt='bo', markersize=s, linewidth=lw, fillstyle='full')\n",
    "    ax.errorbar(xs[::-1], ylabels[::-1], xerr=confs[::-1], color='k', fmt='.', markersize=2, linewidth=2)\n",
    "    ax.axvline(0, color='k', linestyle='--', linewidth = 0.8)\n",
    "    ax.set_title(re_cates[pos])\n",
    "    ax.text(0.1, 0.95, subs[pos], fontsize=12, ha='left', va='top', transform=ax.transAxes)\n",
    "    if j != 0:\n",
    "        ax.set_yticklabels([])\n",
    "        ax.tick_params(axis='y', direction='in')\n",
    "        \n",
    "    # draw dots\n",
    "    xcols = np.array([(mapper.to_rgba(v)) for v in xs])\n",
    "    for x, ylab, coll in zip(xs, ylabels, xcols):\n",
    "        if ylab == 'Woman':\n",
    "            ax.plot([x], [ylab], color='b', marker='o', markersize=5)\n",
    "        else:\n",
    "            ax.plot([x], [ylab], color=coll, marker='o', markersize=5)\n",
    "\n",
    "fig.subplots_adjust(wspace=0.15)\n",
    "\n",
    "cbar = fig.colorbar(mapper, ax=axes.ravel().tolist(), fraction=0.2, pad=0.02)#, format=\"%0.2f\")\n",
    "# cbar.ax.set_ylabel(cbarlabel, rotation=-90, va=\"bottom\")\n",
    "cbar.ax.tick_params(axis='y', direction='in')\n",
    "# cbar.ax.set_xlim(-0.05, 0)\n",
    "cbar.set_ticks([-0.04, -0.02, 0, 0.02])\n",
    "cbar.set_ticklabels(['-0.04', '-0.02', ' 0.00', ' 0.02'])\n",
    "\n",
    "plt.xlim([-0.1, 0.07])\n",
    "fig.text(0.43, -0.02, 'Probability of being credited in news compared to Man/Anglo named authors', ha='center', va='center')\n",
    "plt.show()\n",
    "fig.savefig(data_root+'three_ame_us.pdf', bbox_inches='tight', pad_inches=0.01)"
   ]
  },
  {
   "cell_type": "markdown",
   "metadata": {},
   "source": [
    "### SI version of Fig 2 - Using full data"
   ]
  },
  {
   "cell_type": "code",
   "execution_count": 23,
   "metadata": {},
   "outputs": [
    {
     "data": {
      "image/png": "[encoded data removed]",
      "text/plain": [
       "<Figure size 684x216 with 4 Axes>"
      ]
     },
     "metadata": {
      "needs_background": "light"
     },
     "output_type": "display_data"
    }
   ],
   "source": [
    "cates = [\n",
    "    'reg_table/big_mfx_table_R_margins.csv',\n",
    "    'quote/margins.csv',\n",
    "    'indirect/margins.csv'\n",
    "]\n",
    "re_cates = [\n",
    "    'Mention',\n",
    "    'Quote',\n",
    "    'Inst. Substitution'\n",
    "]\n",
    "subs = ['(a)', '(b)', '(c)']\n",
    "\n",
    "nrows = 1\n",
    "ncols = 3\n",
    "fig, axes = plt.subplots(nrows=nrows, ncols=ncols, figsize=(9.5, 3), sharex=True)\n",
    "\n",
    "s = 4 # markersize\n",
    "lw = 1.5 # linewidth\n",
    "\n",
    "all_xs = []\n",
    "for cate in cates:  \n",
    "    df = pd.read_csv(data_root + 'reg_results/%s'%cate, header=0, index_col='factor')\n",
    "    df = df.loc[df.index.isin(cols)]\n",
    "    df = df.reindex(cols)\n",
    "    xs = df['AME'].values\n",
    "    all_xs.extend(xs)\n",
    "all_xs = np.array(all_xs)\n",
    "norm = matplotlib.colors.Normalize(vmin=min(all_xs), vmax=max(all_xs))\n",
    "# use reversed color bar by adding '_r'\n",
    "mapper = cm.ScalarMappable(norm=norm, cmap='Reds_r')\n",
    "\n",
    "for pos, cate in enumerate(cates):\n",
    "    j = pos%ncols\n",
    "    ax = axes[j]\n",
    "    df = pd.read_csv(data_root + 'reg_results/%s'%cate, header=0, index_col='factor')\n",
    "    df = df.loc[df.index.isin(cols)]\n",
    "    df = df.reindex(cols)\n",
    "    xs = df['AME'].values\n",
    "    confs = (df['upper'] - df['AME']).values\n",
    "    \n",
    "    # ax.errorbar(xs[::-1], ylabels[::-1], xerr=confs[::-1], fmt='bo', markersize=s, linewidth=lw, fillstyle='full')\n",
    "    ax.errorbar(xs[::-1], ylabels[::-1], xerr=confs[::-1], color='k', fmt='.', markersize=2, linewidth=2)\n",
    "    ax.axvline(0, color='k', linestyle='--', linewidth = 0.8)\n",
    "    ax.set_title(re_cates[pos])\n",
    "    ax.text(0.1, 0.95, subs[pos], fontsize=12, ha='left', va='top', transform=ax.transAxes)\n",
    "    if j != 0:\n",
    "        ax.set_yticklabels([])\n",
    "        ax.tick_params(axis='y', direction='in')\n",
    "        \n",
    "    # draw dots\n",
    "    xcols = np.array([(mapper.to_rgba(v)) for v in xs])\n",
    "    for x, ylab, coll in zip(xs, ylabels, xcols):\n",
    "        if ylab == 'Woman':\n",
    "            ax.plot([x], [ylab], color='b', marker='o', markersize=5)\n",
    "        else:\n",
    "            ax.plot([x], [ylab], color=coll, marker='o', markersize=5)\n",
    "\n",
    "# plt.tight_layout()\n",
    "fig.subplots_adjust(wspace=0.15)\n",
    "\n",
    "cbar = fig.colorbar(mapper, ax=axes.ravel().tolist(), fraction=0.2, pad=0.02)#, format=\"%0.2f\")\n",
    "# cbar.ax.set_ylabel(cbarlabel, rotation=-90, va=\"bottom\")\n",
    "cbar.ax.tick_params(axis='y', direction='in')\n",
    "# cbar.ax.set_xlim(-0.05, 0)\n",
    "cbar.set_ticks([-0.06, -0.04, -0.02, 0, 0.02])\n",
    "cbar.set_ticklabels(['-0.06', '-0.04', '-0.02', ' 0.00', ' 0.02'])\n",
    "\n",
    "plt.xlim([-0.1, 0.07])\n",
    "fig.text(0.43, -0.02, 'Probability of being credited in news compared to Man/Anglo named authors', ha='center', va='center')\n",
    "plt.show()\n",
    "fig.savefig(data_root+'three_ame_full.pdf', bbox_inches='tight', pad_inches=0.01)"
   ]
  },
  {
   "cell_type": "code",
   "execution_count": null,
   "metadata": {},
   "outputs": [],
   "source": []
  }
 ],
 "metadata": {
  "kernelspec": {
   "display_name": "Python 3 (ipykernel)",
   "language": "python",
   "name": "python3"
  },
  "language_info": {
   "codemirror_mode": {
    "name": "ipython",
    "version": 3
   },
   "file_extension": ".py",
   "mimetype": "text/x-python",
   "name": "python",
   "nbconvert_exporter": "python",
   "pygments_lexer": "ipython3",
   "version": "3.8.13"
  }
 },
 "nbformat": 4,
 "nbformat_minor": 2
}
