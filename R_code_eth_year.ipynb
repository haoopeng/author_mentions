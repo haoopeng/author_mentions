{
 "cells": [
  {
   "cell_type": "code",
   "execution_count": 1,
   "metadata": {},
   "outputs": [],
   "source": [
    "data_root <- \"/shared/0/projects/news-quotes/\""
   ]
  },
  {
   "cell_type": "code",
   "execution_count": 3,
   "metadata": {
    "scrolled": false
   },
   "outputs": [],
   "source": [
    "library(\"lme4\")\n",
    "library(\"margins\")\n",
    "library(\"stargazer\")\n",
    "library(\"ggeffects\")"
   ]
  },
  {
   "cell_type": "code",
   "execution_count": 4,
   "metadata": {},
   "outputs": [],
   "source": [
    "mydata <- read.csv(paste(data_root, \"reg_data.csv\", sep = ''), header = TRUE)"
   ]
  },
  {
   "cell_type": "code",
   "execution_count": 5,
   "metadata": {},
   "outputs": [
    {
     "data": {
      "text/html": [
       "524052"
      ],
      "text/latex": [
       "524052"
      ],
      "text/markdown": [
       "524052"
      ],
      "text/plain": [
       "[1] 524052"
      ]
     },
     "metadata": {},
     "output_type": "display_data"
    }
   ],
   "source": [
    "nrow(mydata)"
   ]
  },
  {
   "cell_type": "code",
   "execution_count": 6,
   "metadata": {},
   "outputs": [
    {
     "data": {
      "text/html": [
       "249"
      ],
      "text/latex": [
       "249"
      ],
      "text/markdown": [
       "249"
      ],
      "text/plain": [
       "[1] 249"
      ]
     },
     "metadata": {},
     "output_type": "display_data"
    }
   ],
   "source": [
    "ncol(mydata)"
   ]
  },
  {
   "cell_type": "code",
   "execution_count": 7,
   "metadata": {},
   "outputs": [],
   "source": [
    "# coarsen reporters into 4 groups.\n",
    "mydata$reporter_eth_ethnea_broad <- as.character(mydata$reporter_eth_ethnea_broad)\n",
    "mydata$reporter_eth_ethnea_broad[mydata$reporter_eth_ethnea_broad == 'EasternEuropean'] <- 'European'\n",
    "mydata$reporter_eth_ethnea_broad[mydata$reporter_eth_ethnea_broad == 'WesternNorthernEuropean'] <- 'European'\n",
    "mydata$reporter_eth_ethnea_broad[mydata$reporter_eth_ethnea_broad == 'SouthernEuropean'] <- 'European'\n",
    "mydata$reporter_eth_ethnea_broad[mydata$reporter_eth_ethnea_broad == 'Chinese'] <- 'Asian'\n",
    "mydata$reporter_eth_ethnea_broad[mydata$reporter_eth_ethnea_broad == 'Indian'] <- 'Asian'\n",
    "mydata$reporter_eth_ethnea_broad[mydata$reporter_eth_ethnea_broad == 'EastAsian'] <- 'Asian'\n",
    "mydata$reporter_eth_ethnea_broad[mydata$reporter_eth_ethnea_broad == 'MiddleEastern'] <- 'OtherUnknown'\n",
    "mydata$reporter_eth_ethnea_broad[mydata$reporter_eth_ethnea_broad == 'African'] <- 'OtherUnknown'\n",
    "mydata$reporter_eth_ethnea_broad[mydata$reporter_eth_ethnea_broad == 'unknown'] <- 'OtherUnknown'\n",
    "mydata$reporter_eth_ethnea_broad <- as.factor(mydata$reporter_eth_ethnea_broad)"
   ]
  },
  {
   "cell_type": "code",
   "execution_count": 8,
   "metadata": {},
   "outputs": [],
   "source": [
    "mydata <- within(mydata, author_eth_ethnea_broad <- relevel(author_eth_ethnea_broad, ref = 'English'))\n",
    "mydata <- within(mydata, reporter_eth_ethnea_broad <- relevel(reporter_eth_ethnea_broad, ref = 'English'))\n",
    "mydata <- within(mydata, author_gender_ethnea <- relevel(author_gender_ethnea, ref = 'M'))\n",
    "mydata <- within(mydata, reporter_gender_ethnea <- relevel(reporter_gender_ethnea, ref = 'M'))"
   ]
  },
  {
   "cell_type": "code",
   "execution_count": 9,
   "metadata": {},
   "outputs": [],
   "source": [
    "mydata <- within(mydata, author_pos_cate <- relevel(author_pos_cate, ref = 'last_position'))\n",
    "mydata <- within(mydata, is_top_author <- relevel(is_top_author, ref = 'yes'))\n",
    "mydata <- within(mydata, is_corresponding <- relevel(is_corresponding, ref = 'yes'))\n",
    "mydata <- within(mydata, affiliation_cate <- relevel(affiliation_cate, ref = 'domestic'))"
   ]
  },
  {
   "cell_type": "code",
   "execution_count": 15,
   "metadata": {},
   "outputs": [],
   "source": [
    "base_str <- \"is_author_mentioned ~ 1 + author_gender_ethnea + reporter_eth_ethnea_broad + reporter_gender_ethnea + \\\n",
    "          last_name_length + last_name_prob + author_pos_cate + author_rank + is_top_author + is_corresponding + \\\n",
    "          affiliation_rank + affiliation_cate + num_authors + mention_year_center + gap_in_years + \\\n",
    "          num_words + num_mentioned_papers + FleschReadingEase + sentences_per_paragraph + type_token_ratio\"\n",
    "\n",
    "# 199 keywords\n",
    "keywords <- \" + Cell_biology + Genetics + Biology + Body_mass_index + Health_care + Disease + Gerontology + Population + Public_health + Medicine + Materials_science + Composite_material + Nanotechnology + Cohort_study + Social_psychology + Cohort + Psychological_intervention + Young_adult + Family_medicine + Cancer + Surgery + Randomized_controlled_trial + Placebo + Clinical_trial + Nursing + Applied_psychology + Human_factors_and_ergonomics + Injury_prevention + Suicide_prevention + Psychiatry + Occupational_safety_and_health + Intensive_care_medicine + Pediatrics + Hazard_ratio + Confidence_interval + Retrospective_cohort_study + Vaccination + Psychology + Perception + Cognition + Environmental_health + Obesity + Risk_factor + Quality_of_life + Physical_therapy + Weight_loss + Anatomy + Mental_health + Psychosocial + Anxiety + Distress + Business + Public_relations + Marketing + Immunology + Global_warming + Economics + Climatology + Climate_change + General_surgery + Endocrinology + Internal_medicine + Receptor + Inflammation + Stimulus__physiology_ + Immune_system + Meta_analysis + Sociology + Gene + Cancer_research + Breast_cancer + Cell + Diabetes_mellitus + Blood_pressure + Oncology + Gynecology + Communication + Cognitive_psychology + Adverse_effect + Clinical_endpoint + Pharmacology + Virology + Risk_assessment + Transcription_factor + Political_science + Ecology + Geography + Cross_sectional_study + Odds_ratio + Comorbidity + Environmental_engineering + Chemistry + Medical_emergency + Physics + Social_science + Ethnic_group + Labour_economics + Antibody + Geomorphology + Geophysics + Geology + Ranging + Stroke + Environmental_resource_management + Type_2_diabetes + Cardiology + Molecular_biology + Developmental_psychology + Agriculture + Signal_transduction + Optoelectronics + Psychotherapist + Affect__psychology_ + Clinical_psychology + Anesthesia + Atmospheric_sciences + In_vivo + Biochemistry + Analytical_chemistry + Neuroscience + Botany + Gene_expression + Politics + Demography + Socioeconomic_status + Mortality_rate + Virus + Optics + Condensed_matter_physics + Bioinformatics + Law + Physical_medicine_and_rehabilitation + Stem_cell + Biodiversity + Astrophysics + Astronomy + Radiology + Pathology + Proportional_hazards_model + Chemotherapy + Predation + Food_science + Artificial_intelligence + Overweight + Antibiotics + Microbiology + Zoology + Paleontology + Habitat + Public_administration + Ecosystem + Economic_growth + Organic_chemistry + Government + Autism + Transplantation + Gastroenterology + Insulin + Engineering + Computer_science + Observational_study + Heart_disease + Epidemiology + Obstetrics + Pregnancy + Fishery + Alternative_medicine + Logistic_regression + Offspring + Mood + Bacteria + Prostate_cancer + Evolutionary_biology + Phenomenon + Longitudinal_study + Genome + Mutation + Pedagogy + Dementia + Relative_risk + Microeconomics + Odds + Feeling + Oceanography + Emergency_medicine + Personality + Prospective_cohort_study + Hippocampus + Greenhouse_gas + Biomarker__medicine_ + Myocardial_infarction + Socioeconomics + Drug + Environmental_science + Epigenetics + Inorganic_chemistry + Emergency_department + Medical_prescription + Phenotype\""
   ]
  },
  {
   "cell_type": "code",
   "execution_count": 16,
   "metadata": {},
   "outputs": [],
   "source": [
    "equation_bar <- as.formula(paste(base_str, keywords, \" + (1|journal_title) + (1|outlet)\", sep = \" \"))"
   ]
  },
  {
   "cell_type": "markdown",
   "metadata": {},
   "source": [
    "### English (British-origin)"
   ]
  },
  {
   "cell_type": "code",
   "execution_count": 12,
   "metadata": {},
   "outputs": [],
   "source": [
    "subdata = mydata[mydata$author_eth_ethnea_broad == 'English', ]"
   ]
  },
  {
   "cell_type": "code",
   "execution_count": 13,
   "metadata": {},
   "outputs": [
    {
     "data": {
      "text/html": [
       "234510"
      ],
      "text/latex": [
       "234510"
      ],
      "text/markdown": [
       "234510"
      ],
      "text/plain": [
       "[1] 234510"
      ]
     },
     "metadata": {},
     "output_type": "display_data"
    }
   ],
   "source": [
    "nrow(subdata)"
   ]
  },
  {
   "cell_type": "code",
   "execution_count": 17,
   "metadata": {
    "scrolled": false
   },
   "outputs": [],
   "source": [
    "m_eng <- glmer(formula = equation_bar, data = subdata, family = \"binomial\", control = glmerControl(optimizer = \"nloptwrap\"), nAGQ = 0)"
   ]
  },
  {
   "cell_type": "code",
   "execution_count": 133,
   "metadata": {
    "scrolled": true
   },
   "outputs": [
    {
     "data": {
      "text/html": [
       "<dl class=dl-horizontal>\n",
       "\t<dt>Estimate</dt>\n",
       "\t\t<dd>-0.0514214613310041</dd>\n",
       "\t<dt>Std. Error</dt>\n",
       "\t\t<dd>0.0034743363990847</dd>\n",
       "\t<dt>z value</dt>\n",
       "\t\t<dd>-14.8003691710886</dd>\n",
       "\t<dt>Pr(&gt;|z|)</dt>\n",
       "\t\t<dd>1.45680851695971e-49</dd>\n",
       "</dl>\n"
      ],
      "text/latex": [
       "\\begin{description*}\n",
       "\\item[Estimate] -0.0514214613310041\n",
       "\\item[Std. Error] 0.0034743363990847\n",
       "\\item[z value] -14.8003691710886\n",
       "\\item[Pr(>\\textbackslash{}textbar\\{\\}z\\textbackslash{}textbar\\{\\})] 1.45680851695971e-49\n",
       "\\end{description*}\n"
      ],
      "text/markdown": [
       "Estimate\n",
       ":   -0.0514214613310041Std. Error\n",
       ":   0.0034743363990847z value\n",
       ":   -14.8003691710886Pr(&amp;gt;|z|)\n",
       ":   1.45680851695971e-49\n",
       "\n"
      ],
      "text/plain": [
       "     Estimate    Std. Error       z value      Pr(>|z|) \n",
       "-5.142146e-02  3.474336e-03 -1.480037e+01  1.456809e-49 "
      ]
     },
     "metadata": {},
     "output_type": "display_data"
    }
   ],
   "source": [
    "summary(m_eng)$coefficients[\"mention_year_center\", ]"
   ]
  },
  {
   "cell_type": "code",
   "execution_count": 14,
   "metadata": {},
   "outputs": [],
   "source": [
    "# marg_eff <- marginal_effects(m_eng, variables = \"mention_year_center\")"
   ]
  },
  {
   "cell_type": "code",
   "execution_count": 17,
   "metadata": {},
   "outputs": [],
   "source": [
    "# write.csv(marg_eff, \"/shared/0/projects/news-quotes/reg_results/year/English.csv\", row.names = FALSE)"
   ]
  },
  {
   "cell_type": "code",
   "execution_count": 134,
   "metadata": {},
   "outputs": [],
   "source": [
    "margins_eff <- margins(m_eng, data = subdata, variables = \"mention_year_center\", eps = 1)"
   ]
  },
  {
   "cell_type": "code",
   "execution_count": 135,
   "metadata": {},
   "outputs": [],
   "source": [
    "write.csv(summary(margins_eff), \"/shared/0/projects/news-quotes/reg_results/year/margins_one_year_change/English_margins.csv\", row.names = FALSE)"
   ]
  },
  {
   "cell_type": "markdown",
   "metadata": {},
   "source": [
    "### Southern European"
   ]
  },
  {
   "cell_type": "code",
   "execution_count": 136,
   "metadata": {},
   "outputs": [],
   "source": [
    "subdata = mydata[mydata$author_eth_ethnea_broad == 'SouthernEuropean', ]"
   ]
  },
  {
   "cell_type": "code",
   "execution_count": 137,
   "metadata": {},
   "outputs": [
    {
     "data": {
      "text/html": [
       "51134"
      ],
      "text/latex": [
       "51134"
      ],
      "text/markdown": [
       "51134"
      ],
      "text/plain": [
       "[1] 51134"
      ]
     },
     "metadata": {},
     "output_type": "display_data"
    }
   ],
   "source": [
    "nrow(subdata)"
   ]
  },
  {
   "cell_type": "code",
   "execution_count": 138,
   "metadata": {
    "scrolled": false
   },
   "outputs": [
    {
     "name": "stderr",
     "output_type": "stream",
     "text": [
      "Warning message:\n",
      "“Some predictor variables are on very different scales: consider rescaling”"
     ]
    }
   ],
   "source": [
    "m_rom <- glmer(formula = equation_bar, data = subdata, family = \"binomial\", control = glmerControl(optimizer = \"nloptwrap\"), nAGQ = 0)"
   ]
  },
  {
   "cell_type": "code",
   "execution_count": 139,
   "metadata": {
    "scrolled": true
   },
   "outputs": [
    {
     "data": {
      "text/html": [
       "<dl class=dl-horizontal>\n",
       "\t<dt>Estimate</dt>\n",
       "\t\t<dd>-0.0459202740470891</dd>\n",
       "\t<dt>Std. Error</dt>\n",
       "\t\t<dd>0.00772196865449012</dd>\n",
       "\t<dt>z value</dt>\n",
       "\t\t<dd>-5.94670557492974</dd>\n",
       "\t<dt>Pr(&gt;|z|)</dt>\n",
       "\t\t<dd>2.73592873363796e-09</dd>\n",
       "</dl>\n"
      ],
      "text/latex": [
       "\\begin{description*}\n",
       "\\item[Estimate] -0.0459202740470891\n",
       "\\item[Std. Error] 0.00772196865449012\n",
       "\\item[z value] -5.94670557492974\n",
       "\\item[Pr(>\\textbackslash{}textbar\\{\\}z\\textbackslash{}textbar\\{\\})] 2.73592873363796e-09\n",
       "\\end{description*}\n"
      ],
      "text/markdown": [
       "Estimate\n",
       ":   -0.0459202740470891Std. Error\n",
       ":   0.00772196865449012z value\n",
       ":   -5.94670557492974Pr(&amp;gt;|z|)\n",
       ":   2.73592873363796e-09\n",
       "\n"
      ],
      "text/plain": [
       "     Estimate    Std. Error       z value      Pr(>|z|) \n",
       "-4.592027e-02  7.721969e-03 -5.946706e+00  2.735929e-09 "
      ]
     },
     "metadata": {},
     "output_type": "display_data"
    }
   ],
   "source": [
    "summary(m_rom)$coefficients[\"mention_year_center\", ]"
   ]
  },
  {
   "cell_type": "code",
   "execution_count": 140,
   "metadata": {},
   "outputs": [],
   "source": [
    "margins_eff <- margins(m_rom, data = subdata, variables = \"mention_year_center\", eps = 1)"
   ]
  },
  {
   "cell_type": "code",
   "execution_count": 141,
   "metadata": {},
   "outputs": [],
   "source": [
    "write.csv(summary(margins_eff), \"/shared/0/projects/news-quotes/reg_results/year/margins_one_year_change/SouthernEuropean_margins.csv\", row.names = FALSE)"
   ]
  },
  {
   "cell_type": "markdown",
   "metadata": {},
   "source": [
    "### WesternNorthern European"
   ]
  },
  {
   "cell_type": "code",
   "execution_count": 142,
   "metadata": {},
   "outputs": [],
   "source": [
    "subdata = mydata[mydata$author_eth_ethnea_broad == 'WesternNorthernEuropean', ]"
   ]
  },
  {
   "cell_type": "code",
   "execution_count": 143,
   "metadata": {
    "scrolled": true
   },
   "outputs": [
    {
     "data": {
      "text/html": [
       "106331"
      ],
      "text/latex": [
       "106331"
      ],
      "text/markdown": [
       "106331"
      ],
      "text/plain": [
       "[1] 106331"
      ]
     },
     "metadata": {},
     "output_type": "display_data"
    }
   ],
   "source": [
    "nrow(subdata)"
   ]
  },
  {
   "cell_type": "code",
   "execution_count": 144,
   "metadata": {
    "scrolled": true
   },
   "outputs": [
    {
     "name": "stderr",
     "output_type": "stream",
     "text": [
      "Warning message:\n",
      "“Some predictor variables are on very different scales: consider rescaling”"
     ]
    }
   ],
   "source": [
    "m_north_euro <- glmer(formula = equation_bar, data = subdata, family = \"binomial\", control = glmerControl(optimizer = \"nloptwrap\"), nAGQ = 0)"
   ]
  },
  {
   "cell_type": "code",
   "execution_count": 145,
   "metadata": {
    "scrolled": true
   },
   "outputs": [
    {
     "data": {
      "text/html": [
       "<dl class=dl-horizontal>\n",
       "\t<dt>Estimate</dt>\n",
       "\t\t<dd>-0.062267988892724</dd>\n",
       "\t<dt>Std. Error</dt>\n",
       "\t\t<dd>0.00520125412120332</dd>\n",
       "\t<dt>z value</dt>\n",
       "\t\t<dd>-11.9717259418039</dd>\n",
       "\t<dt>Pr(&gt;|z|)</dt>\n",
       "\t\t<dd>4.99780308929627e-33</dd>\n",
       "</dl>\n"
      ],
      "text/latex": [
       "\\begin{description*}\n",
       "\\item[Estimate] -0.062267988892724\n",
       "\\item[Std. Error] 0.00520125412120332\n",
       "\\item[z value] -11.9717259418039\n",
       "\\item[Pr(>\\textbackslash{}textbar\\{\\}z\\textbackslash{}textbar\\{\\})] 4.99780308929627e-33\n",
       "\\end{description*}\n"
      ],
      "text/markdown": [
       "Estimate\n",
       ":   -0.062267988892724Std. Error\n",
       ":   0.00520125412120332z value\n",
       ":   -11.9717259418039Pr(&amp;gt;|z|)\n",
       ":   4.99780308929627e-33\n",
       "\n"
      ],
      "text/plain": [
       "     Estimate    Std. Error       z value      Pr(>|z|) \n",
       "-6.226799e-02  5.201254e-03 -1.197173e+01  4.997803e-33 "
      ]
     },
     "metadata": {},
     "output_type": "display_data"
    }
   ],
   "source": [
    "summary(m_north_euro)$coefficients[\"mention_year_center\", ]"
   ]
  },
  {
   "cell_type": "code",
   "execution_count": 146,
   "metadata": {},
   "outputs": [],
   "source": [
    "margins_eff <- margins(m_north_euro, data = subdata, variables = \"mention_year_center\", eps = 1)"
   ]
  },
  {
   "cell_type": "code",
   "execution_count": 147,
   "metadata": {},
   "outputs": [],
   "source": [
    "write.csv(summary(margins_eff), \"/shared/0/projects/news-quotes/reg_results/year/margins_one_year_change/WesternNorthernEuropean_margins.csv\", row.names = FALSE)"
   ]
  },
  {
   "cell_type": "markdown",
   "metadata": {},
   "source": [
    "### Chinese"
   ]
  },
  {
   "cell_type": "code",
   "execution_count": 148,
   "metadata": {},
   "outputs": [],
   "source": [
    "subdata = mydata[mydata$author_eth_ethnea_broad == 'Chinese', ]"
   ]
  },
  {
   "cell_type": "code",
   "execution_count": 149,
   "metadata": {},
   "outputs": [
    {
     "data": {
      "text/html": [
       "43039"
      ],
      "text/latex": [
       "43039"
      ],
      "text/markdown": [
       "43039"
      ],
      "text/plain": [
       "[1] 43039"
      ]
     },
     "metadata": {},
     "output_type": "display_data"
    }
   ],
   "source": [
    "nrow(subdata)"
   ]
  },
  {
   "cell_type": "code",
   "execution_count": 150,
   "metadata": {},
   "outputs": [
    {
     "name": "stderr",
     "output_type": "stream",
     "text": [
      "Warning message:\n",
      "“Some predictor variables are on very different scales: consider rescaling”"
     ]
    }
   ],
   "source": [
    "m_chinese <- glmer(formula = equation_bar, data = subdata, family = \"binomial\", control = glmerControl(optimizer = \"nloptwrap\"), nAGQ = 0)"
   ]
  },
  {
   "cell_type": "code",
   "execution_count": 151,
   "metadata": {
    "scrolled": true
   },
   "outputs": [
    {
     "data": {
      "text/html": [
       "<dl class=dl-horizontal>\n",
       "\t<dt>Estimate</dt>\n",
       "\t\t<dd>-0.0525095820402417</dd>\n",
       "\t<dt>Std. Error</dt>\n",
       "\t\t<dd>0.00839796951849971</dd>\n",
       "\t<dt>z value</dt>\n",
       "\t\t<dd>-6.25265213508687</dd>\n",
       "\t<dt>Pr(&gt;|z|)</dt>\n",
       "\t\t<dd>4.03540319940815e-10</dd>\n",
       "</dl>\n"
      ],
      "text/latex": [
       "\\begin{description*}\n",
       "\\item[Estimate] -0.0525095820402417\n",
       "\\item[Std. Error] 0.00839796951849971\n",
       "\\item[z value] -6.25265213508687\n",
       "\\item[Pr(>\\textbackslash{}textbar\\{\\}z\\textbackslash{}textbar\\{\\})] 4.03540319940815e-10\n",
       "\\end{description*}\n"
      ],
      "text/markdown": [
       "Estimate\n",
       ":   -0.0525095820402417Std. Error\n",
       ":   0.00839796951849971z value\n",
       ":   -6.25265213508687Pr(&amp;gt;|z|)\n",
       ":   4.03540319940815e-10\n",
       "\n"
      ],
      "text/plain": [
       "     Estimate    Std. Error       z value      Pr(>|z|) \n",
       "-5.250958e-02  8.397970e-03 -6.252652e+00  4.035403e-10 "
      ]
     },
     "metadata": {},
     "output_type": "display_data"
    }
   ],
   "source": [
    "summary(m_chinese)$coefficients[\"mention_year_center\", ]"
   ]
  },
  {
   "cell_type": "code",
   "execution_count": 152,
   "metadata": {},
   "outputs": [],
   "source": [
    "margins_eff <- margins(m_chinese, data = subdata, variables = \"mention_year_center\", eps = 1)"
   ]
  },
  {
   "cell_type": "code",
   "execution_count": 153,
   "metadata": {},
   "outputs": [],
   "source": [
    "write.csv(summary(margins_eff), \"/shared/0/projects/news-quotes/reg_results/year/margins_one_year_change/Chinese_margins.csv\", row.names = FALSE)"
   ]
  },
  {
   "cell_type": "markdown",
   "metadata": {},
   "source": [
    "### Middle Eastern"
   ]
  },
  {
   "cell_type": "code",
   "execution_count": 154,
   "metadata": {},
   "outputs": [],
   "source": [
    "subdata = mydata[mydata$author_eth_ethnea_broad == 'MiddleEastern', ]"
   ]
  },
  {
   "cell_type": "code",
   "execution_count": 155,
   "metadata": {},
   "outputs": [
    {
     "data": {
      "text/html": [
       "26082"
      ],
      "text/latex": [
       "26082"
      ],
      "text/markdown": [
       "26082"
      ],
      "text/plain": [
       "[1] 26082"
      ]
     },
     "metadata": {},
     "output_type": "display_data"
    }
   ],
   "source": [
    "nrow(subdata)"
   ]
  },
  {
   "cell_type": "code",
   "execution_count": 156,
   "metadata": {},
   "outputs": [
    {
     "name": "stderr",
     "output_type": "stream",
     "text": [
      "Warning message:\n",
      "“Some predictor variables are on very different scales: consider rescaling”"
     ]
    }
   ],
   "source": [
    "m_mid <- glmer(formula = equation_bar, data = subdata, family = \"binomial\", control = glmerControl(optimizer = \"nloptwrap\"), nAGQ = 0)"
   ]
  },
  {
   "cell_type": "code",
   "execution_count": 157,
   "metadata": {},
   "outputs": [
    {
     "data": {
      "text/html": [
       "<dl class=dl-horizontal>\n",
       "\t<dt>Estimate</dt>\n",
       "\t\t<dd>-0.0649502953330586</dd>\n",
       "\t<dt>Std. Error</dt>\n",
       "\t\t<dd>0.0118117894348118</dd>\n",
       "\t<dt>z value</dt>\n",
       "\t\t<dd>-5.49876847123915</dd>\n",
       "\t<dt>Pr(&gt;|z|)</dt>\n",
       "\t\t<dd>3.82452906563361e-08</dd>\n",
       "</dl>\n"
      ],
      "text/latex": [
       "\\begin{description*}\n",
       "\\item[Estimate] -0.0649502953330586\n",
       "\\item[Std. Error] 0.0118117894348118\n",
       "\\item[z value] -5.49876847123915\n",
       "\\item[Pr(>\\textbackslash{}textbar\\{\\}z\\textbackslash{}textbar\\{\\})] 3.82452906563361e-08\n",
       "\\end{description*}\n"
      ],
      "text/markdown": [
       "Estimate\n",
       ":   -0.0649502953330586Std. Error\n",
       ":   0.0118117894348118z value\n",
       ":   -5.49876847123915Pr(&amp;gt;|z|)\n",
       ":   3.82452906563361e-08\n",
       "\n"
      ],
      "text/plain": [
       "     Estimate    Std. Error       z value      Pr(>|z|) \n",
       "-6.495030e-02  1.181179e-02 -5.498768e+00  3.824529e-08 "
      ]
     },
     "metadata": {},
     "output_type": "display_data"
    }
   ],
   "source": [
    "summary(m_mid)$coefficients[\"mention_year_center\", ]"
   ]
  },
  {
   "cell_type": "code",
   "execution_count": 158,
   "metadata": {},
   "outputs": [],
   "source": [
    "margins_eff <- margins(m_mid, data = subdata, variables = \"mention_year_center\", eps = 1)"
   ]
  },
  {
   "cell_type": "code",
   "execution_count": 159,
   "metadata": {},
   "outputs": [],
   "source": [
    "write.csv(summary(margins_eff), \"/shared/0/projects/news-quotes/reg_results/year/margins_one_year_change/MiddleEast_margins.csv\", row.names = FALSE)"
   ]
  },
  {
   "cell_type": "markdown",
   "metadata": {},
   "source": [
    "### Eastern European"
   ]
  },
  {
   "cell_type": "code",
   "execution_count": 160,
   "metadata": {},
   "outputs": [],
   "source": [
    "subdata = mydata[mydata$author_eth_ethnea_broad == 'EasternEuropean', ]"
   ]
  },
  {
   "cell_type": "code",
   "execution_count": 161,
   "metadata": {},
   "outputs": [
    {
     "data": {
      "text/html": [
       "17251"
      ],
      "text/latex": [
       "17251"
      ],
      "text/markdown": [
       "17251"
      ],
      "text/plain": [
       "[1] 17251"
      ]
     },
     "metadata": {},
     "output_type": "display_data"
    }
   ],
   "source": [
    "nrow(subdata)"
   ]
  },
  {
   "cell_type": "code",
   "execution_count": 162,
   "metadata": {},
   "outputs": [
    {
     "name": "stderr",
     "output_type": "stream",
     "text": [
      "Warning message:\n",
      "“Some predictor variables are on very different scales: consider rescaling”"
     ]
    }
   ],
   "source": [
    "m_east_euro <- glmer(formula = equation_bar, data = subdata, family = \"binomial\", control = glmerControl(optimizer = \"nloptwrap\"), nAGQ = 0)"
   ]
  },
  {
   "cell_type": "code",
   "execution_count": 163,
   "metadata": {},
   "outputs": [
    {
     "data": {
      "text/html": [
       "<dl class=dl-horizontal>\n",
       "\t<dt>Estimate</dt>\n",
       "\t\t<dd>-0.0509137568521539</dd>\n",
       "\t<dt>Std. Error</dt>\n",
       "\t\t<dd>0.0140656826948869</dd>\n",
       "\t<dt>z value</dt>\n",
       "\t\t<dd>-3.61971458880284</dd>\n",
       "\t<dt>Pr(&gt;|z|)</dt>\n",
       "\t\t<dd>0.000294928141388865</dd>\n",
       "</dl>\n"
      ],
      "text/latex": [
       "\\begin{description*}\n",
       "\\item[Estimate] -0.0509137568521539\n",
       "\\item[Std. Error] 0.0140656826948869\n",
       "\\item[z value] -3.61971458880284\n",
       "\\item[Pr(>\\textbackslash{}textbar\\{\\}z\\textbackslash{}textbar\\{\\})] 0.000294928141388865\n",
       "\\end{description*}\n"
      ],
      "text/markdown": [
       "Estimate\n",
       ":   -0.0509137568521539Std. Error\n",
       ":   0.0140656826948869z value\n",
       ":   -3.61971458880284Pr(&amp;gt;|z|)\n",
       ":   0.000294928141388865\n",
       "\n"
      ],
      "text/plain": [
       "     Estimate    Std. Error       z value      Pr(>|z|) \n",
       "-0.0509137569  0.0140656827 -3.6197145888  0.0002949281 "
      ]
     },
     "metadata": {},
     "output_type": "display_data"
    }
   ],
   "source": [
    "summary(m_east_euro)$coefficients[\"mention_year_center\", ]"
   ]
  },
  {
   "cell_type": "code",
   "execution_count": 164,
   "metadata": {},
   "outputs": [],
   "source": [
    "margins_eff <- margins(m_east_euro, data = subdata, variables = \"mention_year_center\", eps = 1)"
   ]
  },
  {
   "cell_type": "code",
   "execution_count": 165,
   "metadata": {},
   "outputs": [],
   "source": [
    "write.csv(summary(margins_eff), \"/shared/0/projects/news-quotes/reg_results/year/margins_one_year_change/EastEurope_margins.csv\", row.names = FALSE)"
   ]
  },
  {
   "cell_type": "markdown",
   "metadata": {},
   "source": [
    "### Indian"
   ]
  },
  {
   "cell_type": "code",
   "execution_count": 166,
   "metadata": {},
   "outputs": [],
   "source": [
    "subdata = mydata[mydata$author_eth_ethnea_broad == 'Indian', ]"
   ]
  },
  {
   "cell_type": "code",
   "execution_count": 167,
   "metadata": {},
   "outputs": [
    {
     "data": {
      "text/html": [
       "21314"
      ],
      "text/latex": [
       "21314"
      ],
      "text/markdown": [
       "21314"
      ],
      "text/plain": [
       "[1] 21314"
      ]
     },
     "metadata": {},
     "output_type": "display_data"
    }
   ],
   "source": [
    "nrow(subdata)"
   ]
  },
  {
   "cell_type": "code",
   "execution_count": 168,
   "metadata": {},
   "outputs": [
    {
     "name": "stderr",
     "output_type": "stream",
     "text": [
      "Warning message:\n",
      "“Some predictor variables are on very different scales: consider rescaling”"
     ]
    }
   ],
   "source": [
    "m_ind <- glmer(formula = equation_bar, data = subdata, family = \"binomial\", control = glmerControl(optimizer = \"nloptwrap\"), nAGQ = 0)"
   ]
  },
  {
   "cell_type": "code",
   "execution_count": 169,
   "metadata": {},
   "outputs": [
    {
     "data": {
      "text/html": [
       "<dl class=dl-horizontal>\n",
       "\t<dt>Estimate</dt>\n",
       "\t\t<dd>-0.0752191788801589</dd>\n",
       "\t<dt>Std. Error</dt>\n",
       "\t\t<dd>0.0134828879534166</dd>\n",
       "\t<dt>z value</dt>\n",
       "\t\t<dd>-5.57886256564924</dd>\n",
       "\t<dt>Pr(&gt;|z|)</dt>\n",
       "\t\t<dd>2.42096420715443e-08</dd>\n",
       "</dl>\n"
      ],
      "text/latex": [
       "\\begin{description*}\n",
       "\\item[Estimate] -0.0752191788801589\n",
       "\\item[Std. Error] 0.0134828879534166\n",
       "\\item[z value] -5.57886256564924\n",
       "\\item[Pr(>\\textbackslash{}textbar\\{\\}z\\textbackslash{}textbar\\{\\})] 2.42096420715443e-08\n",
       "\\end{description*}\n"
      ],
      "text/markdown": [
       "Estimate\n",
       ":   -0.0752191788801589Std. Error\n",
       ":   0.0134828879534166z value\n",
       ":   -5.57886256564924Pr(&amp;gt;|z|)\n",
       ":   2.42096420715443e-08\n",
       "\n"
      ],
      "text/plain": [
       "     Estimate    Std. Error       z value      Pr(>|z|) \n",
       "-7.521918e-02  1.348289e-02 -5.578863e+00  2.420964e-08 "
      ]
     },
     "metadata": {},
     "output_type": "display_data"
    }
   ],
   "source": [
    "summary(m_ind)$coefficients[\"mention_year_center\", ]"
   ]
  },
  {
   "cell_type": "code",
   "execution_count": 170,
   "metadata": {},
   "outputs": [],
   "source": [
    "margins_eff <- margins(m_ind, data = subdata, variables = \"mention_year_center\", eps = 1)"
   ]
  },
  {
   "cell_type": "code",
   "execution_count": 171,
   "metadata": {},
   "outputs": [],
   "source": [
    "write.csv(summary(margins_eff), \"/shared/0/projects/news-quotes/reg_results/year/margins_one_year_change/Indian_margins.csv\", row.names = FALSE)"
   ]
  },
  {
   "cell_type": "markdown",
   "metadata": {},
   "source": [
    "### non-Chinese East Asian"
   ]
  },
  {
   "cell_type": "code",
   "execution_count": 172,
   "metadata": {},
   "outputs": [],
   "source": [
    "subdata = mydata[mydata$author_eth_ethnea_broad == 'EastAsian', ]"
   ]
  },
  {
   "cell_type": "code",
   "execution_count": 173,
   "metadata": {
    "scrolled": true
   },
   "outputs": [
    {
     "data": {
      "text/html": [
       "19068"
      ],
      "text/latex": [
       "19068"
      ],
      "text/markdown": [
       "19068"
      ],
      "text/plain": [
       "[1] 19068"
      ]
     },
     "metadata": {},
     "output_type": "display_data"
    }
   ],
   "source": [
    "nrow(subdata)"
   ]
  },
  {
   "cell_type": "code",
   "execution_count": 174,
   "metadata": {},
   "outputs": [
    {
     "data": {
      "text/html": [
       "<dl class=dl-horizontal>\n",
       "\t<dt>yes</dt>\n",
       "\t\t<dd>0</dd>\n",
       "\t<dt>no</dt>\n",
       "\t\t<dd>19068</dd>\n",
       "</dl>\n"
      ],
      "text/latex": [
       "\\begin{description*}\n",
       "\\item[yes] 0\n",
       "\\item[no] 19068\n",
       "\\end{description*}\n"
      ],
      "text/markdown": [
       "yes\n",
       ":   0no\n",
       ":   19068\n",
       "\n"
      ],
      "text/plain": [
       "  yes    no \n",
       "    0 19068 "
      ]
     },
     "metadata": {},
     "output_type": "display_data"
    }
   ],
   "source": [
    "summary(subdata$is_top_author)"
   ]
  },
  {
   "cell_type": "code",
   "execution_count": 175,
   "metadata": {},
   "outputs": [],
   "source": [
    "# removed top author status\n",
    "base_str <- \"is_author_mentioned ~ 1 + author_gender_ethnea + reporter_eth_ethnea_broad + reporter_gender_ethnea + \\\n",
    "          last_name_length + last_name_prob + author_pos_cate + author_rank + is_corresponding + \\\n",
    "          affiliation_rank + affiliation_cate + num_authors + mention_year_center + gap_in_years + \\\n",
    "          num_words + num_mentioned_papers + FleschReadingEase + sentences_per_paragraph + type_token_ratio\"\n",
    "equation_bar <- as.formula(paste(base_str, keywords, \" + (1|journal_title) + (1|outlet)\", sep = \" \"))"
   ]
  },
  {
   "cell_type": "code",
   "execution_count": 176,
   "metadata": {
    "scrolled": true
   },
   "outputs": [
    {
     "name": "stderr",
     "output_type": "stream",
     "text": [
      "Warning message:\n",
      "“Some predictor variables are on very different scales: consider rescaling”"
     ]
    }
   ],
   "source": [
    "m_asia <- glmer(formula = equation_bar, data = subdata, family = \"binomial\", control = glmerControl(optimizer = \"nloptwrap\"), nAGQ = 0)"
   ]
  },
  {
   "cell_type": "code",
   "execution_count": 177,
   "metadata": {},
   "outputs": [
    {
     "data": {
      "text/html": [
       "<dl class=dl-horizontal>\n",
       "\t<dt>Estimate</dt>\n",
       "\t\t<dd>-0.0348308799517972</dd>\n",
       "\t<dt>Std. Error</dt>\n",
       "\t\t<dd>0.013433935076291</dd>\n",
       "\t<dt>z value</dt>\n",
       "\t\t<dd>-2.59275333355368</dd>\n",
       "\t<dt>Pr(&gt;|z|)</dt>\n",
       "\t\t<dd>0.00952110307319903</dd>\n",
       "</dl>\n"
      ],
      "text/latex": [
       "\\begin{description*}\n",
       "\\item[Estimate] -0.0348308799517972\n",
       "\\item[Std. Error] 0.013433935076291\n",
       "\\item[z value] -2.59275333355368\n",
       "\\item[Pr(>\\textbackslash{}textbar\\{\\}z\\textbackslash{}textbar\\{\\})] 0.00952110307319903\n",
       "\\end{description*}\n"
      ],
      "text/markdown": [
       "Estimate\n",
       ":   -0.0348308799517972Std. Error\n",
       ":   0.013433935076291z value\n",
       ":   -2.59275333355368Pr(&amp;gt;|z|)\n",
       ":   0.00952110307319903\n",
       "\n"
      ],
      "text/plain": [
       "    Estimate   Std. Error      z value     Pr(>|z|) \n",
       "-0.034830880  0.013433935 -2.592753334  0.009521103 "
      ]
     },
     "metadata": {},
     "output_type": "display_data"
    }
   ],
   "source": [
    "summary(m_asia)$coefficients[\"mention_year_center\", ]"
   ]
  },
  {
   "cell_type": "code",
   "execution_count": 178,
   "metadata": {},
   "outputs": [],
   "source": [
    "margins_eff <- margins(m_asia, data = subdata, variables = \"mention_year_center\", eps = 1)"
   ]
  },
  {
   "cell_type": "code",
   "execution_count": 179,
   "metadata": {},
   "outputs": [],
   "source": [
    "write.csv(summary(margins_eff), \"/shared/0/projects/news-quotes/reg_results/year/margins_one_year_change/Asia_margins.csv\", row.names = FALSE)"
   ]
  },
  {
   "cell_type": "markdown",
   "metadata": {},
   "source": [
    "### African (insufficient data for fitting a model)"
   ]
  },
  {
   "cell_type": "code",
   "execution_count": 112,
   "metadata": {},
   "outputs": [],
   "source": [
    "subdata = mydata[mydata$author_eth_ethnea_broad == 'African', ]"
   ]
  },
  {
   "cell_type": "code",
   "execution_count": 113,
   "metadata": {},
   "outputs": [
    {
     "data": {
      "text/html": [
       "2774"
      ],
      "text/latex": [
       "2774"
      ],
      "text/markdown": [
       "2774"
      ],
      "text/plain": [
       "[1] 2774"
      ]
     },
     "metadata": {},
     "output_type": "display_data"
    }
   ],
   "source": [
    "nrow(subdata)"
   ]
  },
  {
   "cell_type": "code",
   "execution_count": 114,
   "metadata": {},
   "outputs": [
    {
     "ename": "ERROR",
     "evalue": "Error in `contrasts<-`(`*tmp*`, value = contr.funs[1 + isOF[nn]]): contrasts can be applied only to factors with 2 or more levels\n",
     "output_type": "error",
     "traceback": [
      "Error in `contrasts<-`(`*tmp*`, value = contr.funs[1 + isOF[nn]]): contrasts can be applied only to factors with 2 or more levels\nTraceback:\n",
      "1. glmer(formula = equation_bar, data = subdata, family = \"binomial\", \n .     control = glmerControl(optimizer = \"nloptwrap\"), nAGQ = 0)",
      "2. eval(mc, parent.frame(1L))",
      "3. eval(mc, parent.frame(1L))",
      "4. lme4::glFormula(formula = equation_bar, data = subdata, family = \"binomial\", \n .     control = glmerControl(optimizer = \"nloptwrap\"), nAGQ = 0)",
      "5. model.matrix(fixedform, fr, contrasts)",
      "6. model.matrix.default(fixedform, fr, contrasts)",
      "7. `contrasts<-`(`*tmp*`, value = contr.funs[1 + isOF[nn]])",
      "8. stop(\"contrasts can be applied only to factors with 2 or more levels\")"
     ]
    }
   ],
   "source": [
    "m_africa <- glmer(formula = equation_bar, data = subdata, family = \"binomial\", control = glmerControl(optimizer = \"nloptwrap\"), nAGQ = 0)"
   ]
  },
  {
   "cell_type": "markdown",
   "metadata": {},
   "source": [
    "## Gender"
   ]
  },
  {
   "cell_type": "code",
   "execution_count": 180,
   "metadata": {},
   "outputs": [],
   "source": [
    "base_str <- \"is_author_mentioned ~ 1 + author_eth_ethnea_broad + reporter_eth_ethnea_broad + reporter_gender_ethnea + \\\n",
    "          last_name_length + last_name_prob + author_pos_cate + author_rank + is_top_author + is_corresponding + \\\n",
    "          affiliation_rank + affiliation_cate + num_authors + mention_year_center + gap_in_years + \\\n",
    "          num_words + num_mentioned_papers + FleschReadingEase + sentences_per_paragraph + type_token_ratio\""
   ]
  },
  {
   "cell_type": "code",
   "execution_count": 181,
   "metadata": {},
   "outputs": [],
   "source": [
    "equation_bar <- as.formula(paste(base_str, keywords, \" + (1|journal_title) + (1|outlet)\", sep = \" \"))"
   ]
  },
  {
   "cell_type": "markdown",
   "metadata": {},
   "source": [
    "### Male"
   ]
  },
  {
   "cell_type": "code",
   "execution_count": 182,
   "metadata": {},
   "outputs": [],
   "source": [
    "subdata = mydata[mydata$author_gender_ethnea == 'M', ]"
   ]
  },
  {
   "cell_type": "code",
   "execution_count": 183,
   "metadata": {},
   "outputs": [
    {
     "data": {
      "text/html": [
       "294158"
      ],
      "text/latex": [
       "294158"
      ],
      "text/markdown": [
       "294158"
      ],
      "text/plain": [
       "[1] 294158"
      ]
     },
     "metadata": {},
     "output_type": "display_data"
    }
   ],
   "source": [
    "nrow(subdata)"
   ]
  },
  {
   "cell_type": "code",
   "execution_count": 184,
   "metadata": {},
   "outputs": [
    {
     "name": "stderr",
     "output_type": "stream",
     "text": [
      "Warning message:\n",
      "“Some predictor variables are on very different scales: consider rescaling”"
     ]
    }
   ],
   "source": [
    "m_male <- glmer(formula = equation_bar, data = subdata, family = \"binomial\", control = glmerControl(optimizer = \"nloptwrap\"), nAGQ = 0)"
   ]
  },
  {
   "cell_type": "code",
   "execution_count": 185,
   "metadata": {
    "scrolled": true
   },
   "outputs": [
    {
     "data": {
      "text/html": [
       "<dl class=dl-horizontal>\n",
       "\t<dt>Estimate</dt>\n",
       "\t\t<dd>-0.0619093386656625</dd>\n",
       "\t<dt>Std. Error</dt>\n",
       "\t\t<dd>0.00303771663358626</dd>\n",
       "\t<dt>z value</dt>\n",
       "\t\t<dd>-20.3802217695907</dd>\n",
       "\t<dt>Pr(&gt;|z|)</dt>\n",
       "\t\t<dd>2.50517686885677e-92</dd>\n",
       "</dl>\n"
      ],
      "text/latex": [
       "\\begin{description*}\n",
       "\\item[Estimate] -0.0619093386656625\n",
       "\\item[Std. Error] 0.00303771663358626\n",
       "\\item[z value] -20.3802217695907\n",
       "\\item[Pr(>\\textbackslash{}textbar\\{\\}z\\textbackslash{}textbar\\{\\})] 2.50517686885677e-92\n",
       "\\end{description*}\n"
      ],
      "text/markdown": [
       "Estimate\n",
       ":   -0.0619093386656625Std. Error\n",
       ":   0.00303771663358626z value\n",
       ":   -20.3802217695907Pr(&amp;gt;|z|)\n",
       ":   2.50517686885677e-92\n",
       "\n"
      ],
      "text/plain": [
       "     Estimate    Std. Error       z value      Pr(>|z|) \n",
       "-6.190934e-02  3.037717e-03 -2.038022e+01  2.505177e-92 "
      ]
     },
     "metadata": {},
     "output_type": "display_data"
    }
   ],
   "source": [
    "summary(m_male)$coefficients[\"mention_year_center\", ]"
   ]
  },
  {
   "cell_type": "code",
   "execution_count": 186,
   "metadata": {},
   "outputs": [],
   "source": [
    "margins_eff <- margins(m_male, data = subdata, variables = \"mention_year_center\", eps = 1)"
   ]
  },
  {
   "cell_type": "code",
   "execution_count": 187,
   "metadata": {},
   "outputs": [],
   "source": [
    "write.csv(summary(margins_eff), \"/shared/0/projects/news-quotes/reg_results/year/margins_one_year_change/M_margins.csv\", row.names = FALSE)"
   ]
  },
  {
   "cell_type": "markdown",
   "metadata": {},
   "source": [
    "### Female"
   ]
  },
  {
   "cell_type": "code",
   "execution_count": 188,
   "metadata": {},
   "outputs": [],
   "source": [
    "subdata = mydata[mydata$author_gender_ethnea == 'F', ]"
   ]
  },
  {
   "cell_type": "code",
   "execution_count": 189,
   "metadata": {},
   "outputs": [
    {
     "data": {
      "text/html": [
       "142897"
      ],
      "text/latex": [
       "142897"
      ],
      "text/markdown": [
       "142897"
      ],
      "text/plain": [
       "[1] 142897"
      ]
     },
     "metadata": {},
     "output_type": "display_data"
    }
   ],
   "source": [
    "nrow(subdata)"
   ]
  },
  {
   "cell_type": "code",
   "execution_count": 190,
   "metadata": {},
   "outputs": [
    {
     "name": "stderr",
     "output_type": "stream",
     "text": [
      "Warning message:\n",
      "“Some predictor variables are on very different scales: consider rescaling”"
     ]
    }
   ],
   "source": [
    "m_female <- glmer(formula = equation_bar, data = subdata, family = \"binomial\", control = glmerControl(optimizer = \"nloptwrap\"), nAGQ = 0)"
   ]
  },
  {
   "cell_type": "code",
   "execution_count": 191,
   "metadata": {},
   "outputs": [
    {
     "data": {
      "text/html": [
       "<dl class=dl-horizontal>\n",
       "\t<dt>Estimate</dt>\n",
       "\t\t<dd>-0.028706590680314</dd>\n",
       "\t<dt>Std. Error</dt>\n",
       "\t\t<dd>0.00469365714921703</dd>\n",
       "\t<dt>z value</dt>\n",
       "\t\t<dd>-6.11603910718163</dd>\n",
       "\t<dt>Pr(&gt;|z|)</dt>\n",
       "\t\t<dd>9.59297930763586e-10</dd>\n",
       "</dl>\n"
      ],
      "text/latex": [
       "\\begin{description*}\n",
       "\\item[Estimate] -0.028706590680314\n",
       "\\item[Std. Error] 0.00469365714921703\n",
       "\\item[z value] -6.11603910718163\n",
       "\\item[Pr(>\\textbackslash{}textbar\\{\\}z\\textbackslash{}textbar\\{\\})] 9.59297930763586e-10\n",
       "\\end{description*}\n"
      ],
      "text/markdown": [
       "Estimate\n",
       ":   -0.028706590680314Std. Error\n",
       ":   0.00469365714921703z value\n",
       ":   -6.11603910718163Pr(&amp;gt;|z|)\n",
       ":   9.59297930763586e-10\n",
       "\n"
      ],
      "text/plain": [
       "     Estimate    Std. Error       z value      Pr(>|z|) \n",
       "-2.870659e-02  4.693657e-03 -6.116039e+00  9.592979e-10 "
      ]
     },
     "metadata": {},
     "output_type": "display_data"
    }
   ],
   "source": [
    "summary(m_female)$coefficients[\"mention_year_center\", ]"
   ]
  },
  {
   "cell_type": "code",
   "execution_count": 192,
   "metadata": {},
   "outputs": [],
   "source": [
    "margins_eff <- margins(m_female, data = subdata, variables = \"mention_year_center\", eps = 1)"
   ]
  },
  {
   "cell_type": "code",
   "execution_count": 193,
   "metadata": {},
   "outputs": [],
   "source": [
    "write.csv(summary(margins_eff), \"/shared/0/projects/news-quotes/reg_results/year/margins_one_year_change/F_margins.csv\", row.names = FALSE)"
   ]
  },
  {
   "cell_type": "code",
   "execution_count": null,
   "metadata": {},
   "outputs": [],
   "source": []
  }
 ],
 "metadata": {
  "kernelspec": {
   "display_name": "R",
   "language": "R",
   "name": "ir"
  },
  "language_info": {
   "codemirror_mode": "r",
   "file_extension": ".r",
   "mimetype": "text/x-r-source",
   "name": "R",
   "pygments_lexer": "r",
   "version": "3.6.1"
  }
 },
 "nbformat": 4,
 "nbformat_minor": 2
}
