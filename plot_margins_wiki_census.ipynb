{
 "cells": [
  {
   "cell_type": "code",
   "execution_count": 1,
   "metadata": {},
   "outputs": [],
   "source": [
    "import os\n",
    "import numpy as np\n",
    "import pandas as pd\n",
    "import matplotlib.pyplot as plt\n",
    "import matplotlib.colors\n",
    "import matplotlib.cm as cm"
   ]
  },
  {
   "cell_type": "code",
   "execution_count": 2,
   "metadata": {},
   "outputs": [],
   "source": [
    "data_root = '/kellogg/proj/hpk5609/Mentions/'"
   ]
  },
  {
   "cell_type": "code",
   "execution_count": 3,
   "metadata": {},
   "outputs": [],
   "source": [
    "CIs = {'90': 1.645, '95': 1.96, '99': 2.576}"
   ]
  },
  {
   "cell_type": "markdown",
   "metadata": {},
   "source": [
    "### Wikipedia"
   ]
  },
  {
   "cell_type": "code",
   "execution_count": 4,
   "metadata": {},
   "outputs": [],
   "source": [
    "top_eth = [\n",
    " 'SouthernEuropean',\n",
    " 'WesternNorthernEuropean',\n",
    " 'EasternEuropean',\n",
    " 'EastAsian',\n",
    "#  'Chinese',\n",
    " 'MiddleEastern',\n",
    " 'Indian',\n",
    " 'African'\n",
    "]\n",
    "\n",
    "\n",
    "ylabels = [\n",
    " #'English',\n",
    " 'Woman',\n",
    " 'Southern European',\n",
    " 'Western & Northern Euro.',\n",
    " 'Eastern European',\n",
    " 'East Asian',\n",
    "#  'Chinese',\n",
    " 'Middle Eastern',\n",
    " 'Indian',\n",
    " 'African']\n",
    "\n",
    "cols = [\"author_gender_ethneaF\"] + [\"author_eth_wiki_broad\" + eth for eth in top_eth]"
   ]
  },
  {
   "cell_type": "code",
   "execution_count": 7,
   "metadata": {},
   "outputs": [
    {
     "data": {
      "image/png": "[encoded data removed]",
      "text/plain": [
       "<Figure size 288x180 with 1 Axes>"
      ]
     },
     "metadata": {
      "needs_background": "light"
     },
     "output_type": "display_data"
    }
   ],
   "source": [
    "nrows = 1\n",
    "ncols = 1\n",
    "fig, ax = plt.subplots(nrows=nrows, ncols=ncols, figsize=(4, 2.5))\n",
    "\n",
    "s = 4 # markersize\n",
    "lw = 1.5 # linewidth\n",
    "\n",
    "df = pd.read_csv(data_root + 'reg_results/validation/wiki_margins.csv', header=0, index_col='factor')\n",
    "df = df.loc[df.index.isin(cols)]\n",
    "df = df.reindex(cols)\n",
    "xs = df['AME'].values\n",
    "confs = (df['upper'] - df['AME']).values\n",
    "\n",
    "norm = matplotlib.colors.Normalize(vmin=min(xs*-1), vmax=max(xs*-1))\n",
    "mapper = cm.ScalarMappable(norm=norm, cmap='Reds')\n",
    "xcols = np.array([(mapper.to_rgba(v)) for v in xs*-1])\n",
    "\n",
    "# ax.errorbar(xs[::-1], ylabels[::-1], xerr=confs[::-1], fmt='bo', markersize=s, linewidth=lw, fillstyle='full')\n",
    "ax.errorbar(xs[::-1], ylabels[::-1], xerr=confs[::-1], color='k', fmt='.', markersize=2, linewidth=2)\n",
    "ax.axvline(0, color='k', linestyle='--', linewidth = 0.8)\n",
    "\n",
    "for x, ylab, coll in zip(xs, ylabels, xcols):\n",
    "    if ylab == 'Woman':\n",
    "        ax.plot([x], [ylab], color='b', marker='o', markersize=5)\n",
    "    else:\n",
    "        ax.plot([x], [ylab], color=coll, marker='o', markersize=5)\n",
    "        \n",
    "ax.set_xlim([-0.10, 0.04])\n",
    "ax.set_title('Wikipedia')\n",
    "fig.text(0.62, -0.02,'Probability of being mentioned in news\\n compared to Man/Anglo named authors', ha='center', va='center')\n",
    "plt.tight_layout()\n",
    "plt.subplots_adjust(wspace=0)\n",
    "plt.show()\n",
    "fig.savefig(data_root+'fig_one_mention_full_wiki.pdf', bbox_inches='tight', pad_inches=0.04)\n"
   ]
  },
  {
   "cell_type": "markdown",
   "metadata": {},
   "source": [
    "### US Census 2010"
   ]
  },
  {
   "cell_type": "code",
   "execution_count": 10,
   "metadata": {},
   "outputs": [],
   "source": [
    "top_eth = [\n",
    " 'api',\n",
    " 'black',\n",
    " 'hispanic'\n",
    "]\n",
    "\n",
    "\n",
    "ylabels = [\n",
    " 'Woman',\n",
    " 'Asian',\n",
    " 'Black',\n",
    " 'Hispanic']\n",
    "\n",
    "cols = [\"author_gender_ethneaF\"] + [\"author_eth_census\" + eth for eth in top_eth]"
   ]
  },
  {
   "cell_type": "code",
   "execution_count": 11,
   "metadata": {},
   "outputs": [
    {
     "data": {
      "image/png": "[encoded data removed]",
      "text/plain": [
       "<Figure size 216x180 with 1 Axes>"
      ]
     },
     "metadata": {
      "needs_background": "light"
     },
     "output_type": "display_data"
    }
   ],
   "source": [
    "nrows = 1\n",
    "ncols = 1\n",
    "fig, ax = plt.subplots(nrows=nrows, ncols=ncols, figsize=(3, 2.5))\n",
    "\n",
    "s = 4 # markersize\n",
    "lw = 1.5 # linewidth\n",
    "\n",
    "df = pd.read_csv(data_root + 'reg_results/validation/census_margins.csv', header=0, index_col='factor')\n",
    "df = df.loc[df.index.isin(cols)]\n",
    "df = df.reindex(cols)\n",
    "xs = df['AME'].values\n",
    "confs = (df['upper'] - df['AME']).values\n",
    "\n",
    "norm = matplotlib.colors.Normalize(vmin=min(xs*-1), vmax=max(xs*-1))\n",
    "mapper = cm.ScalarMappable(norm=norm, cmap='Reds')\n",
    "xcols = np.array([(mapper.to_rgba(v)) for v in xs*-1])\n",
    "\n",
    "# ax.errorbar(xs[::-1], ylabels[::-1], xerr=confs[::-1], fmt='bo', markersize=s, linewidth=lw, fillstyle='full')\n",
    "ax.errorbar(xs[::-1], ylabels[::-1], xerr=confs[::-1], color='k', fmt='.', markersize=2, linewidth=2)\n",
    "ax.axvline(0, color='k', linestyle='--', linewidth = 0.8)\n",
    "\n",
    "for x, ylab, coll in zip(xs, ylabels, xcols):\n",
    "    if ylab == 'Woman':\n",
    "        ax.plot([x], [ylab], color='b', marker='o', markersize=5)\n",
    "    else:\n",
    "        ax.plot([x], [ylab], color=coll, marker='o', markersize=5)\n",
    "        \n",
    "ax.set_xlim([-0.10, 0.04])\n",
    "ax.set_title('US Census')\n",
    "fig.text(0.62, -0.02,'Probability of being mentioned \\ncompared to Man/White authors', ha='center', va='center')\n",
    "plt.tight_layout()\n",
    "plt.subplots_adjust(wspace=0)\n",
    "plt.show()\n",
    "fig.savefig(data_root+'fig_one_mention_full_census.pdf', bbox_inches='tight', pad_inches=0.04)\n"
   ]
  },
  {
   "cell_type": "code",
   "execution_count": null,
   "metadata": {},
   "outputs": [],
   "source": []
  }
 ],
 "metadata": {
  "kernelspec": {
   "display_name": "Python 3 (ipykernel)",
   "language": "python",
   "name": "python3"
  },
  "language_info": {
   "codemirror_mode": {
    "name": "ipython",
    "version": 3
   },
   "file_extension": ".py",
   "mimetype": "text/x-python",
   "name": "python",
   "nbconvert_exporter": "python",
   "pygments_lexer": "ipython3",
   "version": "3.8.13"
  }
 },
 "nbformat": 4,
 "nbformat_minor": 2
}
