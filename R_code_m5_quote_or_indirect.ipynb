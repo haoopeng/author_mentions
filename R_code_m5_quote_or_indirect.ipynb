{
 "cells": [
  {
   "cell_type": "code",
   "execution_count": 25,
   "metadata": {},
   "outputs": [],
   "source": [
    "data_root <- \"/shared/0/projects/news-quotes/\""
   ]
  },
  {
   "cell_type": "code",
   "execution_count": 26,
   "metadata": {},
   "outputs": [],
   "source": [
    "library(\"lme4\")\n",
    "library(\"margins\")\n",
    "library(\"stargazer\")\n",
    "library(\"ggeffects\")\n",
    "library(\"broom\")"
   ]
  },
  {
   "cell_type": "code",
   "execution_count": 27,
   "metadata": {},
   "outputs": [],
   "source": [
    "# help(glmer)"
   ]
  },
  {
   "cell_type": "code",
   "execution_count": 28,
   "metadata": {},
   "outputs": [],
   "source": [
    "mydata <- read.csv(paste(data_root, \"reg_data.csv\", sep = ''), header = TRUE)"
   ]
  },
  {
   "cell_type": "code",
   "execution_count": 29,
   "metadata": {},
   "outputs": [
    {
     "data": {
      "text/html": [
       "524052"
      ],
      "text/latex": [
       "524052"
      ],
      "text/markdown": [
       "524052"
      ],
      "text/plain": [
       "[1] 524052"
      ]
     },
     "metadata": {},
     "output_type": "display_data"
    }
   ],
   "source": [
    "nrow(mydata)"
   ]
  },
  {
   "cell_type": "code",
   "execution_count": 30,
   "metadata": {
    "scrolled": true
   },
   "outputs": [
    {
     "data": {
      "text/html": [
       "249"
      ],
      "text/latex": [
       "249"
      ],
      "text/markdown": [
       "249"
      ],
      "text/plain": [
       "[1] 249"
      ]
     },
     "metadata": {},
     "output_type": "display_data"
    }
   ],
   "source": [
    "ncol(mydata)"
   ]
  },
  {
   "cell_type": "code",
   "execution_count": 31,
   "metadata": {},
   "outputs": [],
   "source": [
    "# coarsen reporters into 4 groups.\n",
    "mydata$reporter_eth_ethnea_broad <- as.character(mydata$reporter_eth_ethnea_broad)\n",
    "mydata$reporter_eth_ethnea_broad[mydata$reporter_eth_ethnea_broad == 'EasternEuropean'] <- 'European'\n",
    "mydata$reporter_eth_ethnea_broad[mydata$reporter_eth_ethnea_broad == 'WesternNorthernEuropean'] <- 'European'\n",
    "mydata$reporter_eth_ethnea_broad[mydata$reporter_eth_ethnea_broad == 'SouthernEuropean'] <- 'European'\n",
    "mydata$reporter_eth_ethnea_broad[mydata$reporter_eth_ethnea_broad == 'Chinese'] <- 'Asian'\n",
    "mydata$reporter_eth_ethnea_broad[mydata$reporter_eth_ethnea_broad == 'Indian'] <- 'Asian'\n",
    "mydata$reporter_eth_ethnea_broad[mydata$reporter_eth_ethnea_broad == 'EastAsian'] <- 'Asian'\n",
    "mydata$reporter_eth_ethnea_broad[mydata$reporter_eth_ethnea_broad == 'MiddleEastern'] <- 'OtherUnknown'\n",
    "mydata$reporter_eth_ethnea_broad[mydata$reporter_eth_ethnea_broad == 'African'] <- 'OtherUnknown'\n",
    "mydata$reporter_eth_ethnea_broad[mydata$reporter_eth_ethnea_broad == 'unknown'] <- 'OtherUnknown'\n",
    "mydata$reporter_eth_ethnea_broad <- as.factor(mydata$reporter_eth_ethnea_broad)"
   ]
  },
  {
   "cell_type": "code",
   "execution_count": 32,
   "metadata": {},
   "outputs": [],
   "source": [
    "mydata <- within(mydata, author_eth_ethnea_broad <- relevel(author_eth_ethnea_broad, ref = 'English'))\n",
    "mydata <- within(mydata, reporter_eth_ethnea_broad <- relevel(reporter_eth_ethnea_broad, ref = 'English'))\n",
    "mydata <- within(mydata, author_gender_ethnea <- relevel(author_gender_ethnea, ref = 'M'))\n",
    "mydata <- within(mydata, reporter_gender_ethnea <- relevel(reporter_gender_ethnea, ref = 'M'))"
   ]
  },
  {
   "cell_type": "code",
   "execution_count": 33,
   "metadata": {},
   "outputs": [],
   "source": [
    "mydata <- within(mydata, author_pos_cate <- relevel(author_pos_cate, ref = 'last_position'))\n",
    "mydata <- within(mydata, is_top_author <- relevel(is_top_author, ref = 'yes'))\n",
    "mydata <- within(mydata, is_corresponding <- relevel(is_corresponding, ref = 'yes'))\n",
    "mydata <- within(mydata, affiliation_cate <- relevel(affiliation_cate, ref = 'domestic'))"
   ]
  },
  {
   "cell_type": "markdown",
   "metadata": {},
   "source": [
    "## Full data"
   ]
  },
  {
   "cell_type": "markdown",
   "metadata": {},
   "source": [
    "### quote"
   ]
  },
  {
   "cell_type": "code",
   "execution_count": 34,
   "metadata": {},
   "outputs": [],
   "source": [
    "base_str <- \"has_author_quote ~ 1 + author_eth_ethnea_broad + author_gender_ethnea + reporter_eth_ethnea_broad + reporter_gender_ethnea + \\\n",
    "          last_name_length + last_name_prob + author_pos_cate + author_rank + is_top_author + is_corresponding + \\\n",
    "          affiliation_rank + affiliation_cate + num_authors + mention_year_center + gap_in_years + \\\n",
    "          num_words + num_mentioned_papers + FleschReadingEase + sentences_per_paragraph + type_token_ratio\"\n",
    "\n",
    "# 533 keywords\n",
    "# keywords <- \"Composite_material + Chemistry + Chromatography + Botany + Surgery + Medicine + Cognitive_psychology + Affect__psychology_ + Aggression + Psychology + Psychiatry + Cell_biology + Transcriptome + Molecular_biology + Carcinogenesis + Biology + Human_sexuality + Physical_therapy + Testosterone + Psychotherapist + Prostate_cancer + Mood + Disease + Genetics + Genome + Randomized_controlled_trial + Quality_of_life + Comorbidity + Severity_of_illness + Diabetes_mellitus + Prospective_cohort_study + Ideology + China + Law + Sociology + Environmental_engineering + Environmental_resource_management + Economics + Climate_change + Population + Evolutionary_biology + Cell + Phylogenetics + Ecology + Taxon + Biodiversity + Atmospheric_sciences + Environmental_science + Global_warming + Meteorology + Pedagogy + Social_science + Social_psychology + Confidence_interval + Referral + Young_adult + Medical_prescription + Molecule + Organic_chemistry + Materials_science + Environmental_health + Obesity + Body_mass_index + Public_health + Biochemistry + Endocrinology + Internal_medicine + Mitochondrion + Democracy + Political_economy + Public_administration + Politics + Public_opinion + Gerontology + Cohort_study + Lower_risk + Developmental_psychology + Paleontology + Geology + Neuroscience + Biophysics + RNA + Atomic_physics + Physics + Ion + Photon + Optics + Climatology + Geography + Precipitation + Chemical_engineering + Membrane + Inorganic_chemistry + Environmental_chemistry + Psychological_resilience + Risk_assessment + Cardiology + Cause_of_death + Atrial_fibrillation + Stimulus__physiology_ + Schizophrenia + Neuroimaging + Perception + Intensive_care_medicine + Nursing + Developing_country + Health_care + Drug + Distress + Political_science + Prefrontal_cortex + Social_relation + Chromatin + Microbiology + Antimicrobial + Antibiotics + Pregnancy + Pathology + Applied_psychology + Cognition + Anxiety + Radiology + Radiation_therapy + Biopsy + Chemotherapy + Multimedia + Autism + Socioeconomics + Agriculture + Gynecology + Breast_cancer + Obstetrics + Gestation + Pharmacology + Clinical_trial + Food_science + Escherichia_coli + Bacteria + Photochemistry + Injury_prevention + Human_factors_and_ergonomics + Suicide_prevention + Social_environment + Occupational_safety_and_health + Heart_failure + Predation + In_vivo + CRISPR + Crop + Carbon + Public_relations + Demography + Dentistry + Logistic_regression + Health_equity + Medicaid + Epidemiology + Threatened_species + Species_richness + Harm + Classical_mechanics + Quantum_mechanics + Odds_ratio + Homeostasis + Type_2_diabetes + Cohort + Anatomy + Interpersonal_relationship + Norm__social_ + Crystallography + Physiology + Placebo + MEDLINE + Pediatrics + Adverse_effect + Transplantation + Dopamine + Embryonic_stem_cell + Criminology + Astrophysics + Astronomy + Condensed_matter_physics + Optoelectronics + Molecular_physics + Nanotechnology + Crystal + Animal_science + Sediment + Melanoma + Cell_culture + Electronic_engineering + Odds + Overweight + Confounding + Communication + Child_development + Psychological_intervention + Gene + Management_science + Offspring + Epigenetics + Mental_health + Well_being + Immigration + Coping__psychology_ + Physical_exercise + Personality + Particle_physics + Alternative_medicine + Immunology + Big_Five_personality_traits + PsycINFO + Happiness + Extinction + Environmental_protection + Land_use + Agroforestry + Vegetation + Habitat + Ecosystem + Mineralogy + Geochemistry + Economic_growth + Vaccination + Recall + Working_memory + Radiation + Atmosphere + Vulnerability + Catalysis + Anesthesia + Toxicology + Cannabis + Government + European_union + Risk_factor + Systematic_review + General_surgery + Clinical_endpoint + Lung_cancer + Polymer + Geophysics + Geomorphology + Advertising + Cross_sectional_study + Interquartile_range + Weight_loss + Health_promotion + Academic_achievement + Finance + Chronic_pain + Immune_system + T_cell + Immunity + Virology + Dementia + Alzheimer_s_disease + Socioeconomic_status + Allele + Insulin + Hormone + Evidence_based_medicine + Meta_analysis + Medical_emergency + Zoology + Actuarial_science + Hydrology + Functional_magnetic_resonance_imaging + Electroencephalography + Machine_learning + Artificial_intelligence + Clinical_psychology + Nanoparticle + Laser + Ethnic_group + Cancer + Magnetic_field + Antigen + Antibody + Seismology + Addiction + Vitamin_D_and_neurology + Athletes + Marketing + Receptor + Social_support + Sleep_deprivation + Microeconomics + Legislation + Transcription_factor + Fertility + Dermatology + Pathogenesis + Apoptosis + Proinflammatory_cytokine + Ovarian_cancer + Stem_cell + Multivariate_analysis + Fishery + Mortality_rate + Virulence + Malaria + Knowledge_management + Analytical_chemistry + Graphene + Semiconductor + Coronary_artery_disease + Heart_disease + Cholesterol + Veterinary_medicine + Engineering + Biomarker__medicine_ + Electron + Microbiome + Gut_flora + Physical_medicine_and_rehabilitation + Stroke + Bioinformatics + Body_weight + Arctic + Poverty + Exoplanet + Planet + Stars + Foraging + National_Health_and_Nutrition_Examination_Survey + Urine + Hazard_ratio + Observational_study + Proportional_hazards_model + Inflammation + Kidney_disease + Gastroenterology + Text_mining + Locus__genetics_ + Genome_wide_association_study + Urology + Ranging + Survival_rate + Incentive + Phenomenon + Statistics + Longitudinal_study + Brain_mapping + Metabolic_syndrome + Agronomy + Asthma + Relative_risk + Breastfeeding + Endangered_species + Climate_model + Social_perception + Social_media + Social_network + Business + Etiology + Mesenchymal_stem_cell + Weight_gain + Mathematics + Nicotine + Emergency_department + Myocardial_infarction + Emergency_medicine + Labour_economics + Health_policy + Qualitative_research + Clinical_Practice + Guideline + Wildlife + Family_medicine + Regulation_of_gene_expression + Cellular_differentiation + microRNA + Downregulation_and_upregulation + Computer_science + Developed_country + Demographic_economics + Colorectal_cancer + Nutrient + Mutant + Cancer_research + Allergy + Biological_dispersal + Magnetic_resonance_imaging + Transmission__mechanics_ + Retrospective_cohort_study + Metastasis + Feeling + Metabolism + Signal_transduction + Traumatic_brain_injury + Genomics + DNA_methylation + Oncology + Mutation + Phenotype + Smoking_cessation + Black_hole + Air_pollution + Hippocampus + Biotechnology + Biomass + Volcano + Longevity + Empathy + Psychosocial + Greenhouse_gas + Focus_group + Regimen + Fetus + Computer_vision + Computational_biology + Gene_expression + DNA + Nuclear_magnetic_resonance + Solar_System + Astrobiology + Audiology + Circadian_rhythm + Rehabilitation + Toxicity + Global_health + Reproductive_health + Neurodegeneration + Galaxy + Virus + Innate_immune_system + Early_childhood + Amygdala + Vitamin + Adipose_tissue + Architecture + Data_mining + Quantum + Blood_pressure + Waste_management + Sustainability + Incidence__epidemiology_ + Substance_abuse + In_vitro + The_Internet + Attention_deficit_hyperactivity_disorder + Opioid + DNA_damage + Visual_perception + Sensory_system + Genotype + Antibiotic_resistance + Multiple_sclerosis + Case_control_study + Single_nucleotide_polymorphism + Cancer_cell + Trait + Empirical_research + Simulation + Oxidative_stress + Antioxidant + Progenitor_cell + Lung + Oceanography + Immunotherapy + Cytokine + Kinase + Development_economics + Cell_type + Social_cognition + Major_depressive_disorder + Hippocampal_formation + Central_nervous_system + Medical_record + Psychopathology + Skeletal_muscle + Transcription__biology_ + Ecosystem_services + Heart_rate + Outbreak + Phylogenetic_tree + Enzyme + Genetic_variation + Psychosis + Pathogen + History + Atom + Arousal + Remote_sensing + Crossover_study + Programmed_cell_death + Human_brain + Stimulation + Scattering + Antidepressant + Population_study + Corporate_governance + Interpersonal_communication + Osteoporosis + Alcohol + Biomedical_engineering + Induced_pluripotent_stem_cell + Demographics + Insulin_resistance + Autism_spectrum_disorder + Mindfulness + Limiting + Cretaceous + Spectroscopy + Prosocial_behavior + Computer_security + Gestational_age + Archaeology + Welfare + Mental_illness + Phosphorylation + Life_expectancy + Spin_half + Thin_film + Narrative + Gender_studies + Public_policy + Epilepsy + Metal + Instability + Particle + Spectral_line + Cell_growth + Cytotoxic_T_cell + Cycling + Intracellular + Ageing + Bipolar_disorder + Meal + Ingestion + DNA_sequencing + Amino_acid\"\n",
    "\n",
    "# 496 keywords\n",
    "# keywords <- \"Political_science + Melanoma + Dermatology + Pathology + Lower_risk + Risk_factor + Population + Medicine + Risk_assessment + Exoplanet + Astronomy + Astrophysics + Spin_half + Planet + Physics + Biochemistry + Enzyme + Molecule + Biology + Randomized_controlled_trial + Placebo + Medical_emergency + Drug + Asthma + Clinical_trial + Physical_therapy + Environmental_science + Biodiversity + Environmental_resource_management + Ecology + Genetics + Diabetes_mellitus + Immunology + Immune_system + Apoptosis + Microbiology + Immunity + Cytokine + Escherichia_coli + Nursing + Family_medicine + Cohort + Gerontology + Longevity + Health_care + Global_health + Body_mass_index + Odds + Cross_sectional_study + Logistic_regression + Confidence_interval + Public_health + Odds_ratio + Engineering + Development_economics + Government + Biophysics + Skeletal_muscle + Endocrinology + Internal_medicine + Climatology + Cancer_research + Cancer + In_vivo + Atomic_physics + Quantum_mechanics + Magnetic_field + Atom + Social_psychology + Mental_health + Substance_abuse + Clinical_psychology + Psychology + Surgery + Cell + Ranging + Galaxy + Stars + Anesthesia + Magnetic_resonance_imaging + Stroke + Chemistry + Chromatography + Meta_analysis + Young_adult + Pregnancy + Psychiatry + Observational_study + Clinical_Practice + Biopsy + Retrospective_cohort_study + Prospective_cohort_study + Developmental_psychology + Spectral_line + Social_relation + Public_relations + Wildlife + Business + Aggression + Psychosocial + Mindfulness + Psychological_intervention + Psychotherapist + Urology + Optoelectronics + Optics + Virology + Condensed_matter_physics + Classical_mechanics + Cohort_study + Qualitative_research + Quality_of_life + Phenomenon + Dementia + Cognition + Socioeconomic_status + Sustainability + Marketing + Disease + Pathogen + Social_network + Crop + Agronomy + Anatomy + Geology + Nicotine + Smoking_cessation + Organic_chemistry + Toxicity + Pharmacology + Gynecology + Heart_disease + Health_promotion + Alternative_medicine + Epidemiology + Overweight + Weight_loss + Virus + Phenotype + Academic_achievement + Longitudinal_study + Social_science + Economics + Carbon + Volcano + Perception + Oceanography + Ecosystem + Climate_change + Environmental_health + Laser + Radiation + Anxiety + Communication + Intensive_care_medicine + Big_Five_personality_traits + Trait + Single_nucleotide_polymorphism + Locus__genetics_ + Genome_wide_association_study + Innate_immune_system + Allele + Gene + Architecture + Computer_security + Geophysics + Geomorphology + Knowledge_management + Empathy + Pedagogy + Politics + Sociology + Emergency_medicine + Kidney_disease + Life_expectancy + Mortality_rate + Proportional_hazards_model + Medical_record + Gastroenterology + Radiation_therapy + Computer_vision + Artificial_intelligence + Advertising + Multimedia + Molecular_biology + Stem_cell + Cell_biology + Transcriptome + Cancer_cell + In_vitro + Incidence__epidemiology_ + Interquartile_range + General_surgery + Cognitive_psychology + Mood + Mutant + Atmospheric_sciences + Climate_model + Suicide_prevention + Injury_prevention + Human_factors_and_ergonomics + Occupational_safety_and_health + Microbiome + Habitat + Extinction + Threatened_species + Zoology + Insulin + Insulin_resistance + Adipose_tissue + Global_warming + Body_weight + Affect__psychology_ + Arousal + Environmental_engineering + Regimen + Geography + Demography + Offspring + Antigen + Receptor + Mutation + Mitochondrion + Astrobiology + Mineralogy + Photon + Botany + Intracellular + History + Demographics + Ethnic_group + Comorbidity + Programmed_cell_death + Downregulation_and_upregulation + Lung + Signal_transduction + Statistics + Mathematics + Nanoparticle + Quantum + Thin_film + Composite_material + Materials_science + Vitamin + Pathogenesis + Neuroscience + Chronic_pain + Evidence_based_medicine + Blood_pressure + Dopamine + Agroforestry + Hazard_ratio + Environmental_protection + Air_pollution + Cellular_differentiation + T_cell + Transplantation + Psychological_resilience + Inflammation + Kinase + Public_policy + Finance + Pediatrics + microRNA + Alzheimer_s_disease + Neuroimaging + Brain_mapping + Cardiology + Referral + Foraging + Demographic_economics + Labour_economics + Economic_growth + Social_perception + Social_cognition + Antibiotics + Polymer + Particle + Species_richness + Food_science + Autism + Vaccination + Geochemistry + Obstetrics + Obesity + Breastfeeding + Analytical_chemistry + Nanotechnology + Inorganic_chemistry + Addiction + Paleontology + Gut_flora + Antibody + Case_control_study + Gene_expression + Narrative + Electroencephalography + Social_environment + Interpersonal_communication + Bioinformatics + Biomarker__medicine_ + Sensory_system + Ion + Particle_physics + Remote_sensing + Actuarial_science + Coping__psychology_ + Bipolar_disorder + Catalysis + Functional_magnetic_resonance_imaging + Stimulus__physiology_ + Visual_perception + DNA_methylation + Medical_prescription + Regulation_of_gene_expression + RNA + Physical_medicine_and_rehabilitation + Happiness + Outbreak + Physiology + Spectroscopy + Nuclear_magnetic_resonance + Metabolic_syndrome + Relative_risk + Antimicrobial + Graphene + Mental_illness + Psychopathology + Membrane + Early_childhood + Transcription_factor + Embryonic_stem_cell + Ideology + Socioeconomics + Prostate_cancer + Survival_rate + Ingestion + Electron + Well_being + Weight_gain + Colorectal_cancer + Lung_cancer + Poverty + Greenhouse_gas + Waste_management + Coronary_artery_disease + Type_2_diabetes + Environmental_chemistry + Oncology + Physical_exercise + Incentive + Medicaid + Etiology + Schizophrenia + Heart_failure + The_Internet + Biotechnology + Breast_cancer + Clinical_endpoint + Chemotherapy + Radiology + Personality + Precipitation + Vulnerability + Epigenetics + Land_use + Ecosystem_services + Biological_dispersal + Testosterone + Veterinary_medicine + European_union + Gestation + Adverse_effect + Vitamin_D_and_neurology + Oxidative_stress + Gestational_age + Mesenchymal_stem_cell + Rehabilitation + Microeconomics + Hormone + Prefrontal_cortex + DNA + Genome + Heart_rate + Computer_science + Photochemistry + China + Public_administration + Health_policy + Feeling + Evolutionary_biology + Vegetation + Autism_spectrum_disorder + Audiology + MEDLINE + Toxicology + Fetus + Law + Social_media + Cause_of_death + Epilepsy + Agriculture + Bacteria + Cholesterol + Confounding + Human_brain + Fishery + Metal + Metabolism + Opioid + Antibiotic_resistance + Homeostasis + Metastasis + Malaria + Neurodegeneration + Immunotherapy + Severity_of_illness + Crossover_study + Child_development + Norm__social_ + Focus_group + Harm + Applied_psychology + Social_support + Emergency_department + Crystal + Amygdala + Empirical_research + Seismology + CRISPR + Nutrient + Guideline + Simulation + Alcohol + Distress + Archaeology + Molecular_physics + Cell_culture + Legislation + Health_equity + Gender_studies + Allergy + Developing_country + Cannabis + Meteorology + Myocardial_infarction + Progenitor_cell + DNA_sequencing + Hippocampal_formation + Hippocampus + Stimulation + Human_sexuality + Interpersonal_relationship + Working_memory + Immigration + Democracy + Electronic_engineering + Genotype + Predation + Major_depressive_disorder + Proinflammatory_cytokine + Developed_country + Phosphorylation + Phylogenetic_tree + National_Health_and_Nutrition_Examination_Survey + Data_mining + Text_mining + Circadian_rhythm + Arctic + Multiple_sclerosis + Chromatin + Induced_pluripotent_stem_cell + Transmission__mechanics_ + Machine_learning + Crystallography + Biomedical_engineering + Cell_type + Antioxidant + Fertility + Sediment + Criminology + Recall + Athletes + Atmosphere + Systematic_review + Instability + Genomics + Phylogenetics + Cytotoxic_T_cell + Computational_biology + Cell_growth + Carcinogenesis + Black_hole + Scattering + Genetic_variation + Prosocial_behavior\"\n",
    "\n",
    "# 199 keywords\n",
    "keywords <- \" + Cell_biology + Genetics + Biology + Body_mass_index + Health_care + Disease + Gerontology + Population + Public_health + Medicine + Materials_science + Composite_material + Nanotechnology + Cohort_study + Social_psychology + Cohort + Psychological_intervention + Young_adult + Family_medicine + Cancer + Surgery + Randomized_controlled_trial + Placebo + Clinical_trial + Nursing + Applied_psychology + Human_factors_and_ergonomics + Injury_prevention + Suicide_prevention + Psychiatry + Occupational_safety_and_health + Intensive_care_medicine + Pediatrics + Hazard_ratio + Confidence_interval + Retrospective_cohort_study + Vaccination + Psychology + Perception + Cognition + Environmental_health + Obesity + Risk_factor + Quality_of_life + Physical_therapy + Weight_loss + Anatomy + Mental_health + Psychosocial + Anxiety + Distress + Business + Public_relations + Marketing + Immunology + Global_warming + Economics + Climatology + Climate_change + General_surgery + Endocrinology + Internal_medicine + Receptor + Inflammation + Stimulus__physiology_ + Immune_system + Meta_analysis + Sociology + Gene + Cancer_research + Breast_cancer + Cell + Diabetes_mellitus + Blood_pressure + Oncology + Gynecology + Communication + Cognitive_psychology + Adverse_effect + Clinical_endpoint + Pharmacology + Virology + Risk_assessment + Transcription_factor + Political_science + Ecology + Geography + Cross_sectional_study + Odds_ratio + Comorbidity + Environmental_engineering + Chemistry + Medical_emergency + Physics + Social_science + Ethnic_group + Labour_economics + Antibody + Geomorphology + Geophysics + Geology + Ranging + Stroke + Environmental_resource_management + Type_2_diabetes + Cardiology + Molecular_biology + Developmental_psychology + Agriculture + Signal_transduction + Optoelectronics + Psychotherapist + Affect__psychology_ + Clinical_psychology + Anesthesia + Atmospheric_sciences + In_vivo + Biochemistry + Analytical_chemistry + Neuroscience + Botany + Gene_expression + Politics + Demography + Socioeconomic_status + Mortality_rate + Virus + Optics + Condensed_matter_physics + Bioinformatics + Law + Physical_medicine_and_rehabilitation + Stem_cell + Biodiversity + Astrophysics + Astronomy + Radiology + Pathology + Proportional_hazards_model + Chemotherapy + Predation + Food_science + Artificial_intelligence + Overweight + Antibiotics + Microbiology + Zoology + Paleontology + Habitat + Public_administration + Ecosystem + Economic_growth + Organic_chemistry + Government + Autism + Transplantation + Gastroenterology + Insulin + Engineering + Computer_science + Observational_study + Heart_disease + Epidemiology + Obstetrics + Pregnancy + Fishery + Alternative_medicine + Logistic_regression + Offspring + Mood + Bacteria + Prostate_cancer + Evolutionary_biology + Phenomenon + Longitudinal_study + Genome + Mutation + Pedagogy + Dementia + Relative_risk + Microeconomics + Odds + Feeling + Oceanography + Emergency_medicine + Personality + Prospective_cohort_study + Hippocampus + Greenhouse_gas + Biomarker__medicine_ + Myocardial_infarction + Socioeconomics + Drug + Environmental_science + Epigenetics + Inorganic_chemistry + Emergency_department + Medical_prescription + Phenotype\""
   ]
  },
  {
   "cell_type": "code",
   "execution_count": 35,
   "metadata": {
    "scrolled": true
   },
   "outputs": [
    {
     "name": "stderr",
     "output_type": "stream",
     "text": [
      "Warning message:\n",
      "“Some predictor variables are on very different scales: consider rescaling”"
     ]
    }
   ],
   "source": [
    "equation_bar <- as.formula(paste(base_str, keywords, \" + (1|journal_title) + (1|outlet)\", sep = \" \"))\n",
    "m5_quote <- glmer(formula = equation_bar, data = mydata, family = \"binomial\", control = glmerControl(optimizer = \"nloptwrap\"), nAGQ = 0)"
   ]
  },
  {
   "cell_type": "code",
   "execution_count": 18,
   "metadata": {
    "scrolled": true
   },
   "outputs": [],
   "source": [
    "# summary(m5_quote)"
   ]
  },
  {
   "cell_type": "code",
   "execution_count": 36,
   "metadata": {
    "scrolled": true
   },
   "outputs": [
    {
     "data": {
      "text/html": [
       "<table>\n",
       "<thead><tr><th scope=col>term</th><th scope=col>estimate</th><th scope=col>std.error</th><th scope=col>statistic</th><th scope=col>p.value</th><th scope=col>group</th></tr></thead>\n",
       "<tbody>\n",
       "\t<tr><td>(Intercept)                                   </td><td> 1.252509e+00                                 </td><td>9.634742e-02                                  </td><td>  12.9999243                                  </td><td> 1.224645e-38                                 </td><td>fixed                                         </td></tr>\n",
       "\t<tr><td>author_eth_ethnea_broadAfrican                </td><td>-4.218247e-01                                 </td><td>6.090752e-02                                  </td><td>  -6.9256582                                  </td><td> 4.339530e-12                                 </td><td>fixed                                         </td></tr>\n",
       "\t<tr><td>author_eth_ethnea_broadChinese                </td><td>-5.146927e-01                                 </td><td>1.763147e-02                                  </td><td> -29.1917009                                  </td><td>2.471602e-187                                 </td><td>fixed                                         </td></tr>\n",
       "\t<tr><td>author_eth_ethnea_broadEastAsian              </td><td>-4.301997e-01                                 </td><td>2.220530e-02                                  </td><td> -19.3737448                                  </td><td> 1.285582e-83                                 </td><td>fixed                                         </td></tr>\n",
       "\t<tr><td>author_eth_ethnea_broadEasternEuropean        </td><td>-1.154077e-01                                 </td><td>2.189024e-02                                  </td><td>  -5.2721087                                  </td><td> 1.348651e-07                                 </td><td>fixed                                         </td></tr>\n",
       "\t<tr><td>author_eth_ethnea_broadIndian                 </td><td>-2.969219e-02                                 </td><td>2.031557e-02                                  </td><td>  -1.4615485                                  </td><td> 1.438650e-01                                 </td><td>fixed                                         </td></tr>\n",
       "\t<tr><td>author_eth_ethnea_broadMiddleEastern          </td><td>-5.250645e-02                                 </td><td>1.860370e-02                                  </td><td>  -2.8223658                                  </td><td> 4.767076e-03                                 </td><td>fixed                                         </td></tr>\n",
       "\t<tr><td>author_eth_ethnea_broadSouthernEuropean       </td><td>-1.551708e-01                                 </td><td>1.417812e-02                                  </td><td> -10.9443815                                  </td><td> 7.069861e-28                                 </td><td>fixed                                         </td></tr>\n",
       "\t<tr><td>author_eth_ethnea_broadunknown                </td><td>-1.380122e-01                                 </td><td>5.787301e-02                                  </td><td>  -2.3847424                                  </td><td> 1.709108e-02                                 </td><td>fixed                                         </td></tr>\n",
       "\t<tr><td>author_eth_ethnea_broadWesternNorthernEuropean</td><td>-1.230827e-01                                 </td><td>1.114373e-02                                  </td><td> -11.0450172                                  </td><td> 2.317232e-28                                 </td><td>fixed                                         </td></tr>\n",
       "\t<tr><td>author_gender_ethneaF                         </td><td> 3.108115e-02                                 </td><td>9.546189e-03                                  </td><td>   3.2558698                                  </td><td> 1.130456e-03                                 </td><td>fixed                                         </td></tr>\n",
       "\t<tr><td>author_gender_ethneaunknown                   </td><td>-1.111403e-01                                 </td><td>1.252462e-02                                  </td><td>  -8.8737460                                  </td><td> 7.072576e-19                                 </td><td>fixed                                         </td></tr>\n",
       "\t<tr><td>reporter_eth_ethnea_broadAsian                </td><td>-8.915027e-02                                 </td><td>4.452629e-02                                  </td><td>  -2.0021940                                  </td><td> 4.526387e-02                                 </td><td>fixed                                         </td></tr>\n",
       "\t<tr><td>reporter_eth_ethnea_broadEuropean             </td><td>-4.759999e-02                                 </td><td>2.268431e-02                                  </td><td>  -2.0983662                                  </td><td> 3.587281e-02                                 </td><td>fixed                                         </td></tr>\n",
       "\t<tr><td>reporter_eth_ethnea_broadOtherUnknown         </td><td>-1.576479e-02                                 </td><td>3.049915e-02                                  </td><td>  -0.5168927                                  </td><td> 6.052311e-01                                 </td><td>fixed                                         </td></tr>\n",
       "\t<tr><td>reporter_gender_ethneaF                       </td><td> 2.801542e-02                                 </td><td>2.023131e-02                                  </td><td>   1.3847560                                  </td><td> 1.661271e-01                                 </td><td>fixed                                         </td></tr>\n",
       "\t<tr><td>reporter_gender_ethneaunknown                 </td><td>-1.492179e-02                                 </td><td>2.999791e-02                                  </td><td>  -0.4974277                                  </td><td> 6.188875e-01                                 </td><td>fixed                                         </td></tr>\n",
       "\t<tr><td>last_name_length                              </td><td>-9.495982e-03                                 </td><td>1.826700e-03                                  </td><td>  -5.1984355                                  </td><td> 2.009728e-07                                 </td><td>fixed                                         </td></tr>\n",
       "\t<tr><td>last_name_prob                                </td><td> 5.713749e-03                                 </td><td>1.943487e-03                                  </td><td>   2.9399472                                  </td><td> 3.282682e-03                                 </td><td>fixed                                         </td></tr>\n",
       "\t<tr><td>author_pos_catefirst_position                 </td><td> 2.018826e-01                                 </td><td>9.285812e-03                                  </td><td>  21.7409697                                  </td><td>8.410305e-105                                 </td><td>fixed                                         </td></tr>\n",
       "\t<tr><td>author_pos_catemiddle_position                </td><td>-9.973640e-01                                 </td><td>1.698049e-02                                  </td><td> -58.7358681                                  </td><td> 0.000000e+00                                 </td><td>fixed                                         </td></tr>\n",
       "\t<tr><td>author_pos_catesolo_author                    </td><td> 3.645435e-01                                 </td><td>2.922178e-02                                  </td><td>  12.4750623                                  </td><td> 1.021263e-35                                 </td><td>fixed                                         </td></tr>\n",
       "\t<tr><td>author_rank                                   </td><td>-7.930433e-05                                 </td><td>2.418869e-06                                  </td><td> -32.7857105                                  </td><td>9.411791e-236                                 </td><td>fixed                                         </td></tr>\n",
       "\t<tr><td>is_top_authorno                               </td><td> 3.385942e-02                                 </td><td>3.439666e-02                                  </td><td>   0.9843808                                  </td><td> 3.249283e-01                                 </td><td>fixed                                         </td></tr>\n",
       "\t<tr><td>is_correspondingno                            </td><td>-1.625732e+00                                 </td><td>8.850120e-03                                  </td><td>-183.6960925                                  </td><td> 0.000000e+00                                 </td><td>fixed                                         </td></tr>\n",
       "\t<tr><td>is_correspondingunknown                       </td><td>-6.702368e-01                                 </td><td>1.887424e-02                                  </td><td> -35.5106584                                  </td><td>3.365718e-276                                 </td><td>fixed                                         </td></tr>\n",
       "\t<tr><td>affiliation_rank                              </td><td>-5.282096e-05                                 </td><td>2.677144e-06                                  </td><td> -19.7303395                                  </td><td> 1.183728e-86                                 </td><td>fixed                                         </td></tr>\n",
       "\t<tr><td>affiliation_cateinternational                 </td><td>-3.837998e-01                                 </td><td>9.143388e-03                                  </td><td> -41.9756703                                  </td><td> 0.000000e+00                                 </td><td>fixed                                         </td></tr>\n",
       "\t<tr><td>affiliation_cateunknown                       </td><td> 2.869594e-01                                 </td><td>1.093636e-01                                  </td><td>   2.6239019                                  </td><td> 8.692883e-03                                 </td><td>fixed                                         </td></tr>\n",
       "\t<tr><td>num_authors                                   </td><td>-3.192695e-03                                 </td><td>2.476683e-04                                  </td><td> -12.8910123                                  </td><td> 5.057553e-38                                 </td><td>fixed                                         </td></tr>\n",
       "\t<tr><td>...</td><td>...</td><td>...</td><td>...</td><td>...</td><td>...</td></tr>\n",
       "\t<tr><td>Prostate_cancer             </td><td>-0.13727849                 </td><td>0.10778693                  </td><td>-1.27360985                 </td><td>2.028017e-01                </td><td>fixed                       </td></tr>\n",
       "\t<tr><td>Evolutionary_biology        </td><td> 0.06923898                 </td><td>0.08522874                  </td><td> 0.81239009                 </td><td>4.165678e-01                </td><td>fixed                       </td></tr>\n",
       "\t<tr><td>Phenomenon                  </td><td>-0.14953492                 </td><td>0.10629574                  </td><td>-1.40678196                 </td><td>1.594921e-01                </td><td>fixed                       </td></tr>\n",
       "\t<tr><td>Longitudinal_study          </td><td> 0.06637472                 </td><td>0.09582876                  </td><td> 0.69263879                 </td><td>4.885363e-01                </td><td>fixed                       </td></tr>\n",
       "\t<tr><td>Genome                      </td><td> 0.11202565                 </td><td>0.06899370                  </td><td> 1.62370846                 </td><td>1.044380e-01                </td><td>fixed                       </td></tr>\n",
       "\t<tr><td>Mutation                    </td><td> 0.26190175                 </td><td>0.08170742                  </td><td> 3.20536076                 </td><td>1.348933e-03                </td><td>fixed                       </td></tr>\n",
       "\t<tr><td>Pedagogy                    </td><td>-0.59572587                 </td><td>0.20630235                  </td><td>-2.88763498                 </td><td>3.881500e-03                </td><td>fixed                       </td></tr>\n",
       "\t<tr><td>Dementia                    </td><td>-0.10873169                 </td><td>0.10174906                  </td><td>-1.06862602                 </td><td>2.852382e-01                </td><td>fixed                       </td></tr>\n",
       "\t<tr><td>Relative_risk               </td><td> 0.02392162                 </td><td>0.08520228                  </td><td> 0.28076269                 </td><td>7.788924e-01                </td><td>fixed                       </td></tr>\n",
       "\t<tr><td>Microeconomics              </td><td> 0.09174441                 </td><td>0.21853592                  </td><td> 0.41981385                 </td><td>6.746214e-01                </td><td>fixed                       </td></tr>\n",
       "\t<tr><td>Odds                        </td><td>-0.02351510                 </td><td>0.11108908                  </td><td>-0.21167783                 </td><td>8.323584e-01                </td><td>fixed                       </td></tr>\n",
       "\t<tr><td>Feeling                     </td><td> 0.40942907                 </td><td>0.12899792                  </td><td> 3.17391983                 </td><td>1.503952e-03                </td><td>fixed                       </td></tr>\n",
       "\t<tr><td>Oceanography                </td><td> 0.16820159                 </td><td>0.11377278                  </td><td> 1.47839924                 </td><td>1.393009e-01                </td><td>fixed                       </td></tr>\n",
       "\t<tr><td>Emergency_medicine          </td><td> 0.02770316                 </td><td>0.10734430                  </td><td> 0.25807758                 </td><td>7.963470e-01                </td><td>fixed                       </td></tr>\n",
       "\t<tr><td>Personality                 </td><td> 0.25490193                 </td><td>0.10759030                  </td><td> 2.36919054                 </td><td>1.782707e-02                </td><td>fixed                       </td></tr>\n",
       "\t<tr><td>Prospective_cohort_study    </td><td>-0.06101527                 </td><td>0.06525985                  </td><td>-0.93495871                 </td><td>3.498096e-01                </td><td>fixed                       </td></tr>\n",
       "\t<tr><td>Hippocampus                 </td><td>-0.06921019                 </td><td>0.10442174                  </td><td>-0.66279482                 </td><td>5.074620e-01                </td><td>fixed                       </td></tr>\n",
       "\t<tr><td>Greenhouse_gas              </td><td>-0.03237895                 </td><td>0.09777734                  </td><td>-0.33114987                 </td><td>7.405313e-01                </td><td>fixed                       </td></tr>\n",
       "\t<tr><td>Biomarker__medicine_        </td><td> 0.32935228                 </td><td>0.09983174                  </td><td> 3.29907384                 </td><td>9.700439e-04                </td><td>fixed                       </td></tr>\n",
       "\t<tr><td>Myocardial_infarction       </td><td> 0.00580549                 </td><td>0.10249420                  </td><td> 0.05664213                 </td><td>9.548303e-01                </td><td>fixed                       </td></tr>\n",
       "\t<tr><td>Socioeconomics              </td><td>-0.01912061                 </td><td>0.14689879                  </td><td>-0.13016179                 </td><td>8.964384e-01                </td><td>fixed                       </td></tr>\n",
       "\t<tr><td>Drug                        </td><td> 0.27647318                 </td><td>0.10938568                  </td><td> 2.52750802                 </td><td>1.148752e-02                </td><td>fixed                       </td></tr>\n",
       "\t<tr><td>Environmental_science       </td><td>-0.30109424                 </td><td>0.10760431                  </td><td>-2.79816163                 </td><td>5.139439e-03                </td><td>fixed                       </td></tr>\n",
       "\t<tr><td>Epigenetics                 </td><td> 0.05021270                 </td><td>0.10123484                  </td><td> 0.49600216                 </td><td>6.198929e-01                </td><td>fixed                       </td></tr>\n",
       "\t<tr><td>Inorganic_chemistry         </td><td>-0.05705748                 </td><td>0.10377145                  </td><td>-0.54983793                 </td><td>5.824305e-01                </td><td>fixed                       </td></tr>\n",
       "\t<tr><td>Emergency_department        </td><td>-0.16888048                 </td><td>0.10419579                  </td><td>-1.62079942                 </td><td>1.050607e-01                </td><td>fixed                       </td></tr>\n",
       "\t<tr><td>Medical_prescription        </td><td> 0.55209115                 </td><td>0.09258111                  </td><td> 5.96332361                 </td><td>2.471582e-09                </td><td>fixed                       </td></tr>\n",
       "\t<tr><td>Phenotype                   </td><td> 0.19125283                 </td><td>0.09909384                  </td><td> 1.93001741                 </td><td>5.360468e-02                </td><td>fixed                       </td></tr>\n",
       "\t<tr><td>sd_(Intercept).journal_title</td><td> 0.77329373                 </td><td>        NA                  </td><td>         NA                 </td><td>          NA                </td><td>journal_title               </td></tr>\n",
       "\t<tr><td>sd_(Intercept).outlet       </td><td> 0.96864150                 </td><td>        NA                  </td><td>         NA                 </td><td>          NA                </td><td>outlet                      </td></tr>\n",
       "</tbody>\n",
       "</table>\n"
      ],
      "text/latex": [
       "\\begin{tabular}{r|llllll}\n",
       " term & estimate & std.error & statistic & p.value & group\\\\\n",
       "\\hline\n",
       "\t (Intercept)                                    &  1.252509e+00                                  & 9.634742e-02                                   &   12.9999243                                   &  1.224645e-38                                  & fixed                                         \\\\\n",
       "\t author\\_eth\\_ethnea\\_broadAfrican                 & -4.218247e-01                                        & 6.090752e-02                                         &   -6.9256582                                         &  4.339530e-12                                        & fixed                                               \\\\\n",
       "\t author\\_eth\\_ethnea\\_broadChinese                 & -5.146927e-01                                        & 1.763147e-02                                         &  -29.1917009                                         & 2.471602e-187                                        & fixed                                               \\\\\n",
       "\t author\\_eth\\_ethnea\\_broadEastAsian               & -4.301997e-01                                        & 2.220530e-02                                         &  -19.3737448                                         &  1.285582e-83                                        & fixed                                               \\\\\n",
       "\t author\\_eth\\_ethnea\\_broadEasternEuropean         & -1.154077e-01                                        & 2.189024e-02                                         &   -5.2721087                                         &  1.348651e-07                                        & fixed                                               \\\\\n",
       "\t author\\_eth\\_ethnea\\_broadIndian                  & -2.969219e-02                                        & 2.031557e-02                                         &   -1.4615485                                         &  1.438650e-01                                        & fixed                                               \\\\\n",
       "\t author\\_eth\\_ethnea\\_broadMiddleEastern           & -5.250645e-02                                        & 1.860370e-02                                         &   -2.8223658                                         &  4.767076e-03                                        & fixed                                               \\\\\n",
       "\t author\\_eth\\_ethnea\\_broadSouthernEuropean        & -1.551708e-01                                        & 1.417812e-02                                         &  -10.9443815                                         &  7.069861e-28                                        & fixed                                               \\\\\n",
       "\t author\\_eth\\_ethnea\\_broadunknown                 & -1.380122e-01                                        & 5.787301e-02                                         &   -2.3847424                                         &  1.709108e-02                                        & fixed                                               \\\\\n",
       "\t author\\_eth\\_ethnea\\_broadWesternNorthernEuropean & -1.230827e-01                                        & 1.114373e-02                                         &  -11.0450172                                         &  2.317232e-28                                        & fixed                                               \\\\\n",
       "\t author\\_gender\\_ethneaF                          &  3.108115e-02                                      & 9.546189e-03                                       &    3.2558698                                       &  1.130456e-03                                      & fixed                                             \\\\\n",
       "\t author\\_gender\\_ethneaunknown                    & -1.111403e-01                                      & 1.252462e-02                                       &   -8.8737460                                       &  7.072576e-19                                      & fixed                                             \\\\\n",
       "\t reporter\\_eth\\_ethnea\\_broadAsian                 & -8.915027e-02                                        & 4.452629e-02                                         &   -2.0021940                                         &  4.526387e-02                                        & fixed                                               \\\\\n",
       "\t reporter\\_eth\\_ethnea\\_broadEuropean              & -4.759999e-02                                        & 2.268431e-02                                         &   -2.0983662                                         &  3.587281e-02                                        & fixed                                               \\\\\n",
       "\t reporter\\_eth\\_ethnea\\_broadOtherUnknown          & -1.576479e-02                                        & 3.049915e-02                                         &   -0.5168927                                         &  6.052311e-01                                        & fixed                                               \\\\\n",
       "\t reporter\\_gender\\_ethneaF                        &  2.801542e-02                                      & 2.023131e-02                                       &    1.3847560                                       &  1.661271e-01                                      & fixed                                             \\\\\n",
       "\t reporter\\_gender\\_ethneaunknown                  & -1.492179e-02                                      & 2.999791e-02                                       &   -0.4974277                                       &  6.188875e-01                                      & fixed                                             \\\\\n",
       "\t last\\_name\\_length                               & -9.495982e-03                                      & 1.826700e-03                                       &   -5.1984355                                       &  2.009728e-07                                      & fixed                                             \\\\\n",
       "\t last\\_name\\_prob                                 &  5.713749e-03                                      & 1.943487e-03                                       &    2.9399472                                       &  3.282682e-03                                      & fixed                                             \\\\\n",
       "\t author\\_pos\\_catefirst\\_position                  &  2.018826e-01                                        & 9.285812e-03                                         &   21.7409697                                         & 8.410305e-105                                        & fixed                                               \\\\\n",
       "\t author\\_pos\\_catemiddle\\_position                 & -9.973640e-01                                        & 1.698049e-02                                         &  -58.7358681                                         &  0.000000e+00                                        & fixed                                               \\\\\n",
       "\t author\\_pos\\_catesolo\\_author                     &  3.645435e-01                                        & 2.922178e-02                                         &   12.4750623                                         &  1.021263e-35                                        & fixed                                               \\\\\n",
       "\t author\\_rank                                    & -7.930433e-05                                    & 2.418869e-06                                     &  -32.7857105                                     & 9.411791e-236                                    & fixed                                           \\\\\n",
       "\t is\\_top\\_authorno                                &  3.385942e-02                                      & 3.439666e-02                                       &    0.9843808                                       &  3.249283e-01                                      & fixed                                             \\\\\n",
       "\t is\\_correspondingno                             & -1.625732e+00                                    & 8.850120e-03                                     & -183.6960925                                     &  0.000000e+00                                    & fixed                                           \\\\\n",
       "\t is\\_correspondingunknown                        & -6.702368e-01                                    & 1.887424e-02                                     &  -35.5106584                                     & 3.365718e-276                                    & fixed                                           \\\\\n",
       "\t affiliation\\_rank                               & -5.282096e-05                                    & 2.677144e-06                                     &  -19.7303395                                     &  1.183728e-86                                    & fixed                                           \\\\\n",
       "\t affiliation\\_cateinternational                  & -3.837998e-01                                    & 9.143388e-03                                     &  -41.9756703                                     &  0.000000e+00                                    & fixed                                           \\\\\n",
       "\t affiliation\\_cateunknown                        &  2.869594e-01                                    & 1.093636e-01                                     &    2.6239019                                     &  8.692883e-03                                    & fixed                                           \\\\\n",
       "\t num\\_authors                                    & -3.192695e-03                                    & 2.476683e-04                                     &  -12.8910123                                     &  5.057553e-38                                    & fixed                                           \\\\\n",
       "\t ... & ... & ... & ... & ... & ...\\\\\n",
       "\t Prostate\\_cancer              & -0.13727849                    & 0.10778693                     & -1.27360985                    & 2.028017e-01                   & fixed                         \\\\\n",
       "\t Evolutionary\\_biology         &  0.06923898                    & 0.08522874                     &  0.81239009                    & 4.165678e-01                   & fixed                         \\\\\n",
       "\t Phenomenon                   & -0.14953492                  & 0.10629574                   & -1.40678196                  & 1.594921e-01                 & fixed                       \\\\\n",
       "\t Longitudinal\\_study           &  0.06637472                    & 0.09582876                     &  0.69263879                    & 4.885363e-01                   & fixed                         \\\\\n",
       "\t Genome                       &  0.11202565                  & 0.06899370                   &  1.62370846                  & 1.044380e-01                 & fixed                       \\\\\n",
       "\t Mutation                     &  0.26190175                  & 0.08170742                   &  3.20536076                  & 1.348933e-03                 & fixed                       \\\\\n",
       "\t Pedagogy                     & -0.59572587                  & 0.20630235                   & -2.88763498                  & 3.881500e-03                 & fixed                       \\\\\n",
       "\t Dementia                     & -0.10873169                  & 0.10174906                   & -1.06862602                  & 2.852382e-01                 & fixed                       \\\\\n",
       "\t Relative\\_risk                &  0.02392162                    & 0.08520228                     &  0.28076269                    & 7.788924e-01                   & fixed                         \\\\\n",
       "\t Microeconomics               &  0.09174441                  & 0.21853592                   &  0.41981385                  & 6.746214e-01                 & fixed                       \\\\\n",
       "\t Odds                         & -0.02351510                  & 0.11108908                   & -0.21167783                  & 8.323584e-01                 & fixed                       \\\\\n",
       "\t Feeling                      &  0.40942907                  & 0.12899792                   &  3.17391983                  & 1.503952e-03                 & fixed                       \\\\\n",
       "\t Oceanography                 &  0.16820159                  & 0.11377278                   &  1.47839924                  & 1.393009e-01                 & fixed                       \\\\\n",
       "\t Emergency\\_medicine           &  0.02770316                    & 0.10734430                     &  0.25807758                    & 7.963470e-01                   & fixed                         \\\\\n",
       "\t Personality                  &  0.25490193                  & 0.10759030                   &  2.36919054                  & 1.782707e-02                 & fixed                       \\\\\n",
       "\t Prospective\\_cohort\\_study     & -0.06101527                      & 0.06525985                       & -0.93495871                      & 3.498096e-01                     & fixed                           \\\\\n",
       "\t Hippocampus                  & -0.06921019                  & 0.10442174                   & -0.66279482                  & 5.074620e-01                 & fixed                       \\\\\n",
       "\t Greenhouse\\_gas               & -0.03237895                    & 0.09777734                     & -0.33114987                    & 7.405313e-01                   & fixed                         \\\\\n",
       "\t Biomarker\\_\\_medicine\\_         &  0.32935228                        & 0.09983174                         &  3.29907384                        & 9.700439e-04                       & fixed                             \\\\\n",
       "\t Myocardial\\_infarction        &  0.00580549                    & 0.10249420                     &  0.05664213                    & 9.548303e-01                   & fixed                         \\\\\n",
       "\t Socioeconomics               & -0.01912061                  & 0.14689879                   & -0.13016179                  & 8.964384e-01                 & fixed                       \\\\\n",
       "\t Drug                         &  0.27647318                  & 0.10938568                   &  2.52750802                  & 1.148752e-02                 & fixed                       \\\\\n",
       "\t Environmental\\_science        & -0.30109424                    & 0.10760431                     & -2.79816163                    & 5.139439e-03                   & fixed                         \\\\\n",
       "\t Epigenetics                  &  0.05021270                  & 0.10123484                   &  0.49600216                  & 6.198929e-01                 & fixed                       \\\\\n",
       "\t Inorganic\\_chemistry          & -0.05705748                    & 0.10377145                     & -0.54983793                    & 5.824305e-01                   & fixed                         \\\\\n",
       "\t Emergency\\_department         & -0.16888048                    & 0.10419579                     & -1.62079942                    & 1.050607e-01                   & fixed                         \\\\\n",
       "\t Medical\\_prescription         &  0.55209115                    & 0.09258111                     &  5.96332361                    & 2.471582e-09                   & fixed                         \\\\\n",
       "\t Phenotype                    &  0.19125283                  & 0.09909384                   &  1.93001741                  & 5.360468e-02                 & fixed                       \\\\\n",
       "\t sd\\_(Intercept).journal\\_title &  0.77329373                      &         NA                       &          NA                      &           NA                     & journal\\_title                 \\\\\n",
       "\t sd\\_(Intercept).outlet        &  0.96864150                    &         NA                     &          NA                    &           NA                   & outlet                        \\\\\n",
       "\\end{tabular}\n"
      ],
      "text/markdown": [
       "\n",
       "| term | estimate | std.error | statistic | p.value | group |\n",
       "|---|---|---|---|---|---|\n",
       "| (Intercept)                                    |  1.252509e+00                                  | 9.634742e-02                                   |   12.9999243                                   |  1.224645e-38                                  | fixed                                          |\n",
       "| author_eth_ethnea_broadAfrican                 | -4.218247e-01                                  | 6.090752e-02                                   |   -6.9256582                                   |  4.339530e-12                                  | fixed                                          |\n",
       "| author_eth_ethnea_broadChinese                 | -5.146927e-01                                  | 1.763147e-02                                   |  -29.1917009                                   | 2.471602e-187                                  | fixed                                          |\n",
       "| author_eth_ethnea_broadEastAsian               | -4.301997e-01                                  | 2.220530e-02                                   |  -19.3737448                                   |  1.285582e-83                                  | fixed                                          |\n",
       "| author_eth_ethnea_broadEasternEuropean         | -1.154077e-01                                  | 2.189024e-02                                   |   -5.2721087                                   |  1.348651e-07                                  | fixed                                          |\n",
       "| author_eth_ethnea_broadIndian                  | -2.969219e-02                                  | 2.031557e-02                                   |   -1.4615485                                   |  1.438650e-01                                  | fixed                                          |\n",
       "| author_eth_ethnea_broadMiddleEastern           | -5.250645e-02                                  | 1.860370e-02                                   |   -2.8223658                                   |  4.767076e-03                                  | fixed                                          |\n",
       "| author_eth_ethnea_broadSouthernEuropean        | -1.551708e-01                                  | 1.417812e-02                                   |  -10.9443815                                   |  7.069861e-28                                  | fixed                                          |\n",
       "| author_eth_ethnea_broadunknown                 | -1.380122e-01                                  | 5.787301e-02                                   |   -2.3847424                                   |  1.709108e-02                                  | fixed                                          |\n",
       "| author_eth_ethnea_broadWesternNorthernEuropean | -1.230827e-01                                  | 1.114373e-02                                   |  -11.0450172                                   |  2.317232e-28                                  | fixed                                          |\n",
       "| author_gender_ethneaF                          |  3.108115e-02                                  | 9.546189e-03                                   |    3.2558698                                   |  1.130456e-03                                  | fixed                                          |\n",
       "| author_gender_ethneaunknown                    | -1.111403e-01                                  | 1.252462e-02                                   |   -8.8737460                                   |  7.072576e-19                                  | fixed                                          |\n",
       "| reporter_eth_ethnea_broadAsian                 | -8.915027e-02                                  | 4.452629e-02                                   |   -2.0021940                                   |  4.526387e-02                                  | fixed                                          |\n",
       "| reporter_eth_ethnea_broadEuropean              | -4.759999e-02                                  | 2.268431e-02                                   |   -2.0983662                                   |  3.587281e-02                                  | fixed                                          |\n",
       "| reporter_eth_ethnea_broadOtherUnknown          | -1.576479e-02                                  | 3.049915e-02                                   |   -0.5168927                                   |  6.052311e-01                                  | fixed                                          |\n",
       "| reporter_gender_ethneaF                        |  2.801542e-02                                  | 2.023131e-02                                   |    1.3847560                                   |  1.661271e-01                                  | fixed                                          |\n",
       "| reporter_gender_ethneaunknown                  | -1.492179e-02                                  | 2.999791e-02                                   |   -0.4974277                                   |  6.188875e-01                                  | fixed                                          |\n",
       "| last_name_length                               | -9.495982e-03                                  | 1.826700e-03                                   |   -5.1984355                                   |  2.009728e-07                                  | fixed                                          |\n",
       "| last_name_prob                                 |  5.713749e-03                                  | 1.943487e-03                                   |    2.9399472                                   |  3.282682e-03                                  | fixed                                          |\n",
       "| author_pos_catefirst_position                  |  2.018826e-01                                  | 9.285812e-03                                   |   21.7409697                                   | 8.410305e-105                                  | fixed                                          |\n",
       "| author_pos_catemiddle_position                 | -9.973640e-01                                  | 1.698049e-02                                   |  -58.7358681                                   |  0.000000e+00                                  | fixed                                          |\n",
       "| author_pos_catesolo_author                     |  3.645435e-01                                  | 2.922178e-02                                   |   12.4750623                                   |  1.021263e-35                                  | fixed                                          |\n",
       "| author_rank                                    | -7.930433e-05                                  | 2.418869e-06                                   |  -32.7857105                                   | 9.411791e-236                                  | fixed                                          |\n",
       "| is_top_authorno                                |  3.385942e-02                                  | 3.439666e-02                                   |    0.9843808                                   |  3.249283e-01                                  | fixed                                          |\n",
       "| is_correspondingno                             | -1.625732e+00                                  | 8.850120e-03                                   | -183.6960925                                   |  0.000000e+00                                  | fixed                                          |\n",
       "| is_correspondingunknown                        | -6.702368e-01                                  | 1.887424e-02                                   |  -35.5106584                                   | 3.365718e-276                                  | fixed                                          |\n",
       "| affiliation_rank                               | -5.282096e-05                                  | 2.677144e-06                                   |  -19.7303395                                   |  1.183728e-86                                  | fixed                                          |\n",
       "| affiliation_cateinternational                  | -3.837998e-01                                  | 9.143388e-03                                   |  -41.9756703                                   |  0.000000e+00                                  | fixed                                          |\n",
       "| affiliation_cateunknown                        |  2.869594e-01                                  | 1.093636e-01                                   |    2.6239019                                   |  8.692883e-03                                  | fixed                                          |\n",
       "| num_authors                                    | -3.192695e-03                                  | 2.476683e-04                                   |  -12.8910123                                   |  5.057553e-38                                  | fixed                                          |\n",
       "| ... | ... | ... | ... | ... | ... |\n",
       "| Prostate_cancer              | -0.13727849                  | 0.10778693                   | -1.27360985                  | 2.028017e-01                 | fixed                        |\n",
       "| Evolutionary_biology         |  0.06923898                  | 0.08522874                   |  0.81239009                  | 4.165678e-01                 | fixed                        |\n",
       "| Phenomenon                   | -0.14953492                  | 0.10629574                   | -1.40678196                  | 1.594921e-01                 | fixed                        |\n",
       "| Longitudinal_study           |  0.06637472                  | 0.09582876                   |  0.69263879                  | 4.885363e-01                 | fixed                        |\n",
       "| Genome                       |  0.11202565                  | 0.06899370                   |  1.62370846                  | 1.044380e-01                 | fixed                        |\n",
       "| Mutation                     |  0.26190175                  | 0.08170742                   |  3.20536076                  | 1.348933e-03                 | fixed                        |\n",
       "| Pedagogy                     | -0.59572587                  | 0.20630235                   | -2.88763498                  | 3.881500e-03                 | fixed                        |\n",
       "| Dementia                     | -0.10873169                  | 0.10174906                   | -1.06862602                  | 2.852382e-01                 | fixed                        |\n",
       "| Relative_risk                |  0.02392162                  | 0.08520228                   |  0.28076269                  | 7.788924e-01                 | fixed                        |\n",
       "| Microeconomics               |  0.09174441                  | 0.21853592                   |  0.41981385                  | 6.746214e-01                 | fixed                        |\n",
       "| Odds                         | -0.02351510                  | 0.11108908                   | -0.21167783                  | 8.323584e-01                 | fixed                        |\n",
       "| Feeling                      |  0.40942907                  | 0.12899792                   |  3.17391983                  | 1.503952e-03                 | fixed                        |\n",
       "| Oceanography                 |  0.16820159                  | 0.11377278                   |  1.47839924                  | 1.393009e-01                 | fixed                        |\n",
       "| Emergency_medicine           |  0.02770316                  | 0.10734430                   |  0.25807758                  | 7.963470e-01                 | fixed                        |\n",
       "| Personality                  |  0.25490193                  | 0.10759030                   |  2.36919054                  | 1.782707e-02                 | fixed                        |\n",
       "| Prospective_cohort_study     | -0.06101527                  | 0.06525985                   | -0.93495871                  | 3.498096e-01                 | fixed                        |\n",
       "| Hippocampus                  | -0.06921019                  | 0.10442174                   | -0.66279482                  | 5.074620e-01                 | fixed                        |\n",
       "| Greenhouse_gas               | -0.03237895                  | 0.09777734                   | -0.33114987                  | 7.405313e-01                 | fixed                        |\n",
       "| Biomarker__medicine_         |  0.32935228                  | 0.09983174                   |  3.29907384                  | 9.700439e-04                 | fixed                        |\n",
       "| Myocardial_infarction        |  0.00580549                  | 0.10249420                   |  0.05664213                  | 9.548303e-01                 | fixed                        |\n",
       "| Socioeconomics               | -0.01912061                  | 0.14689879                   | -0.13016179                  | 8.964384e-01                 | fixed                        |\n",
       "| Drug                         |  0.27647318                  | 0.10938568                   |  2.52750802                  | 1.148752e-02                 | fixed                        |\n",
       "| Environmental_science        | -0.30109424                  | 0.10760431                   | -2.79816163                  | 5.139439e-03                 | fixed                        |\n",
       "| Epigenetics                  |  0.05021270                  | 0.10123484                   |  0.49600216                  | 6.198929e-01                 | fixed                        |\n",
       "| Inorganic_chemistry          | -0.05705748                  | 0.10377145                   | -0.54983793                  | 5.824305e-01                 | fixed                        |\n",
       "| Emergency_department         | -0.16888048                  | 0.10419579                   | -1.62079942                  | 1.050607e-01                 | fixed                        |\n",
       "| Medical_prescription         |  0.55209115                  | 0.09258111                   |  5.96332361                  | 2.471582e-09                 | fixed                        |\n",
       "| Phenotype                    |  0.19125283                  | 0.09909384                   |  1.93001741                  | 5.360468e-02                 | fixed                        |\n",
       "| sd_(Intercept).journal_title |  0.77329373                  |         NA                   |          NA                  |           NA                 | journal_title                |\n",
       "| sd_(Intercept).outlet        |  0.96864150                  |         NA                   |          NA                  |           NA                 | outlet                       |\n",
       "\n"
      ],
      "text/plain": [
       "    term                                           estimate      std.error   \n",
       "1   (Intercept)                                     1.252509e+00 9.634742e-02\n",
       "2   author_eth_ethnea_broadAfrican                 -4.218247e-01 6.090752e-02\n",
       "3   author_eth_ethnea_broadChinese                 -5.146927e-01 1.763147e-02\n",
       "4   author_eth_ethnea_broadEastAsian               -4.301997e-01 2.220530e-02\n",
       "5   author_eth_ethnea_broadEasternEuropean         -1.154077e-01 2.189024e-02\n",
       "6   author_eth_ethnea_broadIndian                  -2.969219e-02 2.031557e-02\n",
       "7   author_eth_ethnea_broadMiddleEastern           -5.250645e-02 1.860370e-02\n",
       "8   author_eth_ethnea_broadSouthernEuropean        -1.551708e-01 1.417812e-02\n",
       "9   author_eth_ethnea_broadunknown                 -1.380122e-01 5.787301e-02\n",
       "10  author_eth_ethnea_broadWesternNorthernEuropean -1.230827e-01 1.114373e-02\n",
       "11  author_gender_ethneaF                           3.108115e-02 9.546189e-03\n",
       "12  author_gender_ethneaunknown                    -1.111403e-01 1.252462e-02\n",
       "13  reporter_eth_ethnea_broadAsian                 -8.915027e-02 4.452629e-02\n",
       "14  reporter_eth_ethnea_broadEuropean              -4.759999e-02 2.268431e-02\n",
       "15  reporter_eth_ethnea_broadOtherUnknown          -1.576479e-02 3.049915e-02\n",
       "16  reporter_gender_ethneaF                         2.801542e-02 2.023131e-02\n",
       "17  reporter_gender_ethneaunknown                  -1.492179e-02 2.999791e-02\n",
       "18  last_name_length                               -9.495982e-03 1.826700e-03\n",
       "19  last_name_prob                                  5.713749e-03 1.943487e-03\n",
       "20  author_pos_catefirst_position                   2.018826e-01 9.285812e-03\n",
       "21  author_pos_catemiddle_position                 -9.973640e-01 1.698049e-02\n",
       "22  author_pos_catesolo_author                      3.645435e-01 2.922178e-02\n",
       "23  author_rank                                    -7.930433e-05 2.418869e-06\n",
       "24  is_top_authorno                                 3.385942e-02 3.439666e-02\n",
       "25  is_correspondingno                             -1.625732e+00 8.850120e-03\n",
       "26  is_correspondingunknown                        -6.702368e-01 1.887424e-02\n",
       "27  affiliation_rank                               -5.282096e-05 2.677144e-06\n",
       "28  affiliation_cateinternational                  -3.837998e-01 9.143388e-03\n",
       "29  affiliation_cateunknown                         2.869594e-01 1.093636e-01\n",
       "30  num_authors                                    -3.192695e-03 2.476683e-04\n",
       "... ...                                            ...           ...         \n",
       "209 Prostate_cancer                                -0.13727849   0.10778693  \n",
       "210 Evolutionary_biology                            0.06923898   0.08522874  \n",
       "211 Phenomenon                                     -0.14953492   0.10629574  \n",
       "212 Longitudinal_study                              0.06637472   0.09582876  \n",
       "213 Genome                                          0.11202565   0.06899370  \n",
       "214 Mutation                                        0.26190175   0.08170742  \n",
       "215 Pedagogy                                       -0.59572587   0.20630235  \n",
       "216 Dementia                                       -0.10873169   0.10174906  \n",
       "217 Relative_risk                                   0.02392162   0.08520228  \n",
       "218 Microeconomics                                  0.09174441   0.21853592  \n",
       "219 Odds                                           -0.02351510   0.11108908  \n",
       "220 Feeling                                         0.40942907   0.12899792  \n",
       "221 Oceanography                                    0.16820159   0.11377278  \n",
       "222 Emergency_medicine                              0.02770316   0.10734430  \n",
       "223 Personality                                     0.25490193   0.10759030  \n",
       "224 Prospective_cohort_study                       -0.06101527   0.06525985  \n",
       "225 Hippocampus                                    -0.06921019   0.10442174  \n",
       "226 Greenhouse_gas                                 -0.03237895   0.09777734  \n",
       "227 Biomarker__medicine_                            0.32935228   0.09983174  \n",
       "228 Myocardial_infarction                           0.00580549   0.10249420  \n",
       "229 Socioeconomics                                 -0.01912061   0.14689879  \n",
       "230 Drug                                            0.27647318   0.10938568  \n",
       "231 Environmental_science                          -0.30109424   0.10760431  \n",
       "232 Epigenetics                                     0.05021270   0.10123484  \n",
       "233 Inorganic_chemistry                            -0.05705748   0.10377145  \n",
       "234 Emergency_department                           -0.16888048   0.10419579  \n",
       "235 Medical_prescription                            0.55209115   0.09258111  \n",
       "236 Phenotype                                       0.19125283   0.09909384  \n",
       "237 sd_(Intercept).journal_title                    0.77329373           NA  \n",
       "238 sd_(Intercept).outlet                           0.96864150           NA  \n",
       "    statistic    p.value       group        \n",
       "1     12.9999243  1.224645e-38 fixed        \n",
       "2     -6.9256582  4.339530e-12 fixed        \n",
       "3    -29.1917009 2.471602e-187 fixed        \n",
       "4    -19.3737448  1.285582e-83 fixed        \n",
       "5     -5.2721087  1.348651e-07 fixed        \n",
       "6     -1.4615485  1.438650e-01 fixed        \n",
       "7     -2.8223658  4.767076e-03 fixed        \n",
       "8    -10.9443815  7.069861e-28 fixed        \n",
       "9     -2.3847424  1.709108e-02 fixed        \n",
       "10   -11.0450172  2.317232e-28 fixed        \n",
       "11     3.2558698  1.130456e-03 fixed        \n",
       "12    -8.8737460  7.072576e-19 fixed        \n",
       "13    -2.0021940  4.526387e-02 fixed        \n",
       "14    -2.0983662  3.587281e-02 fixed        \n",
       "15    -0.5168927  6.052311e-01 fixed        \n",
       "16     1.3847560  1.661271e-01 fixed        \n",
       "17    -0.4974277  6.188875e-01 fixed        \n",
       "18    -5.1984355  2.009728e-07 fixed        \n",
       "19     2.9399472  3.282682e-03 fixed        \n",
       "20    21.7409697 8.410305e-105 fixed        \n",
       "21   -58.7358681  0.000000e+00 fixed        \n",
       "22    12.4750623  1.021263e-35 fixed        \n",
       "23   -32.7857105 9.411791e-236 fixed        \n",
       "24     0.9843808  3.249283e-01 fixed        \n",
       "25  -183.6960925  0.000000e+00 fixed        \n",
       "26   -35.5106584 3.365718e-276 fixed        \n",
       "27   -19.7303395  1.183728e-86 fixed        \n",
       "28   -41.9756703  0.000000e+00 fixed        \n",
       "29     2.6239019  8.692883e-03 fixed        \n",
       "30   -12.8910123  5.057553e-38 fixed        \n",
       "... ...          ...           ...          \n",
       "209 -1.27360985  2.028017e-01  fixed        \n",
       "210  0.81239009  4.165678e-01  fixed        \n",
       "211 -1.40678196  1.594921e-01  fixed        \n",
       "212  0.69263879  4.885363e-01  fixed        \n",
       "213  1.62370846  1.044380e-01  fixed        \n",
       "214  3.20536076  1.348933e-03  fixed        \n",
       "215 -2.88763498  3.881500e-03  fixed        \n",
       "216 -1.06862602  2.852382e-01  fixed        \n",
       "217  0.28076269  7.788924e-01  fixed        \n",
       "218  0.41981385  6.746214e-01  fixed        \n",
       "219 -0.21167783  8.323584e-01  fixed        \n",
       "220  3.17391983  1.503952e-03  fixed        \n",
       "221  1.47839924  1.393009e-01  fixed        \n",
       "222  0.25807758  7.963470e-01  fixed        \n",
       "223  2.36919054  1.782707e-02  fixed        \n",
       "224 -0.93495871  3.498096e-01  fixed        \n",
       "225 -0.66279482  5.074620e-01  fixed        \n",
       "226 -0.33114987  7.405313e-01  fixed        \n",
       "227  3.29907384  9.700439e-04  fixed        \n",
       "228  0.05664213  9.548303e-01  fixed        \n",
       "229 -0.13016179  8.964384e-01  fixed        \n",
       "230  2.52750802  1.148752e-02  fixed        \n",
       "231 -2.79816163  5.139439e-03  fixed        \n",
       "232  0.49600216  6.198929e-01  fixed        \n",
       "233 -0.54983793  5.824305e-01  fixed        \n",
       "234 -1.62079942  1.050607e-01  fixed        \n",
       "235  5.96332361  2.471582e-09  fixed        \n",
       "236  1.93001741  5.360468e-02  fixed        \n",
       "237          NA            NA  journal_title\n",
       "238          NA            NA  outlet       "
      ]
     },
     "metadata": {},
     "output_type": "display_data"
    }
   ],
   "source": [
    "tidy(m5_quote)"
   ]
  },
  {
   "cell_type": "code",
   "execution_count": 16,
   "metadata": {},
   "outputs": [],
   "source": [
    "# use this search string in Sublime: \" \\\\\\\\ \\n  &\" with ' &'\n",
    "# stargazer(m5_quote, type = \"latex\", single.row=TRUE, ci = TRUE, report = ('vcsp'))"
   ]
  },
  {
   "cell_type": "markdown",
   "metadata": {},
   "source": [
    "AME"
   ]
  },
  {
   "cell_type": "code",
   "execution_count": null,
   "metadata": {},
   "outputs": [],
   "source": [
    "margins_eff <- margins(m5_quote, data = mydata, variables = c(\"author_eth_ethnea_broad\", \"author_gender_ethnea\"))"
   ]
  },
  {
   "cell_type": "code",
   "execution_count": null,
   "metadata": {
    "scrolled": true
   },
   "outputs": [],
   "source": [
    "nrow(margins_eff)"
   ]
  },
  {
   "cell_type": "code",
   "execution_count": null,
   "metadata": {},
   "outputs": [],
   "source": [
    "summary(margins_eff)"
   ]
  },
  {
   "cell_type": "code",
   "execution_count": null,
   "metadata": {},
   "outputs": [],
   "source": [
    "write.csv(summary(margins_eff), \"/shared/0/projects/news-quotes/reg_results/quote/margins.csv\", row.names = FALSE)"
   ]
  },
  {
   "cell_type": "markdown",
   "metadata": {},
   "source": [
    "### indirect mention (mentioned institution not author name)"
   ]
  },
  {
   "cell_type": "code",
   "execution_count": 17,
   "metadata": {},
   "outputs": [],
   "source": [
    "base_str <- \"has_indirect_mention ~ 1 + author_eth_ethnea_broad + author_gender_ethnea + reporter_eth_ethnea_broad + reporter_gender_ethnea + \\\n",
    "          last_name_length + last_name_prob + author_pos_cate + author_rank + is_top_author + is_corresponding + \\\n",
    "          affiliation_rank + affiliation_cate + num_authors + mention_year_center + gap_in_years + \\\n",
    "          num_words + num_mentioned_papers + FleschReadingEase + sentences_per_paragraph + type_token_ratio\"\n",
    "\n",
    "# 533 keywords\n",
    "# keywords <- \"Composite_material + Chemistry + Chromatography + Botany + Surgery + Medicine + Cognitive_psychology + Affect__psychology_ + Aggression + Psychology + Psychiatry + Cell_biology + Transcriptome + Molecular_biology + Carcinogenesis + Biology + Human_sexuality + Physical_therapy + Testosterone + Psychotherapist + Prostate_cancer + Mood + Disease + Genetics + Genome + Randomized_controlled_trial + Quality_of_life + Comorbidity + Severity_of_illness + Diabetes_mellitus + Prospective_cohort_study + Ideology + China + Law + Sociology + Environmental_engineering + Environmental_resource_management + Economics + Climate_change + Population + Evolutionary_biology + Cell + Phylogenetics + Ecology + Taxon + Biodiversity + Atmospheric_sciences + Environmental_science + Global_warming + Meteorology + Pedagogy + Social_science + Social_psychology + Confidence_interval + Referral + Young_adult + Medical_prescription + Molecule + Organic_chemistry + Materials_science + Environmental_health + Obesity + Body_mass_index + Public_health + Biochemistry + Endocrinology + Internal_medicine + Mitochondrion + Democracy + Political_economy + Public_administration + Politics + Public_opinion + Gerontology + Cohort_study + Lower_risk + Developmental_psychology + Paleontology + Geology + Neuroscience + Biophysics + RNA + Atomic_physics + Physics + Ion + Photon + Optics + Climatology + Geography + Precipitation + Chemical_engineering + Membrane + Inorganic_chemistry + Environmental_chemistry + Psychological_resilience + Risk_assessment + Cardiology + Cause_of_death + Atrial_fibrillation + Stimulus__physiology_ + Schizophrenia + Neuroimaging + Perception + Intensive_care_medicine + Nursing + Developing_country + Health_care + Drug + Distress + Political_science + Prefrontal_cortex + Social_relation + Chromatin + Microbiology + Antimicrobial + Antibiotics + Pregnancy + Pathology + Applied_psychology + Cognition + Anxiety + Radiology + Radiation_therapy + Biopsy + Chemotherapy + Multimedia + Autism + Socioeconomics + Agriculture + Gynecology + Breast_cancer + Obstetrics + Gestation + Pharmacology + Clinical_trial + Food_science + Escherichia_coli + Bacteria + Photochemistry + Injury_prevention + Human_factors_and_ergonomics + Suicide_prevention + Social_environment + Occupational_safety_and_health + Heart_failure + Predation + In_vivo + CRISPR + Crop + Carbon + Public_relations + Demography + Dentistry + Logistic_regression + Health_equity + Medicaid + Epidemiology + Threatened_species + Species_richness + Harm + Classical_mechanics + Quantum_mechanics + Odds_ratio + Homeostasis + Type_2_diabetes + Cohort + Anatomy + Interpersonal_relationship + Norm__social_ + Crystallography + Physiology + Placebo + MEDLINE + Pediatrics + Adverse_effect + Transplantation + Dopamine + Embryonic_stem_cell + Criminology + Astrophysics + Astronomy + Condensed_matter_physics + Optoelectronics + Molecular_physics + Nanotechnology + Crystal + Animal_science + Sediment + Melanoma + Cell_culture + Electronic_engineering + Odds + Overweight + Confounding + Communication + Child_development + Psychological_intervention + Gene + Management_science + Offspring + Epigenetics + Mental_health + Well_being + Immigration + Coping__psychology_ + Physical_exercise + Personality + Particle_physics + Alternative_medicine + Immunology + Big_Five_personality_traits + PsycINFO + Happiness + Extinction + Environmental_protection + Land_use + Agroforestry + Vegetation + Habitat + Ecosystem + Mineralogy + Geochemistry + Economic_growth + Vaccination + Recall + Working_memory + Radiation + Atmosphere + Vulnerability + Catalysis + Anesthesia + Toxicology + Cannabis + Government + European_union + Risk_factor + Systematic_review + General_surgery + Clinical_endpoint + Lung_cancer + Polymer + Geophysics + Geomorphology + Advertising + Cross_sectional_study + Interquartile_range + Weight_loss + Health_promotion + Academic_achievement + Finance + Chronic_pain + Immune_system + T_cell + Immunity + Virology + Dementia + Alzheimer_s_disease + Socioeconomic_status + Allele + Insulin + Hormone + Evidence_based_medicine + Meta_analysis + Medical_emergency + Zoology + Actuarial_science + Hydrology + Functional_magnetic_resonance_imaging + Electroencephalography + Machine_learning + Artificial_intelligence + Clinical_psychology + Nanoparticle + Laser + Ethnic_group + Cancer + Magnetic_field + Antigen + Antibody + Seismology + Addiction + Vitamin_D_and_neurology + Athletes + Marketing + Receptor + Social_support + Sleep_deprivation + Microeconomics + Legislation + Transcription_factor + Fertility + Dermatology + Pathogenesis + Apoptosis + Proinflammatory_cytokine + Ovarian_cancer + Stem_cell + Multivariate_analysis + Fishery + Mortality_rate + Virulence + Malaria + Knowledge_management + Analytical_chemistry + Graphene + Semiconductor + Coronary_artery_disease + Heart_disease + Cholesterol + Veterinary_medicine + Engineering + Biomarker__medicine_ + Electron + Microbiome + Gut_flora + Physical_medicine_and_rehabilitation + Stroke + Bioinformatics + Body_weight + Arctic + Poverty + Exoplanet + Planet + Stars + Foraging + National_Health_and_Nutrition_Examination_Survey + Urine + Hazard_ratio + Observational_study + Proportional_hazards_model + Inflammation + Kidney_disease + Gastroenterology + Text_mining + Locus__genetics_ + Genome_wide_association_study + Urology + Ranging + Survival_rate + Incentive + Phenomenon + Statistics + Longitudinal_study + Brain_mapping + Metabolic_syndrome + Agronomy + Asthma + Relative_risk + Breastfeeding + Endangered_species + Climate_model + Social_perception + Social_media + Social_network + Business + Etiology + Mesenchymal_stem_cell + Weight_gain + Mathematics + Nicotine + Emergency_department + Myocardial_infarction + Emergency_medicine + Labour_economics + Health_policy + Qualitative_research + Clinical_Practice + Guideline + Wildlife + Family_medicine + Regulation_of_gene_expression + Cellular_differentiation + microRNA + Downregulation_and_upregulation + Computer_science + Developed_country + Demographic_economics + Colorectal_cancer + Nutrient + Mutant + Cancer_research + Allergy + Biological_dispersal + Magnetic_resonance_imaging + Transmission__mechanics_ + Retrospective_cohort_study + Metastasis + Feeling + Metabolism + Signal_transduction + Traumatic_brain_injury + Genomics + DNA_methylation + Oncology + Mutation + Phenotype + Smoking_cessation + Black_hole + Air_pollution + Hippocampus + Biotechnology + Biomass + Volcano + Longevity + Empathy + Psychosocial + Greenhouse_gas + Focus_group + Regimen + Fetus + Computer_vision + Computational_biology + Gene_expression + DNA + Nuclear_magnetic_resonance + Solar_System + Astrobiology + Audiology + Circadian_rhythm + Rehabilitation + Toxicity + Global_health + Reproductive_health + Neurodegeneration + Galaxy + Virus + Innate_immune_system + Early_childhood + Amygdala + Vitamin + Adipose_tissue + Architecture + Data_mining + Quantum + Blood_pressure + Waste_management + Sustainability + Incidence__epidemiology_ + Substance_abuse + In_vitro + The_Internet + Attention_deficit_hyperactivity_disorder + Opioid + DNA_damage + Visual_perception + Sensory_system + Genotype + Antibiotic_resistance + Multiple_sclerosis + Case_control_study + Single_nucleotide_polymorphism + Cancer_cell + Trait + Empirical_research + Simulation + Oxidative_stress + Antioxidant + Progenitor_cell + Lung + Oceanography + Immunotherapy + Cytokine + Kinase + Development_economics + Cell_type + Social_cognition + Major_depressive_disorder + Hippocampal_formation + Central_nervous_system + Medical_record + Psychopathology + Skeletal_muscle + Transcription__biology_ + Ecosystem_services + Heart_rate + Outbreak + Phylogenetic_tree + Enzyme + Genetic_variation + Psychosis + Pathogen + History + Atom + Arousal + Remote_sensing + Crossover_study + Programmed_cell_death + Human_brain + Stimulation + Scattering + Antidepressant + Population_study + Corporate_governance + Interpersonal_communication + Osteoporosis + Alcohol + Biomedical_engineering + Induced_pluripotent_stem_cell + Demographics + Insulin_resistance + Autism_spectrum_disorder + Mindfulness + Limiting + Cretaceous + Spectroscopy + Prosocial_behavior + Computer_security + Gestational_age + Archaeology + Welfare + Mental_illness + Phosphorylation + Life_expectancy + Spin_half + Thin_film + Narrative + Gender_studies + Public_policy + Epilepsy + Metal + Instability + Particle + Spectral_line + Cell_growth + Cytotoxic_T_cell + Cycling + Intracellular + Ageing + Bipolar_disorder + Meal + Ingestion + DNA_sequencing + Amino_acid\"\n",
    "\n",
    "# 496 keywords\n",
    "# keywords <- \"Political_science + Melanoma + Dermatology + Pathology + Lower_risk + Risk_factor + Population + Medicine + Risk_assessment + Exoplanet + Astronomy + Astrophysics + Spin_half + Planet + Physics + Biochemistry + Enzyme + Molecule + Biology + Randomized_controlled_trial + Placebo + Medical_emergency + Drug + Asthma + Clinical_trial + Physical_therapy + Environmental_science + Biodiversity + Environmental_resource_management + Ecology + Genetics + Diabetes_mellitus + Immunology + Immune_system + Apoptosis + Microbiology + Immunity + Cytokine + Escherichia_coli + Nursing + Family_medicine + Cohort + Gerontology + Longevity + Health_care + Global_health + Body_mass_index + Odds + Cross_sectional_study + Logistic_regression + Confidence_interval + Public_health + Odds_ratio + Engineering + Development_economics + Government + Biophysics + Skeletal_muscle + Endocrinology + Internal_medicine + Climatology + Cancer_research + Cancer + In_vivo + Atomic_physics + Quantum_mechanics + Magnetic_field + Atom + Social_psychology + Mental_health + Substance_abuse + Clinical_psychology + Psychology + Surgery + Cell + Ranging + Galaxy + Stars + Anesthesia + Magnetic_resonance_imaging + Stroke + Chemistry + Chromatography + Meta_analysis + Young_adult + Pregnancy + Psychiatry + Observational_study + Clinical_Practice + Biopsy + Retrospective_cohort_study + Prospective_cohort_study + Developmental_psychology + Spectral_line + Social_relation + Public_relations + Wildlife + Business + Aggression + Psychosocial + Mindfulness + Psychological_intervention + Psychotherapist + Urology + Optoelectronics + Optics + Virology + Condensed_matter_physics + Classical_mechanics + Cohort_study + Qualitative_research + Quality_of_life + Phenomenon + Dementia + Cognition + Socioeconomic_status + Sustainability + Marketing + Disease + Pathogen + Social_network + Crop + Agronomy + Anatomy + Geology + Nicotine + Smoking_cessation + Organic_chemistry + Toxicity + Pharmacology + Gynecology + Heart_disease + Health_promotion + Alternative_medicine + Epidemiology + Overweight + Weight_loss + Virus + Phenotype + Academic_achievement + Longitudinal_study + Social_science + Economics + Carbon + Volcano + Perception + Oceanography + Ecosystem + Climate_change + Environmental_health + Laser + Radiation + Anxiety + Communication + Intensive_care_medicine + Big_Five_personality_traits + Trait + Single_nucleotide_polymorphism + Locus__genetics_ + Genome_wide_association_study + Innate_immune_system + Allele + Gene + Architecture + Computer_security + Geophysics + Geomorphology + Knowledge_management + Empathy + Pedagogy + Politics + Sociology + Emergency_medicine + Kidney_disease + Life_expectancy + Mortality_rate + Proportional_hazards_model + Medical_record + Gastroenterology + Radiation_therapy + Computer_vision + Artificial_intelligence + Advertising + Multimedia + Molecular_biology + Stem_cell + Cell_biology + Transcriptome + Cancer_cell + In_vitro + Incidence__epidemiology_ + Interquartile_range + General_surgery + Cognitive_psychology + Mood + Mutant + Atmospheric_sciences + Climate_model + Suicide_prevention + Injury_prevention + Human_factors_and_ergonomics + Occupational_safety_and_health + Microbiome + Habitat + Extinction + Threatened_species + Zoology + Insulin + Insulin_resistance + Adipose_tissue + Global_warming + Body_weight + Affect__psychology_ + Arousal + Environmental_engineering + Regimen + Geography + Demography + Offspring + Antigen + Receptor + Mutation + Mitochondrion + Astrobiology + Mineralogy + Photon + Botany + Intracellular + History + Demographics + Ethnic_group + Comorbidity + Programmed_cell_death + Downregulation_and_upregulation + Lung + Signal_transduction + Statistics + Mathematics + Nanoparticle + Quantum + Thin_film + Composite_material + Materials_science + Vitamin + Pathogenesis + Neuroscience + Chronic_pain + Evidence_based_medicine + Blood_pressure + Dopamine + Agroforestry + Hazard_ratio + Environmental_protection + Air_pollution + Cellular_differentiation + T_cell + Transplantation + Psychological_resilience + Inflammation + Kinase + Public_policy + Finance + Pediatrics + microRNA + Alzheimer_s_disease + Neuroimaging + Brain_mapping + Cardiology + Referral + Foraging + Demographic_economics + Labour_economics + Economic_growth + Social_perception + Social_cognition + Antibiotics + Polymer + Particle + Species_richness + Food_science + Autism + Vaccination + Geochemistry + Obstetrics + Obesity + Breastfeeding + Analytical_chemistry + Nanotechnology + Inorganic_chemistry + Addiction + Paleontology + Gut_flora + Antibody + Case_control_study + Gene_expression + Narrative + Electroencephalography + Social_environment + Interpersonal_communication + Bioinformatics + Biomarker__medicine_ + Sensory_system + Ion + Particle_physics + Remote_sensing + Actuarial_science + Coping__psychology_ + Bipolar_disorder + Catalysis + Functional_magnetic_resonance_imaging + Stimulus__physiology_ + Visual_perception + DNA_methylation + Medical_prescription + Regulation_of_gene_expression + RNA + Physical_medicine_and_rehabilitation + Happiness + Outbreak + Physiology + Spectroscopy + Nuclear_magnetic_resonance + Metabolic_syndrome + Relative_risk + Antimicrobial + Graphene + Mental_illness + Psychopathology + Membrane + Early_childhood + Transcription_factor + Embryonic_stem_cell + Ideology + Socioeconomics + Prostate_cancer + Survival_rate + Ingestion + Electron + Well_being + Weight_gain + Colorectal_cancer + Lung_cancer + Poverty + Greenhouse_gas + Waste_management + Coronary_artery_disease + Type_2_diabetes + Environmental_chemistry + Oncology + Physical_exercise + Incentive + Medicaid + Etiology + Schizophrenia + Heart_failure + The_Internet + Biotechnology + Breast_cancer + Clinical_endpoint + Chemotherapy + Radiology + Personality + Precipitation + Vulnerability + Epigenetics + Land_use + Ecosystem_services + Biological_dispersal + Testosterone + Veterinary_medicine + European_union + Gestation + Adverse_effect + Vitamin_D_and_neurology + Oxidative_stress + Gestational_age + Mesenchymal_stem_cell + Rehabilitation + Microeconomics + Hormone + Prefrontal_cortex + DNA + Genome + Heart_rate + Computer_science + Photochemistry + China + Public_administration + Health_policy + Feeling + Evolutionary_biology + Vegetation + Autism_spectrum_disorder + Audiology + MEDLINE + Toxicology + Fetus + Law + Social_media + Cause_of_death + Epilepsy + Agriculture + Bacteria + Cholesterol + Confounding + Human_brain + Fishery + Metal + Metabolism + Opioid + Antibiotic_resistance + Homeostasis + Metastasis + Malaria + Neurodegeneration + Immunotherapy + Severity_of_illness + Crossover_study + Child_development + Norm__social_ + Focus_group + Harm + Applied_psychology + Social_support + Emergency_department + Crystal + Amygdala + Empirical_research + Seismology + CRISPR + Nutrient + Guideline + Simulation + Alcohol + Distress + Archaeology + Molecular_physics + Cell_culture + Legislation + Health_equity + Gender_studies + Allergy + Developing_country + Cannabis + Meteorology + Myocardial_infarction + Progenitor_cell + DNA_sequencing + Hippocampal_formation + Hippocampus + Stimulation + Human_sexuality + Interpersonal_relationship + Working_memory + Immigration + Democracy + Electronic_engineering + Genotype + Predation + Major_depressive_disorder + Proinflammatory_cytokine + Developed_country + Phosphorylation + Phylogenetic_tree + National_Health_and_Nutrition_Examination_Survey + Data_mining + Text_mining + Circadian_rhythm + Arctic + Multiple_sclerosis + Chromatin + Induced_pluripotent_stem_cell + Transmission__mechanics_ + Machine_learning + Crystallography + Biomedical_engineering + Cell_type + Antioxidant + Fertility + Sediment + Criminology + Recall + Athletes + Atmosphere + Systematic_review + Instability + Genomics + Phylogenetics + Cytotoxic_T_cell + Computational_biology + Cell_growth + Carcinogenesis + Black_hole + Scattering + Genetic_variation + Prosocial_behavior\"\n",
    "\n",
    "# 199 keywords\n",
    "keywords <- \" + Cell_biology + Genetics + Biology + Body_mass_index + Health_care + Disease + Gerontology + Population + Public_health + Medicine + Materials_science + Composite_material + Nanotechnology + Cohort_study + Social_psychology + Cohort + Psychological_intervention + Young_adult + Family_medicine + Cancer + Surgery + Randomized_controlled_trial + Placebo + Clinical_trial + Nursing + Applied_psychology + Human_factors_and_ergonomics + Injury_prevention + Suicide_prevention + Psychiatry + Occupational_safety_and_health + Intensive_care_medicine + Pediatrics + Hazard_ratio + Confidence_interval + Retrospective_cohort_study + Vaccination + Psychology + Perception + Cognition + Environmental_health + Obesity + Risk_factor + Quality_of_life + Physical_therapy + Weight_loss + Anatomy + Mental_health + Psychosocial + Anxiety + Distress + Business + Public_relations + Marketing + Immunology + Global_warming + Economics + Climatology + Climate_change + General_surgery + Endocrinology + Internal_medicine + Receptor + Inflammation + Stimulus__physiology_ + Immune_system + Meta_analysis + Sociology + Gene + Cancer_research + Breast_cancer + Cell + Diabetes_mellitus + Blood_pressure + Oncology + Gynecology + Communication + Cognitive_psychology + Adverse_effect + Clinical_endpoint + Pharmacology + Virology + Risk_assessment + Transcription_factor + Political_science + Ecology + Geography + Cross_sectional_study + Odds_ratio + Comorbidity + Environmental_engineering + Chemistry + Medical_emergency + Physics + Social_science + Ethnic_group + Labour_economics + Antibody + Geomorphology + Geophysics + Geology + Ranging + Stroke + Environmental_resource_management + Type_2_diabetes + Cardiology + Molecular_biology + Developmental_psychology + Agriculture + Signal_transduction + Optoelectronics + Psychotherapist + Affect__psychology_ + Clinical_psychology + Anesthesia + Atmospheric_sciences + In_vivo + Biochemistry + Analytical_chemistry + Neuroscience + Botany + Gene_expression + Politics + Demography + Socioeconomic_status + Mortality_rate + Virus + Optics + Condensed_matter_physics + Bioinformatics + Law + Physical_medicine_and_rehabilitation + Stem_cell + Biodiversity + Astrophysics + Astronomy + Radiology + Pathology + Proportional_hazards_model + Chemotherapy + Predation + Food_science + Artificial_intelligence + Overweight + Antibiotics + Microbiology + Zoology + Paleontology + Habitat + Public_administration + Ecosystem + Economic_growth + Organic_chemistry + Government + Autism + Transplantation + Gastroenterology + Insulin + Engineering + Computer_science + Observational_study + Heart_disease + Epidemiology + Obstetrics + Pregnancy + Fishery + Alternative_medicine + Logistic_regression + Offspring + Mood + Bacteria + Prostate_cancer + Evolutionary_biology + Phenomenon + Longitudinal_study + Genome + Mutation + Pedagogy + Dementia + Relative_risk + Microeconomics + Odds + Feeling + Oceanography + Emergency_medicine + Personality + Prospective_cohort_study + Hippocampus + Greenhouse_gas + Biomarker__medicine_ + Myocardial_infarction + Socioeconomics + Drug + Environmental_science + Epigenetics + Inorganic_chemistry + Emergency_department + Medical_prescription + Phenotype\""
   ]
  },
  {
   "cell_type": "code",
   "execution_count": 18,
   "metadata": {
    "scrolled": true
   },
   "outputs": [
    {
     "name": "stderr",
     "output_type": "stream",
     "text": [
      "Warning message:\n",
      "“Some predictor variables are on very different scales: consider rescaling”"
     ]
    }
   ],
   "source": [
    "equation_bar <- as.formula(paste(base_str, keywords, \" + (1|journal_title) + (1|outlet)\", sep = \" \"))\n",
    "m5_indirect <- glmer(formula = equation_bar, data = mydata, family = \"binomial\", control = glmerControl(optimizer = \"nloptwrap\"), nAGQ = 0)"
   ]
  },
  {
   "cell_type": "code",
   "execution_count": null,
   "metadata": {
    "scrolled": true
   },
   "outputs": [],
   "source": [
    "# tidy(m5_indirect)"
   ]
  },
  {
   "cell_type": "code",
   "execution_count": 26,
   "metadata": {},
   "outputs": [],
   "source": [
    "# stargazer(m5_indirect, type = \"latex\", single.row=TRUE, ci = TRUE, report = ('vcsp'))"
   ]
  },
  {
   "cell_type": "markdown",
   "metadata": {},
   "source": [
    "AME"
   ]
  },
  {
   "cell_type": "code",
   "execution_count": null,
   "metadata": {},
   "outputs": [],
   "source": [
    "margins_eff <- margins(m5_indirect, data = mydata, variables = c(\"author_eth_ethnea_broad\", \"author_gender_ethnea\"))"
   ]
  },
  {
   "cell_type": "code",
   "execution_count": null,
   "metadata": {
    "scrolled": true
   },
   "outputs": [],
   "source": [
    "nrow(margins_eff)"
   ]
  },
  {
   "cell_type": "code",
   "execution_count": null,
   "metadata": {},
   "outputs": [],
   "source": [
    "summary(margins_eff)"
   ]
  },
  {
   "cell_type": "code",
   "execution_count": null,
   "metadata": {},
   "outputs": [],
   "source": [
    "write.csv(summary(margins_eff), \"/shared/0/projects/news-quotes/reg_results/indirect/margins.csv\", row.names = FALSE)"
   ]
  },
  {
   "cell_type": "markdown",
   "metadata": {},
   "source": [
    "## Only US institutions"
   ]
  },
  {
   "cell_type": "code",
   "execution_count": null,
   "metadata": {},
   "outputs": [],
   "source": [
    "subdata = mydata[mydata$affiliation_cate == 'domestic', ]"
   ]
  },
  {
   "cell_type": "code",
   "execution_count": null,
   "metadata": {},
   "outputs": [],
   "source": [
    "nrow(subdata)"
   ]
  },
  {
   "cell_type": "markdown",
   "metadata": {},
   "source": [
    "### quote"
   ]
  },
  {
   "cell_type": "code",
   "execution_count": 14,
   "metadata": {},
   "outputs": [],
   "source": [
    "base_str <- \"has_author_quote ~ 1 + author_eth_ethnea_broad + author_gender_ethnea + reporter_eth_ethnea_broad + reporter_gender_ethnea + \\\n",
    "          last_name_length + last_name_prob + author_pos_cate + author_rank + is_top_author + is_corresponding + \\\n",
    "          affiliation_rank + num_authors + mention_year_center + gap_in_years + \\\n",
    "          num_words + num_mentioned_papers + FleschReadingEase + sentences_per_paragraph + type_token_ratio\""
   ]
  },
  {
   "cell_type": "code",
   "execution_count": null,
   "metadata": {
    "scrolled": false
   },
   "outputs": [
    {
     "name": "stderr",
     "output_type": "stream",
     "text": [
      "Warning message:\n",
      "“Some predictor variables are on very different scales: consider rescaling”"
     ]
    }
   ],
   "source": [
    "equation_bar <- as.formula(paste(base_str, keywords, \" + (1|journal_title) + (1|outlet)\", sep = \" \"))\n",
    "m5_quote_us <- glmer(formula = equation_bar, data = subdata, family = \"binomial\", control = glmerControl(optimizer = \"nloptwrap\"), nAGQ = 0)"
   ]
  },
  {
   "cell_type": "code",
   "execution_count": null,
   "metadata": {
    "scrolled": true
   },
   "outputs": [],
   "source": [
    "# tidy(m5_quote_us)"
   ]
  },
  {
   "cell_type": "markdown",
   "metadata": {},
   "source": [
    "AME"
   ]
  },
  {
   "cell_type": "code",
   "execution_count": null,
   "metadata": {},
   "outputs": [],
   "source": [
    "margins_eff <- margins(m5_quote_us, data = subdata, variables = c(\"author_eth_ethnea_broad\", \"author_gender_ethnea\"))"
   ]
  },
  {
   "cell_type": "code",
   "execution_count": null,
   "metadata": {
    "scrolled": true
   },
   "outputs": [],
   "source": [
    "nrow(margins_eff)"
   ]
  },
  {
   "cell_type": "code",
   "execution_count": null,
   "metadata": {},
   "outputs": [],
   "source": [
    "summary(margins_eff)"
   ]
  },
  {
   "cell_type": "code",
   "execution_count": null,
   "metadata": {},
   "outputs": [],
   "source": [
    "write.csv(summary(margins_eff), \"/shared/0/projects/news-quotes/reg_results/quote/margins_us_subset.csv\", row.names = FALSE)"
   ]
  },
  {
   "cell_type": "markdown",
   "metadata": {},
   "source": [
    "### indirect mention (mentioned institution not author name)"
   ]
  },
  {
   "cell_type": "code",
   "execution_count": 14,
   "metadata": {},
   "outputs": [],
   "source": [
    "base_str <- \"has_indirect_mention ~ 1 + author_eth_ethnea_broad + author_gender_ethnea + reporter_eth_ethnea_broad + reporter_gender_ethnea + \\\n",
    "          last_name_length + last_name_prob + author_pos_cate + author_rank + is_top_author + is_corresponding + \\\n",
    "          affiliation_rank + num_authors + mention_year_center + gap_in_years + \\\n",
    "          num_words + num_mentioned_papers + FleschReadingEase + sentences_per_paragraph + type_token_ratio\""
   ]
  },
  {
   "cell_type": "code",
   "execution_count": null,
   "metadata": {
    "scrolled": false
   },
   "outputs": [
    {
     "name": "stderr",
     "output_type": "stream",
     "text": [
      "Warning message:\n",
      "“Some predictor variables are on very different scales: consider rescaling”"
     ]
    }
   ],
   "source": [
    "equation_bar <- as.formula(paste(base_str, keywords, \" + (1|journal_title) + (1|outlet)\", sep = \" \"))\n",
    "m5_us_indirect <- glmer(formula = equation_bar, data = subdata, family = \"binomial\", control = glmerControl(optimizer = \"nloptwrap\"), nAGQ = 0)"
   ]
  },
  {
   "cell_type": "code",
   "execution_count": null,
   "metadata": {
    "scrolled": true
   },
   "outputs": [],
   "source": [
    "# tidy(m5_us_indirect)"
   ]
  },
  {
   "cell_type": "markdown",
   "metadata": {},
   "source": [
    "AME"
   ]
  },
  {
   "cell_type": "code",
   "execution_count": null,
   "metadata": {},
   "outputs": [],
   "source": [
    "margins_eff <- margins(m5_us_indirect, data = subdata, variables = c(\"author_eth_ethnea_broad\", \"author_gender_ethnea\"))"
   ]
  },
  {
   "cell_type": "code",
   "execution_count": null,
   "metadata": {
    "scrolled": true
   },
   "outputs": [],
   "source": [
    "nrow(margins_eff)"
   ]
  },
  {
   "cell_type": "code",
   "execution_count": null,
   "metadata": {},
   "outputs": [],
   "source": [
    "summary(margins_eff)"
   ]
  },
  {
   "cell_type": "code",
   "execution_count": null,
   "metadata": {},
   "outputs": [],
   "source": [
    "write.csv(summary(margins_eff), \"/shared/0/projects/news-quotes/reg_results/indirect/margins_us_subset.csv\", row.names = FALSE)"
   ]
  },
  {
   "cell_type": "code",
   "execution_count": null,
   "metadata": {},
   "outputs": [],
   "source": []
  }
 ],
 "metadata": {
  "kernelspec": {
   "display_name": "R",
   "language": "R",
   "name": "ir"
  },
  "language_info": {
   "codemirror_mode": "r",
   "file_extension": ".r",
   "mimetype": "text/x-r-source",
   "name": "R",
   "pygments_lexer": "r",
   "version": "3.6.1"
  }
 },
 "nbformat": 4,
 "nbformat_minor": 2
}
